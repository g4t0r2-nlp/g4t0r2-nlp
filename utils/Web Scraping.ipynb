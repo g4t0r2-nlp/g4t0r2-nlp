{
 "cells": [
  {
   "cell_type": "markdown",
   "id": "7c0da997-e252-4b0b-be6c-63b6eb2b24ed",
   "metadata": {},
   "source": [
    "# Play Store"
   ]
  },
  {
   "cell_type": "code",
   "execution_count": 1,
   "id": "a819c0f7-22d3-432c-9190-21000dc753b7",
   "metadata": {},
   "outputs": [],
   "source": [
    "import numpy as np\n",
    "import pandas as pd\n",
    "import json\n",
    "from google_play_scraper import app, reviews_all, reviews"
   ]
  },
  {
   "cell_type": "code",
   "execution_count": 32,
   "id": "0d697f3d-6112-44bc-85c8-20601ca99cb7",
   "metadata": {},
   "outputs": [],
   "source": [
    "df_main = pd.DataFrame(columns=[\"content\", \"score\"])"
   ]
  },
  {
   "cell_type": "code",
   "execution_count": 82,
   "id": "3bfdb361-bac1-4d6b-9d07-ce5e4e8f2e80",
   "metadata": {},
   "outputs": [],
   "source": [
    "result = reviews(\n",
    "    'com.turknet.oim',\n",
    "    lang='tr',\n",
    "    country='tr',\n",
    "    count=100\n",
    ")"
   ]
  },
  {
   "cell_type": "code",
   "execution_count": 83,
   "id": "cf95f974-7afe-4a4d-99a1-8ec54412dc61",
   "metadata": {},
   "outputs": [
    {
     "data": {
      "text/plain": [
       "2"
      ]
     },
     "execution_count": 83,
     "metadata": {},
     "output_type": "execute_result"
    }
   ],
   "source": [
    "len(result)"
   ]
  },
  {
   "cell_type": "code",
   "execution_count": 84,
   "id": "01d69c8e-42d8-4ba1-8413-fe921fe9cb25",
   "metadata": {},
   "outputs": [],
   "source": [
    "df_add = pd.json_normalize(result[0])"
   ]
  },
  {
   "cell_type": "code",
   "execution_count": 85,
   "id": "d036812e-4f65-4c45-9135-99cd1bd9b4c3",
   "metadata": {},
   "outputs": [],
   "source": [
    "for idx, row in df_add.iterrows():\n",
    "    df_main.loc[len(df_main)] = [row[\"content\"], row[\"score\"]]"
   ]
  },
  {
   "cell_type": "code",
   "execution_count": 86,
   "id": "3c4a4029-ec77-4137-ad9d-9a80eff732b3",
   "metadata": {},
   "outputs": [
    {
     "data": {
      "text/plain": [
       "(5500, 2)"
      ]
     },
     "execution_count": 86,
     "metadata": {},
     "output_type": "execute_result"
    }
   ],
   "source": [
    "df_main.shape"
   ]
  },
  {
   "cell_type": "code",
   "execution_count": 91,
   "id": "a34b3e65-e94e-47b0-9f5f-6639fd98ace5",
   "metadata": {},
   "outputs": [
    {
     "data": {
      "text/html": [
       "<div>\n",
       "<style scoped>\n",
       "    .dataframe tbody tr th:only-of-type {\n",
       "        vertical-align: middle;\n",
       "    }\n",
       "\n",
       "    .dataframe tbody tr th {\n",
       "        vertical-align: top;\n",
       "    }\n",
       "\n",
       "    .dataframe thead th {\n",
       "        text-align: right;\n",
       "    }\n",
       "</style>\n",
       "<table border=\"1\" class=\"dataframe\">\n",
       "  <thead>\n",
       "    <tr style=\"text-align: right;\">\n",
       "      <th></th>\n",
       "      <th>content</th>\n",
       "      <th>score</th>\n",
       "    </tr>\n",
       "  </thead>\n",
       "  <tbody>\n",
       "    <tr>\n",
       "      <th>506</th>\n",
       "      <td>tek kelimesiyle iğrenç bir uygulama atığım tüp...</td>\n",
       "      <td>1</td>\n",
       "    </tr>\n",
       "    <tr>\n",
       "      <th>4297</th>\n",
       "      <td>Güzelin uygulama si</td>\n",
       "      <td>5</td>\n",
       "    </tr>\n",
       "    <tr>\n",
       "      <th>4301</th>\n",
       "      <td>Şu anda en iyi alışveriş uygulaması.</td>\n",
       "      <td>5</td>\n",
       "    </tr>\n",
       "    <tr>\n",
       "      <th>3410</th>\n",
       "      <td>somehow they manage to make this app worse in ...</td>\n",
       "      <td>1</td>\n",
       "    </tr>\n",
       "    <tr>\n",
       "      <th>4195</th>\n",
       "      <td>👎👎👎👎👎👎👎👎👎 👎👎👎👎👎👎👎👎👎</td>\n",
       "      <td>1</td>\n",
       "    </tr>\n",
       "    <tr>\n",
       "      <th>3546</th>\n",
       "      <td>Bana yardımcı olun yoksa sizi dava ederim asab...</td>\n",
       "      <td>1</td>\n",
       "    </tr>\n",
       "    <tr>\n",
       "      <th>3655</th>\n",
       "      <td>Uygulamanız çalışmıyor. Kimliğimin numarasına ...</td>\n",
       "      <td>1</td>\n",
       "    </tr>\n",
       "    <tr>\n",
       "      <th>5077</th>\n",
       "      <td>Nerden bulaştım ben bu turknete muhatap yok te...</td>\n",
       "      <td>1</td>\n",
       "    </tr>\n",
       "    <tr>\n",
       "      <th>4594</th>\n",
       "      <td>Paralı</td>\n",
       "      <td>1</td>\n",
       "    </tr>\n",
       "    <tr>\n",
       "      <th>1213</th>\n",
       "      <td>Yavaşlıklar ve donuklar oluyor bunu kolaylaştı...</td>\n",
       "      <td>2</td>\n",
       "    </tr>\n",
       "    <tr>\n",
       "      <th>570</th>\n",
       "      <td>Bimcell uygulaması eskiden 30 GB veriyordu şu ...</td>\n",
       "      <td>1</td>\n",
       "    </tr>\n",
       "    <tr>\n",
       "      <th>2857</th>\n",
       "      <td>Güzel</td>\n",
       "      <td>5</td>\n",
       "    </tr>\n",
       "    <tr>\n",
       "      <th>4741</th>\n",
       "      <td>Ağ hatası sürekli bozuk</td>\n",
       "      <td>1</td>\n",
       "    </tr>\n",
       "    <tr>\n",
       "      <th>185</th>\n",
       "      <td>Güzel şeyler</td>\n",
       "      <td>4</td>\n",
       "    </tr>\n",
       "    <tr>\n",
       "      <th>1594</th>\n",
       "      <td>Seper proqram✌️</td>\n",
       "      <td>5</td>\n",
       "    </tr>\n",
       "    <tr>\n",
       "      <th>4864</th>\n",
       "      <td>One piece is real</td>\n",
       "      <td>5</td>\n",
       "    </tr>\n",
       "    <tr>\n",
       "      <th>1730</th>\n",
       "      <td>Temu mecburi satın alım limit fiyatını düşürme...</td>\n",
       "      <td>1</td>\n",
       "    </tr>\n",
       "    <tr>\n",
       "      <th>2139</th>\n",
       "      <td>Çok güzel bir uygulama istediğimiz her şeyin r...</td>\n",
       "      <td>5</td>\n",
       "    </tr>\n",
       "    <tr>\n",
       "      <th>2098</th>\n",
       "      <td>Çok güzel bir uygulama bir ara video kısmı var...</td>\n",
       "      <td>5</td>\n",
       "    </tr>\n",
       "    <tr>\n",
       "      <th>3604</th>\n",
       "      <td>ben kayıt olamıyorum lütfen yardım edin. kimli...</td>\n",
       "      <td>1</td>\n",
       "    </tr>\n",
       "    <tr>\n",
       "      <th>1022</th>\n",
       "      <td>Efe Uygaç için indiriyorum para verin oğlana</td>\n",
       "      <td>5</td>\n",
       "    </tr>\n",
       "    <tr>\n",
       "      <th>4231</th>\n",
       "      <td>güzel</td>\n",
       "      <td>5</td>\n",
       "    </tr>\n",
       "    <tr>\n",
       "      <th>1760</th>\n",
       "      <td>vergi çok alınıyor</td>\n",
       "      <td>3</td>\n",
       "    </tr>\n",
       "    <tr>\n",
       "      <th>5110</th>\n",
       "      <td>UI UX çok kaliteli ve eksiksiz şekilde hazırla...</td>\n",
       "      <td>5</td>\n",
       "    </tr>\n",
       "    <tr>\n",
       "      <th>3619</th>\n",
       "      <td>Giriş yapılmıyor!!!!!</td>\n",
       "      <td>1</td>\n",
       "    </tr>\n",
       "  </tbody>\n",
       "</table>\n",
       "</div>"
      ],
      "text/plain": [
       "                                                content  score\n",
       "506   tek kelimesiyle iğrenç bir uygulama atığım tüp...      1\n",
       "4297                                Güzelin uygulama si      5\n",
       "4301               Şu anda en iyi alışveriş uygulaması.      5\n",
       "3410  somehow they manage to make this app worse in ...      1\n",
       "4195                                👎👎👎👎👎👎👎👎👎 👎👎👎👎👎👎👎👎👎      1\n",
       "3546  Bana yardımcı olun yoksa sizi dava ederim asab...      1\n",
       "3655  Uygulamanız çalışmıyor. Kimliğimin numarasına ...      1\n",
       "5077  Nerden bulaştım ben bu turknete muhatap yok te...      1\n",
       "4594                                             Paralı      1\n",
       "1213  Yavaşlıklar ve donuklar oluyor bunu kolaylaştı...      2\n",
       "570   Bimcell uygulaması eskiden 30 GB veriyordu şu ...      1\n",
       "2857                                              Güzel      5\n",
       "4741                            Ağ hatası sürekli bozuk      1\n",
       "185                                        Güzel şeyler      4\n",
       "1594                                    Seper proqram✌️      5\n",
       "4864                                  One piece is real      5\n",
       "1730  Temu mecburi satın alım limit fiyatını düşürme...      1\n",
       "2139  Çok güzel bir uygulama istediğimiz her şeyin r...      5\n",
       "2098  Çok güzel bir uygulama bir ara video kısmı var...      5\n",
       "3604  ben kayıt olamıyorum lütfen yardım edin. kimli...      1\n",
       "1022       Efe Uygaç için indiriyorum para verin oğlana      5\n",
       "4231                                              güzel      5\n",
       "1760                                 vergi çok alınıyor      3\n",
       "5110  UI UX çok kaliteli ve eksiksiz şekilde hazırla...      5\n",
       "3619                              Giriş yapılmıyor!!!!!      1"
      ]
     },
     "execution_count": 91,
     "metadata": {},
     "output_type": "execute_result"
    }
   ],
   "source": [
    "df_main.sample(25)"
   ]
  },
  {
   "cell_type": "code",
   "execution_count": 325,
   "id": "a4512763-99f8-4a30-a381-03949a8b3434",
   "metadata": {},
   "outputs": [],
   "source": [
    "#df.to_csv(\"data/play_store_turkcell_paycell_data.csv\", index=False)"
   ]
  },
  {
   "cell_type": "markdown",
   "id": "372666d4-6ba7-4720-99c2-3e11610444bc",
   "metadata": {},
   "source": [
    "# App Store"
   ]
  },
  {
   "cell_type": "code",
   "execution_count": 2,
   "id": "f8eec57e-b5c4-4a1e-bc97-0741f258964f",
   "metadata": {},
   "outputs": [],
   "source": [
    "from app_store_scraper import AppStore"
   ]
  },
  {
   "cell_type": "code",
   "execution_count": 9,
   "id": "43873d1b-011b-44ac-9ea3-f5210b02867e",
   "metadata": {},
   "outputs": [
    {
     "name": "stderr",
     "output_type": "stream",
     "text": [
      "2024-08-08 20:43:31,973 [INFO] Base - Initialised: AppStore('tr', 'türk-hava-yolları', 1283414961)\n",
      "2024-08-08 20:43:31,975 [INFO] Base - Ready to fetch reviews from: https://apps.apple.com/tr/app/türk-hava-yolları/id1283414961\n"
     ]
    }
   ],
   "source": [
    "data = AppStore(country='tr', app_name='Türk Hava Yolları', app_id=1283414961)"
   ]
  },
  {
   "cell_type": "code",
   "execution_count": 10,
   "id": "2425f9c3-9eaf-4689-a19c-e86b8f533308",
   "metadata": {},
   "outputs": [],
   "source": [
    "data.url = \"https://apps.apple.com/tr/app/t%C3%BCrk-hava-yollar%C4%B1-u%C3%A7ak-bileti/id1283414961\""
   ]
  },
  {
   "cell_type": "code",
   "execution_count": 11,
   "id": "83fc0c35-3f72-427d-b5e0-611e5488f7ab",
   "metadata": {},
   "outputs": [
    {
     "name": "stderr",
     "output_type": "stream",
     "text": [
      "2024-08-08 20:44:05,656 [ERROR] Base - Something went wrong: 'latin-1' codec can't encode character '\\u0131' in position 46: ordinal not in range(256)\n",
      "2024-08-08 20:44:05,659 [INFO] Base - [id:1283414961] Fetched 0 reviews (0 fetched in total)\n"
     ]
    }
   ],
   "source": [
    "data.review(how_many=5000)"
   ]
  },
  {
   "cell_type": "code",
   "execution_count": 12,
   "id": "9c85cba2-b802-45d6-88b6-d819843aa362",
   "metadata": {},
   "outputs": [],
   "source": [
    "data1 = pd.DataFrame(np.array(data.reviews),columns=['review'])\n",
    "data2 = data1.join(pd.DataFrame(data1.pop('review').tolist()))"
   ]
  },
  {
   "cell_type": "code",
   "execution_count": null,
   "id": "c6d1925d-2058-45a2-9587-d7ad44627842",
   "metadata": {},
   "outputs": [],
   "source": [
    "data1.head()"
   ]
  },
  {
   "cell_type": "code",
   "execution_count": null,
   "id": "0e40e6bd-222a-4372-92fe-2b56ef54e846",
   "metadata": {},
   "outputs": [],
   "source": [
    "data2"
   ]
  },
  {
   "cell_type": "code",
   "execution_count": null,
   "id": "a2b2fd45-9890-4fb2-8103-576adf7350e6",
   "metadata": {},
   "outputs": [],
   "source": [
    "data2 = data2.sort_values('date', ascending=False)\n",
    "data2.head()"
   ]
  },
  {
   "cell_type": "code",
   "execution_count": 295,
   "id": "a465b1c6-d960-4543-9bb7-e7448746a106",
   "metadata": {},
   "outputs": [],
   "source": [
    "df = data2[['date','userName','review','rating']]"
   ]
  },
  {
   "cell_type": "code",
   "execution_count": 296,
   "id": "88a3fa4f-b21b-469f-a315-4b0ddf701815",
   "metadata": {},
   "outputs": [
    {
     "data": {
      "text/html": [
       "<div>\n",
       "<style scoped>\n",
       "    .dataframe tbody tr th:only-of-type {\n",
       "        vertical-align: middle;\n",
       "    }\n",
       "\n",
       "    .dataframe tbody tr th {\n",
       "        vertical-align: top;\n",
       "    }\n",
       "\n",
       "    .dataframe thead th {\n",
       "        text-align: right;\n",
       "    }\n",
       "</style>\n",
       "<table border=\"1\" class=\"dataframe\">\n",
       "  <thead>\n",
       "    <tr style=\"text-align: right;\">\n",
       "      <th></th>\n",
       "      <th>date</th>\n",
       "      <th>userName</th>\n",
       "      <th>review</th>\n",
       "      <th>rating</th>\n",
       "    </tr>\n",
       "  </thead>\n",
       "  <tbody>\n",
       "    <tr>\n",
       "      <th>267</th>\n",
       "      <td>2024-07-17 23:34:29</td>\n",
       "      <td>Edgkmev</td>\n",
       "      <td>Oluşturduğum listeyi daha sonra göremiyorum ya...</td>\n",
       "      <td>5</td>\n",
       "    </tr>\n",
       "    <tr>\n",
       "      <th>68</th>\n",
       "      <td>2024-07-14 19:50:27</td>\n",
       "      <td>ibrdmz</td>\n",
       "      <td>Şarkı arıyoruz buluyoruz tıklayınca şarkıyı de...</td>\n",
       "      <td>1</td>\n",
       "    </tr>\n",
       "    <tr>\n",
       "      <th>269</th>\n",
       "      <td>2024-07-14 17:23:37</td>\n",
       "      <td>Andromeda’dan bir gezgin</td>\n",
       "      <td>Uygulama genel olarak problemsiz çalışıyor. An...</td>\n",
       "      <td>4</td>\n",
       "    </tr>\n",
       "    <tr>\n",
       "      <th>270</th>\n",
       "      <td>2024-07-14 11:29:51</td>\n",
       "      <td>nzrxx</td>\n",
       "      <td>Oluşturduğum liste gözükmüyor uygulamayı günce...</td>\n",
       "      <td>3</td>\n",
       "    </tr>\n",
       "    <tr>\n",
       "      <th>67</th>\n",
       "      <td>2024-07-13 18:06:14</td>\n",
       "      <td>Ondfnr</td>\n",
       "      <td>Yeni telefona indirdim üyeliğim var ancak tele...</td>\n",
       "      <td>2</td>\n",
       "    </tr>\n",
       "  </tbody>\n",
       "</table>\n",
       "</div>"
      ],
      "text/plain": [
       "                   date                  userName  \\\n",
       "267 2024-07-17 23:34:29                   Edgkmev   \n",
       "68  2024-07-14 19:50:27                    ibrdmz   \n",
       "269 2024-07-14 17:23:37  Andromeda’dan bir gezgin   \n",
       "270 2024-07-14 11:29:51                     nzrxx   \n",
       "67  2024-07-13 18:06:14                    Ondfnr   \n",
       "\n",
       "                                                review  rating  \n",
       "267  Oluşturduğum listeyi daha sonra göremiyorum ya...       5  \n",
       "68   Şarkı arıyoruz buluyoruz tıklayınca şarkıyı de...       1  \n",
       "269  Uygulama genel olarak problemsiz çalışıyor. An...       4  \n",
       "270  Oluşturduğum liste gözükmüyor uygulamayı günce...       3  \n",
       "67   Yeni telefona indirdim üyeliğim var ancak tele...       2  "
      ]
     },
     "execution_count": 296,
     "metadata": {},
     "output_type": "execute_result"
    }
   ],
   "source": [
    "df.head()"
   ]
  },
  {
   "cell_type": "code",
   "execution_count": 297,
   "id": "c3e07e51-f589-4853-949c-ba1878463ac9",
   "metadata": {},
   "outputs": [
    {
     "data": {
      "text/plain": [
       "(2680, 4)"
      ]
     },
     "execution_count": 297,
     "metadata": {},
     "output_type": "execute_result"
    }
   ],
   "source": [
    "df.shape"
   ]
  },
  {
   "cell_type": "code",
   "execution_count": 298,
   "id": "e520600d-686e-4c96-816a-c9bdca16a7bd",
   "metadata": {},
   "outputs": [],
   "source": [
    "df.to_csv(\"data/app_store_turkcell_tv_plus_data.csv\", index=False)"
   ]
  },
  {
   "cell_type": "markdown",
   "id": "e1b96c0e-1b32-4b4b-9559-8a1bdc614e09",
   "metadata": {},
   "source": [
    "# Birleştirme"
   ]
  },
  {
   "cell_type": "code",
   "execution_count": 4,
   "id": "4b11d3a9-c379-42b7-a7a6-5d243bfba4ac",
   "metadata": {},
   "outputs": [],
   "source": [
    "import os"
   ]
  },
  {
   "cell_type": "code",
   "execution_count": 11,
   "id": "8131f456-78a2-4722-9d93-4916ee7e6be8",
   "metadata": {},
   "outputs": [],
   "source": [
    "play_store_files = [\"data/\" + file for file in os.listdir(\"data/\") if file.startswith(\"play_store\")]\n",
    "app_store_files = [\"data/\" + file for file in os.listdir(\"data/\") if file.startswith(\"app_store\")]"
   ]
  },
  {
   "cell_type": "code",
   "execution_count": 12,
   "id": "7a1ddd1b-9778-41a3-be1c-c38cf92f95b8",
   "metadata": {},
   "outputs": [
    {
     "data": {
      "text/plain": [
       "['data/play_store_turkcell_atmosfer_data.csv',\n",
       " 'data/play_store_turkcell_bip_data.csv',\n",
       " 'data/play_store_turkcell_bizce_data.csv',\n",
       " 'data/play_store_turkcell_calarken_dinlet_data.csv',\n",
       " 'data/play_store_turkcell_dbs_partner_360_data.csv',\n",
       " 'data/play_store_turkcell_dijital_data.csv',\n",
       " 'data/play_store_turkcell_dijital_etiket_data.csv',\n",
       " 'data/play_store_turkcell_ekip_mobil_data.csv',\n",
       " 'data/play_store_turkcell_fizy_data.csv',\n",
       " 'data/play_store_turkcell_gnc_data.csv',\n",
       " 'data/play_store_turkcell_hayal_ortagim_data.csv',\n",
       " 'data/play_store_turkcell_is_online_data.csv',\n",
       " 'data/play_store_turkcell_kopilot_data.csv',\n",
       " 'data/play_store_turkcell_kopilot_filom_data.csv',\n",
       " 'data/play_store_turkcell_lifebox_data.csv',\n",
       " 'data/play_store_turkcell_paycell_data.csv',\n",
       " 'data/play_store_turkcell_platinum_data.csv',\n",
       " 'data/play_store_turkcell_tv_plus_data.csv',\n",
       " 'data/play_store_turkcell_upcall_data.csv']"
      ]
     },
     "execution_count": 12,
     "metadata": {},
     "output_type": "execute_result"
    }
   ],
   "source": [
    "play_store_files"
   ]
  },
  {
   "cell_type": "code",
   "execution_count": 13,
   "id": "43d537fa-e302-4f4e-acd8-09de572ba464",
   "metadata": {},
   "outputs": [
    {
     "data": {
      "text/plain": [
       "19"
      ]
     },
     "execution_count": 13,
     "metadata": {},
     "output_type": "execute_result"
    }
   ],
   "source": [
    "len(play_store_files)"
   ]
  },
  {
   "cell_type": "code",
   "execution_count": 14,
   "id": "dcd0cb68-68b7-4683-bbb2-fd9aa429852c",
   "metadata": {},
   "outputs": [],
   "source": [
    "ps_df1 = pd.read_csv(\"data/play_store_turkcell_atmosfer_data.csv\")\n",
    "ps_df1[\"AppName\"] = \"Atmosfer\"\n",
    "ps_df1[\"Market\"] = \"Google Play Store\""
   ]
  },
  {
   "cell_type": "code",
   "execution_count": 15,
   "id": "86c5512c-13ed-4560-b00e-b4864da02e23",
   "metadata": {},
   "outputs": [],
   "source": [
    "ps_df2 = pd.read_csv(\"data/play_store_turkcell_bip_data.csv\")\n",
    "ps_df2[\"AppName\"] = \"BiP\"\n",
    "ps_df2[\"Market\"] = \"Google Play Store\""
   ]
  },
  {
   "cell_type": "code",
   "execution_count": 16,
   "id": "dd83058f-07f4-4f87-b9d0-2aea3048ad7c",
   "metadata": {},
   "outputs": [],
   "source": [
    "ps_df3 = pd.read_csv(\"data/play_store_turkcell_bizce_data.csv\")\n",
    "ps_df3[\"AppName\"] = \"Bizce\"\n",
    "ps_df3[\"Market\"] = \"Google Play Store\""
   ]
  },
  {
   "cell_type": "code",
   "execution_count": 17,
   "id": "5f184b5e-ab75-4bb5-abff-f99ff2445faf",
   "metadata": {},
   "outputs": [],
   "source": [
    "ps_df4 = pd.read_csv(\"data/play_store_turkcell_calarken_dinlet_data.csv\")\n",
    "ps_df4[\"AppName\"] = \"Çalarken Dinlet\"\n",
    "ps_df4[\"Market\"] = \"Google Play Store\""
   ]
  },
  {
   "cell_type": "code",
   "execution_count": 18,
   "id": "7e3ccc64-0e3c-42d7-8b6a-fd3d4a3fba99",
   "metadata": {},
   "outputs": [],
   "source": [
    "ps_df5 = pd.read_csv(\"data/play_store_turkcell_dbs_partner_360_data.csv\")\n",
    "ps_df5[\"AppName\"] = \"DBS Partner 360\"\n",
    "ps_df5[\"Market\"] = \"Google Play Store\""
   ]
  },
  {
   "cell_type": "code",
   "execution_count": 19,
   "id": "edfa84fe-b6b0-4786-815b-ddf7c038eba4",
   "metadata": {},
   "outputs": [],
   "source": [
    "ps_df6 = pd.read_csv(\"data/play_store_turkcell_dijital_data.csv\")\n",
    "ps_df6[\"AppName\"] = \"Dijital\"\n",
    "ps_df6[\"Market\"] = \"Google Play Store\""
   ]
  },
  {
   "cell_type": "code",
   "execution_count": 20,
   "id": "b3fdba65-c389-479f-9038-7496897b7648",
   "metadata": {},
   "outputs": [],
   "source": [
    "ps_df7 = pd.read_csv(\"data/play_store_turkcell_dijital_etiket_data.csv\")\n",
    "ps_df7[\"AppName\"] = \"Dijital Etiket\"\n",
    "ps_df7[\"Market\"] = \"Google Play Store\""
   ]
  },
  {
   "cell_type": "code",
   "execution_count": 21,
   "id": "d05e0b95-267e-45ea-9bb0-dadd9f8aae98",
   "metadata": {},
   "outputs": [],
   "source": [
    "ps_df8 = pd.read_csv(\"data/play_store_turkcell_ekip_mobil_data.csv\")\n",
    "ps_df8[\"AppName\"] = \"Ekip Mobil\"\n",
    "ps_df8[\"Market\"] = \"Google Play Store\""
   ]
  },
  {
   "cell_type": "code",
   "execution_count": 22,
   "id": "ebf85301-ec4a-4df6-8343-e3c5a8c95b78",
   "metadata": {},
   "outputs": [],
   "source": [
    "ps_df9 = pd.read_csv(\"data/play_store_turkcell_fizy_data.csv\")\n",
    "ps_df9[\"AppName\"] = \"Fizy\"\n",
    "ps_df9[\"Market\"] = \"Google Play Store\""
   ]
  },
  {
   "cell_type": "code",
   "execution_count": 23,
   "id": "fd84dcd3-6116-4767-aeae-3960e66660ff",
   "metadata": {},
   "outputs": [],
   "source": [
    "ps_df10 = pd.read_csv(\"data/play_store_turkcell_gnc_data.csv\")\n",
    "ps_df10[\"AppName\"] = \"GNÇ\"\n",
    "ps_df10[\"Market\"] = \"Google Play Store\""
   ]
  },
  {
   "cell_type": "code",
   "execution_count": 24,
   "id": "47e726aa-db9e-4aaa-a09a-0123689e0b67",
   "metadata": {},
   "outputs": [],
   "source": [
    "ps_df11 = pd.read_csv(\"data/play_store_turkcell_hayal_ortagim_data.csv\")\n",
    "ps_df11[\"AppName\"] = \"Hayal Ortağım\"\n",
    "ps_df11[\"Market\"] = \"Google Play Store\""
   ]
  },
  {
   "cell_type": "code",
   "execution_count": 25,
   "id": "231b1a94-9408-43b2-997c-caa5d98aad8f",
   "metadata": {},
   "outputs": [],
   "source": [
    "ps_df12 = pd.read_csv(\"data/play_store_turkcell_is_online_data.csv\")\n",
    "ps_df12[\"AppName\"] = \"İş Online\"\n",
    "ps_df12[\"Market\"] = \"Google Play Store\""
   ]
  },
  {
   "cell_type": "code",
   "execution_count": 26,
   "id": "945b6c16-9ed1-438f-9da8-607238d20dd4",
   "metadata": {},
   "outputs": [],
   "source": [
    "ps_df13 = pd.read_csv(\"data/play_store_turkcell_kopilot_data.csv\")\n",
    "ps_df13[\"AppName\"] = \"Kopilot\"\n",
    "ps_df13[\"Market\"] = \"Google Play Store\""
   ]
  },
  {
   "cell_type": "code",
   "execution_count": 27,
   "id": "fbacea4c-6802-4c1f-906e-69137d06aacb",
   "metadata": {},
   "outputs": [],
   "source": [
    "ps_df14 = pd.read_csv(\"data/play_store_turkcell_kopilot_filom_data.csv\")\n",
    "ps_df14[\"AppName\"] = \"Kopilot Filom\"\n",
    "ps_df14[\"Market\"] = \"Google Play Store\""
   ]
  },
  {
   "cell_type": "code",
   "execution_count": 28,
   "id": "7e5aae6a-6e26-4d12-8af4-ee7d140fd40f",
   "metadata": {},
   "outputs": [],
   "source": [
    "ps_df15 = pd.read_csv(\"data/play_store_turkcell_lifebox_data.csv\")\n",
    "ps_df15[\"AppName\"] = \"Lifebox\"\n",
    "ps_df15[\"Market\"] = \"Google Play Store\""
   ]
  },
  {
   "cell_type": "code",
   "execution_count": 29,
   "id": "b5fff4c1-4b42-4136-8715-6e59cf30ee4d",
   "metadata": {},
   "outputs": [],
   "source": [
    "ps_df16 = pd.read_csv(\"data/play_store_turkcell_paycell_data.csv\")\n",
    "ps_df16[\"AppName\"] = \"Paycell\"\n",
    "ps_df16[\"Market\"] = \"Google Play Store\""
   ]
  },
  {
   "cell_type": "code",
   "execution_count": 30,
   "id": "5f9c663f-a771-494e-8949-6948864ee968",
   "metadata": {},
   "outputs": [],
   "source": [
    "ps_df17 = pd.read_csv(\"data/play_store_turkcell_platinum_data.csv\")\n",
    "ps_df17[\"AppName\"] = \"Platinum\"\n",
    "ps_df17[\"Market\"] = \"Google Play Store\""
   ]
  },
  {
   "cell_type": "code",
   "execution_count": 31,
   "id": "9bb938a6-f9f4-4809-9258-32e943c6a7f2",
   "metadata": {},
   "outputs": [],
   "source": [
    "ps_df18 = pd.read_csv(\"data/play_store_turkcell_tv_plus_data.csv\")\n",
    "ps_df18[\"AppName\"] = \"TV+\"\n",
    "ps_df18[\"Market\"] = \"Google Play Store\""
   ]
  },
  {
   "cell_type": "code",
   "execution_count": 32,
   "id": "e3a43d01-1d1b-452c-930a-07361f72b64c",
   "metadata": {},
   "outputs": [],
   "source": [
    "ps_df19 = pd.read_csv(\"data/play_store_turkcell_upcall_data.csv\")\n",
    "ps_df19[\"AppName\"] = \"UpCall\"\n",
    "ps_df19[\"Market\"] = \"Google Play Store\""
   ]
  },
  {
   "cell_type": "code",
   "execution_count": 33,
   "id": "923a631e-3b8b-4822-a12e-60ec89f8db93",
   "metadata": {},
   "outputs": [],
   "source": [
    "play_store_df = pd.concat([\n",
    "    ps_df1,\n",
    "    ps_df2,\n",
    "    ps_df3,\n",
    "    ps_df4,\n",
    "    ps_df5,\n",
    "    ps_df6,\n",
    "    ps_df7,\n",
    "    ps_df8,\n",
    "    ps_df9,\n",
    "    ps_df10,\n",
    "    ps_df11,\n",
    "    ps_df12,\n",
    "    ps_df13,\n",
    "    ps_df14,\n",
    "    ps_df15,\n",
    "    ps_df16,\n",
    "    ps_df17,\n",
    "    ps_df18,\n",
    "    ps_df19\n",
    "], axis=0)"
   ]
  },
  {
   "cell_type": "code",
   "execution_count": 34,
   "id": "ab10e8ef-54d7-4da7-b75a-6c5592ee8e33",
   "metadata": {},
   "outputs": [
    {
     "data": {
      "text/plain": [
       "reviewId                     0\n",
       "userName                     0\n",
       "userImage                    0\n",
       "content                    198\n",
       "score                        0\n",
       "thumbsUpCount                0\n",
       "reviewCreatedVersion    197818\n",
       "at                           0\n",
       "replyContent            711167\n",
       "repliedAt               711167\n",
       "appVersion              197818\n",
       "AppName                      0\n",
       "Market                       0\n",
       "dtype: int64"
      ]
     },
     "execution_count": 34,
     "metadata": {},
     "output_type": "execute_result"
    }
   ],
   "source": [
    "play_store_df.isnull().sum()"
   ]
  },
  {
   "cell_type": "code",
   "execution_count": 35,
   "id": "d2672c7a-6fd3-4ac9-9b39-cc51e23c1de9",
   "metadata": {},
   "outputs": [],
   "source": [
    "play_store_df = play_store_df.dropna(subset=[\"content\"])\n",
    "play_store_df = play_store_df.reset_index(drop=True)"
   ]
  },
  {
   "cell_type": "code",
   "execution_count": 36,
   "id": "fe5c27e0-32c9-4771-b767-98857ba54687",
   "metadata": {},
   "outputs": [
    {
     "data": {
      "text/html": [
       "<div>\n",
       "<style scoped>\n",
       "    .dataframe tbody tr th:only-of-type {\n",
       "        vertical-align: middle;\n",
       "    }\n",
       "\n",
       "    .dataframe tbody tr th {\n",
       "        vertical-align: top;\n",
       "    }\n",
       "\n",
       "    .dataframe thead th {\n",
       "        text-align: right;\n",
       "    }\n",
       "</style>\n",
       "<table border=\"1\" class=\"dataframe\">\n",
       "  <thead>\n",
       "    <tr style=\"text-align: right;\">\n",
       "      <th></th>\n",
       "      <th>reviewId</th>\n",
       "      <th>userName</th>\n",
       "      <th>userImage</th>\n",
       "      <th>content</th>\n",
       "      <th>score</th>\n",
       "      <th>thumbsUpCount</th>\n",
       "      <th>reviewCreatedVersion</th>\n",
       "      <th>at</th>\n",
       "      <th>replyContent</th>\n",
       "      <th>repliedAt</th>\n",
       "      <th>appVersion</th>\n",
       "      <th>AppName</th>\n",
       "      <th>Market</th>\n",
       "    </tr>\n",
       "  </thead>\n",
       "  <tbody>\n",
       "    <tr>\n",
       "      <th>0</th>\n",
       "      <td>c8c92fab-cb3a-4344-9ddf-86304325b77f</td>\n",
       "      <td>Emre Erdem</td>\n",
       "      <td>https://play-lh.googleusercontent.com/a/ACg8oc...</td>\n",
       "      <td>Stabilizasyon problemleri ile dolu cihazımda g...</td>\n",
       "      <td>1</td>\n",
       "      <td>1</td>\n",
       "      <td>1.0.14</td>\n",
       "      <td>2024-04-04 23:27:16</td>\n",
       "      <td>NaN</td>\n",
       "      <td>NaN</td>\n",
       "      <td>1.0.14</td>\n",
       "      <td>Atmosfer</td>\n",
       "      <td>Google Play Store</td>\n",
       "    </tr>\n",
       "    <tr>\n",
       "      <th>1</th>\n",
       "      <td>c77a5594-1c77-44e7-8c1b-09a63dd086d4</td>\n",
       "      <td>Gökhun ÇOK</td>\n",
       "      <td>https://play-lh.googleusercontent.com/a-/ALV-U...</td>\n",
       "      <td>Daha fazla geliştirilmesi gerekiyor çok basit ...</td>\n",
       "      <td>3</td>\n",
       "      <td>3</td>\n",
       "      <td>1.0.5</td>\n",
       "      <td>2022-10-19 11:03:57</td>\n",
       "      <td>NaN</td>\n",
       "      <td>NaN</td>\n",
       "      <td>1.0.5</td>\n",
       "      <td>Atmosfer</td>\n",
       "      <td>Google Play Store</td>\n",
       "    </tr>\n",
       "    <tr>\n",
       "      <th>2</th>\n",
       "      <td>f16c50de-df58-41a2-b386-1b35253f8a0f</td>\n",
       "      <td>YOUTTOK STARS</td>\n",
       "      <td>https://play-lh.googleusercontent.com/a/ACg8oc...</td>\n",
       "      <td>Güzel</td>\n",
       "      <td>5</td>\n",
       "      <td>1</td>\n",
       "      <td>1.0.3</td>\n",
       "      <td>2022-06-03 18:51:13</td>\n",
       "      <td>NaN</td>\n",
       "      <td>NaN</td>\n",
       "      <td>1.0.3</td>\n",
       "      <td>Atmosfer</td>\n",
       "      <td>Google Play Store</td>\n",
       "    </tr>\n",
       "    <tr>\n",
       "      <th>3</th>\n",
       "      <td>9fd1c922-1508-4c1c-96aa-119adf86451b</td>\n",
       "      <td>Emre YAVUZ</td>\n",
       "      <td>https://play-lh.googleusercontent.com/a-/ALV-U...</td>\n",
       "      <td>Çöp</td>\n",
       "      <td>1</td>\n",
       "      <td>3</td>\n",
       "      <td>1.0.3</td>\n",
       "      <td>2022-05-19 15:00:12</td>\n",
       "      <td>NaN</td>\n",
       "      <td>NaN</td>\n",
       "      <td>1.0.3</td>\n",
       "      <td>Atmosfer</td>\n",
       "      <td>Google Play Store</td>\n",
       "    </tr>\n",
       "    <tr>\n",
       "      <th>4</th>\n",
       "      <td>08f8b33c-f318-41c8-becb-62950ec6e5e3</td>\n",
       "      <td>Ayhan Akgül</td>\n",
       "      <td>https://play-lh.googleusercontent.com/a-/ALV-U...</td>\n",
       "      <td>Uygulama ağır çalışıyor. Geri tuşu koyulması l...</td>\n",
       "      <td>1</td>\n",
       "      <td>5</td>\n",
       "      <td>1.0.3</td>\n",
       "      <td>2022-04-03 23:23:24</td>\n",
       "      <td>NaN</td>\n",
       "      <td>NaN</td>\n",
       "      <td>1.0.3</td>\n",
       "      <td>Atmosfer</td>\n",
       "      <td>Google Play Store</td>\n",
       "    </tr>\n",
       "  </tbody>\n",
       "</table>\n",
       "</div>"
      ],
      "text/plain": [
       "                               reviewId       userName  \\\n",
       "0  c8c92fab-cb3a-4344-9ddf-86304325b77f     Emre Erdem   \n",
       "1  c77a5594-1c77-44e7-8c1b-09a63dd086d4     Gökhun ÇOK   \n",
       "2  f16c50de-df58-41a2-b386-1b35253f8a0f  YOUTTOK STARS   \n",
       "3  9fd1c922-1508-4c1c-96aa-119adf86451b     Emre YAVUZ   \n",
       "4  08f8b33c-f318-41c8-becb-62950ec6e5e3    Ayhan Akgül   \n",
       "\n",
       "                                           userImage  \\\n",
       "0  https://play-lh.googleusercontent.com/a/ACg8oc...   \n",
       "1  https://play-lh.googleusercontent.com/a-/ALV-U...   \n",
       "2  https://play-lh.googleusercontent.com/a/ACg8oc...   \n",
       "3  https://play-lh.googleusercontent.com/a-/ALV-U...   \n",
       "4  https://play-lh.googleusercontent.com/a-/ALV-U...   \n",
       "\n",
       "                                             content  score  thumbsUpCount  \\\n",
       "0  Stabilizasyon problemleri ile dolu cihazımda g...      1              1   \n",
       "1  Daha fazla geliştirilmesi gerekiyor çok basit ...      3              3   \n",
       "2                                              Güzel      5              1   \n",
       "3                                                Çöp      1              3   \n",
       "4  Uygulama ağır çalışıyor. Geri tuşu koyulması l...      1              5   \n",
       "\n",
       "  reviewCreatedVersion                   at replyContent repliedAt appVersion  \\\n",
       "0               1.0.14  2024-04-04 23:27:16          NaN       NaN     1.0.14   \n",
       "1                1.0.5  2022-10-19 11:03:57          NaN       NaN      1.0.5   \n",
       "2                1.0.3  2022-06-03 18:51:13          NaN       NaN      1.0.3   \n",
       "3                1.0.3  2022-05-19 15:00:12          NaN       NaN      1.0.3   \n",
       "4                1.0.3  2022-04-03 23:23:24          NaN       NaN      1.0.3   \n",
       "\n",
       "    AppName             Market  \n",
       "0  Atmosfer  Google Play Store  \n",
       "1  Atmosfer  Google Play Store  \n",
       "2  Atmosfer  Google Play Store  \n",
       "3  Atmosfer  Google Play Store  \n",
       "4  Atmosfer  Google Play Store  "
      ]
     },
     "execution_count": 36,
     "metadata": {},
     "output_type": "execute_result"
    }
   ],
   "source": [
    "play_store_df.head()"
   ]
  },
  {
   "cell_type": "code",
   "execution_count": 37,
   "id": "286def5b-b823-4c83-8eed-90aa8b75b40c",
   "metadata": {},
   "outputs": [],
   "source": [
    "play_store_df.to_csv(\"data/all_play_store_reviews.csv\", index=False)"
   ]
  },
  {
   "cell_type": "code",
   "execution_count": 38,
   "id": "97bafd9b-a654-40f9-bca4-c831142240d6",
   "metadata": {},
   "outputs": [
    {
     "data": {
      "text/plain": [
       "(841240, 13)"
      ]
     },
     "execution_count": 38,
     "metadata": {},
     "output_type": "execute_result"
    }
   ],
   "source": [
    "play_store_df.shape"
   ]
  },
  {
   "cell_type": "code",
   "execution_count": 39,
   "id": "cf3e500d-6424-4821-8238-d6ecca5bda98",
   "metadata": {},
   "outputs": [
    {
     "data": {
      "text/plain": [
       "['data/app_store_turkcell_bizce_data.csv',\n",
       " 'data/app_store_turkcell_calarken_dinlet_data.csv',\n",
       " 'data/app_store_turkcell_dijital_data.csv',\n",
       " 'data/app_store_turkcell_fizy_data.csv',\n",
       " 'data/app_store_turkcell_gnc_data.csv',\n",
       " 'data/app_store_turkcell_is_online_data.csv',\n",
       " 'data/app_store_turkcell_platinum_data.csv',\n",
       " 'data/app_store_turkcell_upcall_data.csv']"
      ]
     },
     "execution_count": 39,
     "metadata": {},
     "output_type": "execute_result"
    }
   ],
   "source": [
    "app_store_files"
   ]
  },
  {
   "cell_type": "code",
   "execution_count": 40,
   "id": "4c610ceb-7901-4191-8197-34aea4445dbc",
   "metadata": {},
   "outputs": [],
   "source": [
    "app_store_df1 = pd.read_csv(\"data/app_store_turkcell_bizce_data.csv\")\n",
    "app_store_df1[\"AppName\"] = \"Bizce\"\n",
    "app_store_df1[\"Market\"] = \"App Store\""
   ]
  },
  {
   "cell_type": "code",
   "execution_count": 41,
   "id": "efd75991-6354-4761-b6d1-ae01a8be5fc1",
   "metadata": {},
   "outputs": [],
   "source": [
    "app_store_df2 = pd.read_csv(\"data/app_store_turkcell_calarken_dinlet_data.csv\")\n",
    "app_store_df2[\"AppName\"] = \"Çalarken Dinlet\"\n",
    "app_store_df2[\"Market\"] = \"App Store\""
   ]
  },
  {
   "cell_type": "code",
   "execution_count": 42,
   "id": "3215898c-9118-4c0f-90bf-6e248defcfbd",
   "metadata": {},
   "outputs": [],
   "source": [
    "app_store_df3 = pd.read_csv(\"data/app_store_turkcell_dijital_data.csv\")\n",
    "app_store_df3[\"AppName\"] = \"Dijital\"\n",
    "app_store_df3[\"Market\"] = \"App Store\""
   ]
  },
  {
   "cell_type": "code",
   "execution_count": 43,
   "id": "70b4f93b-f70f-430a-a3e5-9680147cdd2e",
   "metadata": {},
   "outputs": [],
   "source": [
    "app_store_df4 = pd.read_csv(\"data/app_store_turkcell_gnc_data.csv\")\n",
    "app_store_df4[\"AppName\"] = \"Dijital\"\n",
    "app_store_df4[\"Market\"] = \"App Store\""
   ]
  },
  {
   "cell_type": "code",
   "execution_count": 44,
   "id": "009935c9-0642-46bc-a53d-2a20cc94461b",
   "metadata": {},
   "outputs": [],
   "source": [
    "app_store_df5 = pd.read_csv(\"data/app_store_turkcell_is_online_data.csv\")\n",
    "app_store_df5[\"AppName\"] = \"İş Online\"\n",
    "app_store_df5[\"Market\"] = \"App Store\""
   ]
  },
  {
   "cell_type": "code",
   "execution_count": 45,
   "id": "80854ed1-43a2-44e9-8ce0-1270ee1f5da4",
   "metadata": {},
   "outputs": [],
   "source": [
    "app_store_df6 = pd.read_csv(\"data/app_store_turkcell_platinum_data.csv\")\n",
    "app_store_df6[\"AppName\"] = \"Platinum\"\n",
    "app_store_df6[\"Market\"] = \"App Store\""
   ]
  },
  {
   "cell_type": "code",
   "execution_count": 46,
   "id": "172bbfcc-6965-4445-bbb2-7bc67843146b",
   "metadata": {},
   "outputs": [],
   "source": [
    "app_store_df7 = pd.read_csv(\"data/app_store_turkcell_upcall_data.csv\")\n",
    "app_store_df7[\"AppName\"] = \"UpCall\"\n",
    "app_store_df7[\"Market\"] = \"App Store\""
   ]
  },
  {
   "cell_type": "code",
   "execution_count": 47,
   "id": "31d5279a-cf5a-4cf4-9089-34816a782cea",
   "metadata": {},
   "outputs": [],
   "source": [
    "app_store_df8 = pd.read_csv(\"data/app_store_turkcell_fizy_data.csv\")\n",
    "app_store_df8[\"AppName\"] = \"Fizy\"\n",
    "app_store_df8[\"Market\"] = \"App Store\""
   ]
  },
  {
   "cell_type": "code",
   "execution_count": null,
   "id": "4ec99f58-618b-4184-9f59-4dc4fa2e666e",
   "metadata": {},
   "outputs": [],
   "source": []
  },
  {
   "cell_type": "code",
   "execution_count": null,
   "id": "6791c1bd-4a99-47b2-b1d9-f13139dc379a",
   "metadata": {},
   "outputs": [],
   "source": []
  },
  {
   "cell_type": "code",
   "execution_count": 48,
   "id": "0a271d04-0272-4fa9-8214-cd9eab6b17f5",
   "metadata": {},
   "outputs": [],
   "source": [
    "app_store_df = pd.concat([app_store_df1, app_store_df2, app_store_df3, app_store_df4, app_store_df5, app_store_df6, app_store_df7, app_store_df8], axis=0)"
   ]
  },
  {
   "cell_type": "code",
   "execution_count": 49,
   "id": "165d1cb4-c08f-4c71-abe3-e456810893c6",
   "metadata": {},
   "outputs": [],
   "source": [
    "app_store_df = app_store_df.reset_index(drop=True)"
   ]
  },
  {
   "cell_type": "code",
   "execution_count": 52,
   "id": "60354eab-1d43-4be8-96db-1ecca92e306a",
   "metadata": {},
   "outputs": [
    {
     "data": {
      "text/plain": [
       "date        0\n",
       "userName    0\n",
       "review      0\n",
       "rating      0\n",
       "AppName     0\n",
       "Market      0\n",
       "dtype: int64"
      ]
     },
     "execution_count": 52,
     "metadata": {},
     "output_type": "execute_result"
    }
   ],
   "source": [
    "app_store_df.isnull().sum()"
   ]
  },
  {
   "cell_type": "code",
   "execution_count": 56,
   "id": "89f1b02e-d114-4497-ae5a-f8666500d772",
   "metadata": {},
   "outputs": [],
   "source": [
    "app_store_df.to_csv(\"data/all_app_store_reviews.csv\", index=False)"
   ]
  },
  {
   "cell_type": "code",
   "execution_count": 51,
   "id": "8bbdb9f0-75ce-4fc9-8bb5-430e1b921a78",
   "metadata": {},
   "outputs": [
    {
     "data": {
      "text/plain": [
       "(13930, 6)"
      ]
     },
     "execution_count": 51,
     "metadata": {},
     "output_type": "execute_result"
    }
   ],
   "source": [
    "app_store_df.shape"
   ]
  },
  {
   "cell_type": "code",
   "execution_count": 53,
   "id": "9ee5e1d3-c328-4150-9d98-18e18c1d7bfb",
   "metadata": {},
   "outputs": [],
   "source": [
    "concat_df = pd.concat([\n",
    "    play_store_df.rename(columns={\"content\": \"review\", \"score\": \"rating\"})[[\"Market\", \"AppName\", \"review\", \"rating\"]], \n",
    "    app_store_df[[\"Market\", \"AppName\", \"review\", \"rating\"]]\n",
    "], axis=0)"
   ]
  },
  {
   "cell_type": "code",
   "execution_count": 54,
   "id": "fb39b283-4bc8-46b5-91e2-386a3eefcc43",
   "metadata": {},
   "outputs": [
    {
     "data": {
      "text/plain": [
       "(855170, 4)"
      ]
     },
     "execution_count": 54,
     "metadata": {},
     "output_type": "execute_result"
    }
   ],
   "source": [
    "concat_df.shape"
   ]
  },
  {
   "cell_type": "code",
   "execution_count": 55,
   "id": "bd1dc554-4954-44fc-942e-188fd5c81c89",
   "metadata": {},
   "outputs": [],
   "source": [
    "concat_df = concat_df.reset_index(drop=True)"
   ]
  },
  {
   "cell_type": "code",
   "execution_count": 57,
   "id": "759db156-adbe-4eb2-8259-a509e8947625",
   "metadata": {},
   "outputs": [],
   "source": [
    "concat_df.to_csv(\"data/all_application_store_reviews.csv\", index=False)"
   ]
  },
  {
   "cell_type": "code",
   "execution_count": 58,
   "id": "6f59c63b-81ed-41e2-822a-a252b4e321c9",
   "metadata": {},
   "outputs": [
    {
     "data": {
      "text/html": [
       "<div>\n",
       "<style scoped>\n",
       "    .dataframe tbody tr th:only-of-type {\n",
       "        vertical-align: middle;\n",
       "    }\n",
       "\n",
       "    .dataframe tbody tr th {\n",
       "        vertical-align: top;\n",
       "    }\n",
       "\n",
       "    .dataframe thead th {\n",
       "        text-align: right;\n",
       "    }\n",
       "</style>\n",
       "<table border=\"1\" class=\"dataframe\">\n",
       "  <thead>\n",
       "    <tr style=\"text-align: right;\">\n",
       "      <th></th>\n",
       "      <th>Market</th>\n",
       "      <th>AppName</th>\n",
       "      <th>review</th>\n",
       "      <th>rating</th>\n",
       "    </tr>\n",
       "  </thead>\n",
       "  <tbody>\n",
       "    <tr>\n",
       "      <th>0</th>\n",
       "      <td>Google Play Store</td>\n",
       "      <td>Atmosfer</td>\n",
       "      <td>Stabilizasyon problemleri ile dolu cihazımda g...</td>\n",
       "      <td>1</td>\n",
       "    </tr>\n",
       "    <tr>\n",
       "      <th>1</th>\n",
       "      <td>Google Play Store</td>\n",
       "      <td>Atmosfer</td>\n",
       "      <td>Daha fazla geliştirilmesi gerekiyor çok basit ...</td>\n",
       "      <td>3</td>\n",
       "    </tr>\n",
       "    <tr>\n",
       "      <th>2</th>\n",
       "      <td>Google Play Store</td>\n",
       "      <td>Atmosfer</td>\n",
       "      <td>Güzel</td>\n",
       "      <td>5</td>\n",
       "    </tr>\n",
       "    <tr>\n",
       "      <th>3</th>\n",
       "      <td>Google Play Store</td>\n",
       "      <td>Atmosfer</td>\n",
       "      <td>Çöp</td>\n",
       "      <td>1</td>\n",
       "    </tr>\n",
       "    <tr>\n",
       "      <th>4</th>\n",
       "      <td>Google Play Store</td>\n",
       "      <td>Atmosfer</td>\n",
       "      <td>Uygulama ağır çalışıyor. Geri tuşu koyulması l...</td>\n",
       "      <td>1</td>\n",
       "    </tr>\n",
       "  </tbody>\n",
       "</table>\n",
       "</div>"
      ],
      "text/plain": [
       "              Market   AppName  \\\n",
       "0  Google Play Store  Atmosfer   \n",
       "1  Google Play Store  Atmosfer   \n",
       "2  Google Play Store  Atmosfer   \n",
       "3  Google Play Store  Atmosfer   \n",
       "4  Google Play Store  Atmosfer   \n",
       "\n",
       "                                              review  rating  \n",
       "0  Stabilizasyon problemleri ile dolu cihazımda g...       1  \n",
       "1  Daha fazla geliştirilmesi gerekiyor çok basit ...       3  \n",
       "2                                              Güzel       5  \n",
       "3                                                Çöp       1  \n",
       "4  Uygulama ağır çalışıyor. Geri tuşu koyulması l...       1  "
      ]
     },
     "execution_count": 58,
     "metadata": {},
     "output_type": "execute_result"
    }
   ],
   "source": [
    "concat_df.head()"
   ]
  },
  {
   "cell_type": "code",
   "execution_count": 63,
   "id": "b91d7eeb-bad2-4d1f-a201-85c9c2307099",
   "metadata": {},
   "outputs": [
    {
     "data": {
      "text/plain": [
       "(855170, 4)"
      ]
     },
     "execution_count": 63,
     "metadata": {},
     "output_type": "execute_result"
    }
   ],
   "source": [
    "concat_df.shape"
   ]
  },
  {
   "cell_type": "code",
   "execution_count": 59,
   "id": "043128f1-54ec-4d45-969b-f6e02b96c795",
   "metadata": {},
   "outputs": [
    {
     "data": {
      "text/plain": [
       "5    525647\n",
       "1    205538\n",
       "4     56412\n",
       "3     41140\n",
       "2     26433\n",
       "Name: rating, dtype: int64"
      ]
     },
     "execution_count": 59,
     "metadata": {},
     "output_type": "execute_result"
    }
   ],
   "source": [
    "concat_df.rating.value_counts()"
   ]
  },
  {
   "cell_type": "code",
   "execution_count": 60,
   "id": "e5de2588-348d-43e2-8fd6-9bc80d1a582f",
   "metadata": {},
   "outputs": [
    {
     "data": {
      "text/plain": [
       "Google Play Store    841240\n",
       "App Store             13930\n",
       "Name: Market, dtype: int64"
      ]
     },
     "execution_count": 60,
     "metadata": {},
     "output_type": "execute_result"
    }
   ],
   "source": [
    "concat_df.Market.value_counts()"
   ]
  },
  {
   "cell_type": "code",
   "execution_count": 62,
   "id": "dc962bf9-8c4c-4278-afe4-4bb81970e3b3",
   "metadata": {},
   "outputs": [
    {
     "data": {
      "text/plain": [
       "BiP                296205\n",
       "Dijital            202596\n",
       "TV+                104377\n",
       "Paycell             67679\n",
       "Fizy                57001\n",
       "GNÇ                 50984\n",
       "Lifebox             44850\n",
       "UpCall              13522\n",
       "Bizce                8457\n",
       "Platinum             5556\n",
       "Çalarken Dinlet      1993\n",
       "İş Online            1500\n",
       "Kopilot               132\n",
       "Dijital Etiket        129\n",
       "Hayal Ortağım          81\n",
       "Ekip Mobil             56\n",
       "Kopilot Filom          26\n",
       "DBS Partner 360        18\n",
       "Atmosfer                8\n",
       "Name: AppName, dtype: int64"
      ]
     },
     "execution_count": 62,
     "metadata": {},
     "output_type": "execute_result"
    }
   ],
   "source": [
    "concat_df.AppName.value_counts()"
   ]
  },
  {
   "cell_type": "markdown",
   "id": "9e9aea83-b264-47d8-8377-324f46de37e4",
   "metadata": {},
   "source": [
    "# Şikayetvar"
   ]
  },
  {
   "cell_type": "code",
   "execution_count": 1,
   "id": "5017ed1f-e7ac-467e-b6da-33131b890813",
   "metadata": {},
   "outputs": [],
   "source": [
    "import pandas as pd\n",
    "from bs4 import BeautifulSoup\n",
    "import requests\n",
    "from requests.adapters import HTTPAdapter\n",
    "from requests.packages.urllib3.util.retry import Retry\n",
    "import lxml\n",
    "import re\n",
    "import time\n",
    "from urllib.request import urlopen, Request\n",
    "import random\n",
    "import base64\n",
    "import os"
   ]
  },
  {
   "cell_type": "code",
   "execution_count": 2,
   "id": "09cba9d2-57af-4c2f-93c5-026bacb55f05",
   "metadata": {},
   "outputs": [],
   "source": [
    "headers = {'user-agent': 'Mozilla/5.0 (X11; Linux x86_64) AppleWebKit/537.36 (KHTML, like Gecko) Chrome/72.0.3626.28 Safari/537.36'}"
   ]
  },
  {
   "cell_type": "code",
   "execution_count": 3,
   "id": "59ada9be-c624-42ab-9924-d841855fff21",
   "metadata": {},
   "outputs": [],
   "source": [
    "def get_page_count(url):\n",
    "    req = Request(url, headers=headers)\n",
    "    site_request = urlopen(req)\n",
    "    soup = BeautifulSoup(site_request.read(), \"html.parser\")\n",
    "    return int(soup.find_all(\"a\", class_=\"page\")[-1].text)"
   ]
  },
  {
   "cell_type": "code",
   "execution_count": 20,
   "id": "a9b55722-d373-43e4-ac38-14c0a80f9889",
   "metadata": {},
   "outputs": [],
   "source": [
    "def get_complaint_links(url, start_page, end_page):\n",
    "    yorum_linkleri = []\n",
    "    for page in range(start_page, end_page+1):\n",
    "        page_url = f\"{url}?page={page}\"\n",
    "        req = Request(page_url, headers=headers)\n",
    "        page_request = urlopen(req)\n",
    "        soup = BeautifulSoup(page_request.read(), \"html.parser\")\n",
    "        containers = soup.find_all(\"article\", class_=\"card-v2 ga-v ga-c\")\n",
    "        for container in containers:\n",
    "            read_more_div = container.find(\"p\", class_=\"complaint-description js-replace-to-link\")\n",
    "            if read_more_div and read_more_div.has_attr('data-url'):\n",
    "                data_url = read_more_div['data-url']\n",
    "                data_url = base64.b64decode(data_url).decode('ascii')\n",
    "                yorum_linkleri.append(\"https://www.sikayetvar.com\" + data_url)\n",
    "    return yorum_linkleri"
   ]
  },
  {
   "cell_type": "code",
   "execution_count": 21,
   "id": "adfa98ab-b5d9-4dc0-8b55-a1a6e4d5e64c",
   "metadata": {},
   "outputs": [],
   "source": [
    "def scrape_complaint(url):\n",
    "    req = Request(url, headers=headers)\n",
    "    page_request = urlopen(req)\n",
    "    soup = BeautifulSoup(page_request, \"html.parser\")\n",
    "    try:\n",
    "        baslik = soup.find(\"h1\", class_=\"complaint-detail-title\").text.strip()\n",
    "        yorum = soup.find(\"div\", class_=\"complaint-detail-description\").text.strip()\n",
    "        tarih = soup.find(\"div\", class_=\"post-time\").get_text().split(\"  \")[0]\n",
    "        goruntulenme = soup.find(\"span\", class_=\"js-view-count\").get_text()\n",
    "        kullanici_adi = soup.find(\"span\", class_=\"username\").text.strip()\n",
    "        return [url, kullanici_adi, tarih, baslik, yorum, goruntulenme]\n",
    "    except Exception as e:\n",
    "        print(f\"Error processing {url}: {e}\")\n",
    "        return None\n"
   ]
  },
  {
   "cell_type": "code",
   "execution_count": null,
   "id": "4b0461b9-bf29-444b-9c04-383061a161ca",
   "metadata": {
    "scrolled": true
   },
   "outputs": [],
   "source": [
    "kargo = ['turkcell', 'fizy', 'bip']\n",
    "df_columns = ['firma', 'href', 'kullanici_adi', 'tarih', 'baslik', 'yorum', 'goruntulenme']\n",
    "csv_filename = \"sikayetvar_turkcell_data_2.csv\"\n",
    "\n",
    "if os.path.exists(csv_filename):\n",
    "    df = pd.read_csv(csv_filename)\n",
    "else:\n",
    "    df = pd.DataFrame(columns=df_columns)\n",
    "    \n",
    "# Sadece bura\n",
    "start_page = 2\n",
    "end_page = 4\n",
    "\n",
    "\n",
    "for firma in kargo:\n",
    "    url = f\"https://www.sikayetvar.com/{firma}\"\n",
    "   \n",
    "    yorum_linkleri = get_complaint_links(url, start_page, end_page)\n",
    "    print(yorum_linkleri)\n",
    "\n",
    "    for idx, link in enumerate(yorum_linkleri, 1):\n",
    "        time.sleep(random.uniform(1, 2))\n",
    "        complaint_data = scrape_complaint(link)\n",
    "        if complaint_data:\n",
    "            df.loc[len(df)] = [firma] + complaint_data\n",
    "            print(f\"Scraping progress: {idx}/{len(yorum_linkleri)}\")\n",
    "            df.to_csv(csv_filename, index=False)"
   ]
  },
  {
   "cell_type": "code",
   "execution_count": 19,
   "id": "a15c4b2d-9800-41d6-9f19-e2b30a3942bb",
   "metadata": {},
   "outputs": [
    {
     "data": {
      "text/html": [
       "<div>\n",
       "<style scoped>\n",
       "    .dataframe tbody tr th:only-of-type {\n",
       "        vertical-align: middle;\n",
       "    }\n",
       "\n",
       "    .dataframe tbody tr th {\n",
       "        vertical-align: top;\n",
       "    }\n",
       "\n",
       "    .dataframe thead th {\n",
       "        text-align: right;\n",
       "    }\n",
       "</style>\n",
       "<table border=\"1\" class=\"dataframe\">\n",
       "  <thead>\n",
       "    <tr style=\"text-align: right;\">\n",
       "      <th></th>\n",
       "      <th>firma</th>\n",
       "      <th>href</th>\n",
       "      <th>kullanici_adi</th>\n",
       "      <th>tarih</th>\n",
       "      <th>baslik</th>\n",
       "      <th>yorum</th>\n",
       "      <th>goruntulenme</th>\n",
       "    </tr>\n",
       "  </thead>\n",
       "  <tbody>\n",
       "    <tr>\n",
       "      <th>59</th>\n",
       "      <td>bip</td>\n",
       "      <td>https://www.sikayetvar.com/bip/bip-yedekledigi...</td>\n",
       "      <td>Can</td>\n",
       "      <td>06 Temmuz 17:22</td>\n",
       "      <td>BiP Yedeklediğim Mesajlara Ulaşamıyorum</td>\n",
       "      <td>BİP uygulamasını silmeden önce mesajları yedek...</td>\n",
       "      <td>104</td>\n",
       "    </tr>\n",
       "    <tr>\n",
       "      <th>60</th>\n",
       "      <td>bip</td>\n",
       "      <td>https://www.sikayetvar.com/bip/bip-sifre-alami...</td>\n",
       "      <td>Cemile</td>\n",
       "      <td>06 Temmuz 08:11</td>\n",
       "      <td>BiP Şifre Alamıyorum Diyanet Parola</td>\n",
       "      <td>Diyanet personeliyim. BİP'ten DBYS şifresi alm...</td>\n",
       "      <td>117</td>\n",
       "    </tr>\n",
       "    <tr>\n",
       "      <th>61</th>\n",
       "      <td>bip</td>\n",
       "      <td>https://www.sikayetvar.com/bip/bip-bipten-mesa...</td>\n",
       "      <td>Cihan</td>\n",
       "      <td>05 Temmuz 21:36</td>\n",
       "      <td>BiP Bipten Mesaj Gitmiyor</td>\n",
       "      <td>Bip'ten mesaj atıyorum, gitmiyor. Sadece bir t...</td>\n",
       "      <td>125</td>\n",
       "    </tr>\n",
       "    <tr>\n",
       "      <th>62</th>\n",
       "      <td>bip</td>\n",
       "      <td>https://www.sikayetvar.com/bip/dibbys-bip-dogr...</td>\n",
       "      <td>Rahime</td>\n",
       "      <td>05 Temmuz 13:17</td>\n",
       "      <td>Dibbys BİP Doğrulama Kodu Hatası</td>\n",
       "      <td>İyi günler Diyanet işleri personeliyim. Dibbys...</td>\n",
       "      <td>162</td>\n",
       "    </tr>\n",
       "    <tr>\n",
       "      <th>63</th>\n",
       "      <td>bip</td>\n",
       "      <td>https://www.sikayetvar.com/bip/bip-sorunsali-m...</td>\n",
       "      <td>Güler</td>\n",
       "      <td>05 Temmuz 08:18</td>\n",
       "      <td>BİP Sorunsalı Mesaj Alıp Göndermiyorum</td>\n",
       "      <td>Karşı taraftan mesaj alıp gönderemiyorum, nede...</td>\n",
       "      <td>357</td>\n",
       "    </tr>\n",
       "  </tbody>\n",
       "</table>\n",
       "</div>"
      ],
      "text/plain": [
       "   firma                                               href kullanici_adi  \\\n",
       "59   bip  https://www.sikayetvar.com/bip/bip-yedekledigi...           Can   \n",
       "60   bip  https://www.sikayetvar.com/bip/bip-sifre-alami...        Cemile   \n",
       "61   bip  https://www.sikayetvar.com/bip/bip-bipten-mesa...         Cihan   \n",
       "62   bip  https://www.sikayetvar.com/bip/dibbys-bip-dogr...        Rahime   \n",
       "63   bip  https://www.sikayetvar.com/bip/bip-sorunsali-m...         Güler   \n",
       "\n",
       "               tarih                                   baslik  \\\n",
       "59   06 Temmuz 17:22  BiP Yedeklediğim Mesajlara Ulaşamıyorum   \n",
       "60   06 Temmuz 08:11      BiP Şifre Alamıyorum Diyanet Parola   \n",
       "61   05 Temmuz 21:36                BiP Bipten Mesaj Gitmiyor   \n",
       "62   05 Temmuz 13:17         Dibbys BİP Doğrulama Kodu Hatası   \n",
       "63   05 Temmuz 08:18   BİP Sorunsalı Mesaj Alıp Göndermiyorum   \n",
       "\n",
       "                                                yorum goruntulenme  \n",
       "59  BİP uygulamasını silmeden önce mesajları yedek...          104  \n",
       "60  Diyanet personeliyim. BİP'ten DBYS şifresi alm...          117  \n",
       "61  Bip'ten mesaj atıyorum, gitmiyor. Sadece bir t...          125  \n",
       "62  İyi günler Diyanet işleri personeliyim. Dibbys...          162  \n",
       "63  Karşı taraftan mesaj alıp gönderemiyorum, nede...          357  "
      ]
     },
     "execution_count": 19,
     "metadata": {},
     "output_type": "execute_result"
    }
   ],
   "source": [
    "df.tail()"
   ]
  },
  {
   "cell_type": "code",
   "execution_count": null,
   "id": "a03096b9-77dd-4770-8b79-93041137275a",
   "metadata": {},
   "outputs": [],
   "source": []
  }
 ],
 "metadata": {
  "kernelspec": {
   "display_name": "Python 3 (ipykernel)",
   "language": "python",
   "name": "python3"
  },
  "language_info": {
   "codemirror_mode": {
    "name": "ipython",
    "version": 3
   },
   "file_extension": ".py",
   "mimetype": "text/x-python",
   "name": "python",
   "nbconvert_exporter": "python",
   "pygments_lexer": "ipython3",
   "version": "3.11.3"
  }
 },
 "nbformat": 4,
 "nbformat_minor": 5
}
