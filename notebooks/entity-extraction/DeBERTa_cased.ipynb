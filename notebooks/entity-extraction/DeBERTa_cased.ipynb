{
 "cells": [
  {
   "cell_type": "code",
   "execution_count": 1,
   "metadata": {
    "_cell_guid": "b1076dfc-b9ad-4769-8c92-a6c4dae69d19",
    "_uuid": "8f2839f25d086af736a60e9eeb907d3b93b6e0e5",
    "execution": {
     "iopub.execute_input": "2024-08-02T21:27:18.418023Z",
     "iopub.status.busy": "2024-08-02T21:27:18.417737Z",
     "iopub.status.idle": "2024-08-02T21:27:19.472518Z",
     "shell.execute_reply": "2024-08-02T21:27:19.471385Z",
     "shell.execute_reply.started": "2024-08-02T21:27:18.417998Z"
    }
   },
   "outputs": [
    {
     "name": "stdout",
     "output_type": "stream",
     "text": [
      "/kaggle/input/all-aspects/all_aspects_just_aspect.csv\n",
      "/kaggle/input/all-aspects/all_tagged_aspects_just_aspect_filled.csv\n",
      "/kaggle/input/all-aspects/all_tagged_aspects_filled.csv\n",
      "/kaggle/input/all-aspects/all_tagged_aspects_just_aspect.csv\n",
      "/kaggle/input/all-aspects/all_tagged_aspects_sentences.csv\n",
      "/kaggle/input/all-aspects/all_tagged_aspects_just_aspect_sentences.csv\n",
      "/kaggle/input/all-aspects/all_tagged_aspects_just_aspect_filled_sentences.csv\n",
      "/kaggle/input/all-aspects/reviews.csv\n",
      "/kaggle/input/all-aspects/cleaned.csv\n",
      "/kaggle/input/all-aspects/all_aspects_just_aspect_filled.csv\n",
      "/kaggle/input/all-aspects/all_tagged_aspects.csv\n",
      "/kaggle/input/all-aspects/all_aspects.csv\n"
     ]
    }
   ],
   "source": [
    "# This Python 3 environment comes with many helpful analytics libraries installed\n",
    "# It is defined by the kaggle/python Docker image: https://github.com/kaggle/docker-python\n",
    "# For example, here's several helpful packages to load\n",
    "\n",
    "import numpy as np # linear algebra\n",
    "import pandas as pd # data processing, CSV file I/O (e.g. pd.read_csv)\n",
    "\n",
    "# Input data files are available in the read-only \"../input/\" directory\n",
    "# For example, running this (by clicking run or pressing Shift+Enter) will list all files under the input directory\n",
    "\n",
    "import os\n",
    "for dirname, _, filenames in os.walk('/kaggle/input'):\n",
    "    for filename in filenames:\n",
    "        print(os.path.join(dirname, filename))\n",
    "\n",
    "# You can write up to 20GB to the current directory (/kaggle/working/) that gets preserved as output when you create a version using \"Save & Run All\" \n",
    "# You can also write temporary files to /kaggle/temp/, but they won't be saved outside of the current session"
   ]
  },
  {
   "cell_type": "code",
   "execution_count": 14,
   "metadata": {
    "execution": {
     "iopub.execute_input": "2024-08-02T21:33:05.580231Z",
     "iopub.status.busy": "2024-08-02T21:33:05.579449Z",
     "iopub.status.idle": "2024-08-02T21:33:05.594986Z",
     "shell.execute_reply": "2024-08-02T21:33:05.593960Z",
     "shell.execute_reply.started": "2024-08-02T21:33:05.580198Z"
    }
   },
   "outputs": [],
   "source": [
    "import pandas as pd\n",
    "from sklearn.model_selection import train_test_split\n",
    "from transformers import BertTokenizerFast\n",
    "import torch\n",
    "from torch import nn\n",
    "from transformers import BertModel, BertForTokenClassification\n",
    "from torch.utils.data import DataLoader, TensorDataset, RandomSampler, Dataset\n",
    "from transformers import AdamW\n",
    "from sklearn.metrics import confusion_matrix, classification_report, accuracy_score, f1_score, precision_score, recall_score\n",
    "import numpy as np"
   ]
  },
  {
   "cell_type": "code",
   "execution_count": 37,
   "metadata": {
    "execution": {
     "iopub.execute_input": "2024-08-02T21:46:49.882970Z",
     "iopub.status.busy": "2024-08-02T21:46:49.882085Z",
     "iopub.status.idle": "2024-08-02T21:46:50.348492Z",
     "shell.execute_reply": "2024-08-02T21:46:50.347394Z",
     "shell.execute_reply.started": "2024-08-02T21:46:49.882933Z"
    }
   },
   "outputs": [
    {
     "data": {
      "text/html": [
       "<div>\n",
       "<style scoped>\n",
       "    .dataframe tbody tr th:only-of-type {\n",
       "        vertical-align: middle;\n",
       "    }\n",
       "\n",
       "    .dataframe tbody tr th {\n",
       "        vertical-align: top;\n",
       "    }\n",
       "\n",
       "    .dataframe thead th {\n",
       "        text-align: right;\n",
       "    }\n",
       "</style>\n",
       "<table border=\"1\" class=\"dataframe\">\n",
       "  <thead>\n",
       "    <tr style=\"text-align: right;\">\n",
       "      <th></th>\n",
       "      <th>sentence</th>\n",
       "      <th>word_labels</th>\n",
       "    </tr>\n",
       "  </thead>\n",
       "  <tbody>\n",
       "    <tr>\n",
       "      <th>0</th>\n",
       "      <td>Uygulamada kartlarda Troy kart geçmiyor Lütfen...</td>\n",
       "      <td>O,O,B-A,O,O,O,O,B-A,O,O,O</td>\n",
       "    </tr>\n",
       "    <tr>\n",
       "      <th>1</th>\n",
       "      <td>Her güncellemede daha da kötüleşen Turkcell in...</td>\n",
       "      <td>O,O,O,O,O,B-A,O,O,O,O,O,O,O,O,O,O,O,O,O,O,O,O,O,O</td>\n",
       "    </tr>\n",
       "    <tr>\n",
       "      <th>2</th>\n",
       "      <td>BiP’ten aranmıyor yardım</td>\n",
       "      <td>B-A,O,O</td>\n",
       "    </tr>\n",
       "    <tr>\n",
       "      <th>3</th>\n",
       "      <td>Bu yorumum kesinlikle uygulamanın daha çok gel...</td>\n",
       "      <td>O,O,O,O,O,O,O,O,O,O,O,O,O,O,O,O,O,O,B-A,O,O,O,...</td>\n",
       "    </tr>\n",
       "    <tr>\n",
       "      <th>4</th>\n",
       "      <td>kurumlarda WhatsApp engelleniyor Alternatif ol...</td>\n",
       "      <td>O,B-A,O,O,O,B-A,O,O,B-A,O,O,O,O,O,O,O,B-A,O,O,...</td>\n",
       "    </tr>\n",
       "  </tbody>\n",
       "</table>\n",
       "</div>"
      ],
      "text/plain": [
       "                                            sentence  \\\n",
       "0  Uygulamada kartlarda Troy kart geçmiyor Lütfen...   \n",
       "1  Her güncellemede daha da kötüleşen Turkcell in...   \n",
       "2                           BiP’ten aranmıyor yardım   \n",
       "3  Bu yorumum kesinlikle uygulamanın daha çok gel...   \n",
       "4  kurumlarda WhatsApp engelleniyor Alternatif ol...   \n",
       "\n",
       "                                         word_labels  \n",
       "0                          O,O,B-A,O,O,O,O,B-A,O,O,O  \n",
       "1  O,O,O,O,O,B-A,O,O,O,O,O,O,O,O,O,O,O,O,O,O,O,O,O,O  \n",
       "2                                            B-A,O,O  \n",
       "3  O,O,O,O,O,O,O,O,O,O,O,O,O,O,O,O,O,O,B-A,O,O,O,...  \n",
       "4  O,B-A,O,O,O,B-A,O,O,B-A,O,O,O,O,O,O,O,B-A,O,O,...  "
      ]
     },
     "execution_count": 37,
     "metadata": {},
     "output_type": "execute_result"
    }
   ],
   "source": [
    "df = pd.read_csv(\"/kaggle/input/all-aspects/all_tagged_aspects_just_aspect_filled_sentences.csv\")\n",
    "df.head()"
   ]
  },
  {
   "cell_type": "code",
   "execution_count": 38,
   "metadata": {
    "execution": {
     "iopub.execute_input": "2024-08-02T21:46:50.381458Z",
     "iopub.status.busy": "2024-08-02T21:46:50.381153Z",
     "iopub.status.idle": "2024-08-02T21:46:50.411001Z",
     "shell.execute_reply": "2024-08-02T21:46:50.410023Z",
     "shell.execute_reply.started": "2024-08-02T21:46:50.381417Z"
    }
   },
   "outputs": [
    {
     "data": {
      "text/plain": [
       "sentence       0\n",
       "word_labels    0\n",
       "dtype: int64"
      ]
     },
     "execution_count": 38,
     "metadata": {},
     "output_type": "execute_result"
    }
   ],
   "source": [
    "df.isnull().sum()"
   ]
  },
  {
   "cell_type": "code",
   "execution_count": 39,
   "metadata": {
    "execution": {
     "iopub.execute_input": "2024-08-02T21:46:50.428003Z",
     "iopub.status.busy": "2024-08-02T21:46:50.427340Z",
     "iopub.status.idle": "2024-08-02T21:46:50.433935Z",
     "shell.execute_reply": "2024-08-02T21:46:50.432957Z",
     "shell.execute_reply.started": "2024-08-02T21:46:50.427977Z"
    }
   },
   "outputs": [
    {
     "data": {
      "text/plain": [
       "device(type='cuda')"
      ]
     },
     "execution_count": 39,
     "metadata": {},
     "output_type": "execute_result"
    }
   ],
   "source": [
    "device = torch.device(\"cuda\" if torch.cuda.is_available() else \"cpu\")\n",
    "device"
   ]
  },
  {
   "cell_type": "code",
   "execution_count": 40,
   "metadata": {
    "execution": {
     "iopub.execute_input": "2024-08-02T21:46:50.460453Z",
     "iopub.status.busy": "2024-08-02T21:46:50.459709Z",
     "iopub.status.idle": "2024-08-02T21:46:54.098482Z",
     "shell.execute_reply": "2024-08-02T21:46:54.097468Z",
     "shell.execute_reply.started": "2024-08-02T21:46:50.460408Z"
    }
   },
   "outputs": [
    {
     "name": "stderr",
     "output_type": "stream",
     "text": [
      "/opt/conda/lib/python3.10/site-packages/transformers/convert_slow_tokenizer.py:562: UserWarning: The sentencepiece tokenizer that you are converting to a fast tokenizer uses the byte fallback option which is not implemented in the fast tokenizers. In practice this means that the fast version of the tokenizer can produce unknown tokens whereas the sentencepiece version would have converted these unknown tokens into a sequence of byte tokens matching the original piece of text.\n",
      "  warnings.warn(\n",
      "Some weights of DebertaV2ForTokenClassification were not initialized from the model checkpoint at microsoft/mdeberta-v3-base and are newly initialized: ['classifier.bias', 'classifier.weight']\n",
      "You should probably TRAIN this model on a down-stream task to be able to use it for predictions and inference.\n"
     ]
    }
   ],
   "source": [
    "from transformers import AutoTokenizer, AutoModelForTokenClassification, TrainingArguments, Trainer\n",
    "\n",
    "tokenizer = AutoTokenizer.from_pretrained(\"microsoft/mdeberta-v3-base\")\n",
    "model = AutoModelForTokenClassification.from_pretrained(\"microsoft/mdeberta-v3-base\", num_labels=3).to(device)"
   ]
  },
  {
   "cell_type": "code",
   "execution_count": 41,
   "metadata": {
    "execution": {
     "iopub.execute_input": "2024-08-02T21:46:54.101164Z",
     "iopub.status.busy": "2024-08-02T21:46:54.100853Z",
     "iopub.status.idle": "2024-08-02T21:46:54.106705Z",
     "shell.execute_reply": "2024-08-02T21:46:54.105712Z",
     "shell.execute_reply.started": "2024-08-02T21:46:54.101136Z"
    }
   },
   "outputs": [],
   "source": [
    "labels_to_ids = {'O': 0, 'B-A': 1, 'I-A': 2}\n",
    "ids_to_labels = {0: 'O', 1: 'B-A', 2: 'I-A'}"
   ]
  },
  {
   "cell_type": "code",
   "execution_count": 42,
   "metadata": {
    "execution": {
     "iopub.execute_input": "2024-08-02T21:46:54.108248Z",
     "iopub.status.busy": "2024-08-02T21:46:54.107947Z",
     "iopub.status.idle": "2024-08-02T21:46:54.116971Z",
     "shell.execute_reply": "2024-08-02T21:46:54.116030Z",
     "shell.execute_reply.started": "2024-08-02T21:46:54.108214Z"
    }
   },
   "outputs": [],
   "source": [
    "MAX_LEN = 64 # Max number of tokens per sentece (BERT models have a limit of 512)\n",
    "TRAIN_BATCH_SIZE = 4\n",
    "VALID_BATCH_SIZE = 2\n",
    "EPOCHS = 1\n",
    "LEARNING_RATE = 1e-05\n",
    "MAX_GRAD_NORM = 10"
   ]
  },
  {
   "cell_type": "code",
   "execution_count": 62,
   "metadata": {
    "execution": {
     "iopub.execute_input": "2024-08-02T21:53:43.180653Z",
     "iopub.status.busy": "2024-08-02T21:53:43.179854Z",
     "iopub.status.idle": "2024-08-02T21:53:43.189938Z",
     "shell.execute_reply": "2024-08-02T21:53:43.188912Z",
     "shell.execute_reply.started": "2024-08-02T21:53:43.180615Z"
    }
   },
   "outputs": [],
   "source": [
    "class dataset(Dataset):\n",
    "    def __init__(self, data, tokenizer, max_len):\n",
    "        self.data = data\n",
    "        self.tokenizer = tokenizer\n",
    "        self.max_len = max_len\n",
    "\n",
    "    def __len__(self):\n",
    "        return len(self.data)\n",
    "\n",
    "    def __getitem__(self, index):\n",
    "        sentence = self.data.loc[index, 'sentence']\n",
    "        labels = self.data.loc[index, 'word_labels'].split(',')\n",
    "\n",
    "        tokens = sentence.split()\n",
    "        encoding = self.tokenizer(tokens, truncation=True, is_split_into_words=True, return_tensors=\"pt\", padding=\"max_length\", max_length=self.max_len)\n",
    "\n",
    "        label_ids = [-100] * len(encoding[\"input_ids\"][0])\n",
    "        word_ids = encoding.word_ids()\n",
    "        previous_word_idx = None\n",
    "\n",
    "        for idx, word_idx in enumerate(word_ids):\n",
    "            if word_idx is None:\n",
    "                continue\n",
    "            if word_idx != previous_word_idx:\n",
    "                label_ids[idx] = label2id[labels[word_idx]]\n",
    "            previous_word_idx = word_idx\n",
    "\n",
    "        item = {key: val.squeeze() for key, val in encoding.items()}\n",
    "        item['labels'] = torch.tensor(label_ids)\n",
    "        return item"
   ]
  },
  {
   "cell_type": "code",
   "execution_count": 63,
   "metadata": {
    "execution": {
     "iopub.execute_input": "2024-08-02T21:53:43.854177Z",
     "iopub.status.busy": "2024-08-02T21:53:43.853582Z",
     "iopub.status.idle": "2024-08-02T21:53:43.883632Z",
     "shell.execute_reply": "2024-08-02T21:53:43.882730Z",
     "shell.execute_reply.started": "2024-08-02T21:53:43.854148Z"
    }
   },
   "outputs": [
    {
     "name": "stdout",
     "output_type": "stream",
     "text": [
      "FULL Dataset: (113210, 2)\n",
      "TRAIN Dataset: (101889, 2)\n",
      "TEST Dataset: (11321, 2)\n"
     ]
    }
   ],
   "source": [
    "train_size = 0.9\n",
    "train_dataset = df.sample(frac=train_size,random_state=42)\n",
    "test_dataset = df.drop(train_dataset.index).reset_index(drop=True)\n",
    "train_dataset = train_dataset.reset_index(drop=True)\n",
    "\n",
    "print(\"FULL Dataset: {}\".format(df.shape))\n",
    "print(\"TRAIN Dataset: {}\".format(train_dataset.shape))\n",
    "print(\"TEST Dataset: {}\".format(test_dataset.shape))\n",
    "\n",
    "training_set = dataset(train_dataset, tokenizer, MAX_LEN)\n",
    "testing_set = dataset(test_dataset, tokenizer, MAX_LEN)"
   ]
  },
  {
   "cell_type": "code",
   "execution_count": 64,
   "metadata": {
    "execution": {
     "iopub.execute_input": "2024-08-02T21:53:44.148898Z",
     "iopub.status.busy": "2024-08-02T21:53:44.148516Z",
     "iopub.status.idle": "2024-08-02T21:53:44.155016Z",
     "shell.execute_reply": "2024-08-02T21:53:44.153999Z",
     "shell.execute_reply.started": "2024-08-02T21:53:44.148869Z"
    }
   },
   "outputs": [],
   "source": [
    "train_params = {'batch_size': TRAIN_BATCH_SIZE,\n",
    "                'shuffle': True,\n",
    "                'num_workers': 0\n",
    "                }\n",
    "\n",
    "test_params = {'batch_size': VALID_BATCH_SIZE,\n",
    "                'shuffle': True,\n",
    "                'num_workers': 0\n",
    "                }\n",
    "\n",
    "training_loader = DataLoader(training_set, **train_params)\n",
    "testing_loader = DataLoader(testing_set, **test_params)"
   ]
  },
  {
   "cell_type": "code",
   "execution_count": 65,
   "metadata": {
    "execution": {
     "iopub.execute_input": "2024-08-02T21:53:44.886103Z",
     "iopub.status.busy": "2024-08-02T21:53:44.885416Z",
     "iopub.status.idle": "2024-08-02T21:53:44.894077Z",
     "shell.execute_reply": "2024-08-02T21:53:44.893099Z",
     "shell.execute_reply.started": "2024-08-02T21:53:44.886070Z"
    }
   },
   "outputs": [],
   "source": [
    "inputs = training_set[2]\n",
    "input_ids = inputs[\"input_ids\"].unsqueeze(0)\n",
    "input_ids = input_ids.type(torch.LongTensor)\n",
    "attention_mask = inputs[\"attention_mask\"].unsqueeze(0)\n",
    "attention_mask = attention_mask.type(torch.LongTensor)\n",
    "labels = inputs[\"labels\"].unsqueeze(0)\n",
    "labels = labels.type(torch.LongTensor)"
   ]
  },
  {
   "cell_type": "code",
   "execution_count": 67,
   "metadata": {
    "execution": {
     "iopub.execute_input": "2024-08-02T21:53:47.604852Z",
     "iopub.status.busy": "2024-08-02T21:53:47.603960Z",
     "iopub.status.idle": "2024-08-02T21:53:47.610503Z",
     "shell.execute_reply": "2024-08-02T21:53:47.609466Z",
     "shell.execute_reply.started": "2024-08-02T21:53:47.604816Z"
    }
   },
   "outputs": [],
   "source": [
    "optimizer = torch.optim.Adam(params=model.parameters(), lr=LEARNING_RATE)"
   ]
  },
  {
   "cell_type": "code",
   "execution_count": 68,
   "metadata": {
    "execution": {
     "iopub.execute_input": "2024-08-02T21:53:47.938117Z",
     "iopub.status.busy": "2024-08-02T21:53:47.937519Z",
     "iopub.status.idle": "2024-08-02T21:53:47.949855Z",
     "shell.execute_reply": "2024-08-02T21:53:47.948892Z",
     "shell.execute_reply.started": "2024-08-02T21:53:47.938086Z"
    }
   },
   "outputs": [],
   "source": [
    "def train(epoch):\n",
    "    tr_loss, tr_accuracy = 0, 0\n",
    "    nb_tr_examples, nb_tr_steps = 0, 0\n",
    "    tr_preds, tr_labels = [], []\n",
    "    model.train()\n",
    "    \n",
    "    for idx, batch in enumerate(training_loader):\n",
    "        \n",
    "        ids = batch['input_ids'].type(torch.LongTensor).to(device)\n",
    "        mask = batch['attention_mask'].type(torch.LongTensor).to(device)\n",
    "        labels = batch['labels'].type(torch.LongTensor).to(device)\n",
    "\n",
    "        output = model(input_ids=ids, attention_mask=mask, labels=labels)\n",
    "        loss = output.loss.item()\n",
    "        tr_logits = output.logits\n",
    "        tr_loss += loss\n",
    "\n",
    "        nb_tr_steps += 1\n",
    "        nb_tr_examples += labels.size(0)\n",
    "        \n",
    "        if idx % 1000 == 0:\n",
    "            loss_step = tr_loss/nb_tr_steps\n",
    "            print(f\"Training loss per 1000 training steps: {loss_step}\")\n",
    "           \n",
    "        flattened_targets = labels.view(-1) \n",
    "        active_logits = tr_logits.view(-1, model.num_labels) \n",
    "        flattened_predictions = torch.argmax(active_logits, axis=1) \n",
    "        \n",
    "        active_accuracy = labels.view(-1) != -100 \n",
    "        \n",
    "        labels = torch.masked_select(flattened_targets, active_accuracy)\n",
    "        predictions = torch.masked_select(flattened_predictions, active_accuracy)\n",
    "        \n",
    "        tr_labels.extend(labels)\n",
    "        tr_preds.extend(predictions)\n",
    "\n",
    "        tmp_tr_accuracy = accuracy_score(labels.cpu().numpy(), predictions.cpu().numpy())\n",
    "        tr_accuracy += tmp_tr_accuracy\n",
    "    \n",
    "        torch.nn.utils.clip_grad_norm_(\n",
    "            parameters=model.parameters(), max_norm=MAX_GRAD_NORM\n",
    "        )\n",
    "        \n",
    "        optimizer.zero_grad()\n",
    "        output.loss.backward()\n",
    "        optimizer.step()\n",
    "\n",
    "    epoch_loss = tr_loss / nb_tr_steps\n",
    "    tr_accuracy = tr_accuracy / nb_tr_steps\n",
    "    print(f\"Training loss epoch: {epoch_loss}\")\n",
    "    print(f\"Training accuracy epoch: {tr_accuracy}\")"
   ]
  },
  {
   "cell_type": "code",
   "execution_count": 69,
   "metadata": {
    "execution": {
     "iopub.execute_input": "2024-08-02T21:53:48.862010Z",
     "iopub.status.busy": "2024-08-02T21:53:48.861232Z",
     "iopub.status.idle": "2024-08-02T22:43:02.701234Z",
     "shell.execute_reply": "2024-08-02T22:43:02.700091Z",
     "shell.execute_reply.started": "2024-08-02T21:53:48.861978Z"
    }
   },
   "outputs": [
    {
     "name": "stdout",
     "output_type": "stream",
     "text": [
      "Training epoch: 1\n",
      "Training loss per 1000 training steps: 0.13207580149173737\n",
      "Training loss per 1000 training steps: 0.024957584279527018\n",
      "Training loss per 1000 training steps: 0.017744588444054743\n",
      "Training loss per 1000 training steps: 0.015040202087303414\n",
      "Training loss per 1000 training steps: 0.013783586623673457\n",
      "Training loss per 1000 training steps: 0.012134362119977857\n",
      "Training loss per 1000 training steps: 0.011123005991165108\n",
      "Training loss per 1000 training steps: 0.010516956506463343\n",
      "Training loss per 1000 training steps: 0.009816963273981264\n",
      "Training loss per 1000 training steps: 0.009532858613981563\n",
      "Training loss per 1000 training steps: 0.009058239540212013\n",
      "Training loss per 1000 training steps: 0.008574201402940209\n",
      "Training loss per 1000 training steps: 0.008397200522322307\n",
      "Training loss per 1000 training steps: 0.008196662287352767\n",
      "Training loss per 1000 training steps: 0.007920788513941375\n",
      "Training loss per 1000 training steps: 0.007665116489046343\n",
      "Training loss per 1000 training steps: 0.0073581756593555\n",
      "Training loss per 1000 training steps: 0.007196459908349957\n",
      "Training loss per 1000 training steps: 0.00702011688119621\n",
      "Training loss per 1000 training steps: 0.006868471476888442\n",
      "Training loss per 1000 training steps: 0.006736858238465362\n",
      "Training loss per 1000 training steps: 0.006579259832106949\n",
      "Training loss per 1000 training steps: 0.006486971343417813\n",
      "Training loss per 1000 training steps: 0.006409725695393364\n",
      "Training loss per 1000 training steps: 0.006263615597227686\n",
      "Training loss per 1000 training steps: 0.006173127600959378\n",
      "Training loss epoch: 0.006141791936180776\n",
      "Training accuracy epoch: 0.9984191354424425\n",
      "CPU times: user 49min 8s, sys: 4.84 s, total: 49min 13s\n",
      "Wall time: 49min 13s\n"
     ]
    }
   ],
   "source": [
    "%%time\n",
    "\n",
    "for epoch in range(EPOCHS):\n",
    "    print(f\"Training epoch: {epoch + 1}\")\n",
    "    train(epoch)"
   ]
  },
  {
   "cell_type": "code",
   "execution_count": 70,
   "metadata": {
    "execution": {
     "iopub.execute_input": "2024-08-02T22:43:04.283258Z",
     "iopub.status.busy": "2024-08-02T22:43:04.282865Z",
     "iopub.status.idle": "2024-08-02T22:43:04.299545Z",
     "shell.execute_reply": "2024-08-02T22:43:04.297951Z",
     "shell.execute_reply.started": "2024-08-02T22:43:04.283226Z"
    }
   },
   "outputs": [],
   "source": [
    "def valid(model, testing_loader):\n",
    "    model.eval()\n",
    "    \n",
    "    eval_loss, eval_accuracy = 0, 0\n",
    "    nb_eval_examples, nb_eval_steps = 0, 0\n",
    "    eval_preds, eval_labels = [], []\n",
    "    \n",
    "    with torch.no_grad():\n",
    "        for idx, batch in enumerate(testing_loader):\n",
    "\n",
    "            ids = batch['input_ids'].type(torch.LongTensor).to(device)\n",
    "            mask = batch['attention_mask'].type(torch.LongTensor).to(device)\n",
    "            labels = batch['labels'].type(torch.LongTensor).to(device)\n",
    "\n",
    "            output = model(input_ids=ids, attention_mask=mask, labels=labels)\n",
    "            eval_loss = output.loss.item()\n",
    "            eval_logits = output.logits\n",
    "\n",
    "            nb_eval_steps += 1\n",
    "            nb_eval_examples += labels.size(0)\n",
    "        \n",
    "            if idx % 1000 == 0:\n",
    "                loss_step = eval_loss/nb_eval_steps\n",
    "                print(f\"Validation loss per 1000 evaluation steps: {loss_step}\")\n",
    "              \n",
    "            flattened_targets = labels.view(-1) \n",
    "            active_logits = eval_logits.view(-1, model.num_labels) \n",
    "            flattened_predictions = torch.argmax(active_logits, axis=1) \n",
    "            \n",
    "            active_accuracy = labels.view(-1) != -100 \n",
    "        \n",
    "            labels = torch.masked_select(flattened_targets, active_accuracy)\n",
    "            predictions = torch.masked_select(flattened_predictions, active_accuracy)\n",
    "            \n",
    "            eval_labels.extend(labels)\n",
    "            eval_preds.extend(predictions)\n",
    "            \n",
    "            tmp_eval_accuracy = accuracy_score(labels.cpu().numpy(), predictions.cpu().numpy())\n",
    "            eval_accuracy += tmp_eval_accuracy\n",
    "\n",
    "    labels = [ids_to_labels[id.item()] for id in eval_labels]\n",
    "    predictions = [ids_to_labels[id.item()] for id in eval_preds]\n",
    "    \n",
    "    eval_loss = eval_loss / nb_eval_steps\n",
    "    eval_accuracy = eval_accuracy / nb_eval_steps\n",
    "    print(f\"Validation Loss: {eval_loss}\")\n",
    "    print(f\"Validation Accuracy: {eval_accuracy}\")\n",
    "\n",
    "    return labels, predictions"
   ]
  },
  {
   "cell_type": "code",
   "execution_count": 71,
   "metadata": {
    "execution": {
     "iopub.execute_input": "2024-08-02T22:43:05.680967Z",
     "iopub.status.busy": "2024-08-02T22:43:05.680088Z",
     "iopub.status.idle": "2024-08-02T22:45:19.939524Z",
     "shell.execute_reply": "2024-08-02T22:45:19.938486Z",
     "shell.execute_reply.started": "2024-08-02T22:43:05.680932Z"
    }
   },
   "outputs": [
    {
     "name": "stdout",
     "output_type": "stream",
     "text": [
      "Validation loss per 1000 evaluation steps: 1.9258586689829826e-05\n",
      "Validation loss per 1000 evaluation steps: 5.7226649581358864e-08\n",
      "Validation loss per 1000 evaluation steps: 2.4225417597183043e-07\n",
      "Validation loss per 1000 evaluation steps: 7.421428882374165e-09\n",
      "Validation loss per 1000 evaluation steps: 2.0672705004578777e-08\n",
      "Validation loss per 1000 evaluation steps: 3.3665089148240695e-09\n",
      "Validation Loss: 2.9077042054229972e-09\n",
      "Validation Accuracy: 0.9989283485372366\n",
      "CPU times: user 2min 14s, sys: 94.9 ms, total: 2min 14s\n",
      "Wall time: 2min 14s\n"
     ]
    }
   ],
   "source": [
    "%%time\n",
    "\n",
    "labels, predictions = valid(model, testing_loader)"
   ]
  },
  {
   "cell_type": "code",
   "execution_count": 72,
   "metadata": {
    "execution": {
     "iopub.execute_input": "2024-08-02T22:45:31.210480Z",
     "iopub.status.busy": "2024-08-02T22:45:31.209752Z",
     "iopub.status.idle": "2024-08-02T22:45:31.216916Z",
     "shell.execute_reply": "2024-08-02T22:45:31.216004Z",
     "shell.execute_reply.started": "2024-08-02T22:45:31.210449Z"
    }
   },
   "outputs": [],
   "source": [
    "def align_predictions(predictions, label_ids):\n",
    "    preds = np.argmax(predictions, axis=2)\n",
    "\n",
    "    out_label_ids = label_ids.numpy()\n",
    "    preds_list, out_label_list = [], []\n",
    "\n",
    "    for pred, label in zip(preds, out_label_ids):\n",
    "        pred_i = [p for p, l in zip(pred, label) if l != label_map['O']]\n",
    "        label_i = [l for l in label if l != label_map['O']]\n",
    "        preds_list.append(pred_i)\n",
    "        out_label_list.append(label_i)\n",
    "\n",
    "    return preds_list, out_label_list"
   ]
  },
  {
   "cell_type": "code",
   "execution_count": 75,
   "metadata": {
    "execution": {
     "iopub.execute_input": "2024-08-02T22:45:43.711793Z",
     "iopub.status.busy": "2024-08-02T22:45:43.711435Z",
     "iopub.status.idle": "2024-08-02T22:45:48.106710Z",
     "shell.execute_reply": "2024-08-02T22:45:48.105778Z",
     "shell.execute_reply.started": "2024-08-02T22:45:43.711766Z"
    }
   },
   "outputs": [
    {
     "name": "stdout",
     "output_type": "stream",
     "text": [
      "Recall: 0.961432202818968\n",
      "Precision: 0.9875192111778718\n",
      "f1 score: 0.9739625160410851\n",
      "----------------------------\n",
      "[[ 14866      1     94]\n",
      " [    15    490     45]\n",
      " [    32     16 182712]]\n"
     ]
    }
   ],
   "source": [
    "recall_val = recall_score(y_true = labels, y_pred = predictions, average= 'macro')\n",
    "print(f'Recall: {recall_val}')\n",
    "\n",
    "precision_val = precision_score(y_true = labels, y_pred = predictions, average= 'macro')\n",
    "print(f'Precision: {precision_val}')\n",
    "\n",
    "f1_val = f1_score(y_true = labels, y_pred = predictions, average= 'macro')\n",
    "print(f'f1 score: {f1_val}')\n",
    "\n",
    "print(confusion_matrix(y_true = labels, y_pred = predictions))"
   ]
  },
  {
   "cell_type": "code",
   "execution_count": 76,
   "metadata": {
    "execution": {
     "iopub.execute_input": "2024-08-02T22:45:48.109477Z",
     "iopub.status.busy": "2024-08-02T22:45:48.108795Z",
     "iopub.status.idle": "2024-08-02T22:45:48.114332Z",
     "shell.execute_reply": "2024-08-02T22:45:48.113280Z",
     "shell.execute_reply.started": "2024-08-02T22:45:48.109417Z"
    }
   },
   "outputs": [],
   "source": [
    "sentence = \"Fiber 100mb SuperOnline kullanıcısıyım yaklaşık 2 haftadır Twitch Kick_Turkey gibi canlı yayın platformlarında 360p yayın izlerken donmalar yaşıyoruz. Başka hiç bir operatörler bu sorunu yaşamazken ben parasını verip alamadığım hizmeti neden ödeyeyim ? Turkcell \"\n",
    "#sentence = \t\"Türk Telekom da İnternetiniz yokken bile msj atilio\""
   ]
  },
  {
   "cell_type": "code",
   "execution_count": 77,
   "metadata": {
    "execution": {
     "iopub.execute_input": "2024-08-02T22:45:48.115777Z",
     "iopub.status.busy": "2024-08-02T22:45:48.115508Z",
     "iopub.status.idle": "2024-08-02T22:45:48.127850Z",
     "shell.execute_reply": "2024-08-02T22:45:48.127120Z",
     "shell.execute_reply.started": "2024-08-02T22:45:48.115754Z"
    }
   },
   "outputs": [],
   "source": [
    "inputs = tokenizer(sentence, return_offsets_mapping=True, padding='max_length',  truncation=True, max_length=MAX_LEN, return_tensors=\"pt\")"
   ]
  },
  {
   "cell_type": "code",
   "execution_count": 82,
   "metadata": {
    "execution": {
     "iopub.execute_input": "2024-08-02T22:46:09.828907Z",
     "iopub.status.busy": "2024-08-02T22:46:09.828511Z",
     "iopub.status.idle": "2024-08-02T22:46:09.835218Z",
     "shell.execute_reply": "2024-08-02T22:46:09.834263Z",
     "shell.execute_reply.started": "2024-08-02T22:46:09.828878Z"
    }
   },
   "outputs": [],
   "source": [
    "def align_word_predictions(tokens, token_predictions):\n",
    "    aligned_tokens = []\n",
    "    aligned_predictions = []\n",
    "\n",
    "    for token, prediction in zip(tokens, token_predictions):\n",
    "        if not token.startswith(\"_\"):\n",
    "            aligned_tokens.append(token)\n",
    "            aligned_predictions.append(prediction)\n",
    "        else:\n",
    "            aligned_tokens[-1] = aligned_tokens[-1] + token[2:]\n",
    "\n",
    "    return aligned_tokens, aligned_predictions"
   ]
  },
  {
   "cell_type": "code",
   "execution_count": 83,
   "metadata": {
    "execution": {
     "iopub.execute_input": "2024-08-02T22:46:11.681409Z",
     "iopub.status.busy": "2024-08-02T22:46:11.681055Z",
     "iopub.status.idle": "2024-08-02T22:46:11.714023Z",
     "shell.execute_reply": "2024-08-02T22:46:11.713327Z",
     "shell.execute_reply.started": "2024-08-02T22:46:11.681381Z"
    }
   },
   "outputs": [],
   "source": [
    "ids = inputs[\"input_ids\"].to(device)\n",
    "mask = inputs[\"attention_mask\"].to(device)\n",
    "\n",
    "with torch.no_grad():\n",
    "    outputs = model(ids, attention_mask=mask)\n",
    "    logits = outputs[0]\n",
    "\n",
    "active_logits = logits.view(-1, model.num_labels) \n",
    "flattened_predictions = torch.argmax(active_logits, axis=1) \n",
    "\n",
    "tokens = tokenizer.convert_ids_to_tokens(ids.squeeze().tolist())\n",
    "token_predictions = [ids_to_labels[i] for i in flattened_predictions.cpu().numpy()]\n",
    "wp_preds = list(zip(tokens, token_predictions)) # list of tuples. Each tuple = (wordpiece, prediction)"
   ]
  },
  {
   "cell_type": "code",
   "execution_count": 84,
   "metadata": {
    "execution": {
     "iopub.execute_input": "2024-08-02T22:46:11.895132Z",
     "iopub.status.busy": "2024-08-02T22:46:11.894541Z",
     "iopub.status.idle": "2024-08-02T22:46:11.900576Z",
     "shell.execute_reply": "2024-08-02T22:46:11.899492Z",
     "shell.execute_reply.started": "2024-08-02T22:46:11.895107Z"
    }
   },
   "outputs": [
    {
     "name": "stdout",
     "output_type": "stream",
     "text": [
      "[CLS]: O\n",
      "▁Fiber: O\n",
      "▁100: O\n",
      "mb: O\n",
      "▁Super: B-A\n",
      "Online: B-A\n",
      "▁k: O\n",
      "ullanıcı: O\n",
      "s: O\n",
      "ıyım: O\n",
      "▁yaklaş: O\n",
      "ık: O\n",
      "▁2: O\n",
      "▁: O\n",
      "hafta: O\n",
      "dır: O\n",
      "▁T: B-A\n",
      "witch: B-A\n",
      "▁Kick: O\n",
      "Turkey: O\n",
      "▁gibi: O\n",
      "▁: O\n",
      "canlı: O\n",
      "▁yayın: O\n",
      "▁platform: O\n",
      "larında: O\n",
      "▁360: O\n",
      "p: O\n",
      "▁yayın: O\n",
      "▁iz: O\n",
      "lerken: O\n",
      "▁don: O\n",
      "malar: O\n",
      "▁yaş: O\n",
      "ıyoruz: O\n",
      ".: O\n",
      "▁Başka: O\n",
      "▁hi: O\n",
      "ç: O\n",
      "▁bir: O\n",
      "▁operat: B-A\n",
      "örler: O\n",
      "▁bu: O\n",
      "▁sorun: O\n",
      "u: O\n",
      "▁yaşam: O\n",
      "azken: O\n",
      "▁ben: O\n",
      "▁para: O\n",
      "sını: O\n",
      "▁ver: O\n",
      "ip: O\n",
      "▁alama: O\n",
      "dığım: O\n",
      "▁hizmet: O\n",
      "i: O\n",
      "▁neden: O\n",
      "▁öde: O\n",
      "y: O\n",
      "eyim: O\n",
      "▁: O\n",
      "?: O\n",
      "[SEP]: O\n"
     ]
    }
   ],
   "source": [
    "aligned_tokens, aligned_predictions = align_word_predictions(tokens, token_predictions)\n",
    "\n",
    "for token, prediction in zip(aligned_tokens, aligned_predictions):\n",
    "    print(f\"{token}: {prediction}\")"
   ]
  },
  {
   "cell_type": "code",
   "execution_count": 85,
   "metadata": {
    "execution": {
     "iopub.execute_input": "2024-08-02T22:46:13.365677Z",
     "iopub.status.busy": "2024-08-02T22:46:13.365302Z",
     "iopub.status.idle": "2024-08-02T22:46:13.372888Z",
     "shell.execute_reply": "2024-08-02T22:46:13.371738Z",
     "shell.execute_reply.started": "2024-08-02T22:46:13.365647Z"
    }
   },
   "outputs": [],
   "source": [
    "def predict_sentence(model, sentence, word_tokenizer, tag_tokenizer, maxlen, device): \n",
    "    predicted_tags = [tag_reverse_map[idx] for idx in predicted_tags if idx != 0]\n",
    "\n",
    "    filtered_tokens = [token for token in tokens if token not in [\"[PAD]\", \"[CLS]\", \"[SEP]\"]]\n",
    "    filtered_predictions = [pred for token, pred in zip(tokens, predicted_tags) if token not in [\"[PAD]\", \"[CLS]\", \"[SEP]\"]]\n",
    "\n",
    "    aligned_tokens, aligned_predictions = align_word_predictions(filtered_tokens, filtered_predictions)\n",
    "\n",
    "    print(\"Sample input sentence:\")\n",
    "    print(\"{:15}||{}\".format(\"Word\", \"Pred\"))\n",
    "    print(30 * \"=\")\n",
    "    for w, pred in zip(aligned_tokens, aligned_predictions):\n",
    "        print(\"{:15}||{}\".format(w, pred))\n",
    "\n",
    "    return aligned_tokens, aligned_predictions"
   ]
  },
  {
   "cell_type": "code",
   "execution_count": 86,
   "metadata": {
    "execution": {
     "iopub.execute_input": "2024-08-02T22:46:13.759231Z",
     "iopub.status.busy": "2024-08-02T22:46:13.758892Z",
     "iopub.status.idle": "2024-08-02T22:46:13.766000Z",
     "shell.execute_reply": "2024-08-02T22:46:13.765068Z",
     "shell.execute_reply.started": "2024-08-02T22:46:13.759198Z"
    }
   },
   "outputs": [
    {
     "name": "stdout",
     "output_type": "stream",
     "text": [
      "Sample input sentence:\n",
      "Word                          ||Pred      \n",
      "==============================\n",
      "▁Fiber                        ||O         \n",
      "▁100                          ||O         \n",
      "mb                            ||O         \n",
      "▁Super                        ||B-A       \n",
      "Online                        ||B-A       \n",
      "▁k                            ||O         \n",
      "ullanıcı                      ||O         \n",
      "s                             ||O         \n",
      "ıyım                          ||O         \n",
      "▁yaklaş                       ||O         \n",
      "ık                            ||O         \n",
      "▁2                            ||O         \n",
      "▁                             ||O         \n",
      "hafta                         ||O         \n",
      "dır                           ||O         \n",
      "▁T                            ||B-A       \n",
      "witch                         ||B-A       \n",
      "▁Kick                         ||O         \n",
      "Turkey                        ||O         \n",
      "▁gibi                         ||O         \n",
      "▁                             ||O         \n",
      "canlı                         ||O         \n",
      "▁yayın                        ||O         \n",
      "▁platform                     ||O         \n",
      "larında                       ||O         \n",
      "▁360                          ||O         \n",
      "p                             ||O         \n",
      "▁yayın                        ||O         \n",
      "▁iz                           ||O         \n",
      "lerken                        ||O         \n",
      "▁don                          ||O         \n",
      "malar                         ||O         \n",
      "▁yaş                          ||O         \n",
      "ıyoruz                        ||O         \n",
      ".                             ||O         \n",
      "▁Başka                        ||O         \n",
      "▁hi                           ||O         \n",
      "ç                             ||O         \n",
      "▁bir                          ||O         \n",
      "▁operat                       ||B-A       \n",
      "örler                         ||O         \n",
      "▁bu                           ||O         \n",
      "▁sorun                        ||O         \n",
      "u                             ||O         \n",
      "▁yaşam                        ||O         \n",
      "azken                         ||O         \n",
      "▁ben                          ||O         \n",
      "▁para                         ||O         \n",
      "sını                          ||O         \n",
      "▁ver                          ||O         \n",
      "ip                            ||O         \n",
      "▁alama                        ||O         \n",
      "dığım                         ||O         \n",
      "▁hizmet                       ||O         \n",
      "i                             ||O         \n",
      "▁neden                        ||O         \n",
      "▁öde                          ||O         \n",
      "y                             ||O         \n",
      "eyim                          ||O         \n",
      "▁                             ||O         \n",
      "?                             ||O         \n"
     ]
    }
   ],
   "source": [
    "print(\"Sample input sentence:\")\n",
    "print(\"{:30}||{:10}\".format(\"Word\", \"Pred\"))\n",
    "print(30 * \"=\")\n",
    "for w, pred in zip(aligned_tokens, aligned_predictions):\n",
    "    if w not in [\"[PAD]\", \"[CLS]\", \"[SEP]\"]:\n",
    "        print(\"{:30}||{:10}\".format(w, pred))"
   ]
  },
  {
   "cell_type": "code",
   "execution_count": 87,
   "metadata": {
    "execution": {
     "iopub.execute_input": "2024-08-02T22:46:27.308895Z",
     "iopub.status.busy": "2024-08-02T22:46:27.308141Z",
     "iopub.status.idle": "2024-08-02T22:46:28.479025Z",
     "shell.execute_reply": "2024-08-02T22:46:28.478062Z",
     "shell.execute_reply.started": "2024-08-02T22:46:27.308860Z"
    }
   },
   "outputs": [
    {
     "data": {
      "image/png": "[encoded data removed]",
      "text/plain": [
       "<Figure size 640x480 with 2 Axes>"
      ]
     },
     "metadata": {},
     "output_type": "display_data"
    }
   ],
   "source": [
    "from mlxtend.plotting import plot_confusion_matrix\n",
    "import matplotlib.pyplot as plt\n",
    "\n",
    "cm = confusion_matrix(y_true = labels, y_pred =predictions)\n",
    "fig, ax = plot_confusion_matrix(conf_mat=cm, show_absolute=True, show_normed=True, colorbar=True, class_names=lab)\n",
    "plt.title(\"DiBERTa - Aspect Extraction\")\n",
    "plt.show()"
   ]
  },
  {
   "cell_type": "code",
   "execution_count": 88,
   "metadata": {
    "execution": {
     "iopub.execute_input": "2024-08-02T22:46:31.325870Z",
     "iopub.status.busy": "2024-08-02T22:46:31.324895Z",
     "iopub.status.idle": "2024-08-02T22:46:33.749977Z",
     "shell.execute_reply": "2024-08-02T22:46:33.748796Z",
     "shell.execute_reply.started": "2024-08-02T22:46:31.325835Z"
    }
   },
   "outputs": [
    {
     "name": "stdout",
     "output_type": "stream",
     "text": [
      "              precision    recall  f1-score   support\n",
      "\n",
      "         B-A       1.00      0.99      1.00     14961\n",
      "         I-A       0.97      0.89      0.93       550\n",
      "           O       1.00      1.00      1.00    182760\n",
      "\n",
      "    accuracy                           1.00    198271\n",
      "   macro avg       0.99      0.96      0.97    198271\n",
      "weighted avg       1.00      1.00      1.00    198271\n",
      "\n"
     ]
    }
   ],
   "source": [
    "print(classification_report(labels, predictions))"
   ]
  },
  {
   "cell_type": "code",
   "execution_count": 89,
   "metadata": {
    "execution": {
     "iopub.execute_input": "2024-08-02T22:46:35.857060Z",
     "iopub.status.busy": "2024-08-02T22:46:35.856689Z",
     "iopub.status.idle": "2024-08-02T22:46:38.532792Z",
     "shell.execute_reply": "2024-08-02T22:46:38.531735Z",
     "shell.execute_reply.started": "2024-08-02T22:46:35.857033Z"
    }
   },
   "outputs": [
    {
     "data": {
      "text/plain": [
       "('./deberta_aspect_extraction_tokenizer/tokenizer_config.json',\n",
       " './deberta_aspect_extraction_tokenizer/special_tokens_map.json',\n",
       " './deberta_aspect_extraction_tokenizer/spm.model',\n",
       " './deberta_aspect_extraction_tokenizer/added_tokens.json',\n",
       " './deberta_aspect_extraction_tokenizer/tokenizer.json')"
      ]
     },
     "execution_count": 89,
     "metadata": {},
     "output_type": "execute_result"
    }
   ],
   "source": [
    "model.save_pretrained(\"./deberta_aspect_extraction_model\")\n",
    "tokenizer.save_pretrained(\"./deberta_aspect_extraction_tokenizer\")"
   ]
  },
  {
   "cell_type": "code",
   "execution_count": null,
   "metadata": {},
   "outputs": [],
   "source": []
  }
 ],
 "metadata": {
  "kernelspec": {
   "display_name": "Python 3 (ipykernel)",
   "language": "python",
   "name": "python3"
  },
  "language_info": {
   "codemirror_mode": {
    "name": "ipython",
    "version": 3
   },
   "file_extension": ".py",
   "mimetype": "text/x-python",
   "name": "python",
   "nbconvert_exporter": "python",
   "pygments_lexer": "ipython3",
   "version": "3.10.12"
  }
 },
 "nbformat": 4,
 "nbformat_minor": 4
}
