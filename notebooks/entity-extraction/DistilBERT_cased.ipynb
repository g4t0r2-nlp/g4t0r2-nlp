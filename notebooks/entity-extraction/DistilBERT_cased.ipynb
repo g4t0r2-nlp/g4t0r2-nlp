{
 "cells": [
  {
   "cell_type": "code",
   "execution_count": 1,
   "metadata": {
    "_cell_guid": "b1076dfc-b9ad-4769-8c92-a6c4dae69d19",
    "_uuid": "8f2839f25d086af736a60e9eeb907d3b93b6e0e5",
    "execution": {
     "iopub.execute_input": "2024-08-05T17:25:04.980031Z",
     "iopub.status.busy": "2024-08-05T17:25:04.979375Z",
     "iopub.status.idle": "2024-08-05T17:25:05.985163Z",
     "shell.execute_reply": "2024-08-05T17:25:05.984219Z",
     "shell.execute_reply.started": "2024-08-05T17:25:04.980005Z"
    }
   },
   "outputs": [
    {
     "name": "stdout",
     "output_type": "stream",
     "text": [
      "/kaggle/input/all-aspects/all_aspects_just_aspect.csv\n",
      "/kaggle/input/all-aspects/all_tagged_aspects_just_aspect_cleaned.csv\n",
      "/kaggle/input/all-aspects/all_tagged_aspects_just_aspect_filled.csv\n",
      "/kaggle/input/all-aspects/all_tagged_aspects_filled.csv\n",
      "/kaggle/input/all-aspects/all_tagged_aspects_just_aspect.csv\n",
      "/kaggle/input/all-aspects/all_tagged_aspects_sentences.csv\n",
      "/kaggle/input/all-aspects/all_tagged_aspects_just_aspect_sentences.csv\n",
      "/kaggle/input/all-aspects/all_aspects_just_aspect_cleaned.csv\n",
      "/kaggle/input/all-aspects/all_tagged_aspects_just_aspect_filled_sentences.csv\n",
      "/kaggle/input/all-aspects/reviews.csv\n",
      "/kaggle/input/all-aspects/cleaned.csv\n",
      "/kaggle/input/all-aspects/all_aspects_just_aspect_filled.csv\n",
      "/kaggle/input/all-aspects/all_tagged_aspects.csv\n",
      "/kaggle/input/all-aspects/all_aspects.csv\n",
      "/kaggle/input/all-aspects/all_tagged_aspects_just_aspect_cleaned_sentences.csv\n"
     ]
    }
   ],
   "source": [
    "# This Python 3 environment comes with many helpful analytics libraries installed\n",
    "# It is defined by the kaggle/python Docker image: https://github.com/kaggle/docker-python\n",
    "# For example, here's several helpful packages to load\n",
    "\n",
    "import numpy as np # linear algebra\n",
    "import pandas as pd # data processing, CSV file I/O (e.g. pd.read_csv)\n",
    "\n",
    "# Input data files are available in the read-only \"../input/\" directory\n",
    "# For example, running this (by clicking run or pressing Shift+Enter) will list all files under the input directory\n",
    "\n",
    "import os\n",
    "for dirname, _, filenames in os.walk('/kaggle/input'):\n",
    "    for filename in filenames:\n",
    "        print(os.path.join(dirname, filename))\n",
    "\n",
    "# You can write up to 20GB to the current directory (/kaggle/working/) that gets preserved as output when you create a version using \"Save & Run All\" \n",
    "# You can also write temporary files to /kaggle/temp/, but they won't be saved outside of the current session"
   ]
  },
  {
   "cell_type": "code",
   "execution_count": 11,
   "metadata": {
    "execution": {
     "iopub.execute_input": "2024-08-05T17:27:41.868180Z",
     "iopub.status.busy": "2024-08-05T17:27:41.867365Z",
     "iopub.status.idle": "2024-08-05T17:27:41.880889Z",
     "shell.execute_reply": "2024-08-05T17:27:41.880022Z",
     "shell.execute_reply.started": "2024-08-05T17:27:41.868149Z"
    }
   },
   "outputs": [],
   "source": [
    "import pandas as pd\n",
    "from sklearn.model_selection import train_test_split\n",
    "from transformers import BertTokenizerFast\n",
    "import torch\n",
    "import matplotlib.pyplot as plt\n",
    "from torch import nn\n",
    "from transformers import DistilBertTokenizerFast, DistilBertForTokenClassification\n",
    "from torch.utils.data import DataLoader, TensorDataset, RandomSampler, Dataset\n",
    "from transformers import AdamW\n",
    "from mlxtend.plotting import plot_confusion_matrix\n",
    "from sklearn.metrics import confusion_matrix, classification_report, accuracy_score, f1_score, precision_score, recall_score\n",
    "import numpy as np"
   ]
  },
  {
   "cell_type": "code",
   "execution_count": 3,
   "metadata": {
    "execution": {
     "iopub.execute_input": "2024-08-05T17:27:00.030830Z",
     "iopub.status.busy": "2024-08-05T17:27:00.030354Z",
     "iopub.status.idle": "2024-08-05T17:27:00.085224Z",
     "shell.execute_reply": "2024-08-05T17:27:00.083985Z",
     "shell.execute_reply.started": "2024-08-05T17:27:00.030801Z"
    }
   },
   "outputs": [
    {
     "data": {
      "text/plain": [
       "device(type='cuda')"
      ]
     },
     "execution_count": 3,
     "metadata": {},
     "output_type": "execute_result"
    }
   ],
   "source": [
    "device = torch.device(\"cuda\" if torch.cuda.is_available() else \"cpu\")\n",
    "device"
   ]
  },
  {
   "cell_type": "code",
   "execution_count": 4,
   "metadata": {
    "execution": {
     "iopub.execute_input": "2024-08-05T17:27:00.086726Z",
     "iopub.status.busy": "2024-08-05T17:27:00.086422Z",
     "iopub.status.idle": "2024-08-05T17:27:00.816941Z",
     "shell.execute_reply": "2024-08-05T17:27:00.816052Z",
     "shell.execute_reply.started": "2024-08-05T17:27:00.086702Z"
    }
   },
   "outputs": [
    {
     "data": {
      "text/html": [
       "<div>\n",
       "<style scoped>\n",
       "    .dataframe tbody tr th:only-of-type {\n",
       "        vertical-align: middle;\n",
       "    }\n",
       "\n",
       "    .dataframe tbody tr th {\n",
       "        vertical-align: top;\n",
       "    }\n",
       "\n",
       "    .dataframe thead th {\n",
       "        text-align: right;\n",
       "    }\n",
       "</style>\n",
       "<table border=\"1\" class=\"dataframe\">\n",
       "  <thead>\n",
       "    <tr style=\"text-align: right;\">\n",
       "      <th></th>\n",
       "      <th>sentence</th>\n",
       "      <th>word_labels</th>\n",
       "    </tr>\n",
       "  </thead>\n",
       "  <tbody>\n",
       "    <tr>\n",
       "      <th>0</th>\n",
       "      <td>Uygulamada kartlarda Troy kart geçmiyor Lütfen...</td>\n",
       "      <td>O,O,B-A,O,O,O,O,B-A,O,O,O</td>\n",
       "    </tr>\n",
       "    <tr>\n",
       "      <th>1</th>\n",
       "      <td>Her güncellemede daha da kötüleşen Turkcell in...</td>\n",
       "      <td>O,O,O,O,O,B-A,O,O,O,O,O,O,O,O,O,O,O,O,O,O,O,O,O,O</td>\n",
       "    </tr>\n",
       "    <tr>\n",
       "      <th>2</th>\n",
       "      <td>BiP’ten aranmıyor yardım</td>\n",
       "      <td>B-A,O,O</td>\n",
       "    </tr>\n",
       "    <tr>\n",
       "      <th>3</th>\n",
       "      <td>Bu yorumum kesinlikle uygulamanın daha çok gel...</td>\n",
       "      <td>O,O,O,O,O,O,O,O,O,O,O,O,O,O,O,O,O,O,B-A,O,O,O,...</td>\n",
       "    </tr>\n",
       "    <tr>\n",
       "      <th>4</th>\n",
       "      <td>kurumlarda WhatsApp engelleniyor Alternatif ol...</td>\n",
       "      <td>O,B-A,O,O,O,B-A,O,O,B-A,O,O,O,O,O,O,O,B-A,O,O,...</td>\n",
       "    </tr>\n",
       "  </tbody>\n",
       "</table>\n",
       "</div>"
      ],
      "text/plain": [
       "                                            sentence  \\\n",
       "0  Uygulamada kartlarda Troy kart geçmiyor Lütfen...   \n",
       "1  Her güncellemede daha da kötüleşen Turkcell in...   \n",
       "2                           BiP’ten aranmıyor yardım   \n",
       "3  Bu yorumum kesinlikle uygulamanın daha çok gel...   \n",
       "4  kurumlarda WhatsApp engelleniyor Alternatif ol...   \n",
       "\n",
       "                                         word_labels  \n",
       "0                          O,O,B-A,O,O,O,O,B-A,O,O,O  \n",
       "1  O,O,O,O,O,B-A,O,O,O,O,O,O,O,O,O,O,O,O,O,O,O,O,O,O  \n",
       "2                                            B-A,O,O  \n",
       "3  O,O,O,O,O,O,O,O,O,O,O,O,O,O,O,O,O,O,B-A,O,O,O,...  \n",
       "4  O,B-A,O,O,O,B-A,O,O,B-A,O,O,O,O,O,O,O,B-A,O,O,...  "
      ]
     },
     "execution_count": 4,
     "metadata": {},
     "output_type": "execute_result"
    }
   ],
   "source": [
    "df = pd.read_csv(\"../input/all-aspects/all_tagged_aspects_just_aspect_cleaned_sentences.csv\")\n",
    "df.head()"
   ]
  },
  {
   "cell_type": "code",
   "execution_count": 5,
   "metadata": {
    "execution": {
     "iopub.execute_input": "2024-08-05T17:27:00.820318Z",
     "iopub.status.busy": "2024-08-05T17:27:00.819910Z",
     "iopub.status.idle": "2024-08-05T17:27:00.826358Z",
     "shell.execute_reply": "2024-08-05T17:27:00.825363Z",
     "shell.execute_reply.started": "2024-08-05T17:27:00.820285Z"
    }
   },
   "outputs": [
    {
     "data": {
      "text/plain": [
       "(113203, 2)"
      ]
     },
     "execution_count": 5,
     "metadata": {},
     "output_type": "execute_result"
    }
   ],
   "source": [
    "df.shape"
   ]
  },
  {
   "cell_type": "code",
   "execution_count": 6,
   "metadata": {
    "execution": {
     "iopub.execute_input": "2024-08-05T17:27:00.828178Z",
     "iopub.status.busy": "2024-08-05T17:27:00.827589Z",
     "iopub.status.idle": "2024-08-05T17:27:00.835623Z",
     "shell.execute_reply": "2024-08-05T17:27:00.834509Z",
     "shell.execute_reply.started": "2024-08-05T17:27:00.828145Z"
    }
   },
   "outputs": [],
   "source": [
    "labels_to_ids = {'O': 0, 'B-A': 1, 'I-A': 2}\n",
    "ids_to_labels = {0: 'O', 1: 'B-A', 2: 'I-A'}"
   ]
  },
  {
   "cell_type": "code",
   "execution_count": 7,
   "metadata": {
    "execution": {
     "iopub.execute_input": "2024-08-05T17:27:00.837324Z",
     "iopub.status.busy": "2024-08-05T17:27:00.836999Z",
     "iopub.status.idle": "2024-08-05T17:27:00.844687Z",
     "shell.execute_reply": "2024-08-05T17:27:00.843829Z",
     "shell.execute_reply.started": "2024-08-05T17:27:00.837300Z"
    }
   },
   "outputs": [],
   "source": [
    "MAX_LEN = 128\n",
    "EPOCHS = 1\n",
    "LEARNING_RATE = 2e-05\n",
    "MAX_GRAD_NORM = 10"
   ]
  },
  {
   "cell_type": "code",
   "execution_count": 8,
   "metadata": {
    "execution": {
     "iopub.execute_input": "2024-08-05T17:27:00.846091Z",
     "iopub.status.busy": "2024-08-05T17:27:00.845789Z",
     "iopub.status.idle": "2024-08-05T17:27:00.856261Z",
     "shell.execute_reply": "2024-08-05T17:27:00.855206Z",
     "shell.execute_reply.started": "2024-08-05T17:27:00.846068Z"
    }
   },
   "outputs": [],
   "source": [
    "class dataset(Dataset):\n",
    "    def __init__(self, dataframe, tokenizer, max_len):\n",
    "        self.len = len(dataframe)\n",
    "        self.data = dataframe\n",
    "        self.tokenizer = tokenizer\n",
    "        self.max_len = max_len\n",
    "\n",
    "    def __getitem__(self, index):\n",
    "        sentence = self.data.sentence[index] \n",
    "        word_labels = self.data.word_labels[index].split(\",\") \n",
    "\n",
    "        encoding = self.tokenizer(sentence, return_offsets_mapping=True, padding='max_length', truncation=True, max_length=self.max_len)\n",
    "        \n",
    "        labels = [labels_to_ids[label] for label in word_labels] \n",
    "        encoded_labels = np.ones(len(encoding[\"offset_mapping\"]), dtype=int) * -100\n",
    "        \n",
    "        i = 0\n",
    "        for idx, mapping in enumerate(encoding[\"offset_mapping\"]):\n",
    "            if mapping[0] == 0 and mapping[1] != 0:\n",
    "                encoded_labels[idx] = labels[i]\n",
    "                i += 1\n",
    "      \n",
    "        item = {key: torch.as_tensor(val) for key, val in encoding.items()}\n",
    "        item['labels'] = torch.as_tensor(encoded_labels) \n",
    "        return item\n",
    "\n",
    "    def __len__(self):\n",
    "        return self.len"
   ]
  },
  {
   "cell_type": "code",
   "execution_count": 12,
   "metadata": {
    "execution": {
     "iopub.execute_input": "2024-08-05T17:27:52.757327Z",
     "iopub.status.busy": "2024-08-05T17:27:52.756609Z",
     "iopub.status.idle": "2024-08-05T17:27:52.880254Z",
     "shell.execute_reply": "2024-08-05T17:27:52.879315Z",
     "shell.execute_reply.started": "2024-08-05T17:27:52.757294Z"
    }
   },
   "outputs": [],
   "source": [
    "tokenizer = DistilBertTokenizerFast.from_pretrained('dbmdz/distilbert-base-turkish-cased')"
   ]
  },
  {
   "cell_type": "code",
   "execution_count": 13,
   "metadata": {
    "execution": {
     "iopub.execute_input": "2024-08-05T17:27:52.966375Z",
     "iopub.status.busy": "2024-08-05T17:27:52.965674Z",
     "iopub.status.idle": "2024-08-05T17:27:53.391602Z",
     "shell.execute_reply": "2024-08-05T17:27:53.390627Z",
     "shell.execute_reply.started": "2024-08-05T17:27:52.966348Z"
    }
   },
   "outputs": [
    {
     "name": "stderr",
     "output_type": "stream",
     "text": [
      "Some weights of DistilBertForTokenClassification were not initialized from the model checkpoint at dbmdz/distilbert-base-turkish-cased and are newly initialized: ['classifier.bias', 'classifier.weight']\n",
      "You should probably TRAIN this model on a down-stream task to be able to use it for predictions and inference.\n"
     ]
    }
   ],
   "source": [
    "model = DistilBertForTokenClassification.from_pretrained('dbmdz/distilbert-base-turkish-cased', num_labels=len(labels_to_ids)).to(device)"
   ]
  },
  {
   "cell_type": "code",
   "execution_count": 14,
   "metadata": {
    "execution": {
     "iopub.execute_input": "2024-08-05T17:27:53.393474Z",
     "iopub.status.busy": "2024-08-05T17:27:53.393173Z",
     "iopub.status.idle": "2024-08-05T17:27:53.399383Z",
     "shell.execute_reply": "2024-08-05T17:27:53.398375Z",
     "shell.execute_reply.started": "2024-08-05T17:27:53.393449Z"
    }
   },
   "outputs": [],
   "source": [
    "def train_validate_test_split(df, split_size):\n",
    "    perm = np.random.permutation(df.index)\n",
    "    train_end = int(train_size * len(df.index))\n",
    "    validate_end = int(((1 - split_size) / 2) * len(df.index)) + train_end\n",
    "    train = df.iloc[perm[:train_end]]\n",
    "    validate = df.iloc[perm[train_end:validate_end]]\n",
    "    test = df.iloc[perm[validate_end:]]\n",
    "    return train, validate, test"
   ]
  },
  {
   "cell_type": "code",
   "execution_count": 15,
   "metadata": {
    "execution": {
     "iopub.execute_input": "2024-08-05T17:27:53.939266Z",
     "iopub.status.busy": "2024-08-05T17:27:53.938735Z",
     "iopub.status.idle": "2024-08-05T17:27:53.966810Z",
     "shell.execute_reply": "2024-08-05T17:27:53.965963Z",
     "shell.execute_reply.started": "2024-08-05T17:27:53.939239Z"
    }
   },
   "outputs": [
    {
     "name": "stdout",
     "output_type": "stream",
     "text": [
      "Full dataset: 113203\n",
      "Train dataset: 101882\n",
      "Valid dataset: 5660\n",
      "Test dataset: 5661\n"
     ]
    }
   ],
   "source": [
    "train_size = 0.9\n",
    "df_train, df_validation, df_test = train_validate_test_split(df, train_size)\n",
    "df_train = df_train.reset_index(drop=True)\n",
    "df_validation = df_validation.reset_index(drop=True)\n",
    "df_test = df_test.reset_index(drop=True)\n",
    "\n",
    "print(f\"Full dataset: {df.shape[0]}\")\n",
    "print(f\"Train dataset: {df_train.shape[0]}\")\n",
    "print(f\"Valid dataset: {df_validation.shape[0]}\")\n",
    "print(f\"Test dataset: {df_test.shape[0]}\")\n",
    "\n",
    "training_set = dataset(df_train, tokenizer, MAX_LEN)\n",
    "validation_set = dataset(df_validation, tokenizer, MAX_LEN)\n",
    "testing_set = dataset(df_test, tokenizer, MAX_LEN)"
   ]
  },
  {
   "cell_type": "code",
   "execution_count": 16,
   "metadata": {
    "execution": {
     "iopub.execute_input": "2024-08-05T17:27:54.789614Z",
     "iopub.status.busy": "2024-08-05T17:27:54.789262Z",
     "iopub.status.idle": "2024-08-05T17:27:54.795627Z",
     "shell.execute_reply": "2024-08-05T17:27:54.794673Z",
     "shell.execute_reply.started": "2024-08-05T17:27:54.789587Z"
    }
   },
   "outputs": [],
   "source": [
    "train_params = {\"batch_size\": 32, \"shuffle\": True, \"num_workers\": 0}\n",
    "valid_params = {\"batch_size\": 32, \"shuffle\": True, \"num_workers\": 0}\n",
    "test_params = {\"batch_size\": 32, \"shuffle\": True, \"num_workers\": 0}\n",
    "\n",
    "training_loader = DataLoader(training_set, **train_params)\n",
    "validation_loader = DataLoader(validation_set, **valid_params)\n",
    "testing_loader = DataLoader(testing_set, **test_params)"
   ]
  },
  {
   "cell_type": "code",
   "execution_count": 17,
   "metadata": {
    "execution": {
     "iopub.execute_input": "2024-08-05T17:27:55.323843Z",
     "iopub.status.busy": "2024-08-05T17:27:55.323538Z",
     "iopub.status.idle": "2024-08-05T17:27:55.338877Z",
     "shell.execute_reply": "2024-08-05T17:27:55.338203Z",
     "shell.execute_reply.started": "2024-08-05T17:27:55.323817Z"
    }
   },
   "outputs": [],
   "source": [
    "inputs = training_set[2]\n",
    "input_ids = inputs[\"input_ids\"].unsqueeze(0)\n",
    "input_ids = input_ids.type(torch.LongTensor)\n",
    "attention_mask = inputs[\"attention_mask\"].unsqueeze(0)\n",
    "attention_mask = attention_mask.type(torch.LongTensor)\n",
    "labels = inputs[\"labels\"].unsqueeze(0)\n",
    "labels = labels.type(torch.LongTensor)"
   ]
  },
  {
   "cell_type": "code",
   "execution_count": 18,
   "metadata": {
    "execution": {
     "iopub.execute_input": "2024-08-05T17:27:55.649047Z",
     "iopub.status.busy": "2024-08-05T17:27:55.648416Z",
     "iopub.status.idle": "2024-08-05T17:27:56.502217Z",
     "shell.execute_reply": "2024-08-05T17:27:56.501378Z",
     "shell.execute_reply.started": "2024-08-05T17:27:55.649020Z"
    }
   },
   "outputs": [],
   "source": [
    "inputs = training_set[2]\n",
    "\n",
    "input_ids = inputs[\"input_ids\"].unsqueeze(0).type(torch.LongTensor).to(device)\n",
    "attention_mask = inputs[\"attention_mask\"].unsqueeze(0).type(torch.LongTensor).to(device)\n",
    "labels = inputs[\"labels\"].unsqueeze(0).type(torch.LongTensor).to(device)\n",
    "\n",
    "model.to(device)\n",
    "\n",
    "with torch.no_grad():\n",
    "    outputs = model(input_ids=input_ids, attention_mask=attention_mask, labels=labels)\n",
    "\n",
    "initial_loss = outputs[0]\n",
    "tr_logits = outputs[1]"
   ]
  },
  {
   "cell_type": "code",
   "execution_count": 19,
   "metadata": {
    "execution": {
     "iopub.execute_input": "2024-08-05T17:27:56.504028Z",
     "iopub.status.busy": "2024-08-05T17:27:56.503618Z",
     "iopub.status.idle": "2024-08-05T17:27:56.636863Z",
     "shell.execute_reply": "2024-08-05T17:27:56.635890Z",
     "shell.execute_reply.started": "2024-08-05T17:27:56.504004Z"
    }
   },
   "outputs": [
    {
     "data": {
      "text/plain": [
       "tensor(1.1776, device='cuda:0')"
      ]
     },
     "execution_count": 19,
     "metadata": {},
     "output_type": "execute_result"
    }
   ],
   "source": [
    "initial_loss"
   ]
  },
  {
   "cell_type": "code",
   "execution_count": 20,
   "metadata": {
    "execution": {
     "iopub.execute_input": "2024-08-05T17:27:56.728358Z",
     "iopub.status.busy": "2024-08-05T17:27:56.728075Z",
     "iopub.status.idle": "2024-08-05T17:27:56.734169Z",
     "shell.execute_reply": "2024-08-05T17:27:56.733227Z",
     "shell.execute_reply.started": "2024-08-05T17:27:56.728334Z"
    }
   },
   "outputs": [
    {
     "data": {
      "text/plain": [
       "torch.Size([1, 128, 3])"
      ]
     },
     "execution_count": 20,
     "metadata": {},
     "output_type": "execute_result"
    }
   ],
   "source": [
    "tr_logits.shape"
   ]
  },
  {
   "cell_type": "code",
   "execution_count": 21,
   "metadata": {
    "execution": {
     "iopub.execute_input": "2024-08-05T17:27:57.301658Z",
     "iopub.status.busy": "2024-08-05T17:27:57.301353Z",
     "iopub.status.idle": "2024-08-05T17:27:57.307102Z",
     "shell.execute_reply": "2024-08-05T17:27:57.306024Z",
     "shell.execute_reply.started": "2024-08-05T17:27:57.301632Z"
    }
   },
   "outputs": [],
   "source": [
    "optimizer = torch.optim.Adam(params=model.parameters(), lr=LEARNING_RATE)"
   ]
  },
  {
   "cell_type": "code",
   "execution_count": 22,
   "metadata": {
    "execution": {
     "iopub.execute_input": "2024-08-05T17:27:58.012340Z",
     "iopub.status.busy": "2024-08-05T17:27:58.011996Z",
     "iopub.status.idle": "2024-08-05T17:27:58.024114Z",
     "shell.execute_reply": "2024-08-05T17:27:58.023030Z",
     "shell.execute_reply.started": "2024-08-05T17:27:58.012311Z"
    }
   },
   "outputs": [],
   "source": [
    "def train_model(model, training_loader, optimizer, max_grad_norm, epochs):\n",
    "    for epoch in range(epochs):\n",
    "        print(f\"Training epoch: {epoch + 1}\")\n",
    "        model.train()\n",
    "        tr_loss, tr_accuracy = 0, 0\n",
    "        nb_tr_steps = 0\n",
    "        tr_preds, tr_labels = [], []\n",
    "\n",
    "        for idx, batch in enumerate(training_loader):\n",
    "            ids = batch['input_ids'].to(device)\n",
    "            mask = batch['attention_mask'].to(device)\n",
    "            labels = batch['labels'].to(device)\n",
    "\n",
    "            output = model(input_ids=ids, attention_mask=mask, labels=labels)\n",
    "            loss = output.loss\n",
    "            tr_logits = output.logits\n",
    "            tr_loss += loss.item()\n",
    "\n",
    "            nb_tr_steps += 1\n",
    "            if idx % 1000 == 0:\n",
    "                print(f\"Training loss per 1000 training steps: {tr_loss / nb_tr_steps}\")\n",
    "            \n",
    "            loss.backward()\n",
    "            torch.nn.utils.clip_grad_norm_(model.parameters(), max_grad_norm)\n",
    "            optimizer.step()\n",
    "            optimizer.zero_grad()\n",
    "\n",
    "            flattened_targets = labels.view(-1)\n",
    "            active_logits = tr_logits.view(-1, model.num_labels)\n",
    "            flattened_predictions = torch.argmax(active_logits, axis=1)\n",
    "\n",
    "            active_accuracy = labels.view(-1) != -100\n",
    "            active_targets = torch.masked_select(flattened_targets, active_accuracy)\n",
    "            active_predictions = torch.masked_select(flattened_predictions, active_accuracy)\n",
    "\n",
    "            tr_labels.extend(active_targets.cpu().numpy())\n",
    "            tr_preds.extend(active_predictions.cpu().numpy())\n",
    "\n",
    "        tr_loss /= nb_tr_steps\n",
    "        tr_accuracy = np.sum(np.array(tr_preds) == np.array(tr_labels)) / len(tr_labels)\n",
    "\n",
    "        print(f\"Training loss epoch: {tr_loss}\")\n",
    "        print(f\"Training accuracy epoch: {tr_accuracy}\")"
   ]
  },
  {
   "cell_type": "code",
   "execution_count": 23,
   "metadata": {
    "execution": {
     "iopub.execute_input": "2024-08-05T17:27:58.495113Z",
     "iopub.status.busy": "2024-08-05T17:27:58.494538Z",
     "iopub.status.idle": "2024-08-05T17:45:44.562405Z",
     "shell.execute_reply": "2024-08-05T17:45:44.561442Z",
     "shell.execute_reply.started": "2024-08-05T17:27:58.495084Z"
    }
   },
   "outputs": [
    {
     "name": "stdout",
     "output_type": "stream",
     "text": [
      "Training epoch: 1\n",
      "Training loss per 1000 training steps: 1.089326024055481\n",
      "Training loss per 1000 training steps: 0.06658062853786575\n",
      "Training loss per 1000 training steps: 0.040888521802096886\n",
      "Training loss per 1000 training steps: 0.03152008828360935\n",
      "Training loss epoch: 0.030342530386780763\n",
      "Training accuracy epoch: 0.9905184429045366\n",
      "CPU times: user 17min 45s, sys: 499 ms, total: 17min 45s\n",
      "Wall time: 17min 46s\n"
     ]
    }
   ],
   "source": [
    "%%time\n",
    "\n",
    "train_model(model, training_loader, optimizer, MAX_GRAD_NORM, EPOCHS)"
   ]
  },
  {
   "cell_type": "code",
   "execution_count": 24,
   "metadata": {
    "execution": {
     "iopub.execute_input": "2024-08-05T17:47:35.164495Z",
     "iopub.status.busy": "2024-08-05T17:47:35.163749Z",
     "iopub.status.idle": "2024-08-05T17:47:35.174620Z",
     "shell.execute_reply": "2024-08-05T17:47:35.173746Z",
     "shell.execute_reply.started": "2024-08-05T17:47:35.164461Z"
    }
   },
   "outputs": [],
   "source": [
    "def validate_model(model, testing_loader):\n",
    "    model.eval()\n",
    "    eval_loss, eval_accuracy = 0, 0\n",
    "    nb_eval_steps = 0\n",
    "    eval_preds, eval_labels = [], []\n",
    "\n",
    "    with torch.no_grad():\n",
    "        for idx, batch in enumerate(testing_loader):\n",
    "            ids = batch['input_ids'].to(device)\n",
    "            mask = batch['attention_mask'].to(device)\n",
    "            labels = batch['labels'].to(device)\n",
    "\n",
    "            output = model(input_ids=ids, attention_mask=mask, labels=labels)\n",
    "            eval_loss += output.loss.item()\n",
    "            eval_logits = output.logits\n",
    "\n",
    "            nb_eval_steps += 1\n",
    "            if idx % 1000 == 0:\n",
    "                print(f\"Validation loss per 1000 evaluation steps: {eval_loss / nb_eval_steps}\")\n",
    "\n",
    "            flattened_targets = labels.view(-1)\n",
    "            active_logits = eval_logits.view(-1, model.num_labels)\n",
    "            flattened_predictions = torch.argmax(active_logits, axis=1)\n",
    "\n",
    "            active_accuracy = labels.view(-1) != -100\n",
    "            active_targets = torch.masked_select(flattened_targets, active_accuracy)\n",
    "            active_predictions = torch.masked_select(flattened_predictions, active_accuracy)\n",
    "\n",
    "            eval_labels.extend(active_targets.cpu().numpy())\n",
    "            eval_preds.extend(active_predictions.cpu().numpy())\n",
    "\n",
    "    eval_loss /= nb_eval_steps\n",
    "    eval_accuracy = np.sum(np.array(eval_preds) == np.array(eval_labels)) / len(eval_labels)\n",
    "\n",
    "    print(f\"Validation Loss: {eval_loss}\")\n",
    "    print(f\"Validation Accuracy: {eval_accuracy}\")\n",
    "    return eval_labels, eval_preds"
   ]
  },
  {
   "cell_type": "code",
   "execution_count": 25,
   "metadata": {
    "execution": {
     "iopub.execute_input": "2024-08-05T17:47:35.346114Z",
     "iopub.status.busy": "2024-08-05T17:47:35.345377Z",
     "iopub.status.idle": "2024-08-05T17:47:35.355029Z",
     "shell.execute_reply": "2024-08-05T17:47:35.353849Z",
     "shell.execute_reply.started": "2024-08-05T17:47:35.346083Z"
    }
   },
   "outputs": [],
   "source": [
    "def evaluate_model(labels, predictions):\n",
    "    labels = [ids_to_labels[id.item()] for id in labels]\n",
    "    predictions = [ids_to_labels[id.item()] for id in predictions]\n",
    "    \n",
    "    recall_val = recall_score(y_true=labels, y_pred=predictions, average='macro')\n",
    "    print(f'Recall Score: {recall_val}')\n",
    "\n",
    "    precision_val = precision_score(y_true=labels, y_pred=predictions, average='macro')\n",
    "    print(f'Precision Score: {precision_val}')\n",
    "\n",
    "    f1_val = f1_score(y_true=labels, y_pred=predictions, average='macro')\n",
    "    print(f'F1 Score: {f1_val}')\n",
    "\n",
    "    acc_val = accuracy_score(y_true=labels, y_pred=predictions)\n",
    "    print(f\"Accuracy Score: {acc_val}\")\n",
    "\n",
    "    cm = confusion_matrix(y_true=labels, y_pred=predictions)\n",
    "    print(\"Confusion Matrix:\")\n",
    "    print(cm)\n",
    "\n",
    "    print(\"Classification Report:\")\n",
    "    print(classification_report(labels, predictions))\n",
    "\n",
    "    plt.figure()\n",
    "    fig, ax = plot_confusion_matrix(conf_mat=cm, show_absolute=True, show_normed=True, colorbar=True, class_names=np.unique(labels))\n",
    "    plt.title(\"DistilBERT - Aspect Extraction\")\n",
    "    plt.show()"
   ]
  },
  {
   "cell_type": "code",
   "execution_count": 26,
   "metadata": {
    "execution": {
     "iopub.execute_input": "2024-08-05T17:47:35.488186Z",
     "iopub.status.busy": "2024-08-05T17:47:35.487870Z",
     "iopub.status.idle": "2024-08-05T17:47:57.492117Z",
     "shell.execute_reply": "2024-08-05T17:47:57.491206Z",
     "shell.execute_reply.started": "2024-08-05T17:47:35.488161Z"
    }
   },
   "outputs": [
    {
     "name": "stdout",
     "output_type": "stream",
     "text": [
      "##### Validation #####\n",
      "Validation loss per 1000 evaluation steps: 0.00038639630656689405\n",
      "Validation Loss: 0.015053764398924686\n",
      "Validation Accuracy: 0.9973498233215548\n",
      "Recall Score: 0.9557476402334077\n",
      "Precision Score: 0.9908903844023484\n",
      "F1 Score: 0.9722515632480366\n",
      "Accuracy Score: 0.9973498233215548\n",
      "Confusion Matrix:\n",
      "[[1592    0    3]\n",
      " [   4   47    3]\n",
      " [   4    1 4006]]\n",
      "Classification Report:\n",
      "              precision    recall  f1-score   support\n",
      "\n",
      "         B-A       0.99      1.00      1.00      1595\n",
      "         I-A       0.98      0.87      0.92        54\n",
      "           O       1.00      1.00      1.00      4011\n",
      "\n",
      "    accuracy                           1.00      5660\n",
      "   macro avg       0.99      0.96      0.97      5660\n",
      "weighted avg       1.00      1.00      1.00      5660\n",
      "\n"
     ]
    },
    {
     "data": {
      "text/plain": [
       "<Figure size 640x480 with 0 Axes>"
      ]
     },
     "metadata": {},
     "output_type": "display_data"
    },
    {
     "data": {
      "image/png": "[encoded data removed]",
      "text/plain": [
       "<Figure size 640x480 with 2 Axes>"
      ]
     },
     "metadata": {},
     "output_type": "display_data"
    },
    {
     "name": "stdout",
     "output_type": "stream",
     "text": [
      "CPU times: user 22.1 s, sys: 179 ms, total: 22.2 s\n",
      "Wall time: 22 s\n"
     ]
    }
   ],
   "source": [
    "%%time\n",
    "\n",
    "print(\"##### Validation #####\")\n",
    "labels, predictions = validate_model(model, validation_loader)\n",
    "evaluate_model(labels, predictions)"
   ]
  },
  {
   "cell_type": "code",
   "execution_count": 27,
   "metadata": {
    "execution": {
     "iopub.execute_input": "2024-08-05T17:47:57.493955Z",
     "iopub.status.busy": "2024-08-05T17:47:57.493665Z",
     "iopub.status.idle": "2024-08-05T17:48:19.998997Z",
     "shell.execute_reply": "2024-08-05T17:48:19.998042Z",
     "shell.execute_reply.started": "2024-08-05T17:47:57.493930Z"
    }
   },
   "outputs": [
    {
     "name": "stdout",
     "output_type": "stream",
     "text": [
      "##### Testing #####\n",
      "Validation loss per 1000 evaluation steps: 0.0008286333759315312\n",
      "Validation Loss: 0.009343967041889296\n",
      "Validation Accuracy: 0.9978802331743508\n",
      "Recall Score: 0.972937119668077\n",
      "Precision Score: 0.9912473031550447\n",
      "F1 Score: 0.9818004559214027\n",
      "Accuracy Score: 0.9978802331743508\n",
      "Confusion Matrix:\n",
      "[[1572    0    2]\n",
      " [   2   47    2]\n",
      " [   5    1 4030]]\n",
      "Classification Report:\n",
      "              precision    recall  f1-score   support\n",
      "\n",
      "         B-A       1.00      1.00      1.00      1574\n",
      "         I-A       0.98      0.92      0.95        51\n",
      "           O       1.00      1.00      1.00      4036\n",
      "\n",
      "    accuracy                           1.00      5661\n",
      "   macro avg       0.99      0.97      0.98      5661\n",
      "weighted avg       1.00      1.00      1.00      5661\n",
      "\n"
     ]
    },
    {
     "data": {
      "text/plain": [
       "<Figure size 640x480 with 0 Axes>"
      ]
     },
     "metadata": {},
     "output_type": "display_data"
    },
    {
     "data": {
      "image/png": "[encoded data removed]",
      "text/plain": [
       "<Figure size 640x480 with 2 Axes>"
      ]
     },
     "metadata": {},
     "output_type": "display_data"
    },
    {
     "name": "stdout",
     "output_type": "stream",
     "text": [
      "CPU times: user 22.6 s, sys: 173 ms, total: 22.8 s\n",
      "Wall time: 22.5 s\n"
     ]
    }
   ],
   "source": [
    "%%time\n",
    "\n",
    "print(\"##### Testing #####\")\n",
    "labels, predictions = validate_model(model, testing_loader)\n",
    "evaluate_model(labels, predictions)"
   ]
  },
  {
   "cell_type": "code",
   "execution_count": 28,
   "metadata": {
    "execution": {
     "iopub.execute_input": "2024-08-05T17:48:20.000654Z",
     "iopub.status.busy": "2024-08-05T17:48:20.000264Z",
     "iopub.status.idle": "2024-08-05T17:48:20.008068Z",
     "shell.execute_reply": "2024-08-05T17:48:20.007033Z",
     "shell.execute_reply.started": "2024-08-05T17:48:20.000618Z"
    }
   },
   "outputs": [],
   "source": [
    "def align_word_predictions(tokens, token_predictions):\n",
    "    aligned_tokens = []\n",
    "    aligned_predictions = []\n",
    "\n",
    "    for token, prediction in zip(tokens, token_predictions):\n",
    "        if not token.startswith(\"##\"):\n",
    "            aligned_tokens.append(token)\n",
    "            aligned_predictions.append(prediction)\n",
    "        else:\n",
    "            aligned_tokens[-1] = aligned_tokens[-1] + token[2:]\n",
    "\n",
    "    return aligned_tokens, aligned_predictions"
   ]
  },
  {
   "cell_type": "code",
   "execution_count": 29,
   "metadata": {
    "execution": {
     "iopub.execute_input": "2024-08-05T17:48:20.011681Z",
     "iopub.status.busy": "2024-08-05T17:48:20.010965Z",
     "iopub.status.idle": "2024-08-05T17:48:20.023521Z",
     "shell.execute_reply": "2024-08-05T17:48:20.022584Z",
     "shell.execute_reply.started": "2024-08-05T17:48:20.011646Z"
    }
   },
   "outputs": [],
   "source": [
    "#sentence = \"Fiber 100mb SuperOnline kullanıcısıyım yaklaşık 2 haftadır Twitch Kick_Turkey gibi canlı yayın platformlarında 360p yayın izlerken donmalar yaşıyoruz. Başka hiç bir operatörler bu sorunu yaşamazken ben parasını verip alamadığım hizmeti neden ödeyeyim ? Turkcell \"\n",
    "sentence = \t\"Türk Telekom da internetiniz yokken bile msj atilio\""
   ]
  },
  {
   "cell_type": "code",
   "execution_count": 30,
   "metadata": {
    "execution": {
     "iopub.execute_input": "2024-08-05T17:48:20.025641Z",
     "iopub.status.busy": "2024-08-05T17:48:20.024826Z",
     "iopub.status.idle": "2024-08-05T17:48:20.035941Z",
     "shell.execute_reply": "2024-08-05T17:48:20.035102Z",
     "shell.execute_reply.started": "2024-08-05T17:48:20.025605Z"
    }
   },
   "outputs": [],
   "source": [
    "inputs = tokenizer(sentence,\n",
    "                    # is_pretokenized=True, \n",
    "                    return_offsets_mapping=True, \n",
    "                    padding='max_length', \n",
    "                    truncation=True, \n",
    "                    max_length=MAX_LEN,\n",
    "                    return_tensors=\"pt\")"
   ]
  },
  {
   "cell_type": "code",
   "execution_count": 31,
   "metadata": {
    "execution": {
     "iopub.execute_input": "2024-08-05T17:48:20.037344Z",
     "iopub.status.busy": "2024-08-05T17:48:20.037037Z",
     "iopub.status.idle": "2024-08-05T17:48:20.053299Z",
     "shell.execute_reply": "2024-08-05T17:48:20.052605Z",
     "shell.execute_reply.started": "2024-08-05T17:48:20.037322Z"
    }
   },
   "outputs": [],
   "source": [
    "ids = inputs[\"input_ids\"].to(device)\n",
    "mask = inputs[\"attention_mask\"].to(device)\n",
    "\n",
    "with torch.no_grad():\n",
    "    outputs = model(ids, attention_mask=mask)\n",
    "    logits = outputs[0]\n",
    "\n",
    "active_logits = logits.view(-1, model.num_labels) \n",
    "flattened_predictions = torch.argmax(active_logits, axis=1) \n",
    "\n",
    "tokens = tokenizer.convert_ids_to_tokens(ids.squeeze().tolist())\n",
    "token_predictions = [ids_to_labels[i] for i in flattened_predictions.cpu().numpy()]\n",
    "wp_preds = list(zip(tokens, token_predictions))"
   ]
  },
  {
   "cell_type": "code",
   "execution_count": 32,
   "metadata": {
    "execution": {
     "iopub.execute_input": "2024-08-05T17:48:20.054792Z",
     "iopub.status.busy": "2024-08-05T17:48:20.054428Z",
     "iopub.status.idle": "2024-08-05T17:48:20.062151Z",
     "shell.execute_reply": "2024-08-05T17:48:20.061190Z",
     "shell.execute_reply.started": "2024-08-05T17:48:20.054759Z"
    }
   },
   "outputs": [
    {
     "name": "stdout",
     "output_type": "stream",
     "text": [
      "Sample input sentence:\n",
      "Word                          ||Pred      \n",
      "==============================\n",
      "Türk                          ||I-A       \n",
      "Telekom                       ||B-A       \n",
      "da                            ||O         \n",
      "internetiniz                  ||O         \n",
      "yokken                        ||O         \n",
      "bile                          ||O         \n",
      "msj                           ||O         \n",
      "atilio                        ||O         \n"
     ]
    }
   ],
   "source": [
    "aligned_tokens, aligned_predictions = align_word_predictions(tokens, token_predictions)\n",
    "\n",
    "print(\"Sample input sentence:\")\n",
    "print(\"{:30}||{:10}\".format(\"Word\", \"Pred\"))\n",
    "print(30 * \"=\")\n",
    "for w, pred in zip(aligned_tokens, aligned_predictions):\n",
    "    if w not in [\"[PAD]\", \"[CLS]\", \"[SEP]\"]:\n",
    "        print(\"{:30}||{:10}\".format(w, pred))"
   ]
  },
  {
   "cell_type": "code",
   "execution_count": null,
   "metadata": {},
   "outputs": [],
   "source": []
  }
 ],
 "metadata": {
  "kernelspec": {
   "display_name": "Python 3 (ipykernel)",
   "language": "python",
   "name": "python3"
  },
  "language_info": {
   "codemirror_mode": {
    "name": "ipython",
    "version": 3
   },
   "file_extension": ".py",
   "mimetype": "text/x-python",
   "name": "python",
   "nbconvert_exporter": "python",
   "pygments_lexer": "ipython3",
   "version": "3.10.12"
  }
 },
 "nbformat": 4,
 "nbformat_minor": 4
}
