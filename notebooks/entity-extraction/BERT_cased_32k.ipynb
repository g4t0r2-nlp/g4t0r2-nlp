{
 "cells": [
  {
   "cell_type": "code",
   "execution_count": 1,
   "metadata": {
    "_cell_guid": "b1076dfc-b9ad-4769-8c92-a6c4dae69d19",
    "_uuid": "8f2839f25d086af736a60e9eeb907d3b93b6e0e5",
    "execution": {
     "iopub.execute_input": "2024-08-04T09:30:18.911503Z",
     "iopub.status.busy": "2024-08-04T09:30:18.911236Z",
     "iopub.status.idle": "2024-08-04T09:30:20.080152Z",
     "shell.execute_reply": "2024-08-04T09:30:20.079179Z",
     "shell.execute_reply.started": "2024-08-04T09:30:18.911478Z"
    }
   },
   "outputs": [
    {
     "name": "stdout",
     "output_type": "stream",
     "text": [
      "/kaggle/input/all-aspects/all_aspects_just_aspect.csv\n",
      "/kaggle/input/all-aspects/all_tagged_aspects_just_aspect_cleaned.csv\n",
      "/kaggle/input/all-aspects/all_tagged_aspects_just_aspect_filled.csv\n",
      "/kaggle/input/all-aspects/all_tagged_aspects_filled.csv\n",
      "/kaggle/input/all-aspects/all_tagged_aspects_just_aspect.csv\n",
      "/kaggle/input/all-aspects/all_tagged_aspects_sentences.csv\n",
      "/kaggle/input/all-aspects/all_tagged_aspects_just_aspect_sentences.csv\n",
      "/kaggle/input/all-aspects/all_aspects_just_aspect_cleaned.csv\n",
      "/kaggle/input/all-aspects/all_tagged_aspects_just_aspect_filled_sentences.csv\n",
      "/kaggle/input/all-aspects/reviews.csv\n",
      "/kaggle/input/all-aspects/cleaned.csv\n",
      "/kaggle/input/all-aspects/all_aspects_just_aspect_filled.csv\n",
      "/kaggle/input/all-aspects/all_tagged_aspects.csv\n",
      "/kaggle/input/all-aspects/all_aspects.csv\n",
      "/kaggle/input/all-aspects/all_tagged_aspects_just_aspect_cleaned_sentences.csv\n"
     ]
    }
   ],
   "source": [
    "# This Python 3 environment comes with many helpful analytics libraries installed\n",
    "# It is defined by the kaggle/python Docker image: https://github.com/kaggle/docker-python\n",
    "# For example, here's several helpful packages to load\n",
    "\n",
    "import numpy as np # linear algebra\n",
    "import pandas as pd # data processing, CSV file I/O (e.g. pd.read_csv)\n",
    "\n",
    "# Input data files are available in the read-only \"../input/\" directory\n",
    "# For example, running this (by clicking run or pressing Shift+Enter) will list all files under the input directory\n",
    "\n",
    "import os\n",
    "for dirname, _, filenames in os.walk('/kaggle/input'):\n",
    "    for filename in filenames:\n",
    "        print(os.path.join(dirname, filename))\n",
    "\n",
    "# You can write up to 20GB to the current directory (/kaggle/working/) that gets preserved as output when you create a version using \"Save & Run All\" \n",
    "# You can also write temporary files to /kaggle/temp/, but they won't be saved outside of the current session"
   ]
  },
  {
   "cell_type": "code",
   "execution_count": 30,
   "metadata": {
    "execution": {
     "iopub.execute_input": "2024-08-04T09:41:42.855092Z",
     "iopub.status.busy": "2024-08-04T09:41:42.854723Z",
     "iopub.status.idle": "2024-08-04T09:41:43.005097Z",
     "shell.execute_reply": "2024-08-04T09:41:43.004328Z",
     "shell.execute_reply.started": "2024-08-04T09:41:42.855062Z"
    }
   },
   "outputs": [],
   "source": [
    "import pandas as pd\n",
    "from sklearn.model_selection import train_test_split\n",
    "from transformers import BertTokenizerFast\n",
    "import torch\n",
    "import matplotlib.pyplot as plt\n",
    "from torch import nn\n",
    "from transformers import BertModel, BertForTokenClassification, AutoModelForTokenClassification, AutoTokenizer\n",
    "from torch.utils.data import DataLoader, TensorDataset, RandomSampler, Dataset\n",
    "from transformers import AdamW\n",
    "from mlxtend.plotting import plot_confusion_matrix\n",
    "from sklearn.metrics import confusion_matrix, classification_report, accuracy_score, f1_score, precision_score, recall_score\n",
    "import numpy as np"
   ]
  },
  {
   "cell_type": "code",
   "execution_count": 3,
   "metadata": {
    "execution": {
     "iopub.execute_input": "2024-08-04T09:30:30.892121Z",
     "iopub.status.busy": "2024-08-04T09:30:30.891496Z",
     "iopub.status.idle": "2024-08-04T09:30:30.945670Z",
     "shell.execute_reply": "2024-08-04T09:30:30.944682Z",
     "shell.execute_reply.started": "2024-08-04T09:30:30.892092Z"
    }
   },
   "outputs": [
    {
     "data": {
      "text/plain": [
       "device(type='cuda')"
      ]
     },
     "execution_count": 3,
     "metadata": {},
     "output_type": "execute_result"
    }
   ],
   "source": [
    "device = torch.device(\"cuda\" if torch.cuda.is_available() else \"cpu\")\n",
    "device"
   ]
  },
  {
   "cell_type": "code",
   "execution_count": 4,
   "metadata": {
    "execution": {
     "iopub.execute_input": "2024-08-04T09:30:32.907689Z",
     "iopub.status.busy": "2024-08-04T09:30:32.907096Z",
     "iopub.status.idle": "2024-08-04T09:30:33.765599Z",
     "shell.execute_reply": "2024-08-04T09:30:33.764612Z",
     "shell.execute_reply.started": "2024-08-04T09:30:32.907659Z"
    }
   },
   "outputs": [
    {
     "data": {
      "text/html": [
       "<div>\n",
       "<style scoped>\n",
       "    .dataframe tbody tr th:only-of-type {\n",
       "        vertical-align: middle;\n",
       "    }\n",
       "\n",
       "    .dataframe tbody tr th {\n",
       "        vertical-align: top;\n",
       "    }\n",
       "\n",
       "    .dataframe thead th {\n",
       "        text-align: right;\n",
       "    }\n",
       "</style>\n",
       "<table border=\"1\" class=\"dataframe\">\n",
       "  <thead>\n",
       "    <tr style=\"text-align: right;\">\n",
       "      <th></th>\n",
       "      <th>sentence</th>\n",
       "      <th>word_labels</th>\n",
       "    </tr>\n",
       "  </thead>\n",
       "  <tbody>\n",
       "    <tr>\n",
       "      <th>0</th>\n",
       "      <td>Uygulamada kartlarda Troy kart geçmiyor Lütfen...</td>\n",
       "      <td>O,O,B-A,O,O,O,O,B-A,O,O,O</td>\n",
       "    </tr>\n",
       "    <tr>\n",
       "      <th>1</th>\n",
       "      <td>Her güncellemede daha da kötüleşen Turkcell in...</td>\n",
       "      <td>O,O,O,O,O,B-A,O,O,O,O,O,O,O,O,O,O,O,O,O,O,O,O,O,O</td>\n",
       "    </tr>\n",
       "    <tr>\n",
       "      <th>2</th>\n",
       "      <td>BiP’ten aranmıyor yardım</td>\n",
       "      <td>B-A,O,O</td>\n",
       "    </tr>\n",
       "    <tr>\n",
       "      <th>3</th>\n",
       "      <td>Bu yorumum kesinlikle uygulamanın daha çok gel...</td>\n",
       "      <td>O,O,O,O,O,O,O,O,O,O,O,O,O,O,O,O,O,O,B-A,O,O,O,...</td>\n",
       "    </tr>\n",
       "    <tr>\n",
       "      <th>4</th>\n",
       "      <td>kurumlarda WhatsApp engelleniyor Alternatif ol...</td>\n",
       "      <td>O,B-A,O,O,O,B-A,O,O,B-A,O,O,O,O,O,O,O,B-A,O,O,...</td>\n",
       "    </tr>\n",
       "  </tbody>\n",
       "</table>\n",
       "</div>"
      ],
      "text/plain": [
       "                                            sentence  \\\n",
       "0  Uygulamada kartlarda Troy kart geçmiyor Lütfen...   \n",
       "1  Her güncellemede daha da kötüleşen Turkcell in...   \n",
       "2                           BiP’ten aranmıyor yardım   \n",
       "3  Bu yorumum kesinlikle uygulamanın daha çok gel...   \n",
       "4  kurumlarda WhatsApp engelleniyor Alternatif ol...   \n",
       "\n",
       "                                         word_labels  \n",
       "0                          O,O,B-A,O,O,O,O,B-A,O,O,O  \n",
       "1  O,O,O,O,O,B-A,O,O,O,O,O,O,O,O,O,O,O,O,O,O,O,O,O,O  \n",
       "2                                            B-A,O,O  \n",
       "3  O,O,O,O,O,O,O,O,O,O,O,O,O,O,O,O,O,O,B-A,O,O,O,...  \n",
       "4  O,B-A,O,O,O,B-A,O,O,B-A,O,O,O,O,O,O,O,B-A,O,O,...  "
      ]
     },
     "execution_count": 4,
     "metadata": {},
     "output_type": "execute_result"
    }
   ],
   "source": [
    "df = pd.read_csv(\"../input/all-aspects/all_tagged_aspects_just_aspect_cleaned_sentences.csv\")\n",
    "df.head()"
   ]
  },
  {
   "cell_type": "code",
   "execution_count": 5,
   "metadata": {
    "execution": {
     "iopub.execute_input": "2024-08-04T09:30:34.386450Z",
     "iopub.status.busy": "2024-08-04T09:30:34.386126Z",
     "iopub.status.idle": "2024-08-04T09:30:34.392486Z",
     "shell.execute_reply": "2024-08-04T09:30:34.391516Z",
     "shell.execute_reply.started": "2024-08-04T09:30:34.386425Z"
    }
   },
   "outputs": [
    {
     "data": {
      "text/plain": [
       "(113203, 2)"
      ]
     },
     "execution_count": 5,
     "metadata": {},
     "output_type": "execute_result"
    }
   ],
   "source": [
    "df.shape"
   ]
  },
  {
   "cell_type": "code",
   "execution_count": 6,
   "metadata": {
    "execution": {
     "iopub.execute_input": "2024-08-04T09:30:37.830782Z",
     "iopub.status.busy": "2024-08-04T09:30:37.830389Z",
     "iopub.status.idle": "2024-08-04T09:30:37.835706Z",
     "shell.execute_reply": "2024-08-04T09:30:37.834812Z",
     "shell.execute_reply.started": "2024-08-04T09:30:37.830750Z"
    }
   },
   "outputs": [],
   "source": [
    "labels_to_ids = {'O': 0, 'B-A': 1, 'I-A': 2}\n",
    "ids_to_labels = {0: 'O', 1: 'B-A', 2: 'I-A'}"
   ]
  },
  {
   "cell_type": "code",
   "execution_count": 7,
   "metadata": {
    "execution": {
     "iopub.execute_input": "2024-08-04T09:30:38.168001Z",
     "iopub.status.busy": "2024-08-04T09:30:38.167164Z",
     "iopub.status.idle": "2024-08-04T09:30:38.176711Z",
     "shell.execute_reply": "2024-08-04T09:30:38.175364Z",
     "shell.execute_reply.started": "2024-08-04T09:30:38.167935Z"
    }
   },
   "outputs": [],
   "source": [
    "MAX_LEN = 64\n",
    "EPOCHS = 1\n",
    "LEARNING_RATE = 2e-05\n",
    "MAX_GRAD_NORM = 10"
   ]
  },
  {
   "cell_type": "code",
   "execution_count": 8,
   "metadata": {
    "execution": {
     "iopub.execute_input": "2024-08-04T09:30:40.806719Z",
     "iopub.status.busy": "2024-08-04T09:30:40.806364Z",
     "iopub.status.idle": "2024-08-04T09:30:40.817760Z",
     "shell.execute_reply": "2024-08-04T09:30:40.816750Z",
     "shell.execute_reply.started": "2024-08-04T09:30:40.806691Z"
    }
   },
   "outputs": [],
   "source": [
    "class dataset(Dataset):\n",
    "    def __init__(self, dataframe, tokenizer, max_len):\n",
    "        self.len = len(dataframe)\n",
    "        self.data = dataframe\n",
    "        self.tokenizer = tokenizer\n",
    "        self.max_len = max_len\n",
    "\n",
    "    def __getitem__(self, index):\n",
    "        sentence = self.data.sentence[index]\n",
    "        word_labels = self.data.word_labels[index].split(\",\") \n",
    "\n",
    "        encoding = self.tokenizer(sentence, return_offsets_mapping=True, padding='max_length', truncation=True, max_length=self.max_len)\n",
    "        \n",
    "        labels = [labels_to_ids[label] for label in word_labels] \n",
    "        encoded_labels = np.ones(len(encoding[\"offset_mapping\"]), dtype=int) * -100\n",
    "        \n",
    "        i = 0\n",
    "        for idx, mapping in enumerate(encoding[\"offset_mapping\"]):\n",
    "            if mapping[0] == 0 and mapping[1] != 0:\n",
    "                encoded_labels[idx] = labels[i]\n",
    "                i += 1\n",
    "      \n",
    "        item = {key: torch.as_tensor(val) for key, val in encoding.items()}\n",
    "        item['labels'] = torch.as_tensor(encoded_labels) \n",
    "        return item\n",
    "\n",
    "    def __len__(self):\n",
    "        return self.len"
   ]
  },
  {
   "cell_type": "code",
   "execution_count": 9,
   "metadata": {
    "execution": {
     "iopub.execute_input": "2024-08-04T09:30:42.844550Z",
     "iopub.status.busy": "2024-08-04T09:30:42.844200Z",
     "iopub.status.idle": "2024-08-04T09:30:43.914384Z",
     "shell.execute_reply": "2024-08-04T09:30:43.913663Z",
     "shell.execute_reply.started": "2024-08-04T09:30:42.844523Z"
    }
   },
   "outputs": [
    {
     "data": {
      "application/vnd.jupyter.widget-view+json": {
       "model_id": "a409daf4edca4227af048067f08b85d4",
       "version_major": 2,
       "version_minor": 0
      },
      "text/plain": [
       "tokenizer_config.json:   0%|          | 0.00/60.0 [00:00<?, ?B/s]"
      ]
     },
     "metadata": {},
     "output_type": "display_data"
    },
    {
     "data": {
      "application/vnd.jupyter.widget-view+json": {
       "model_id": "efd0b449956d42eb94c67ca5ef846d06",
       "version_major": 2,
       "version_minor": 0
      },
      "text/plain": [
       "vocab.txt:   0%|          | 0.00/251k [00:00<?, ?B/s]"
      ]
     },
     "metadata": {},
     "output_type": "display_data"
    },
    {
     "data": {
      "application/vnd.jupyter.widget-view+json": {
       "model_id": "77f24869421c420ca66e08118c2b07cc",
       "version_major": 2,
       "version_minor": 0
      },
      "text/plain": [
       "config.json:   0%|          | 0.00/385 [00:00<?, ?B/s]"
      ]
     },
     "metadata": {},
     "output_type": "display_data"
    }
   ],
   "source": [
    "tokenizer = BertTokenizerFast.from_pretrained('dbmdz/bert-base-turkish-cased')"
   ]
  },
  {
   "cell_type": "code",
   "execution_count": 10,
   "metadata": {
    "execution": {
     "iopub.execute_input": "2024-08-04T09:30:43.915955Z",
     "iopub.status.busy": "2024-08-04T09:30:43.915702Z",
     "iopub.status.idle": "2024-08-04T09:30:47.929512Z",
     "shell.execute_reply": "2024-08-04T09:30:47.928741Z",
     "shell.execute_reply.started": "2024-08-04T09:30:43.915932Z"
    }
   },
   "outputs": [
    {
     "data": {
      "application/vnd.jupyter.widget-view+json": {
       "model_id": "f9117f13082248a48ae270aa9c72c5e8",
       "version_major": 2,
       "version_minor": 0
      },
      "text/plain": [
       "pytorch_model.bin:   0%|          | 0.00/445M [00:00<?, ?B/s]"
      ]
     },
     "metadata": {},
     "output_type": "display_data"
    },
    {
     "name": "stderr",
     "output_type": "stream",
     "text": [
      "/opt/conda/lib/python3.10/site-packages/torch/_utils.py:831: UserWarning: TypedStorage is deprecated. It will be removed in the future and UntypedStorage will be the only storage class. This should only matter to you if you are using storages directly.  To access UntypedStorage directly, use tensor.untyped_storage() instead of tensor.storage()\n",
      "  return self.fget.__get__(instance, owner)()\n",
      "Some weights of BertForTokenClassification were not initialized from the model checkpoint at dbmdz/bert-base-turkish-cased and are newly initialized: ['classifier.bias', 'classifier.weight']\n",
      "You should probably TRAIN this model on a down-stream task to be able to use it for predictions and inference.\n"
     ]
    }
   ],
   "source": [
    "model = BertForTokenClassification.from_pretrained('dbmdz/bert-base-turkish-cased', num_labels=len(labels_to_ids)).to(device)"
   ]
  },
  {
   "cell_type": "code",
   "execution_count": 36,
   "metadata": {
    "execution": {
     "iopub.execute_input": "2024-08-04T09:48:15.101227Z",
     "iopub.status.busy": "2024-08-04T09:48:15.100752Z",
     "iopub.status.idle": "2024-08-04T09:48:15.107820Z",
     "shell.execute_reply": "2024-08-04T09:48:15.106750Z",
     "shell.execute_reply.started": "2024-08-04T09:48:15.101197Z"
    }
   },
   "outputs": [],
   "source": [
    "def train_validate_test_split(df, split_size):\n",
    "    perm = np.random.permutation(df.index)\n",
    "    train_end = int(train_size * len(df.index))\n",
    "    validate_end = int(((1 - split_size) / 2) * len(df.index)) + train_end\n",
    "    train = df.iloc[perm[:train_end]]\n",
    "    validate = df.iloc[perm[train_end:validate_end]]\n",
    "    test = df.iloc[perm[validate_end:]]\n",
    "    return train, validate, test"
   ]
  },
  {
   "cell_type": "code",
   "execution_count": 37,
   "metadata": {
    "execution": {
     "iopub.execute_input": "2024-08-04T09:48:17.662983Z",
     "iopub.status.busy": "2024-08-04T09:48:17.662346Z",
     "iopub.status.idle": "2024-08-04T09:48:17.688522Z",
     "shell.execute_reply": "2024-08-04T09:48:17.687671Z",
     "shell.execute_reply.started": "2024-08-04T09:48:17.662940Z"
    }
   },
   "outputs": [
    {
     "name": "stdout",
     "output_type": "stream",
     "text": [
      "Full dataset: 113203\n",
      "Train dataset: 101882\n",
      "Valid dataset: 5660\n",
      "Test dataset: 5661\n"
     ]
    }
   ],
   "source": [
    "train_size = 0.9\n",
    "df_train, df_validation, df_test = train_validate_test_split(df, train_size)\n",
    "df_train = df_train.reset_index(drop=True)\n",
    "df_validation = df_validation.reset_index(drop=True)\n",
    "df_test = df_test.reset_index(drop=True)\n",
    "\n",
    "print(f\"Full dataset: {df.shape[0]}\")\n",
    "print(f\"Train dataset: {df_train.shape[0]}\")\n",
    "print(f\"Valid dataset: {df_validation.shape[0]}\")\n",
    "print(f\"Test dataset: {df_test.shape[0]}\")\n",
    "\n",
    "training_set = dataset(df_train, tokenizer, MAX_LEN)\n",
    "validation_set = dataset(df_validation, tokenizer, MAX_LEN)\n",
    "testing_set = dataset(df_test, tokenizer, MAX_LEN)"
   ]
  },
  {
   "cell_type": "code",
   "execution_count": 38,
   "metadata": {
    "execution": {
     "iopub.execute_input": "2024-08-04T09:48:20.332352Z",
     "iopub.status.busy": "2024-08-04T09:48:20.331550Z",
     "iopub.status.idle": "2024-08-04T09:48:20.338484Z",
     "shell.execute_reply": "2024-08-04T09:48:20.337449Z",
     "shell.execute_reply.started": "2024-08-04T09:48:20.332321Z"
    }
   },
   "outputs": [],
   "source": [
    "train_params = {\"batch_size\": 4, \"shuffle\": True, \"num_workers\": 0}\n",
    "valid_params = {\"batch_size\": 2, \"shuffle\": True, \"num_workers\": 0}\n",
    "test_params = {\"batch_size\": 2, \"shuffle\": True, \"num_workers\": 0}\n",
    "\n",
    "training_loader = DataLoader(training_set, **train_params)\n",
    "validation_loader = DataLoader(validation_set, **valid_params)\n",
    "testing_loader = DataLoader(testing_set, **test_params)"
   ]
  },
  {
   "cell_type": "code",
   "execution_count": 39,
   "metadata": {
    "execution": {
     "iopub.execute_input": "2024-08-04T09:48:20.773612Z",
     "iopub.status.busy": "2024-08-04T09:48:20.773299Z",
     "iopub.status.idle": "2024-08-04T09:48:20.781232Z",
     "shell.execute_reply": "2024-08-04T09:48:20.780299Z",
     "shell.execute_reply.started": "2024-08-04T09:48:20.773586Z"
    }
   },
   "outputs": [],
   "source": [
    "inputs = training_set[2]\n",
    "input_ids = inputs[\"input_ids\"].unsqueeze(0)\n",
    "input_ids = input_ids.type(torch.LongTensor)\n",
    "attention_mask = inputs[\"attention_mask\"].unsqueeze(0)\n",
    "attention_mask = attention_mask.type(torch.LongTensor)\n",
    "labels = inputs[\"labels\"].unsqueeze(0)\n",
    "labels = labels.type(torch.LongTensor)"
   ]
  },
  {
   "cell_type": "code",
   "execution_count": 43,
   "metadata": {
    "execution": {
     "iopub.execute_input": "2024-08-04T09:49:41.297475Z",
     "iopub.status.busy": "2024-08-04T09:49:41.296564Z",
     "iopub.status.idle": "2024-08-04T09:49:41.305764Z",
     "shell.execute_reply": "2024-08-04T09:49:41.304795Z",
     "shell.execute_reply.started": "2024-08-04T09:49:41.297441Z"
    }
   },
   "outputs": [],
   "source": [
    "optimizer = torch.optim.Adam(params=model.parameters(), lr=LEARNING_RATE)"
   ]
  },
  {
   "cell_type": "code",
   "execution_count": 44,
   "metadata": {
    "execution": {
     "iopub.execute_input": "2024-08-04T09:49:42.606601Z",
     "iopub.status.busy": "2024-08-04T09:49:42.605963Z",
     "iopub.status.idle": "2024-08-04T09:49:42.618001Z",
     "shell.execute_reply": "2024-08-04T09:49:42.616983Z",
     "shell.execute_reply.started": "2024-08-04T09:49:42.606570Z"
    }
   },
   "outputs": [],
   "source": [
    "def train_model(model, training_loader, optimizer, max_grad_norm, epochs):\n",
    "    for epoch in range(epochs):\n",
    "        print(f\"Training epoch: {epoch + 1}\")\n",
    "        model.train()\n",
    "        tr_loss, tr_accuracy = 0, 0\n",
    "        nb_tr_steps = 0\n",
    "        tr_preds, tr_labels = [], []\n",
    "\n",
    "        for idx, batch in enumerate(training_loader):\n",
    "            ids = batch['input_ids'].to(device)\n",
    "            mask = batch['attention_mask'].to(device)\n",
    "            labels = batch['labels'].to(device)\n",
    "\n",
    "            output = model(input_ids=ids, attention_mask=mask, labels=labels)\n",
    "            loss = output.loss\n",
    "            tr_logits = output.logits\n",
    "            tr_loss += loss.item()\n",
    "\n",
    "            nb_tr_steps += 1\n",
    "            if idx % 1000 == 0:\n",
    "                print(f\"Training loss per 1000 training steps: {tr_loss / nb_tr_steps}\")\n",
    "            \n",
    "            loss.backward()\n",
    "            torch.nn.utils.clip_grad_norm_(model.parameters(), max_grad_norm)\n",
    "            optimizer.step()\n",
    "            optimizer.zero_grad()\n",
    "\n",
    "            flattened_targets = labels.view(-1)\n",
    "            active_logits = tr_logits.view(-1, model.num_labels)\n",
    "            flattened_predictions = torch.argmax(active_logits, axis=1)\n",
    "\n",
    "            active_accuracy = labels.view(-1) != -100\n",
    "            active_targets = torch.masked_select(flattened_targets, active_accuracy)\n",
    "            active_predictions = torch.masked_select(flattened_predictions, active_accuracy)\n",
    "\n",
    "            tr_labels.extend(active_targets.cpu().numpy())\n",
    "            tr_preds.extend(active_predictions.cpu().numpy())\n",
    "\n",
    "        tr_loss /= nb_tr_steps\n",
    "        tr_accuracy = np.sum(np.array(tr_preds) == np.array(tr_labels)) / len(tr_labels)\n",
    "\n",
    "        print(f\"Training loss epoch: {tr_loss}\")\n",
    "        print(f\"Training accuracy epoch: {tr_accuracy}\")"
   ]
  },
  {
   "cell_type": "code",
   "execution_count": 45,
   "metadata": {
    "execution": {
     "iopub.execute_input": "2024-08-04T09:49:43.816334Z",
     "iopub.status.busy": "2024-08-04T09:49:43.815933Z",
     "iopub.status.idle": "2024-08-04T10:23:32.500451Z",
     "shell.execute_reply": "2024-08-04T10:23:32.499380Z",
     "shell.execute_reply.started": "2024-08-04T09:49:43.816304Z"
    }
   },
   "outputs": [
    {
     "name": "stdout",
     "output_type": "stream",
     "text": [
      "Training epoch: 1\n",
      "Training loss per 1000 training steps: 0.00032376451417803764\n",
      "Training loss per 1000 training steps: 0.02569307908522426\n",
      "Training loss per 1000 training steps: 0.03540323856162311\n",
      "Training loss per 1000 training steps: 0.03347785756164253\n",
      "Training loss per 1000 training steps: 0.030926763085478353\n",
      "Training loss per 1000 training steps: 0.031267060017841505\n",
      "Training loss per 1000 training steps: 0.029142653206574495\n",
      "Training loss per 1000 training steps: 0.02883187603860525\n",
      "Training loss per 1000 training steps: 0.02741878688476921\n",
      "Training loss per 1000 training steps: 0.02720339392735856\n",
      "Training loss per 1000 training steps: 0.027576998966061333\n",
      "Training loss per 1000 training steps: 0.027577184377754197\n",
      "Training loss per 1000 training steps: 0.026589686096122358\n",
      "Training loss per 1000 training steps: 0.02588306673087005\n",
      "Training loss per 1000 training steps: 0.02595652572876371\n",
      "Training loss per 1000 training steps: 0.025191499176247127\n",
      "Training loss per 1000 training steps: 0.02518476605628452\n",
      "Training loss per 1000 training steps: 0.024322161558828555\n",
      "Training loss per 1000 training steps: 0.024477275236952395\n",
      "Training loss per 1000 training steps: 0.024255876655316023\n",
      "Training loss per 1000 training steps: 0.024174553190637136\n",
      "Training loss per 1000 training steps: 0.02384530212013674\n",
      "Training loss per 1000 training steps: 0.023466565455985435\n",
      "Training loss per 1000 training steps: 0.02304049253389219\n",
      "Training loss per 1000 training steps: 0.022768067268134653\n",
      "Training loss per 1000 training steps: 0.022826787176666204\n",
      "Training loss epoch: 0.02275979316031121\n",
      "Training accuracy epoch: 0.9955733103001512\n"
     ]
    }
   ],
   "source": [
    "%%time\n",
    "\n",
    "train_model(model, training_loader, optimizer, MAX_GRAD_NORM, EPOCHS)"
   ]
  },
  {
   "cell_type": "code",
   "execution_count": 46,
   "metadata": {
    "execution": {
     "iopub.execute_input": "2024-08-04T10:24:02.533358Z",
     "iopub.status.busy": "2024-08-04T10:24:02.532731Z",
     "iopub.status.idle": "2024-08-04T10:24:02.543758Z",
     "shell.execute_reply": "2024-08-04T10:24:02.542754Z",
     "shell.execute_reply.started": "2024-08-04T10:24:02.533325Z"
    }
   },
   "outputs": [],
   "source": [
    "def validate_model(model, testing_loader):\n",
    "    model.eval()\n",
    "    eval_loss, eval_accuracy = 0, 0\n",
    "    nb_eval_steps = 0\n",
    "    eval_preds, eval_labels = [], []\n",
    "\n",
    "    with torch.no_grad():\n",
    "        for idx, batch in enumerate(testing_loader):\n",
    "            ids = batch['input_ids'].to(device)\n",
    "            mask = batch['attention_mask'].to(device)\n",
    "            labels = batch['labels'].to(device)\n",
    "\n",
    "            output = model(input_ids=ids, attention_mask=mask, labels=labels)\n",
    "            eval_loss += output.loss.item()\n",
    "            eval_logits = output.logits\n",
    "\n",
    "            nb_eval_steps += 1\n",
    "            if idx % 1000 == 0:\n",
    "                print(f\"Validation loss per 1000 evaluation steps: {eval_loss / nb_eval_steps}\")\n",
    "\n",
    "            flattened_targets = labels.view(-1)\n",
    "            active_logits = eval_logits.view(-1, model.num_labels)\n",
    "            flattened_predictions = torch.argmax(active_logits, axis=1)\n",
    "\n",
    "            active_accuracy = labels.view(-1) != -100\n",
    "            active_targets = torch.masked_select(flattened_targets, active_accuracy)\n",
    "            active_predictions = torch.masked_select(flattened_predictions, active_accuracy)\n",
    "\n",
    "            eval_labels.extend(active_targets.cpu().numpy())\n",
    "            eval_preds.extend(active_predictions.cpu().numpy())\n",
    "\n",
    "    eval_loss /= nb_eval_steps\n",
    "    eval_accuracy = np.sum(np.array(eval_preds) == np.array(eval_labels)) / len(eval_labels)\n",
    "\n",
    "    print(f\"Validation Loss: {eval_loss}\")\n",
    "    print(f\"Validation Accuracy: {eval_accuracy}\")\n",
    "    return eval_labels, eval_preds"
   ]
  },
  {
   "cell_type": "code",
   "execution_count": 47,
   "metadata": {
    "execution": {
     "iopub.execute_input": "2024-08-04T10:24:03.130691Z",
     "iopub.status.busy": "2024-08-04T10:24:03.130135Z",
     "iopub.status.idle": "2024-08-04T10:24:03.139989Z",
     "shell.execute_reply": "2024-08-04T10:24:03.139124Z",
     "shell.execute_reply.started": "2024-08-04T10:24:03.130661Z"
    }
   },
   "outputs": [],
   "source": [
    "def evaluate_model(labels, predictions):\n",
    "    labels = [ids_to_labels[id.item()] for id in labels]\n",
    "    predictions = [ids_to_labels[id.item()] for id in predictions]\n",
    "    \n",
    "    recall_val = recall_score(y_true=labels, y_pred=predictions, average='micro')\n",
    "    print(f'Recall Score: {recall_val}')\n",
    "\n",
    "    precision_val = precision_score(y_true=labels, y_pred=predictions, average='micro')\n",
    "    print(f'Precision Score: {precision_val}')\n",
    "\n",
    "    f1_val = f1_score(y_true=labels, y_pred=predictions, average='micro')\n",
    "    print(f'F1 Score: {f1_val}')\n",
    "\n",
    "    acc_val = accuracy_score(y_true=labels, y_pred=predictions)\n",
    "    print(f\"Accuracy Score: {acc_val}\")\n",
    "\n",
    "    cm = confusion_matrix(y_true=labels, y_pred=predictions)\n",
    "    print(\"Confusion Matrix:\")\n",
    "    print(cm)\n",
    "\n",
    "    print(\"Classification Report:\")\n",
    "    print(classification_report(labels, predictions))\n",
    "\n",
    "    plt.figure()\n",
    "    fig, ax = plot_confusion_matrix(conf_mat=cm, show_absolute=True, show_normed=True, colorbar=True, class_names=np.unique(labels))\n",
    "    plt.title(\"BERT - Aspect Extraction\")\n",
    "    plt.show()"
   ]
  },
  {
   "cell_type": "code",
   "execution_count": 48,
   "metadata": {
    "execution": {
     "iopub.execute_input": "2024-08-04T10:24:04.026396Z",
     "iopub.status.busy": "2024-08-04T10:24:04.025777Z",
     "iopub.status.idle": "2024-08-04T10:24:34.361079Z",
     "shell.execute_reply": "2024-08-04T10:24:34.360153Z",
     "shell.execute_reply.started": "2024-08-04T10:24:04.026360Z"
    }
   },
   "outputs": [
    {
     "name": "stdout",
     "output_type": "stream",
     "text": [
      "##### Validation #####\n",
      "Validation loss per 1000 evaluation steps: 0.00026752916164696217\n",
      "Validation loss per 1000 evaluation steps: 0.03676144091819937\n",
      "Validation loss per 1000 evaluation steps: 0.025555508567133397\n",
      "Validation Loss: 0.022184910551709035\n",
      "Validation Accuracy: 0.9968197879858657\n",
      "Recall Score: 0.9968197879858657\n",
      "Precision Score: 0.9968197879858657\n",
      "F1 Score: 0.9968197879858657\n",
      "Accuracy Score: 0.9968197879858657\n",
      "Confusion Matrix:\n",
      "[[1621    0    8]\n",
      " [   2   45    2]\n",
      " [   2    4 3976]]\n",
      "Classification Report:\n",
      "              precision    recall  f1-score   support\n",
      "\n",
      "         B-A       1.00      1.00      1.00      1629\n",
      "         I-A       0.92      0.92      0.92        49\n",
      "           O       1.00      1.00      1.00      3982\n",
      "\n",
      "    accuracy                           1.00      5660\n",
      "   macro avg       0.97      0.97      0.97      5660\n",
      "weighted avg       1.00      1.00      1.00      5660\n",
      "\n"
     ]
    },
    {
     "data": {
      "text/plain": [
       "<Figure size 640x480 with 0 Axes>"
      ]
     },
     "metadata": {},
     "output_type": "display_data"
    },
    {
     "data": {
      "image/png": "[encoded data removed]",
      "text/plain": [
       "<Figure size 640x480 with 2 Axes>"
      ]
     },
     "metadata": {},
     "output_type": "display_data"
    },
    {
     "name": "stdout",
     "output_type": "stream",
     "text": [
      "CPU times: user 30.4 s, sys: 168 ms, total: 30.6 s\n",
      "Wall time: 30.3 s\n"
     ]
    }
   ],
   "source": [
    "%%time\n",
    "\n",
    "print(\"##### Validation #####\")\n",
    "labels, predictions = validate_model(model, validation_loader)\n",
    "evaluate_model(labels, predictions)"
   ]
  },
  {
   "cell_type": "code",
   "execution_count": 49,
   "metadata": {
    "execution": {
     "iopub.execute_input": "2024-08-04T10:28:37.822916Z",
     "iopub.status.busy": "2024-08-04T10:28:37.821994Z",
     "iopub.status.idle": "2024-08-04T10:29:08.349091Z",
     "shell.execute_reply": "2024-08-04T10:29:08.348218Z",
     "shell.execute_reply.started": "2024-08-04T10:28:37.822881Z"
    }
   },
   "outputs": [
    {
     "name": "stdout",
     "output_type": "stream",
     "text": [
      "##### Testing #####\n",
      "Validation loss per 1000 evaluation steps: 0.0007062103250063956\n",
      "Validation loss per 1000 evaluation steps: 0.026527888147997995\n",
      "Validation loss per 1000 evaluation steps: 0.026334617084313672\n",
      "Validation Loss: 0.020771587495193065\n",
      "Validation Accuracy: 0.9971736442324678\n",
      "Recall Score: 0.9971736442324678\n",
      "Precision Score: 0.9971736442324678\n",
      "F1 Score: 0.9971736442324678\n",
      "Accuracy Score: 0.9971736442324678\n",
      "Confusion Matrix:\n",
      "[[1622    0    8]\n",
      " [   3   43    1]\n",
      " [   2    2 3980]]\n",
      "Classification Report:\n",
      "              precision    recall  f1-score   support\n",
      "\n",
      "         B-A       1.00      1.00      1.00      1630\n",
      "         I-A       0.96      0.91      0.93        47\n",
      "           O       1.00      1.00      1.00      3984\n",
      "\n",
      "    accuracy                           1.00      5661\n",
      "   macro avg       0.98      0.97      0.98      5661\n",
      "weighted avg       1.00      1.00      1.00      5661\n",
      "\n"
     ]
    },
    {
     "data": {
      "text/plain": [
       "<Figure size 640x480 with 0 Axes>"
      ]
     },
     "metadata": {},
     "output_type": "display_data"
    },
    {
     "data": {
      "image/png": "[encoded data removed]",
      "text/plain": [
       "<Figure size 640x480 with 2 Axes>"
      ]
     },
     "metadata": {},
     "output_type": "display_data"
    },
    {
     "name": "stdout",
     "output_type": "stream",
     "text": [
      "CPU times: user 30.6 s, sys: 162 ms, total: 30.8 s\n",
      "Wall time: 30.5 s\n"
     ]
    }
   ],
   "source": [
    "%%time\n",
    "\n",
    "print(\"##### Testing #####\")\n",
    "labels, predictions = validate_model(model, testing_loader)\n",
    "evaluate_model(labels, predictions)"
   ]
  },
  {
   "cell_type": "code",
   "execution_count": 52,
   "metadata": {
    "execution": {
     "iopub.execute_input": "2024-08-04T10:29:47.212666Z",
     "iopub.status.busy": "2024-08-04T10:29:47.212018Z",
     "iopub.status.idle": "2024-08-04T10:29:47.216243Z",
     "shell.execute_reply": "2024-08-04T10:29:47.215358Z",
     "shell.execute_reply.started": "2024-08-04T10:29:47.212640Z"
    }
   },
   "outputs": [],
   "source": [
    "sentence = \"Fiber 100mb SuperOnline kullanıcısıyım yaklaşık 2 haftadır Twitch Kick_Turkey gibi canlı yayın platformlarında 360p yayın izlerken donmalar yaşıyoruz. Başka hiç bir operatörler bu sorunu yaşamazken ben parasını verip alamadığım hizmeti neden ödeyeyim ? Turkcell \"\n",
    "#sentence = \t\"Türk Telekom da İnternetiniz yokken bile msj atilio\""
   ]
  },
  {
   "cell_type": "code",
   "execution_count": 53,
   "metadata": {
    "execution": {
     "iopub.execute_input": "2024-08-04T10:29:47.408879Z",
     "iopub.status.busy": "2024-08-04T10:29:47.408569Z",
     "iopub.status.idle": "2024-08-04T10:29:47.414375Z",
     "shell.execute_reply": "2024-08-04T10:29:47.413386Z",
     "shell.execute_reply.started": "2024-08-04T10:29:47.408853Z"
    }
   },
   "outputs": [],
   "source": [
    "inputs = tokenizer(sentence, return_offsets_mapping=True, padding='max_length',  truncation=True,  max_length=MAX_LEN, return_tensors=\"pt\")"
   ]
  },
  {
   "cell_type": "code",
   "execution_count": 54,
   "metadata": {
    "execution": {
     "iopub.execute_input": "2024-08-04T10:29:49.011272Z",
     "iopub.status.busy": "2024-08-04T10:29:49.010911Z",
     "iopub.status.idle": "2024-08-04T10:29:49.017064Z",
     "shell.execute_reply": "2024-08-04T10:29:49.016158Z",
     "shell.execute_reply.started": "2024-08-04T10:29:49.011245Z"
    }
   },
   "outputs": [],
   "source": [
    "def align_word_predictions(tokens, token_predictions):\n",
    "    aligned_tokens = []\n",
    "    aligned_predictions = []\n",
    "\n",
    "    for token, prediction in zip(tokens, token_predictions):\n",
    "        if not token.startswith(\"##\"):\n",
    "            aligned_tokens.append(token)\n",
    "            aligned_predictions.append(prediction)\n",
    "        else:\n",
    "            aligned_tokens[-1] = aligned_tokens[-1] + token[2:]\n",
    "\n",
    "    return aligned_tokens, aligned_predictions"
   ]
  },
  {
   "cell_type": "code",
   "execution_count": 55,
   "metadata": {
    "execution": {
     "iopub.execute_input": "2024-08-04T10:29:49.982191Z",
     "iopub.status.busy": "2024-08-04T10:29:49.981472Z",
     "iopub.status.idle": "2024-08-04T10:29:50.002108Z",
     "shell.execute_reply": "2024-08-04T10:29:50.001203Z",
     "shell.execute_reply.started": "2024-08-04T10:29:49.982159Z"
    }
   },
   "outputs": [],
   "source": [
    "ids = inputs[\"input_ids\"].to(device)\n",
    "mask = inputs[\"attention_mask\"].to(device)\n",
    "\n",
    "with torch.no_grad():\n",
    "    outputs = model(ids, attention_mask=mask)\n",
    "    logits = outputs[0]\n",
    "\n",
    "active_logits = logits.view(-1, model.num_labels) \n",
    "flattened_predictions = torch.argmax(active_logits, axis=1) \n",
    "\n",
    "tokens = tokenizer.convert_ids_to_tokens(ids.squeeze().tolist())\n",
    "token_predictions = [ids_to_labels[i] for i in flattened_predictions.cpu().numpy()]\n",
    "wp_preds = list(zip(tokens, token_predictions))"
   ]
  },
  {
   "cell_type": "code",
   "execution_count": 58,
   "metadata": {
    "execution": {
     "iopub.execute_input": "2024-08-04T10:29:58.323186Z",
     "iopub.status.busy": "2024-08-04T10:29:58.322827Z",
     "iopub.status.idle": "2024-08-04T10:29:58.329107Z",
     "shell.execute_reply": "2024-08-04T10:29:58.328143Z",
     "shell.execute_reply.started": "2024-08-04T10:29:58.323157Z"
    }
   },
   "outputs": [
    {
     "name": "stdout",
     "output_type": "stream",
     "text": [
      "Sample input sentence:\n",
      "Word                          ||Pred      \n",
      "==============================\n",
      "Fiber                         ||O         \n",
      "100mb                         ||O         \n",
      "SuperOnline                   ||B-A       \n",
      "kullanıcısıyım                ||O         \n",
      "yaklaşık                      ||O         \n",
      "2                             ||O         \n",
      "haftadır                      ||O         \n",
      "Twitch                        ||B-A       \n",
      "Kick                          ||O         \n",
      "_                             ||O         \n",
      "Turkey                        ||O         \n",
      "gibi                          ||O         \n",
      "canlı                         ||O         \n",
      "yayın                         ||O         \n",
      "platformlarında               ||O         \n",
      "360p                          ||O         \n",
      "yayın                         ||O         \n",
      "izlerken                      ||O         \n",
      "donmalar                      ||O         \n",
      "yaşıyoruz                     ||O         \n",
      ".                             ||O         \n",
      "Başka                         ||O         \n",
      "hiç                           ||O         \n",
      "bir                           ||O         \n",
      "operatörler                   ||B-A       \n",
      "bu                            ||O         \n",
      "sorunu                        ||O         \n",
      "yaşamazken                    ||O         \n",
      "ben                           ||O         \n",
      "parasını                      ||O         \n",
      "verip                         ||O         \n",
      "alamadığım                    ||O         \n",
      "hizmeti                       ||O         \n",
      "neden                         ||O         \n",
      "ödeyeyim                      ||O         \n",
      "?                             ||O         \n",
      "Turkcell                      ||B-A       \n"
     ]
    }
   ],
   "source": [
    "aligned_tokens, aligned_predictions = align_word_predictions(tokens, token_predictions)\n",
    "\n",
    "print(\"Sample input sentence:\")\n",
    "print(\"{:30}||{:10}\".format(\"Word\", \"Pred\"))\n",
    "print(30 * \"=\")\n",
    "for w, pred in zip(aligned_tokens, aligned_predictions):\n",
    "    if w not in [\"[PAD]\", \"[CLS]\", \"[SEP]\"]:\n",
    "        print(\"{:30}||{:10}\".format(w, pred))"
   ]
  },
  {
   "cell_type": "code",
   "execution_count": null,
   "metadata": {},
   "outputs": [],
   "source": []
  }
 ],
 "metadata": {
  "kaggle": {
   "accelerator": "gpu",
   "dataSources": [
    {
     "databundleVersionId": 9266382,
     "datasetId": 5454449,
     "sourceId": 9092143,
     "sourceType": "datasetVersion"
    }
   ],
   "dockerImageVersionId": 30747,
   "isGpuEnabled": true,
   "isInternetEnabled": true,
   "language": "python",
   "sourceType": "notebook"
  },
  "kernelspec": {
   "display_name": "Python 3 (ipykernel)",
   "language": "python",
   "name": "python3"
  },
  "language_info": {
   "codemirror_mode": {
    "name": "ipython",
    "version": 3
   },
   "file_extension": ".py",
   "mimetype": "text/x-python",
   "name": "python",
   "nbconvert_exporter": "python",
   "pygments_lexer": "ipython3",
   "version": "3.10.12"
  }
 },
 "nbformat": 4,
 "nbformat_minor": 4
}
