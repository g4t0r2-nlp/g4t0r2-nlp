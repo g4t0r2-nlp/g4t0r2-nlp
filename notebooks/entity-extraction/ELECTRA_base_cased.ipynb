{
 "cells": [
  {
   "cell_type": "code",
   "execution_count": 2,
   "metadata": {
    "_cell_guid": "b1076dfc-b9ad-4769-8c92-a6c4dae69d19",
    "_uuid": "8f2839f25d086af736a60e9eeb907d3b93b6e0e5",
    "execution": {
     "iopub.execute_input": "2024-08-05T10:02:03.077809Z",
     "iopub.status.busy": "2024-08-05T10:02:03.077362Z",
     "iopub.status.idle": "2024-08-05T10:02:03.084810Z",
     "shell.execute_reply": "2024-08-05T10:02:03.083905Z",
     "shell.execute_reply.started": "2024-08-05T10:02:03.077774Z"
    }
   },
   "outputs": [
    {
     "name": "stdout",
     "output_type": "stream",
     "text": [
      "/kaggle/input/all-aspects/all_aspects_just_aspect.csv\n",
      "/kaggle/input/all-aspects/all_tagged_aspects_just_aspect_cleaned.csv\n",
      "/kaggle/input/all-aspects/all_tagged_aspects_just_aspect_filled.csv\n",
      "/kaggle/input/all-aspects/all_tagged_aspects_filled.csv\n",
      "/kaggle/input/all-aspects/all_tagged_aspects_just_aspect.csv\n",
      "/kaggle/input/all-aspects/all_tagged_aspects_sentences.csv\n",
      "/kaggle/input/all-aspects/all_tagged_aspects_just_aspect_sentences.csv\n",
      "/kaggle/input/all-aspects/all_aspects_just_aspect_cleaned.csv\n",
      "/kaggle/input/all-aspects/all_tagged_aspects_just_aspect_filled_sentences.csv\n",
      "/kaggle/input/all-aspects/reviews.csv\n",
      "/kaggle/input/all-aspects/cleaned.csv\n",
      "/kaggle/input/all-aspects/all_aspects_just_aspect_filled.csv\n",
      "/kaggle/input/all-aspects/all_tagged_aspects.csv\n",
      "/kaggle/input/all-aspects/all_aspects.csv\n",
      "/kaggle/input/all-aspects/all_tagged_aspects_just_aspect_cleaned_sentences.csv\n"
     ]
    }
   ],
   "source": [
    "# This Python 3 environment comes with many helpful analytics libraries installed\n",
    "# It is defined by the kaggle/python Docker image: https://github.com/kaggle/docker-python\n",
    "# For example, here's several helpful packages to load\n",
    "\n",
    "import numpy as np # linear algebra\n",
    "import pandas as pd # data processing, CSV file I/O (e.g. pd.read_csv)\n",
    "\n",
    "# Input data files are available in the read-only \"../input/\" directory\n",
    "# For example, running this (by clicking run or pressing Shift+Enter) will list all files under the input directory\n",
    "\n",
    "import os\n",
    "for dirname, _, filenames in os.walk('/kaggle/input'):\n",
    "    for filename in filenames:\n",
    "        print(os.path.join(dirname, filename))\n",
    "\n",
    "# You can write up to 20GB to the current directory (/kaggle/working/) that gets preserved as output when you create a version using \"Save & Run All\" \n",
    "# You can also write temporary files to /kaggle/temp/, but they won't be saved outside of the current session"
   ]
  },
  {
   "cell_type": "code",
   "execution_count": 23,
   "metadata": {
    "execution": {
     "iopub.execute_input": "2024-08-05T10:42:16.356817Z",
     "iopub.status.busy": "2024-08-05T10:42:16.356240Z",
     "iopub.status.idle": "2024-08-05T10:42:16.454930Z",
     "shell.execute_reply": "2024-08-05T10:42:16.454059Z",
     "shell.execute_reply.started": "2024-08-05T10:42:16.356783Z"
    }
   },
   "outputs": [],
   "source": [
    "import pandas as pd\n",
    "from sklearn.model_selection import train_test_split\n",
    "from transformers import BertTokenizerFast\n",
    "import torch\n",
    "import matplotlib.pyplot as plt\n",
    "from torch import nn\n",
    "from transformers import ElectraForTokenClassification, ElectraTokenizerFast\n",
    "from torch.utils.data import DataLoader, TensorDataset, RandomSampler, Dataset\n",
    "from transformers import AdamW\n",
    "from sklearn.metrics import confusion_matrix, classification_report, accuracy_score, f1_score, precision_score, recall_score\n",
    "import numpy as np\n",
    "from mlxtend.plotting import plot_confusion_matrix"
   ]
  },
  {
   "cell_type": "code",
   "execution_count": 4,
   "metadata": {
    "execution": {
     "iopub.execute_input": "2024-08-05T10:02:12.965293Z",
     "iopub.status.busy": "2024-08-05T10:02:12.964489Z",
     "iopub.status.idle": "2024-08-05T10:02:13.658504Z",
     "shell.execute_reply": "2024-08-05T10:02:13.657566Z",
     "shell.execute_reply.started": "2024-08-05T10:02:12.965255Z"
    }
   },
   "outputs": [
    {
     "data": {
      "text/html": [
       "<div>\n",
       "<style scoped>\n",
       "    .dataframe tbody tr th:only-of-type {\n",
       "        vertical-align: middle;\n",
       "    }\n",
       "\n",
       "    .dataframe tbody tr th {\n",
       "        vertical-align: top;\n",
       "    }\n",
       "\n",
       "    .dataframe thead th {\n",
       "        text-align: right;\n",
       "    }\n",
       "</style>\n",
       "<table border=\"1\" class=\"dataframe\">\n",
       "  <thead>\n",
       "    <tr style=\"text-align: right;\">\n",
       "      <th></th>\n",
       "      <th>sentence</th>\n",
       "      <th>word_labels</th>\n",
       "    </tr>\n",
       "  </thead>\n",
       "  <tbody>\n",
       "    <tr>\n",
       "      <th>0</th>\n",
       "      <td>Uygulamada kartlarda Troy kart geçmiyor Lütfen...</td>\n",
       "      <td>O,O,B-A,O,O,O,O,B-A,O,O,O</td>\n",
       "    </tr>\n",
       "    <tr>\n",
       "      <th>1</th>\n",
       "      <td>Her güncellemede daha da kötüleşen Turkcell in...</td>\n",
       "      <td>O,O,O,O,O,B-A,O,O,O,O,O,O,O,O,O,O,O,O,O,O,O,O,O,O</td>\n",
       "    </tr>\n",
       "    <tr>\n",
       "      <th>2</th>\n",
       "      <td>BiP’ten aranmıyor yardım</td>\n",
       "      <td>B-A,O,O</td>\n",
       "    </tr>\n",
       "    <tr>\n",
       "      <th>3</th>\n",
       "      <td>Bu yorumum kesinlikle uygulamanın daha çok gel...</td>\n",
       "      <td>O,O,O,O,O,O,O,O,O,O,O,O,O,O,O,O,O,O,B-A,O,O,O,...</td>\n",
       "    </tr>\n",
       "    <tr>\n",
       "      <th>4</th>\n",
       "      <td>kurumlarda WhatsApp engelleniyor Alternatif ol...</td>\n",
       "      <td>O,B-A,O,O,O,B-A,O,O,B-A,O,O,O,O,O,O,O,B-A,O,O,...</td>\n",
       "    </tr>\n",
       "  </tbody>\n",
       "</table>\n",
       "</div>"
      ],
      "text/plain": [
       "                                            sentence  \\\n",
       "0  Uygulamada kartlarda Troy kart geçmiyor Lütfen...   \n",
       "1  Her güncellemede daha da kötüleşen Turkcell in...   \n",
       "2                           BiP’ten aranmıyor yardım   \n",
       "3  Bu yorumum kesinlikle uygulamanın daha çok gel...   \n",
       "4  kurumlarda WhatsApp engelleniyor Alternatif ol...   \n",
       "\n",
       "                                         word_labels  \n",
       "0                          O,O,B-A,O,O,O,O,B-A,O,O,O  \n",
       "1  O,O,O,O,O,B-A,O,O,O,O,O,O,O,O,O,O,O,O,O,O,O,O,O,O  \n",
       "2                                            B-A,O,O  \n",
       "3  O,O,O,O,O,O,O,O,O,O,O,O,O,O,O,O,O,O,B-A,O,O,O,...  \n",
       "4  O,B-A,O,O,O,B-A,O,O,B-A,O,O,O,O,O,O,O,B-A,O,O,...  "
      ]
     },
     "execution_count": 4,
     "metadata": {},
     "output_type": "execute_result"
    }
   ],
   "source": [
    "df = pd.read_csv(\"/kaggle/input/all-aspects/all_tagged_aspects_just_aspect_cleaned_sentences.csv\")\n",
    "df.head()"
   ]
  },
  {
   "cell_type": "code",
   "execution_count": 5,
   "metadata": {
    "execution": {
     "iopub.execute_input": "2024-08-05T10:02:13.659984Z",
     "iopub.status.busy": "2024-08-05T10:02:13.659701Z",
     "iopub.status.idle": "2024-08-05T10:02:13.688573Z",
     "shell.execute_reply": "2024-08-05T10:02:13.687612Z",
     "shell.execute_reply.started": "2024-08-05T10:02:13.659960Z"
    }
   },
   "outputs": [
    {
     "data": {
      "text/plain": [
       "sentence       0\n",
       "word_labels    0\n",
       "dtype: int64"
      ]
     },
     "execution_count": 5,
     "metadata": {},
     "output_type": "execute_result"
    }
   ],
   "source": [
    "df.isnull().sum()"
   ]
  },
  {
   "cell_type": "code",
   "execution_count": 6,
   "metadata": {
    "execution": {
     "iopub.execute_input": "2024-08-05T10:02:13.691597Z",
     "iopub.status.busy": "2024-08-05T10:02:13.690896Z",
     "iopub.status.idle": "2024-08-05T10:02:13.749458Z",
     "shell.execute_reply": "2024-08-05T10:02:13.748437Z",
     "shell.execute_reply.started": "2024-08-05T10:02:13.691570Z"
    }
   },
   "outputs": [
    {
     "data": {
      "text/plain": [
       "device(type='cuda')"
      ]
     },
     "execution_count": 6,
     "metadata": {},
     "output_type": "execute_result"
    }
   ],
   "source": [
    "device = torch.device(\"cuda\" if torch.cuda.is_available() else \"cpu\")\n",
    "device"
   ]
  },
  {
   "cell_type": "code",
   "execution_count": 7,
   "metadata": {
    "execution": {
     "iopub.execute_input": "2024-08-05T10:02:13.751277Z",
     "iopub.status.busy": "2024-08-05T10:02:13.750620Z",
     "iopub.status.idle": "2024-08-05T10:02:26.238599Z",
     "shell.execute_reply": "2024-08-05T10:02:26.237430Z",
     "shell.execute_reply.started": "2024-08-05T10:02:13.751251Z"
    }
   },
   "outputs": [
    {
     "data": {
      "application/vnd.jupyter.widget-view+json": {
       "model_id": "5ba1171aa5ca4b2694ced45e124f9165",
       "version_major": 2,
       "version_minor": 0
      },
      "text/plain": [
       "tokenizer_config.json:   0%|          | 0.00/83.0 [00:00<?, ?B/s]"
      ]
     },
     "metadata": {},
     "output_type": "display_data"
    },
    {
     "data": {
      "application/vnd.jupyter.widget-view+json": {
       "model_id": "61a28c27aa614bd9b17094a35a2eb9cf",
       "version_major": 2,
       "version_minor": 0
      },
      "text/plain": [
       "vocab.txt:   0%|          | 0.00/251k [00:00<?, ?B/s]"
      ]
     },
     "metadata": {},
     "output_type": "display_data"
    },
    {
     "data": {
      "application/vnd.jupyter.widget-view+json": {
       "model_id": "721b4f5797774633ad37266038feeef6",
       "version_major": 2,
       "version_minor": 0
      },
      "text/plain": [
       "config.json:   0%|          | 0.00/1.27k [00:00<?, ?B/s]"
      ]
     },
     "metadata": {},
     "output_type": "display_data"
    },
    {
     "data": {
      "application/vnd.jupyter.widget-view+json": {
       "model_id": "5445b4bf1c104cd7994581768434f58e",
       "version_major": 2,
       "version_minor": 0
      },
      "text/plain": [
       "pytorch_model.bin:   0%|          | 0.00/443M [00:00<?, ?B/s]"
      ]
     },
     "metadata": {},
     "output_type": "display_data"
    },
    {
     "name": "stderr",
     "output_type": "stream",
     "text": [
      "/opt/conda/lib/python3.10/site-packages/torch/_utils.py:831: UserWarning: TypedStorage is deprecated. It will be removed in the future and UntypedStorage will be the only storage class. This should only matter to you if you are using storages directly.  To access UntypedStorage directly, use tensor.untyped_storage() instead of tensor.storage()\n",
      "  return self.fget.__get__(instance, owner)()\n",
      "Some weights of ElectraForTokenClassification were not initialized from the model checkpoint at dbmdz/electra-base-turkish-cased-discriminator and are newly initialized: ['classifier.bias', 'classifier.weight']\n",
      "You should probably TRAIN this model on a down-stream task to be able to use it for predictions and inference.\n"
     ]
    }
   ],
   "source": [
    "tokenizer = ElectraTokenizerFast.from_pretrained(\"dbmdz/electra-base-turkish-cased-discriminator\")\n",
    "model = ElectraForTokenClassification.from_pretrained(\"dbmdz/electra-base-turkish-cased-discriminator\", num_labels=3).to(device)"
   ]
  },
  {
   "cell_type": "code",
   "execution_count": 8,
   "metadata": {
    "execution": {
     "iopub.execute_input": "2024-08-05T10:02:26.240138Z",
     "iopub.status.busy": "2024-08-05T10:02:26.239826Z",
     "iopub.status.idle": "2024-08-05T10:02:26.247008Z",
     "shell.execute_reply": "2024-08-05T10:02:26.245999Z",
     "shell.execute_reply.started": "2024-08-05T10:02:26.240113Z"
    }
   },
   "outputs": [],
   "source": [
    "labels_to_ids = {'O': 0, 'B-A': 1, 'I-A': 2}\n",
    "ids_to_labels = {0: 'O', 1: 'B-A', 2: 'I-A'}"
   ]
  },
  {
   "cell_type": "code",
   "execution_count": 9,
   "metadata": {
    "execution": {
     "iopub.execute_input": "2024-08-05T10:02:26.248742Z",
     "iopub.status.busy": "2024-08-05T10:02:26.248312Z",
     "iopub.status.idle": "2024-08-05T10:02:26.253866Z",
     "shell.execute_reply": "2024-08-05T10:02:26.253056Z",
     "shell.execute_reply.started": "2024-08-05T10:02:26.248711Z"
    }
   },
   "outputs": [],
   "source": [
    "MAX_LEN = 128\n",
    "EPOCHS = 1\n",
    "LEARNING_RATE = 2e-05\n",
    "MAX_GRAD_NORM = 1.0"
   ]
  },
  {
   "cell_type": "code",
   "execution_count": 10,
   "metadata": {
    "execution": {
     "iopub.execute_input": "2024-08-05T10:02:26.256310Z",
     "iopub.status.busy": "2024-08-05T10:02:26.254911Z",
     "iopub.status.idle": "2024-08-05T10:02:26.266533Z",
     "shell.execute_reply": "2024-08-05T10:02:26.265751Z",
     "shell.execute_reply.started": "2024-08-05T10:02:26.256276Z"
    }
   },
   "outputs": [],
   "source": [
    "class dataset(Dataset):\n",
    "    def __init__(self, dataframe, tokenizer, max_len):\n",
    "        self.len = len(dataframe)\n",
    "        self.data = dataframe\n",
    "        self.tokenizer = tokenizer\n",
    "        self.max_len = max_len\n",
    "\n",
    "    def __getitem__(self, index):\n",
    "        sentence = self.data.sentence[index]\n",
    "        word_labels = self.data.word_labels[index].split(\",\") \n",
    "\n",
    "        encoding = self.tokenizer(sentence, return_offsets_mapping=True, padding='max_length', truncation=True, max_length=self.max_len)\n",
    "        \n",
    "        labels = [labels_to_ids[label] for label in word_labels]\n",
    "        encoded_labels = np.ones(len(encoding[\"offset_mapping\"]), dtype=int) * -100\n",
    "        \n",
    "        i = 0\n",
    "        for idx, mapping in enumerate(encoding[\"offset_mapping\"]):\n",
    "            if mapping[0] == 0 and mapping[1] != 0:\n",
    "                encoded_labels[idx] = labels[i]\n",
    "                i += 1\n",
    "      \n",
    "        item = {key: torch.as_tensor(val) for key, val in encoding.items()}\n",
    "        item['labels'] = torch.as_tensor(encoded_labels)\n",
    "        return item\n",
    "\n",
    "    def __len__(self):\n",
    "        return self.len"
   ]
  },
  {
   "cell_type": "code",
   "execution_count": 11,
   "metadata": {
    "execution": {
     "iopub.execute_input": "2024-08-05T10:02:26.267979Z",
     "iopub.status.busy": "2024-08-05T10:02:26.267671Z",
     "iopub.status.idle": "2024-08-05T10:02:26.276300Z",
     "shell.execute_reply": "2024-08-05T10:02:26.275479Z",
     "shell.execute_reply.started": "2024-08-05T10:02:26.267950Z"
    }
   },
   "outputs": [],
   "source": [
    "def train_validate_test_split(df, split_size):\n",
    "    perm = np.random.permutation(df.index)\n",
    "    train_end = int(train_size * len(df.index))\n",
    "    validate_end = int(((1 - split_size) / 2) * len(df.index)) + train_end\n",
    "    train = df.iloc[perm[:train_end]]\n",
    "    validate = df.iloc[perm[train_end:validate_end]]\n",
    "    test = df.iloc[perm[validate_end:]]\n",
    "    return train, validate, test"
   ]
  },
  {
   "cell_type": "code",
   "execution_count": 12,
   "metadata": {
    "execution": {
     "iopub.execute_input": "2024-08-05T10:02:26.279190Z",
     "iopub.status.busy": "2024-08-05T10:02:26.278849Z",
     "iopub.status.idle": "2024-08-05T10:02:26.306601Z",
     "shell.execute_reply": "2024-08-05T10:02:26.305764Z",
     "shell.execute_reply.started": "2024-08-05T10:02:26.279157Z"
    }
   },
   "outputs": [
    {
     "name": "stdout",
     "output_type": "stream",
     "text": [
      "Full dataset: 113203\n",
      "Train dataset: 101882\n",
      "Valid dataset: 5660\n",
      "Test dataset: 5661\n"
     ]
    }
   ],
   "source": [
    "train_size = 0.9\n",
    "df_train, df_validation, df_test = train_validate_test_split(df, train_size)\n",
    "df_train = df_train.reset_index(drop=True)\n",
    "df_validation = df_validation.reset_index(drop=True)\n",
    "df_test = df_test.reset_index(drop=True)\n",
    "\n",
    "print(f\"Full dataset: {df.shape[0]}\")\n",
    "print(f\"Train dataset: {df_train.shape[0]}\")\n",
    "print(f\"Valid dataset: {df_validation.shape[0]}\")\n",
    "print(f\"Test dataset: {df_test.shape[0]}\")\n",
    "\n",
    "training_set = dataset(df_train, tokenizer, MAX_LEN)\n",
    "validation_set = dataset(df_validation, tokenizer, MAX_LEN)\n",
    "testing_set = dataset(df_test, tokenizer, MAX_LEN)"
   ]
  },
  {
   "cell_type": "code",
   "execution_count": 13,
   "metadata": {
    "execution": {
     "iopub.execute_input": "2024-08-05T10:02:26.308421Z",
     "iopub.status.busy": "2024-08-05T10:02:26.307716Z",
     "iopub.status.idle": "2024-08-05T10:02:26.313918Z",
     "shell.execute_reply": "2024-08-05T10:02:26.313001Z",
     "shell.execute_reply.started": "2024-08-05T10:02:26.308388Z"
    }
   },
   "outputs": [],
   "source": [
    "train_params = {\"batch_size\": 16, \"shuffle\": True, \"num_workers\": 0}\n",
    "valid_params = {\"batch_size\": 16, \"shuffle\": True, \"num_workers\": 0}\n",
    "test_params = {\"batch_size\": 16, \"shuffle\": True, \"num_workers\": 0}\n",
    "\n",
    "training_loader = DataLoader(training_set, **train_params)\n",
    "validation_loader = DataLoader(validation_set, **valid_params)\n",
    "testing_loader = DataLoader(testing_set, **test_params)"
   ]
  },
  {
   "cell_type": "code",
   "execution_count": 14,
   "metadata": {
    "execution": {
     "iopub.execute_input": "2024-08-05T10:02:26.315922Z",
     "iopub.status.busy": "2024-08-05T10:02:26.315211Z",
     "iopub.status.idle": "2024-08-05T10:02:26.895376Z",
     "shell.execute_reply": "2024-08-05T10:02:26.894563Z",
     "shell.execute_reply.started": "2024-08-05T10:02:26.315896Z"
    }
   },
   "outputs": [],
   "source": [
    "optimizer = torch.optim.Adam(params=model.parameters(), lr=LEARNING_RATE)"
   ]
  },
  {
   "cell_type": "code",
   "execution_count": 15,
   "metadata": {
    "execution": {
     "iopub.execute_input": "2024-08-05T10:02:26.897061Z",
     "iopub.status.busy": "2024-08-05T10:02:26.896520Z",
     "iopub.status.idle": "2024-08-05T10:02:26.908072Z",
     "shell.execute_reply": "2024-08-05T10:02:26.907164Z",
     "shell.execute_reply.started": "2024-08-05T10:02:26.897012Z"
    }
   },
   "outputs": [],
   "source": [
    "def train_model(model, training_loader, optimizer, max_grad_norm, epochs):\n",
    "    device = 'cuda' if torch.cuda.is_available() else 'cpu'\n",
    "    for epoch in range(epochs):\n",
    "        print(f\"Training epoch: {epoch + 1}\")\n",
    "        model.train()\n",
    "        tr_loss, tr_accuracy = 0, 0\n",
    "        nb_tr_steps = 0\n",
    "        tr_preds, tr_labels = [], []\n",
    "\n",
    "        for idx, batch in enumerate(training_loader):\n",
    "            ids = batch['input_ids'].to(device)\n",
    "            mask = batch['attention_mask'].to(device)\n",
    "            labels = batch['labels'].to(device)\n",
    "\n",
    "            output = model(input_ids=ids, attention_mask=mask, labels=labels)\n",
    "            loss = output.loss\n",
    "            tr_logits = output.logits\n",
    "            tr_loss += loss.item()\n",
    "\n",
    "            nb_tr_steps += 1\n",
    "            if idx % 1000 == 0:\n",
    "                print(f\"Training loss per 1000 training steps: {tr_loss / nb_tr_steps}\")\n",
    "            \n",
    "            loss.backward()\n",
    "            torch.nn.utils.clip_grad_norm_(model.parameters(), max_grad_norm)\n",
    "            optimizer.step()\n",
    "            optimizer.zero_grad()\n",
    "\n",
    "            preds = torch.argmax(tr_logits, dim=2)\n",
    "\n",
    "            mask = labels != -100\n",
    "\n",
    "            active_labels = torch.masked_select(labels, mask)\n",
    "            active_preds = torch.masked_select(preds, mask)\n",
    "\n",
    "            tr_labels.extend(active_labels.cpu().numpy())\n",
    "            tr_preds.extend(active_preds.cpu().numpy())\n",
    "\n",
    "        tr_loss /= nb_tr_steps\n",
    "        tr_accuracy = np.sum(np.array(tr_preds) == np.array(tr_labels)) / len(tr_labels)\n",
    "\n",
    "        print(f\"Training loss epoch: {tr_loss}\")\n",
    "        print(f\"Training accuracy epoch: {tr_accuracy}\")"
   ]
  },
  {
   "cell_type": "code",
   "execution_count": 16,
   "metadata": {
    "execution": {
     "iopub.execute_input": "2024-08-05T10:02:26.909357Z",
     "iopub.status.busy": "2024-08-05T10:02:26.909096Z",
     "iopub.status.idle": "2024-08-05T10:38:44.478062Z",
     "shell.execute_reply": "2024-08-05T10:38:44.477067Z",
     "shell.execute_reply.started": "2024-08-05T10:02:26.909335Z"
    }
   },
   "outputs": [
    {
     "name": "stdout",
     "output_type": "stream",
     "text": [
      "Training epoch: 1\n",
      "Training loss per 1000 training steps: 0.7216903567314148\n",
      "Training loss per 1000 training steps: 0.06818460302094098\n",
      "Training loss per 1000 training steps: 0.048163509856668535\n",
      "Training loss per 1000 training steps: 0.03991675493479552\n",
      "Training loss per 1000 training steps: 0.035758461164495714\n",
      "Training loss per 1000 training steps: 0.03134221384851868\n",
      "Training loss per 1000 training steps: 0.0285517639517065\n",
      "Training loss epoch: 0.027983817570056267\n",
      "Training accuracy epoch: 0.9936102550008834\n",
      "CPU times: user 36min 16s, sys: 953 ms, total: 36min 17s\n",
      "Wall time: 36min 17s\n"
     ]
    }
   ],
   "source": [
    "%%time\n",
    "\n",
    "train_model(model, training_loader, optimizer, MAX_GRAD_NORM, EPOCHS)"
   ]
  },
  {
   "cell_type": "code",
   "execution_count": 17,
   "metadata": {
    "execution": {
     "iopub.execute_input": "2024-08-05T10:38:50.343672Z",
     "iopub.status.busy": "2024-08-05T10:38:50.342968Z",
     "iopub.status.idle": "2024-08-05T10:38:50.355300Z",
     "shell.execute_reply": "2024-08-05T10:38:50.354386Z",
     "shell.execute_reply.started": "2024-08-05T10:38:50.343640Z"
    }
   },
   "outputs": [],
   "source": [
    "def validate_model(model, validation_loader):\n",
    "    model.eval()\n",
    "    eval_loss, eval_accuracy = 0, 0\n",
    "    nb_eval_steps = 0\n",
    "    eval_preds, eval_labels = [], []\n",
    "\n",
    "    with torch.no_grad():\n",
    "        for idx, batch in enumerate(validation_loader):\n",
    "            ids = batch['input_ids'].to(device)\n",
    "            mask = batch['attention_mask'].to(device)\n",
    "            labels = batch['labels'].to(device)\n",
    "\n",
    "            output = model(input_ids=ids, attention_mask=mask, labels=labels)\n",
    "            eval_loss += output.loss.item()\n",
    "            eval_logits = output.logits\n",
    "\n",
    "            nb_eval_steps += 1\n",
    "            if idx % 1000 == 0:\n",
    "                print(f\"Validation loss per 1000 evaluation steps: {eval_loss / nb_eval_steps}\")\n",
    "\n",
    "            preds = torch.argmax(eval_logits, dim=2)\n",
    "\n",
    "            mask = labels != -100\n",
    "\n",
    "            active_labels = torch.masked_select(labels, mask)\n",
    "            active_preds = torch.masked_select(preds, mask)\n",
    "\n",
    "            eval_labels.extend(active_labels.cpu().numpy())\n",
    "            eval_preds.extend(active_preds.cpu().numpy())\n",
    "\n",
    "    eval_loss /= nb_eval_steps\n",
    "    eval_accuracy = np.sum(np.array(eval_preds) == np.array(eval_labels)) / len(eval_labels)\n",
    "\n",
    "    print(f\"Validation Loss: {eval_loss}\")\n",
    "    print(f\"Validation Accuracy: {eval_accuracy}\")\n",
    "    return eval_labels, eval_preds"
   ]
  },
  {
   "cell_type": "code",
   "execution_count": 22,
   "metadata": {
    "execution": {
     "iopub.execute_input": "2024-08-05T10:42:02.382146Z",
     "iopub.status.busy": "2024-08-05T10:42:02.381763Z",
     "iopub.status.idle": "2024-08-05T10:42:02.391141Z",
     "shell.execute_reply": "2024-08-05T10:42:02.390090Z",
     "shell.execute_reply.started": "2024-08-05T10:42:02.382114Z"
    }
   },
   "outputs": [],
   "source": [
    "def evaluate_model(labels, predictions):\n",
    "    labels = [ids_to_labels[id.item()] for id in labels]\n",
    "    predictions = [ids_to_labels[id.item()] for id in predictions]\n",
    "    \n",
    "    recall_val = recall_score(y_true=labels, y_pred=predictions, average='macro')\n",
    "    print(f'Recall Score: {recall_val}')\n",
    "\n",
    "    precision_val = precision_score(y_true=labels, y_pred=predictions, average='macro')\n",
    "    print(f'Precision Score: {precision_val}')\n",
    "\n",
    "    f1_val = f1_score(y_true=labels, y_pred=predictions, average='macro')\n",
    "    print(f'F1 Score: {f1_val}')\n",
    "\n",
    "    acc_val = accuracy_score(y_true=labels, y_pred=predictions)\n",
    "    print(f\"Accuracy Score: {acc_val}\")\n",
    "\n",
    "    cm = confusion_matrix(y_true=labels, y_pred=predictions)\n",
    "    print(\"Confusion Matrix:\")\n",
    "    print(cm)\n",
    "\n",
    "    print(\"Classification Report:\")\n",
    "    print(classification_report(labels, predictions))\n",
    "\n",
    "    plt.figure()\n",
    "    fig, ax = plot_confusion_matrix(conf_mat=cm, show_absolute=True, show_normed=True, colorbar=True, class_names=np.unique(labels))\n",
    "    plt.title(\"ELECTRA - Aspect Extraction\")\n",
    "    plt.show()"
   ]
  },
  {
   "cell_type": "code",
   "execution_count": 24,
   "metadata": {
    "execution": {
     "iopub.execute_input": "2024-08-05T10:42:22.398847Z",
     "iopub.status.busy": "2024-08-05T10:42:22.398051Z",
     "iopub.status.idle": "2024-08-05T10:43:05.386367Z",
     "shell.execute_reply": "2024-08-05T10:43:05.385479Z",
     "shell.execute_reply.started": "2024-08-05T10:42:22.398817Z"
    }
   },
   "outputs": [
    {
     "name": "stdout",
     "output_type": "stream",
     "text": [
      "##### Validation #####\n",
      "Validation loss per 1000 evaluation steps: 0.0004031034477520734\n",
      "Validation Loss: 0.014741142486418333\n",
      "Validation Accuracy: 0.9973498233215548\n",
      "Recall Score: 0.9855833333333334\n",
      "Precision Score: 0.9611099672866196\n",
      "F1 Score: 0.9728873458407162\n",
      "Accuracy Score: 0.9973498233215548\n",
      "Confusion Matrix:\n",
      "[[1610    0    0]\n",
      " [   2   48    0]\n",
      " [   7    6 3987]]\n",
      "Classification Report:\n",
      "              precision    recall  f1-score   support\n",
      "\n",
      "         B-A       0.99      1.00      1.00      1610\n",
      "         I-A       0.89      0.96      0.92        50\n",
      "           O       1.00      1.00      1.00      4000\n",
      "\n",
      "    accuracy                           1.00      5660\n",
      "   macro avg       0.96      0.99      0.97      5660\n",
      "weighted avg       1.00      1.00      1.00      5660\n",
      "\n"
     ]
    },
    {
     "data": {
      "text/plain": [
       "<Figure size 640x480 with 0 Axes>"
      ]
     },
     "metadata": {},
     "output_type": "display_data"
    },
    {
     "data": {
      "image/png": "[encoded data removed]",
      "text/plain": [
       "<Figure size 640x480 with 2 Axes>"
      ]
     },
     "metadata": {},
     "output_type": "display_data"
    },
    {
     "name": "stdout",
     "output_type": "stream",
     "text": [
      "CPU times: user 43.1 s, sys: 184 ms, total: 43.3 s\n",
      "Wall time: 43 s\n"
     ]
    }
   ],
   "source": [
    "%%time\n",
    "\n",
    "print(\"##### Validation #####\")\n",
    "labels, predictions = validate_model(model, validation_loader)\n",
    "evaluate_model(labels, predictions)"
   ]
  },
  {
   "cell_type": "code",
   "execution_count": 25,
   "metadata": {
    "execution": {
     "iopub.execute_input": "2024-08-05T10:43:39.736173Z",
     "iopub.status.busy": "2024-08-05T10:43:39.735327Z",
     "iopub.status.idle": "2024-08-05T10:44:22.705791Z",
     "shell.execute_reply": "2024-08-05T10:44:22.704949Z",
     "shell.execute_reply.started": "2024-08-05T10:43:39.736138Z"
    }
   },
   "outputs": [
    {
     "name": "stdout",
     "output_type": "stream",
     "text": [
      "##### Testing #####\n",
      "Validation loss per 1000 evaluation steps: 0.00046884716721251607\n",
      "Validation Loss: 0.014041438030346532\n",
      "Validation Accuracy: 0.9980568804098215\n",
      "Recall Score: 0.9886536582077984\n",
      "Precision Score: 0.9876343984548503\n",
      "F1 Score: 0.988141197378895\n",
      "Accuracy Score: 0.9980568804098215\n",
      "Confusion Matrix:\n",
      "[[1673    0    0]\n",
      " [   2   61    0]\n",
      " [   7    2 3916]]\n",
      "Classification Report:\n",
      "              precision    recall  f1-score   support\n",
      "\n",
      "         B-A       0.99      1.00      1.00      1673\n",
      "         I-A       0.97      0.97      0.97        63\n",
      "           O       1.00      1.00      1.00      3925\n",
      "\n",
      "    accuracy                           1.00      5661\n",
      "   macro avg       0.99      0.99      0.99      5661\n",
      "weighted avg       1.00      1.00      1.00      5661\n",
      "\n"
     ]
    },
    {
     "data": {
      "text/plain": [
       "<Figure size 640x480 with 0 Axes>"
      ]
     },
     "metadata": {},
     "output_type": "display_data"
    },
    {
     "data": {
      "image/png": "[encoded data removed]",
      "text/plain": [
       "<Figure size 640x480 with 2 Axes>"
      ]
     },
     "metadata": {},
     "output_type": "display_data"
    },
    {
     "name": "stdout",
     "output_type": "stream",
     "text": [
      "CPU times: user 43.1 s, sys: 170 ms, total: 43.2 s\n",
      "Wall time: 43 s\n"
     ]
    }
   ],
   "source": [
    "%%time\n",
    "\n",
    "print(\"##### Testing #####\")\n",
    "labels, predictions = validate_model(model, testing_loader)\n",
    "evaluate_model(labels, predictions)"
   ]
  },
  {
   "cell_type": "code",
   "execution_count": 26,
   "metadata": {
    "execution": {
     "iopub.execute_input": "2024-08-05T10:44:48.703902Z",
     "iopub.status.busy": "2024-08-05T10:44:48.703524Z",
     "iopub.status.idle": "2024-08-05T10:44:48.711350Z",
     "shell.execute_reply": "2024-08-05T10:44:48.710384Z",
     "shell.execute_reply.started": "2024-08-05T10:44:48.703869Z"
    }
   },
   "outputs": [],
   "source": [
    "def align_word_predictions(tokens, token_predictions):\n",
    "    aligned_tokens = []\n",
    "    aligned_predictions = []\n",
    "\n",
    "    for token, prediction in zip(tokens, token_predictions):\n",
    "        if not token.startswith(\"##\"):\n",
    "            aligned_tokens.append(token)\n",
    "            aligned_predictions.append(prediction)\n",
    "        else:\n",
    "            aligned_tokens[-1] = aligned_tokens[-1] + token[2:]\n",
    "\n",
    "    return aligned_tokens, aligned_predictions"
   ]
  },
  {
   "cell_type": "code",
   "execution_count": 27,
   "metadata": {
    "execution": {
     "iopub.execute_input": "2024-08-05T10:44:48.973055Z",
     "iopub.status.busy": "2024-08-05T10:44:48.972787Z",
     "iopub.status.idle": "2024-08-05T10:44:48.976853Z",
     "shell.execute_reply": "2024-08-05T10:44:48.976181Z",
     "shell.execute_reply.started": "2024-08-05T10:44:48.973018Z"
    }
   },
   "outputs": [],
   "source": [
    "sentence = \"Fiber 100mb SuperOnline kullanıcısıyım yaklaşık 2 haftadır Twitch Kick_Turkey gibi canlı yayın platformlarında 360p yayın izlerken donmalar yaşıyoruz. Başka hiç bir operatörler bu sorunu yaşamazken ben parasını verip alamadığım hizmeti neden ödeyeyim ? Turkcell \"\n",
    "#sentence = \t\"Türk Telekom da İnternetiniz yokken bile msj atilio\""
   ]
  },
  {
   "cell_type": "code",
   "execution_count": 28,
   "metadata": {
    "execution": {
     "iopub.execute_input": "2024-08-05T10:44:51.122831Z",
     "iopub.status.busy": "2024-08-05T10:44:51.121940Z",
     "iopub.status.idle": "2024-08-05T10:44:51.128863Z",
     "shell.execute_reply": "2024-08-05T10:44:51.127996Z",
     "shell.execute_reply.started": "2024-08-05T10:44:51.122791Z"
    }
   },
   "outputs": [],
   "source": [
    "inputs = tokenizer(sentence,\n",
    "                    # is_pretokenized=True, \n",
    "                    return_offsets_mapping=True, \n",
    "                    padding='max_length', \n",
    "                    truncation=True, \n",
    "                    max_length=MAX_LEN,\n",
    "                    return_tensors=\"pt\")"
   ]
  },
  {
   "cell_type": "code",
   "execution_count": 29,
   "metadata": {
    "execution": {
     "iopub.execute_input": "2024-08-05T10:44:51.612019Z",
     "iopub.status.busy": "2024-08-05T10:44:51.611725Z",
     "iopub.status.idle": "2024-08-05T10:44:51.638273Z",
     "shell.execute_reply": "2024-08-05T10:44:51.637345Z",
     "shell.execute_reply.started": "2024-08-05T10:44:51.611997Z"
    }
   },
   "outputs": [],
   "source": [
    "ids = inputs[\"input_ids\"].to(device)\n",
    "mask = inputs[\"attention_mask\"].to(device)\n",
    "\n",
    "with torch.no_grad():\n",
    "    outputs = model(ids, attention_mask=mask)\n",
    "    logits = outputs[0]\n",
    "\n",
    "active_logits = logits.view(-1, model.num_labels) \n",
    "flattened_predictions = torch.argmax(active_logits, axis=1) \n",
    "\n",
    "tokens = tokenizer.convert_ids_to_tokens(ids.squeeze().tolist())\n",
    "token_predictions = [ids_to_labels[i] for i in flattened_predictions.cpu().numpy()]\n",
    "wp_preds = list(zip(tokens, token_predictions))"
   ]
  },
  {
   "cell_type": "code",
   "execution_count": 30,
   "metadata": {
    "execution": {
     "iopub.execute_input": "2024-08-05T10:44:53.232723Z",
     "iopub.status.busy": "2024-08-05T10:44:53.232363Z",
     "iopub.status.idle": "2024-08-05T10:44:53.239051Z",
     "shell.execute_reply": "2024-08-05T10:44:53.238077Z",
     "shell.execute_reply.started": "2024-08-05T10:44:53.232692Z"
    }
   },
   "outputs": [
    {
     "name": "stdout",
     "output_type": "stream",
     "text": [
      "[CLS]: O\n",
      "Fiber: O\n",
      "100mb: O\n",
      "SuperOnline: B-A\n",
      "kullanıcısıyım: O\n",
      "yaklaşık: O\n",
      "2: O\n",
      "haftadır: O\n",
      "Twitch: B-A\n",
      "Kick: O\n",
      "_: O\n",
      "Turkey: O\n",
      "gibi: O\n",
      "canlı: O\n",
      "yayın: O\n",
      "platformlarında: O\n",
      "360p: O\n",
      "yayın: O\n",
      "izlerken: O\n",
      "donmalar: O\n",
      "yaşıyoruz: O\n",
      ".: O\n",
      "Başka: O\n",
      "hiç: O\n",
      "bir: O\n",
      "operatörler: B-A\n",
      "bu: O\n",
      "sorunu: O\n",
      "yaşamazken: O\n",
      "ben: O\n",
      "parasını: O\n",
      "verip: O\n",
      "alamadığım: O\n",
      "hizmeti: O\n",
      "neden: O\n",
      "ödeyeyim: O\n",
      "?: O\n",
      "Turkcell: B-A\n",
      "[SEP]: O\n",
      "[PAD]: O\n",
      "[PAD]: O\n",
      "[PAD]: O\n",
      "[PAD]: O\n",
      "[PAD]: O\n",
      "[PAD]: O\n",
      "[PAD]: O\n",
      "[PAD]: O\n",
      "[PAD]: O\n",
      "[PAD]: O\n",
      "[PAD]: O\n",
      "[PAD]: O\n",
      "[PAD]: O\n",
      "[PAD]: O\n",
      "[PAD]: O\n",
      "[PAD]: O\n",
      "[PAD]: O\n",
      "[PAD]: O\n",
      "[PAD]: O\n",
      "[PAD]: O\n",
      "[PAD]: O\n",
      "[PAD]: O\n",
      "[PAD]: O\n",
      "[PAD]: O\n",
      "[PAD]: O\n",
      "[PAD]: O\n",
      "[PAD]: O\n",
      "[PAD]: O\n",
      "[PAD]: O\n",
      "[PAD]: O\n",
      "[PAD]: O\n",
      "[PAD]: O\n",
      "[PAD]: O\n",
      "[PAD]: O\n",
      "[PAD]: O\n",
      "[PAD]: O\n",
      "[PAD]: O\n",
      "[PAD]: O\n",
      "[PAD]: O\n",
      "[PAD]: O\n",
      "[PAD]: O\n",
      "[PAD]: O\n",
      "[PAD]: O\n",
      "[PAD]: O\n",
      "[PAD]: O\n",
      "[PAD]: O\n",
      "[PAD]: O\n",
      "[PAD]: O\n",
      "[PAD]: O\n",
      "[PAD]: O\n",
      "[PAD]: O\n",
      "[PAD]: O\n",
      "[PAD]: O\n",
      "[PAD]: O\n",
      "[PAD]: O\n",
      "[PAD]: O\n",
      "[PAD]: O\n",
      "[PAD]: O\n",
      "[PAD]: O\n",
      "[PAD]: O\n",
      "[PAD]: O\n",
      "[PAD]: O\n",
      "[PAD]: O\n",
      "[PAD]: O\n",
      "[PAD]: O\n",
      "[PAD]: O\n",
      "[PAD]: O\n",
      "[PAD]: O\n",
      "[PAD]: O\n",
      "[PAD]: O\n",
      "[PAD]: O\n"
     ]
    }
   ],
   "source": [
    "aligned_tokens, aligned_predictions = align_word_predictions(tokens, token_predictions)\n",
    "\n",
    "for token, prediction in zip(aligned_tokens, aligned_predictions):\n",
    "    print(f\"{token}: {prediction}\")"
   ]
  },
  {
   "cell_type": "code",
   "execution_count": 31,
   "metadata": {
    "execution": {
     "iopub.execute_input": "2024-08-05T10:45:05.319702Z",
     "iopub.status.busy": "2024-08-05T10:45:05.319115Z",
     "iopub.status.idle": "2024-08-05T10:45:05.325934Z",
     "shell.execute_reply": "2024-08-05T10:45:05.325007Z",
     "shell.execute_reply.started": "2024-08-05T10:45:05.319672Z"
    }
   },
   "outputs": [
    {
     "name": "stdout",
     "output_type": "stream",
     "text": [
      "Sample input sentence:\n",
      "Word                          ||Pred      \n",
      "==============================\n",
      "Fiber                         ||O         \n",
      "100mb                         ||O         \n",
      "SuperOnline                   ||B-A       \n",
      "kullanıcısıyım                ||O         \n",
      "yaklaşık                      ||O         \n",
      "2                             ||O         \n",
      "haftadır                      ||O         \n",
      "Twitch                        ||B-A       \n",
      "Kick                          ||O         \n",
      "_                             ||O         \n",
      "Turkey                        ||O         \n",
      "gibi                          ||O         \n",
      "canlı                         ||O         \n",
      "yayın                         ||O         \n",
      "platformlarında               ||O         \n",
      "360p                          ||O         \n",
      "yayın                         ||O         \n",
      "izlerken                      ||O         \n",
      "donmalar                      ||O         \n",
      "yaşıyoruz                     ||O         \n",
      ".                             ||O         \n",
      "Başka                         ||O         \n",
      "hiç                           ||O         \n",
      "bir                           ||O         \n",
      "operatörler                   ||B-A       \n",
      "bu                            ||O         \n",
      "sorunu                        ||O         \n",
      "yaşamazken                    ||O         \n",
      "ben                           ||O         \n",
      "parasını                      ||O         \n",
      "verip                         ||O         \n",
      "alamadığım                    ||O         \n",
      "hizmeti                       ||O         \n",
      "neden                         ||O         \n",
      "ödeyeyim                      ||O         \n",
      "?                             ||O         \n",
      "Turkcell                      ||B-A       \n"
     ]
    }
   ],
   "source": [
    "print(\"Sample input sentence:\")\n",
    "print(\"{:30}||{:10}\".format(\"Word\", \"Pred\"))\n",
    "print(30 * \"=\")\n",
    "for w, pred in zip(aligned_tokens, aligned_predictions):\n",
    "    if w not in [\"[PAD]\", \"[CLS]\", \"[SEP]\"]:\n",
    "        print(\"{:30}||{:10}\".format(w, pred))"
   ]
  },
  {
   "cell_type": "code",
   "execution_count": null,
   "metadata": {},
   "outputs": [],
   "source": []
  }
 ],
 "metadata": {
  "kaggle": {
   "accelerator": "nvidiaTeslaT4",
   "dataSources": [
    {
     "datasetId": 5454449,
     "sourceId": 9098506,
     "sourceType": "datasetVersion"
    }
   ],
   "dockerImageVersionId": 30747,
   "isGpuEnabled": true,
   "isInternetEnabled": true,
   "language": "python",
   "sourceType": "notebook"
  },
  "kernelspec": {
   "display_name": "Python 3 (ipykernel)",
   "language": "python",
   "name": "python3"
  },
  "language_info": {
   "codemirror_mode": {
    "name": "ipython",
    "version": 3
   },
   "file_extension": ".py",
   "mimetype": "text/x-python",
   "name": "python",
   "nbconvert_exporter": "python",
   "pygments_lexer": "ipython3",
   "version": "3.10.12"
  }
 },
 "nbformat": 4,
 "nbformat_minor": 4
}
