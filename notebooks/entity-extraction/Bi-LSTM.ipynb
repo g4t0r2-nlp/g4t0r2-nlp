{
 "cells": [
  {
   "cell_type": "code",
   "execution_count": 1,
   "id": "e270f14d-2d58-4b84-9ed7-c7a0db7433a6",
   "metadata": {},
   "outputs": [
    {
     "name": "stderr",
     "output_type": "stream",
     "text": [
      "/home/alper/.local/lib/python3.10/site-packages/tensorflow_addons/utils/tfa_eol_msg.py:23: UserWarning: \n",
      "\n",
      "TensorFlow Addons (TFA) has ended development and introduction of new features.\n",
      "TFA has entered a minimal maintenance and release mode until a planned end of life in May 2024.\n",
      "Please modify downstream libraries to take dependencies from other repositories in our TensorFlow community (e.g. Keras, Keras-CV, and Keras-NLP). \n",
      "\n",
      "For more information see: https://github.com/tensorflow/addons/issues/2807 \n",
      "\n",
      "  warnings.warn(\n",
      "/home/alper/.local/lib/python3.10/site-packages/tensorflow_addons/utils/ensure_tf_install.py:53: UserWarning: Tensorflow Addons supports using Python ops for all Tensorflow versions above or equal to 2.13.0 and strictly below 2.16.0 (nightly versions are not supported). \n",
      " The versions of TensorFlow you are currently using is 2.12.0 and is not supported. \n",
      "Some things might work, some things might not.\n",
      "If you were to encounter a bug, do not file an issue.\n",
      "If you want to make sure you're using a tested and supported configuration, either change the TensorFlow version or the TensorFlow Addons's version. \n",
      "You can find the compatibility matrix in TensorFlow Addon's readme:\n",
      "https://github.com/tensorflow/addons\n",
      "  warnings.warn(\n"
     ]
    }
   ],
   "source": [
    "import os\n",
    "os.environ[\"TF_CPP_MIN_LOG_LEVEL\"] = \"3\"\n",
    "\n",
    "import time\n",
    "import tqdm\n",
    "import random\n",
    "import argparse\n",
    "\n",
    "import numpy as np\n",
    "import pandas as pd\n",
    "tqdm.tqdm.pandas()\n",
    "\n",
    "import matplotlib.pyplot as plt\n",
    "\n",
    "import gensim\n",
    "from gensim import corpora, models, similarities\n",
    "\n",
    "from sklearn.model_selection import train_test_split\n",
    "\n",
    "from mlxtend.plotting import plot_confusion_matrix\n",
    "from sklearn_crfsuite import metrics\n",
    "\n",
    "from sklearn.metrics import classification_report, confusion_matrix\n",
    "from sklearn.metrics import accuracy_score, f1_score, precision_score, recall_score\n",
    "\n",
    "import tensorflow as tf\n",
    "from tensorflow.keras import layers, models, optimizers, callbacks, preprocessing\n",
    "from tensorflow.keras.utils import to_categorical\n",
    "\n",
    "from tensorflow.keras.models import Model\n",
    "from tensorflow.keras.layers import Input, LSTM, Embedding, Dense, TimeDistributed, Dropout, Bidirectional\n",
    "from tensorflow_addons.utils.types import FloatTensorLike, TensorLike\n",
    "from tensorflow_addons.layers import CRF\n",
    "from tensorflow_addons.losses import SigmoidFocalCrossEntropy\n",
    "from tensorflow_addons.optimizers import AdamW\n",
    "\n",
    "import warnings\n",
    "from sklearn.exceptions import ConvergenceWarning\n",
    "warnings.filterwarnings(\"ignore\", category=UserWarning)\n",
    "warnings.filterwarnings(\"ignore\", category=FutureWarning)\n",
    "warnings.filterwarnings(\"ignore\", category=ConvergenceWarning)\n",
    "\n",
    "def set_seed(seed):\n",
    "    random.seed(seed)\n",
    "    np.random.seed(seed)\n",
    "    tf.random.set_seed(seed)\n",
    "    os.environ['PYTHONHASHSEED'] = str(seed)"
   ]
  },
  {
   "cell_type": "code",
   "execution_count": 2,
   "id": "a0e249a4-6232-4bbb-81ab-ad6419d8cf8a",
   "metadata": {},
   "outputs": [],
   "source": [
    "set_seed(42)"
   ]
  },
  {
   "cell_type": "code",
   "execution_count": 3,
   "id": "1a43fdeb-691e-49e3-81e9-4219b817cee0",
   "metadata": {},
   "outputs": [
    {
     "data": {
      "text/html": [
       "<div>\n",
       "<style scoped>\n",
       "    .dataframe tbody tr th:only-of-type {\n",
       "        vertical-align: middle;\n",
       "    }\n",
       "\n",
       "    .dataframe tbody tr th {\n",
       "        vertical-align: top;\n",
       "    }\n",
       "\n",
       "    .dataframe thead th {\n",
       "        text-align: right;\n",
       "    }\n",
       "</style>\n",
       "<table border=\"1\" class=\"dataframe\">\n",
       "  <thead>\n",
       "    <tr style=\"text-align: right;\">\n",
       "      <th></th>\n",
       "      <th>rid</th>\n",
       "      <th>Word</th>\n",
       "      <th>Tag</th>\n",
       "    </tr>\n",
       "  </thead>\n",
       "  <tbody>\n",
       "    <tr>\n",
       "      <th>0</th>\n",
       "      <td>9:1</td>\n",
       "      <td>Uygulamada</td>\n",
       "      <td>O</td>\n",
       "    </tr>\n",
       "    <tr>\n",
       "      <th>1</th>\n",
       "      <td>9:1</td>\n",
       "      <td>kartlarda</td>\n",
       "      <td>O</td>\n",
       "    </tr>\n",
       "    <tr>\n",
       "      <th>2</th>\n",
       "      <td>9:1</td>\n",
       "      <td>Troy</td>\n",
       "      <td>B-A</td>\n",
       "    </tr>\n",
       "    <tr>\n",
       "      <th>3</th>\n",
       "      <td>9:1</td>\n",
       "      <td>kart</td>\n",
       "      <td>O</td>\n",
       "    </tr>\n",
       "    <tr>\n",
       "      <th>4</th>\n",
       "      <td>9:1</td>\n",
       "      <td>geçmiyor</td>\n",
       "      <td>O</td>\n",
       "    </tr>\n",
       "  </tbody>\n",
       "</table>\n",
       "</div>"
      ],
      "text/plain": [
       "   rid        Word  Tag\n",
       "0  9:1  Uygulamada    O\n",
       "1  9:1   kartlarda    O\n",
       "2  9:1        Troy  B-A\n",
       "3  9:1        kart    O\n",
       "4  9:1    geçmiyor    O"
      ]
     },
     "execution_count": 3,
     "metadata": {},
     "output_type": "execute_result"
    }
   ],
   "source": [
    "df = pd.read_csv(\"/mnt/d/work2/teknofest-tddi/data/processed/all_tagged_aspects_just_aspect_cleaned.csv\")\n",
    "df.head()"
   ]
  },
  {
   "cell_type": "code",
   "execution_count": 4,
   "id": "04036022-2d47-42bc-9cd3-8c203b51b613",
   "metadata": {},
   "outputs": [
    {
     "data": {
      "text/plain": [
       "(2288270, 3)"
      ]
     },
     "execution_count": 4,
     "metadata": {},
     "output_type": "execute_result"
    }
   ],
   "source": [
    "df.shape"
   ]
  },
  {
   "cell_type": "code",
   "execution_count": 5,
   "id": "469db446-0b29-4699-8250-a717b26a1e86",
   "metadata": {},
   "outputs": [],
   "source": [
    "BATCH_SIZE = 32\n",
    "EPOCHS = 5\n",
    "MAX_LEN = 64\n",
    "EMBEDDING = 20"
   ]
  },
  {
   "cell_type": "code",
   "execution_count": 6,
   "id": "0b1888ff-0c71-4447-a787-31f8ebeb56aa",
   "metadata": {},
   "outputs": [],
   "source": [
    "words = list(set(df['Word'].values))\n",
    "tags = list(set(df[\"Tag\"].values))"
   ]
  },
  {
   "cell_type": "code",
   "execution_count": 7,
   "id": "0b05ba50-3033-4530-8c7b-3eac8ee6baad",
   "metadata": {},
   "outputs": [],
   "source": [
    "word2idx = {w: i + 2 for i, w in enumerate(words)}\n",
    "word2idx[\"UNK\"] = 1\n",
    "word2idx[\"PAD\"] = 0"
   ]
  },
  {
   "cell_type": "code",
   "execution_count": 8,
   "id": "54679bcb-a111-4d83-8162-141a3c5d2e52",
   "metadata": {},
   "outputs": [],
   "source": [
    "idx2word = {i: w for w, i in word2idx.items()}"
   ]
  },
  {
   "cell_type": "code",
   "execution_count": 9,
   "id": "ad1d45f7-c260-43a3-b412-53ebee6f165f",
   "metadata": {},
   "outputs": [],
   "source": [
    "tag2idx = {t: i+1 for i, t in enumerate(tags)}\n",
    "tag2idx[\"PAD\"] = 0"
   ]
  },
  {
   "cell_type": "code",
   "execution_count": 10,
   "id": "c3701848-cddc-409f-b0e1-746ce6069b6d",
   "metadata": {},
   "outputs": [],
   "source": [
    "idx2tag = {i: w for w, i in tag2idx.items()}"
   ]
  },
  {
   "cell_type": "code",
   "execution_count": 11,
   "id": "506f0058-d048-4f77-b352-69229b9baebb",
   "metadata": {},
   "outputs": [],
   "source": [
    "sentences = [(list(zip(group['Word'], group['Tag']))) for _, group in df.groupby('rid')]"
   ]
  },
  {
   "cell_type": "code",
   "execution_count": 12,
   "id": "63d82ac9-aab4-4367-b47f-0b0fd8208ffc",
   "metadata": {},
   "outputs": [],
   "source": [
    "X = [[word2idx[w[0]] for w in s] for s in sentences]\n",
    "X = preprocessing.sequence.pad_sequences(maxlen=MAX_LEN, sequences=X, padding=\"post\", value=word2idx[\"PAD\"])"
   ]
  },
  {
   "cell_type": "code",
   "execution_count": 13,
   "id": "cfc82013-2523-488d-9d69-34f154fb7c8d",
   "metadata": {},
   "outputs": [],
   "source": [
    "y = [[tag2idx[w[1]] for w in s] for s in sentences]\n",
    "y = preprocessing.sequence.pad_sequences(maxlen=MAX_LEN, sequences=y, padding=\"post\", value=tag2idx[\"PAD\"])\n",
    "y = [to_categorical(i, num_classes=len(tags)+1) for i in y]"
   ]
  },
  {
   "cell_type": "code",
   "execution_count": 14,
   "id": "1ce56699-9229-455e-887a-5fc629e1d695",
   "metadata": {},
   "outputs": [],
   "source": [
    "X_train, X_test, y_train, y_test = train_test_split(X, y, test_size=0.05, random_state=1)\n",
    "X_train, X_valid, y_train, y_valid = train_test_split(X_train, y_train, test_size=0.05, random_state=1)"
   ]
  },
  {
   "cell_type": "code",
   "execution_count": 15,
   "id": "d3d4d591-4c20-4343-8524-439e3d9d6f0a",
   "metadata": {},
   "outputs": [
    {
     "name": "stdout",
     "output_type": "stream",
     "text": [
      "X_train shape: (102164, 64)\n",
      "X_valid shape: (5378, 64)\n",
      "X_test shape: (5661, 64)\n"
     ]
    }
   ],
   "source": [
    "print(\"X_train shape:\", X_train.shape)\n",
    "print(\"X_valid shape:\", X_valid.shape)\n",
    "print(\"X_test shape:\", X_test.shape)"
   ]
  },
  {
   "cell_type": "code",
   "execution_count": 16,
   "id": "0fe72d61-a997-40e0-8e66-a5c1d911dfb1",
   "metadata": {},
   "outputs": [],
   "source": [
    "y_train = np.array(y_train)\n",
    "y_test = np.array(y_test)\n",
    "y_valid = np.array(y_valid)"
   ]
  },
  {
   "cell_type": "code",
   "execution_count": 17,
   "id": "1c0225dc-0341-498e-ab63-bfe326fb662a",
   "metadata": {},
   "outputs": [],
   "source": [
    "input_dim = len(word2idx) + 1\n",
    "embedding_dim = 300"
   ]
  },
  {
   "cell_type": "code",
   "execution_count": 18,
   "id": "db43b789-daef-4bf0-8dd8-9d5e8f2c5891",
   "metadata": {},
   "outputs": [],
   "source": [
    "input_layer = Input(shape=(MAX_LEN,))\n",
    "\n",
    "embeddings = Embedding(input_dim, embedding_dim, input_length=MAX_LEN, mask_zero=True, trainable=True)(input_layer)\n",
    "\n",
    "output_sequences = Bidirectional(LSTM(units=32, return_sequences=True))(embeddings)\n",
    "output_sequences = Bidirectional(LSTM(units=64, return_sequences=True))(output_sequences)\n",
    "output_sequences = Bidirectional(LSTM(units=32, return_sequences=True))(output_sequences)\n",
    "\n",
    "dense_out = TimeDistributed(Dense(4, activation=\"softmax\"))(output_sequences)\n",
    "\n",
    "model = Model(input_layer, dense_out)\n",
    "model.compile(optimizer=AdamW(weight_decay=0.001), loss= SigmoidFocalCrossEntropy(), metrics=\"accuracy\")"
   ]
  },
  {
   "cell_type": "code",
   "execution_count": 19,
   "id": "748ed21d-2b0c-4a6a-9af5-721cc530c0e1",
   "metadata": {},
   "outputs": [
    {
     "name": "stdout",
     "output_type": "stream",
     "text": [
      "Model: \"model\"\n",
      "_________________________________________________________________\n",
      " Layer (type)                Output Shape              Param #   \n",
      "=================================================================\n",
      " input_1 (InputLayer)        [(None, 64)]              0         \n",
      "                                                                 \n",
      " embedding (Embedding)       (None, 64, 300)           49641000  \n",
      "                                                                 \n",
      " bidirectional (Bidirectiona  (None, 64, 64)           85248     \n",
      " l)                                                              \n",
      "                                                                 \n",
      " bidirectional_1 (Bidirectio  (None, 64, 128)          66048     \n",
      " nal)                                                            \n",
      "                                                                 \n",
      " bidirectional_2 (Bidirectio  (None, 64, 64)           41216     \n",
      " nal)                                                            \n",
      "                                                                 \n",
      " time_distributed (TimeDistr  (None, 64, 4)            260       \n",
      " ibuted)                                                         \n",
      "                                                                 \n",
      "=================================================================\n",
      "Total params: 49,833,772\n",
      "Trainable params: 49,833,772\n",
      "Non-trainable params: 0\n",
      "_________________________________________________________________\n"
     ]
    }
   ],
   "source": [
    "model.summary()"
   ]
  },
  {
   "cell_type": "code",
   "execution_count": 20,
   "id": "19593413-4cb2-4fbf-8910-f61bf70d8d69",
   "metadata": {},
   "outputs": [
    {
     "data": {
      "image/png": "[encoded data removed]",
      "text/plain": [
       "<IPython.core.display.Image object>"
      ]
     },
     "execution_count": 20,
     "metadata": {},
     "output_type": "execute_result"
    }
   ],
   "source": [
    "tf.keras.utils.plot_model(model, show_layer_names=True, show_shapes=True, expand_nested=True, to_file=\"./output/bilstm_model_plot.png\")"
   ]
  },
  {
   "cell_type": "code",
   "execution_count": null,
   "id": "c2d44ce3-219a-4efa-8e60-7fa2c428b05a",
   "metadata": {},
   "outputs": [],
   "source": [
    "model1_train_start = time.time()\n",
    "model_history = model.fit(\n",
    "    X_train, \n",
    "    y_train, \n",
    "    epochs=2, \n",
    "    batch_size=128, \n",
    "    validation_data=[X_valid, y_valid], \n",
    "    callbacks=[callbacks.EarlyStopping(monitor=\"val_accuracy\", patience=3)]\n",
    ")\n",
    "model1_train_time = time.time() - model1_train_start\n",
    "print(f\"Bi-LSTM Train Time = {model1_train_time:.4f}\")"
   ]
  },
  {
   "cell_type": "code",
   "execution_count": null,
   "id": "cf3fab6f-6d26-4410-97e0-d4b4bb10baff",
   "metadata": {},
   "outputs": [],
   "source": [
    "model1_test_start = time.time()\n",
    "model_pred_test = model.predict(X_test, verbose=0)\n",
    "model1_test_time = time.time() - model1_test_start\n",
    "print(f\"Bi-LSTM Test Time = {model1_test_time:.4f}\")"
   ]
  },
  {
   "cell_type": "code",
   "execution_count": null,
   "id": "971b610c-034b-4340-b0d8-3d252801ea24",
   "metadata": {},
   "outputs": [],
   "source": [
    "true_labels_train = np.argmax(y_train, axis=-1)\n",
    "true_labels_test = np.argmax(y_test, axis=-1)"
   ]
  },
  {
   "cell_type": "code",
   "execution_count": null,
   "id": "715b6cf7-1c61-4b56-b298-8ed89a0bc3a6",
   "metadata": {},
   "outputs": [],
   "source": [
    "model_pred_train = model.predict(X_train, verbose=0)\n",
    "model_pred_train = np.argmax(model_pred_train, axis=-1)\n",
    "model_pred_test = np.argmax(model_pred_test, axis=-1)\n",
    "model_train_score = metrics.flat_accuracy_score(model_pred_train, true_labels_train)\n",
    "model_test_score = metrics.flat_accuracy_score(model_pred_test, true_labels_test)\n",
    "print(f\"Bi-LSTM Train Score = {model_train_score * 100:.4f}%\")\n",
    "print(f\"Bi-LSTM Test Score = {model_test_score * 100:.4f}%\")"
   ]
  },
  {
   "cell_type": "code",
   "execution_count": null,
   "id": "50b01050-6e95-4a26-b822-4be40fd38ab2",
   "metadata": {},
   "outputs": [],
   "source": [
    "model_precision_score = metrics.flat_precision_score(true_labels_test, model_pred_test, average=\"macro\")\n",
    "model_f1_score = metrics.flat_f1_score(true_labels_test, model_pred_test, average=\"macro\")\n",
    "model_recall_score = metrics.flat_recall_score(true_labels_test, model_pred_test, average=\"macro\")\n",
    "model_accuracy_score = metrics.flat_accuracy_score(true_labels_test, model_pred_test)\n",
    "\n",
    "print(f\"Bi-LSTM Precision Score = {model_precision_score * 100:.4f}%\")\n",
    "print(f\"Bi-LSTM F1 Score = {model_f1_score * 100:.4f}%\")\n",
    "print(f\"Bi-LSTM Recall Score = {model_recall_score * 100:.4f}%\")\n",
    "print(f\"Bi-LSTM Accuracy Score = {model_accuracy_score * 100:.4f}%\")"
   ]
  },
  {
   "cell_type": "code",
   "execution_count": null,
   "id": "638df248-9958-424d-9edf-531d5de4fb68",
   "metadata": {},
   "outputs": [],
   "source": [
    "print(metrics.flat_classification_report(true_labels_test, model_pred_test, target_names=[\"PAD\", \"O\", \"I-A\", \"B-A\"]))"
   ]
  },
  {
   "cell_type": "code",
   "execution_count": null,
   "id": "4a2d7038-d8aa-4437-946f-7b2ac6f71c01",
   "metadata": {},
   "outputs": [],
   "source": [
    "model_cm = confusion_matrix(metrics.flatten(true_labels_test), metrics.flatten(model_pred_test))\n",
    "fig, ax = plot_confusion_matrix(conf_mat=model_cm, show_absolute=True, show_normed=True, colorbar=True, class_names=[\"PAD\", \"O\", \"I-A\", \"B-A\"], figsize=(10, 10))\n",
    "plt.title(\"Bi-LSTM - Entity Extraction\")\n",
    "plt.savefig(\"./output/bilstm.png\")\n",
    "plt.show()"
   ]
  },
  {
   "cell_type": "code",
   "execution_count": null,
   "id": "90446156-cf78-4d61-b2df-87d4ccdc0112",
   "metadata": {},
   "outputs": [],
   "source": []
  },
  {
   "cell_type": "code",
   "execution_count": null,
   "id": "16a154a5-0372-4a33-aae2-f1b9af4cab0c",
   "metadata": {},
   "outputs": [],
   "source": []
  },
  {
   "cell_type": "code",
   "execution_count": null,
   "id": "b2c53f40-b10c-4ce1-a658-b4b423e616a4",
   "metadata": {},
   "outputs": [],
   "source": []
  },
  {
   "cell_type": "code",
   "execution_count": null,
   "id": "55d2248a-d95d-4d33-ba66-ffd14b989aff",
   "metadata": {},
   "outputs": [],
   "source": []
  },
  {
   "cell_type": "code",
   "execution_count": null,
   "id": "1d5e293e-0fa1-4887-96b6-8f1ff312aa4b",
   "metadata": {},
   "outputs": [],
   "source": []
  }
 ],
 "metadata": {
  "kernelspec": {
   "display_name": "Python 3 (ipykernel)",
   "language": "python",
   "name": "python3"
  },
  "language_info": {
   "codemirror_mode": {
    "name": "ipython",
    "version": 3
   },
   "file_extension": ".py",
   "mimetype": "text/x-python",
   "name": "python",
   "nbconvert_exporter": "python",
   "pygments_lexer": "ipython3",
   "version": "3.10.12"
  }
 },
 "nbformat": 4,
 "nbformat_minor": 5
}
