{
 "cells": [
  {
   "cell_type": "code",
   "execution_count": 1,
   "metadata": {
    "_cell_guid": "b1076dfc-b9ad-4769-8c92-a6c4dae69d19",
    "_uuid": "8f2839f25d086af736a60e9eeb907d3b93b6e0e5",
    "execution": {
     "iopub.execute_input": "2024-08-05T16:25:28.562635Z",
     "iopub.status.busy": "2024-08-05T16:25:28.562397Z",
     "iopub.status.idle": "2024-08-05T16:25:29.623547Z",
     "shell.execute_reply": "2024-08-05T16:25:29.622391Z",
     "shell.execute_reply.started": "2024-08-05T16:25:28.562612Z"
    }
   },
   "outputs": [
    {
     "name": "stdout",
     "output_type": "stream",
     "text": [
      "/kaggle/input/all-aspects/all_aspects_just_aspect.csv\n",
      "/kaggle/input/all-aspects/all_tagged_aspects_just_aspect_cleaned.csv\n",
      "/kaggle/input/all-aspects/all_tagged_aspects_just_aspect_filled.csv\n",
      "/kaggle/input/all-aspects/all_tagged_aspects_filled.csv\n",
      "/kaggle/input/all-aspects/all_tagged_aspects_just_aspect.csv\n",
      "/kaggle/input/all-aspects/all_tagged_aspects_sentences.csv\n",
      "/kaggle/input/all-aspects/all_tagged_aspects_just_aspect_sentences.csv\n",
      "/kaggle/input/all-aspects/all_aspects_just_aspect_cleaned.csv\n",
      "/kaggle/input/all-aspects/all_tagged_aspects_just_aspect_filled_sentences.csv\n",
      "/kaggle/input/all-aspects/reviews.csv\n",
      "/kaggle/input/all-aspects/cleaned.csv\n",
      "/kaggle/input/all-aspects/all_aspects_just_aspect_filled.csv\n",
      "/kaggle/input/all-aspects/all_tagged_aspects.csv\n",
      "/kaggle/input/all-aspects/all_aspects.csv\n",
      "/kaggle/input/all-aspects/all_tagged_aspects_just_aspect_cleaned_sentences.csv\n"
     ]
    }
   ],
   "source": [
    "# This Python 3 environment comes with many helpful analytics libraries installed\n",
    "# It is defined by the kaggle/python Docker image: https://github.com/kaggle/docker-python\n",
    "# For example, here's several helpful packages to load\n",
    "\n",
    "import numpy as np # linear algebra\n",
    "import pandas as pd # data processing, CSV file I/O (e.g. pd.read_csv)\n",
    "\n",
    "# Input data files are available in the read-only \"../input/\" directory\n",
    "# For example, running this (by clicking run or pressing Shift+Enter) will list all files under the input directory\n",
    "\n",
    "import os\n",
    "for dirname, _, filenames in os.walk('/kaggle/input'):\n",
    "    for filename in filenames:\n",
    "        print(os.path.join(dirname, filename))\n",
    "\n",
    "# You can write up to 20GB to the current directory (/kaggle/working/) that gets preserved as output when you create a version using \"Save & Run All\" \n",
    "# You can also write temporary files to /kaggle/temp/, but they won't be saved outside of the current session"
   ]
  },
  {
   "cell_type": "code",
   "execution_count": 3,
   "metadata": {
    "execution": {
     "iopub.execute_input": "2024-08-05T16:27:45.677847Z",
     "iopub.status.busy": "2024-08-05T16:27:45.677175Z",
     "iopub.status.idle": "2024-08-05T16:27:50.929617Z",
     "shell.execute_reply": "2024-08-05T16:27:50.928641Z",
     "shell.execute_reply.started": "2024-08-05T16:27:45.677814Z"
    }
   },
   "outputs": [],
   "source": [
    "import pandas as pd\n",
    "from sklearn.model_selection import train_test_split\n",
    "from transformers import BertTokenizerFast\n",
    "import torch\n",
    "import matplotlib.pyplot as plt\n",
    "from torch import nn\n",
    "from transformers import BertModel, BertForTokenClassification, AutoModelForTokenClassification, AutoTokenizer\n",
    "from torch.utils.data import DataLoader, TensorDataset, RandomSampler, Dataset\n",
    "from transformers import AdamW\n",
    "from mlxtend.plotting import plot_confusion_matrix\n",
    "from sklearn.metrics import confusion_matrix, classification_report, accuracy_score, f1_score, precision_score, recall_score\n",
    "import numpy as np"
   ]
  },
  {
   "cell_type": "code",
   "execution_count": 4,
   "metadata": {
    "execution": {
     "iopub.execute_input": "2024-08-05T16:27:50.931652Z",
     "iopub.status.busy": "2024-08-05T16:27:50.931205Z",
     "iopub.status.idle": "2024-08-05T16:27:50.987873Z",
     "shell.execute_reply": "2024-08-05T16:27:50.986780Z",
     "shell.execute_reply.started": "2024-08-05T16:27:50.931627Z"
    }
   },
   "outputs": [
    {
     "data": {
      "text/plain": [
       "device(type='cuda')"
      ]
     },
     "execution_count": 4,
     "metadata": {},
     "output_type": "execute_result"
    }
   ],
   "source": [
    "device = torch.device(\"cuda\" if torch.cuda.is_available() else \"cpu\")\n",
    "device"
   ]
  },
  {
   "cell_type": "code",
   "execution_count": 5,
   "metadata": {
    "execution": {
     "iopub.execute_input": "2024-08-05T16:27:53.830161Z",
     "iopub.status.busy": "2024-08-05T16:27:53.829488Z",
     "iopub.status.idle": "2024-08-05T16:27:54.560380Z",
     "shell.execute_reply": "2024-08-05T16:27:54.559424Z",
     "shell.execute_reply.started": "2024-08-05T16:27:53.830130Z"
    }
   },
   "outputs": [
    {
     "data": {
      "text/html": [
       "<div>\n",
       "<style scoped>\n",
       "    .dataframe tbody tr th:only-of-type {\n",
       "        vertical-align: middle;\n",
       "    }\n",
       "\n",
       "    .dataframe tbody tr th {\n",
       "        vertical-align: top;\n",
       "    }\n",
       "\n",
       "    .dataframe thead th {\n",
       "        text-align: right;\n",
       "    }\n",
       "</style>\n",
       "<table border=\"1\" class=\"dataframe\">\n",
       "  <thead>\n",
       "    <tr style=\"text-align: right;\">\n",
       "      <th></th>\n",
       "      <th>sentence</th>\n",
       "      <th>word_labels</th>\n",
       "    </tr>\n",
       "  </thead>\n",
       "  <tbody>\n",
       "    <tr>\n",
       "      <th>0</th>\n",
       "      <td>Uygulamada kartlarda Troy kart geçmiyor Lütfen...</td>\n",
       "      <td>O,O,B-A,O,O,O,O,B-A,O,O,O</td>\n",
       "    </tr>\n",
       "    <tr>\n",
       "      <th>1</th>\n",
       "      <td>Her güncellemede daha da kötüleşen Turkcell in...</td>\n",
       "      <td>O,O,O,O,O,B-A,O,O,O,O,O,O,O,O,O,O,O,O,O,O,O,O,O,O</td>\n",
       "    </tr>\n",
       "    <tr>\n",
       "      <th>2</th>\n",
       "      <td>BiP’ten aranmıyor yardım</td>\n",
       "      <td>B-A,O,O</td>\n",
       "    </tr>\n",
       "    <tr>\n",
       "      <th>3</th>\n",
       "      <td>Bu yorumum kesinlikle uygulamanın daha çok gel...</td>\n",
       "      <td>O,O,O,O,O,O,O,O,O,O,O,O,O,O,O,O,O,O,B-A,O,O,O,...</td>\n",
       "    </tr>\n",
       "    <tr>\n",
       "      <th>4</th>\n",
       "      <td>kurumlarda WhatsApp engelleniyor Alternatif ol...</td>\n",
       "      <td>O,B-A,O,O,O,B-A,O,O,B-A,O,O,O,O,O,O,O,B-A,O,O,...</td>\n",
       "    </tr>\n",
       "  </tbody>\n",
       "</table>\n",
       "</div>"
      ],
      "text/plain": [
       "                                            sentence  \\\n",
       "0  Uygulamada kartlarda Troy kart geçmiyor Lütfen...   \n",
       "1  Her güncellemede daha da kötüleşen Turkcell in...   \n",
       "2                           BiP’ten aranmıyor yardım   \n",
       "3  Bu yorumum kesinlikle uygulamanın daha çok gel...   \n",
       "4  kurumlarda WhatsApp engelleniyor Alternatif ol...   \n",
       "\n",
       "                                         word_labels  \n",
       "0                          O,O,B-A,O,O,O,O,B-A,O,O,O  \n",
       "1  O,O,O,O,O,B-A,O,O,O,O,O,O,O,O,O,O,O,O,O,O,O,O,O,O  \n",
       "2                                            B-A,O,O  \n",
       "3  O,O,O,O,O,O,O,O,O,O,O,O,O,O,O,O,O,O,B-A,O,O,O,...  \n",
       "4  O,B-A,O,O,O,B-A,O,O,B-A,O,O,O,O,O,O,O,B-A,O,O,...  "
      ]
     },
     "execution_count": 5,
     "metadata": {},
     "output_type": "execute_result"
    }
   ],
   "source": [
    "df = pd.read_csv(\"../input/all-aspects/all_tagged_aspects_just_aspect_cleaned_sentences.csv\")\n",
    "df.head()"
   ]
  },
  {
   "cell_type": "code",
   "execution_count": 6,
   "metadata": {
    "execution": {
     "iopub.execute_input": "2024-08-05T16:28:00.243065Z",
     "iopub.status.busy": "2024-08-05T16:28:00.242714Z",
     "iopub.status.idle": "2024-08-05T16:28:00.249150Z",
     "shell.execute_reply": "2024-08-05T16:28:00.248235Z",
     "shell.execute_reply.started": "2024-08-05T16:28:00.243038Z"
    }
   },
   "outputs": [
    {
     "data": {
      "text/plain": [
       "(113203, 2)"
      ]
     },
     "execution_count": 6,
     "metadata": {},
     "output_type": "execute_result"
    }
   ],
   "source": [
    "df.shape"
   ]
  },
  {
   "cell_type": "code",
   "execution_count": 7,
   "metadata": {
    "execution": {
     "iopub.execute_input": "2024-08-05T16:28:07.065168Z",
     "iopub.status.busy": "2024-08-05T16:28:07.064447Z",
     "iopub.status.idle": "2024-08-05T16:28:07.069681Z",
     "shell.execute_reply": "2024-08-05T16:28:07.068698Z",
     "shell.execute_reply.started": "2024-08-05T16:28:07.065137Z"
    }
   },
   "outputs": [],
   "source": [
    "labels_to_ids = {'O': 0, 'B-A': 1, 'I-A': 2}\n",
    "ids_to_labels = {0: 'O', 1: 'B-A', 2: 'I-A'}"
   ]
  },
  {
   "cell_type": "code",
   "execution_count": 8,
   "metadata": {
    "execution": {
     "iopub.execute_input": "2024-08-05T16:28:17.895061Z",
     "iopub.status.busy": "2024-08-05T16:28:17.894219Z",
     "iopub.status.idle": "2024-08-05T16:28:17.899331Z",
     "shell.execute_reply": "2024-08-05T16:28:17.898420Z",
     "shell.execute_reply.started": "2024-08-05T16:28:17.895027Z"
    }
   },
   "outputs": [],
   "source": [
    "MAX_LEN = 128\n",
    "EPOCHS = 1\n",
    "LEARNING_RATE = 2e-05\n",
    "MAX_GRAD_NORM = 10"
   ]
  },
  {
   "cell_type": "code",
   "execution_count": 9,
   "metadata": {
    "execution": {
     "iopub.execute_input": "2024-08-05T16:28:53.431550Z",
     "iopub.status.busy": "2024-08-05T16:28:53.431207Z",
     "iopub.status.idle": "2024-08-05T16:28:53.441656Z",
     "shell.execute_reply": "2024-08-05T16:28:53.440696Z",
     "shell.execute_reply.started": "2024-08-05T16:28:53.431525Z"
    }
   },
   "outputs": [],
   "source": [
    "class dataset(Dataset):\n",
    "    def __init__(self, dataframe, tokenizer, max_len):\n",
    "        self.len = len(dataframe)\n",
    "        self.data = dataframe\n",
    "        self.tokenizer = tokenizer\n",
    "        self.max_len = max_len\n",
    "\n",
    "    def __getitem__(self, index):\n",
    "        sentence = self.data.sentence[index]\n",
    "        word_labels = self.data.word_labels[index].split(\",\") \n",
    "\n",
    "        encoding = self.tokenizer(sentence, return_offsets_mapping=True, padding='max_length', truncation=True,  max_length=self.max_len)\n",
    "        \n",
    "        labels = [labels_to_ids[label] for label in word_labels] \n",
    "        encoded_labels = np.ones(len(encoding[\"offset_mapping\"]), dtype=int) * -100\n",
    "        \n",
    "        i = 0\n",
    "        for idx, mapping in enumerate(encoding[\"offset_mapping\"]):\n",
    "            if mapping[0] == 0 and mapping[1] != 0:\n",
    "                encoded_labels[idx] = labels[i]\n",
    "                i += 1\n",
    "      \n",
    "        item = {key: torch.as_tensor(val) for key, val in encoding.items()}\n",
    "        item['labels'] = torch.as_tensor(encoded_labels) \n",
    "        return item\n",
    "\n",
    "    def __len__(self):\n",
    "        return self.len"
   ]
  },
  {
   "cell_type": "code",
   "execution_count": 10,
   "metadata": {
    "execution": {
     "iopub.execute_input": "2024-08-05T16:29:25.405429Z",
     "iopub.status.busy": "2024-08-05T16:29:25.404774Z",
     "iopub.status.idle": "2024-08-05T16:29:27.172294Z",
     "shell.execute_reply": "2024-08-05T16:29:27.171344Z",
     "shell.execute_reply.started": "2024-08-05T16:29:25.405400Z"
    }
   },
   "outputs": [
    {
     "data": {
      "application/vnd.jupyter.widget-view+json": {
       "model_id": "c244939ff1ec476a9653a0332ca3984b",
       "version_major": 2,
       "version_minor": 0
      },
      "text/plain": [
       "tokenizer_config.json:   0%|          | 0.00/60.0 [00:00<?, ?B/s]"
      ]
     },
     "metadata": {},
     "output_type": "display_data"
    },
    {
     "data": {
      "application/vnd.jupyter.widget-view+json": {
       "model_id": "bf161f351fd54dd89c6ab0759763835c",
       "version_major": 2,
       "version_minor": 0
      },
      "text/plain": [
       "vocab.txt:   0%|          | 0.00/1.18M [00:00<?, ?B/s]"
      ]
     },
     "metadata": {},
     "output_type": "display_data"
    },
    {
     "data": {
      "application/vnd.jupyter.widget-view+json": {
       "model_id": "d0e3bf45677c4f649cf8042857c3b207",
       "version_major": 2,
       "version_minor": 0
      },
      "text/plain": [
       "config.json:   0%|          | 0.00/386 [00:00<?, ?B/s]"
      ]
     },
     "metadata": {},
     "output_type": "display_data"
    }
   ],
   "source": [
    "tokenizer = BertTokenizerFast.from_pretrained('dbmdz/bert-base-turkish-128k-cased')"
   ]
  },
  {
   "cell_type": "code",
   "execution_count": 11,
   "metadata": {
    "execution": {
     "iopub.execute_input": "2024-08-05T16:29:36.651669Z",
     "iopub.status.busy": "2024-08-05T16:29:36.651039Z",
     "iopub.status.idle": "2024-08-05T16:30:56.648578Z",
     "shell.execute_reply": "2024-08-05T16:30:56.647789Z",
     "shell.execute_reply.started": "2024-08-05T16:29:36.651638Z"
    }
   },
   "outputs": [
    {
     "data": {
      "application/vnd.jupyter.widget-view+json": {
       "model_id": "b5bf14a375124c0995a158d8afeeeed6",
       "version_major": 2,
       "version_minor": 0
      },
      "text/plain": [
       "pytorch_model.bin:   0%|          | 0.00/740M [00:00<?, ?B/s]"
      ]
     },
     "metadata": {},
     "output_type": "display_data"
    },
    {
     "name": "stderr",
     "output_type": "stream",
     "text": [
      "/opt/conda/lib/python3.10/site-packages/torch/_utils.py:831: UserWarning: TypedStorage is deprecated. It will be removed in the future and UntypedStorage will be the only storage class. This should only matter to you if you are using storages directly.  To access UntypedStorage directly, use tensor.untyped_storage() instead of tensor.storage()\n",
      "  return self.fget.__get__(instance, owner)()\n",
      "Some weights of BertForTokenClassification were not initialized from the model checkpoint at dbmdz/bert-base-turkish-128k-cased and are newly initialized: ['classifier.bias', 'classifier.weight']\n",
      "You should probably TRAIN this model on a down-stream task to be able to use it for predictions and inference.\n"
     ]
    }
   ],
   "source": [
    "model = BertForTokenClassification.from_pretrained('dbmdz/bert-base-turkish-128k-cased', num_labels=len(labels_to_ids)).to(device)"
   ]
  },
  {
   "cell_type": "code",
   "execution_count": 12,
   "metadata": {
    "execution": {
     "iopub.execute_input": "2024-08-05T16:30:56.650430Z",
     "iopub.status.busy": "2024-08-05T16:30:56.650152Z",
     "iopub.status.idle": "2024-08-05T16:30:56.656697Z",
     "shell.execute_reply": "2024-08-05T16:30:56.655635Z",
     "shell.execute_reply.started": "2024-08-05T16:30:56.650406Z"
    }
   },
   "outputs": [],
   "source": [
    "def train_validate_test_split(df, split_size):\n",
    "    perm = np.random.permutation(df.index)\n",
    "    train_end = int(train_size * len(df.index))\n",
    "    validate_end = int(((1 - split_size) / 2) * len(df.index)) + train_end\n",
    "    train = df.iloc[perm[:train_end]]\n",
    "    validate = df.iloc[perm[train_end:validate_end]]\n",
    "    test = df.iloc[perm[validate_end:]]\n",
    "    return train, validate, test"
   ]
  },
  {
   "cell_type": "code",
   "execution_count": 13,
   "metadata": {
    "execution": {
     "iopub.execute_input": "2024-08-05T16:30:56.657954Z",
     "iopub.status.busy": "2024-08-05T16:30:56.657649Z",
     "iopub.status.idle": "2024-08-05T16:30:56.687264Z",
     "shell.execute_reply": "2024-08-05T16:30:56.686414Z",
     "shell.execute_reply.started": "2024-08-05T16:30:56.657932Z"
    }
   },
   "outputs": [
    {
     "name": "stdout",
     "output_type": "stream",
     "text": [
      "Full dataset: 113203\n",
      "Train dataset: 101882\n",
      "Valid dataset: 5660\n",
      "Test dataset: 5661\n"
     ]
    }
   ],
   "source": [
    "train_size = 0.9\n",
    "df_train, df_validation, df_test = train_validate_test_split(df, train_size)\n",
    "df_train = df_train.reset_index(drop=True)\n",
    "df_validation = df_validation.reset_index(drop=True)\n",
    "df_test = df_test.reset_index(drop=True)\n",
    "\n",
    "print(f\"Full dataset: {df.shape[0]}\")\n",
    "print(f\"Train dataset: {df_train.shape[0]}\")\n",
    "print(f\"Valid dataset: {df_validation.shape[0]}\")\n",
    "print(f\"Test dataset: {df_test.shape[0]}\")\n",
    "\n",
    "training_set = dataset(df_train, tokenizer, MAX_LEN)\n",
    "validation_set = dataset(df_validation, tokenizer, MAX_LEN)\n",
    "testing_set = dataset(df_test, tokenizer, MAX_LEN)"
   ]
  },
  {
   "cell_type": "code",
   "execution_count": 14,
   "metadata": {
    "execution": {
     "iopub.execute_input": "2024-08-05T16:30:56.689793Z",
     "iopub.status.busy": "2024-08-05T16:30:56.689444Z",
     "iopub.status.idle": "2024-08-05T16:30:56.695668Z",
     "shell.execute_reply": "2024-08-05T16:30:56.694760Z",
     "shell.execute_reply.started": "2024-08-05T16:30:56.689765Z"
    }
   },
   "outputs": [],
   "source": [
    "train_params = {\"batch_size\": 32, \"shuffle\": True, \"num_workers\": 0}\n",
    "valid_params = {\"batch_size\": 32, \"shuffle\": True, \"num_workers\": 0}\n",
    "test_params = {\"batch_size\": 32, \"shuffle\": True, \"num_workers\": 0}\n",
    "\n",
    "training_loader = DataLoader(training_set, **train_params)\n",
    "validation_loader = DataLoader(validation_set, **valid_params)\n",
    "testing_loader = DataLoader(testing_set, **test_params)"
   ]
  },
  {
   "cell_type": "code",
   "execution_count": 19,
   "metadata": {
    "execution": {
     "iopub.execute_input": "2024-08-05T16:31:02.963357Z",
     "iopub.status.busy": "2024-08-05T16:31:02.962586Z",
     "iopub.status.idle": "2024-08-05T16:31:02.969247Z",
     "shell.execute_reply": "2024-08-05T16:31:02.968267Z",
     "shell.execute_reply.started": "2024-08-05T16:31:02.963323Z"
    }
   },
   "outputs": [],
   "source": [
    "optimizer = torch.optim.Adam(params=model.parameters(), lr=LEARNING_RATE)"
   ]
  },
  {
   "cell_type": "code",
   "execution_count": 20,
   "metadata": {
    "execution": {
     "iopub.execute_input": "2024-08-05T16:31:16.989868Z",
     "iopub.status.busy": "2024-08-05T16:31:16.989502Z",
     "iopub.status.idle": "2024-08-05T16:31:17.001376Z",
     "shell.execute_reply": "2024-08-05T16:31:17.000335Z",
     "shell.execute_reply.started": "2024-08-05T16:31:16.989838Z"
    }
   },
   "outputs": [],
   "source": [
    "def train_model(model, training_loader, optimizer, max_grad_norm, epochs):\n",
    "    for epoch in range(epochs):\n",
    "        print(f\"Training epoch: {epoch + 1}\")\n",
    "        model.train()\n",
    "        tr_loss, tr_accuracy = 0, 0\n",
    "        nb_tr_steps = 0\n",
    "        tr_preds, tr_labels = [], []\n",
    "\n",
    "        for idx, batch in enumerate(training_loader):\n",
    "            ids = batch['input_ids'].to(device)\n",
    "            mask = batch['attention_mask'].to(device)\n",
    "            labels = batch['labels'].to(device)\n",
    "\n",
    "            output = model(input_ids=ids, attention_mask=mask, labels=labels)\n",
    "            loss = output.loss\n",
    "            tr_logits = output.logits\n",
    "            tr_loss += loss.item()\n",
    "\n",
    "            nb_tr_steps += 1\n",
    "            if idx % 1000 == 0:\n",
    "                print(f\"Training loss per 1000 training steps: {tr_loss / nb_tr_steps}\")\n",
    "            \n",
    "            loss.backward()\n",
    "            torch.nn.utils.clip_grad_norm_(model.parameters(), max_grad_norm)\n",
    "            optimizer.step()\n",
    "            optimizer.zero_grad()\n",
    "\n",
    "            flattened_targets = labels.view(-1)\n",
    "            active_logits = tr_logits.view(-1, model.num_labels)\n",
    "            flattened_predictions = torch.argmax(active_logits, axis=1)\n",
    "\n",
    "            active_accuracy = labels.view(-1) != -100\n",
    "            active_targets = torch.masked_select(flattened_targets, active_accuracy)\n",
    "            active_predictions = torch.masked_select(flattened_predictions, active_accuracy)\n",
    "\n",
    "            tr_labels.extend(active_targets.cpu().numpy())\n",
    "            tr_preds.extend(active_predictions.cpu().numpy())\n",
    "\n",
    "        tr_loss /= nb_tr_steps\n",
    "        tr_accuracy = np.sum(np.array(tr_preds) == np.array(tr_labels)) / len(tr_labels)\n",
    "\n",
    "        print(f\"Training loss epoch: {tr_loss}\")\n",
    "        print(f\"Training accuracy epoch: {tr_accuracy}\")"
   ]
  },
  {
   "cell_type": "code",
   "execution_count": 21,
   "metadata": {
    "execution": {
     "iopub.execute_input": "2024-08-05T16:31:23.314086Z",
     "iopub.status.busy": "2024-08-05T16:31:23.313716Z",
     "iopub.status.idle": "2024-08-05T17:05:39.777337Z",
     "shell.execute_reply": "2024-08-05T17:05:39.776423Z",
     "shell.execute_reply.started": "2024-08-05T16:31:23.314057Z"
    }
   },
   "outputs": [
    {
     "name": "stdout",
     "output_type": "stream",
     "text": [
      "Training epoch: 1\n",
      "Training loss per 1000 training steps: 1.3265008926391602\n",
      "Training loss per 1000 training steps: 0.042957759080400046\n",
      "Training loss per 1000 training steps: 0.0296426754896696\n",
      "Training loss per 1000 training steps: 0.023829603925800344\n",
      "Training loss epoch: 0.023014641848931205\n",
      "Training accuracy epoch: 0.9931587522820517\n",
      "CPU times: user 34min 15s, sys: 701 ms, total: 34min 16s\n",
      "Wall time: 34min 16s\n"
     ]
    }
   ],
   "source": [
    "%%time\n",
    "\n",
    "train_model(model, training_loader, optimizer, MAX_GRAD_NORM, EPOCHS)"
   ]
  },
  {
   "cell_type": "code",
   "execution_count": 22,
   "metadata": {
    "execution": {
     "iopub.execute_input": "2024-08-05T17:06:18.529765Z",
     "iopub.status.busy": "2024-08-05T17:06:18.529380Z",
     "iopub.status.idle": "2024-08-05T17:06:18.540509Z",
     "shell.execute_reply": "2024-08-05T17:06:18.539299Z",
     "shell.execute_reply.started": "2024-08-05T17:06:18.529709Z"
    }
   },
   "outputs": [],
   "source": [
    "def validate_model(model, testing_loader):\n",
    "    model.eval()\n",
    "    eval_loss, eval_accuracy = 0, 0\n",
    "    nb_eval_steps = 0\n",
    "    eval_preds, eval_labels = [], []\n",
    "\n",
    "    with torch.no_grad():\n",
    "        for idx, batch in enumerate(testing_loader):\n",
    "            ids = batch['input_ids'].to(device)\n",
    "            mask = batch['attention_mask'].to(device)\n",
    "            labels = batch['labels'].to(device)\n",
    "\n",
    "            output = model(input_ids=ids, attention_mask=mask, labels=labels)\n",
    "            eval_loss += output.loss.item()\n",
    "            eval_logits = output.logits\n",
    "\n",
    "            nb_eval_steps += 1\n",
    "            if idx % 1000 == 0:\n",
    "                print(f\"Validation loss per 1000 evaluation steps: {eval_loss / nb_eval_steps}\")\n",
    "\n",
    "            flattened_targets = labels.view(-1)\n",
    "            active_logits = eval_logits.view(-1, model.num_labels)\n",
    "            flattened_predictions = torch.argmax(active_logits, axis=1)\n",
    "\n",
    "            active_accuracy = labels.view(-1) != -100\n",
    "            active_targets = torch.masked_select(flattened_targets, active_accuracy)\n",
    "            active_predictions = torch.masked_select(flattened_predictions, active_accuracy)\n",
    "\n",
    "            eval_labels.extend(active_targets.cpu().numpy())\n",
    "            eval_preds.extend(active_predictions.cpu().numpy())\n",
    "\n",
    "    eval_loss /= nb_eval_steps\n",
    "    eval_accuracy = np.sum(np.array(eval_preds) == np.array(eval_labels)) / len(eval_labels)\n",
    "\n",
    "    print(f\"Validation Loss: {eval_loss}\")\n",
    "    print(f\"Validation Accuracy: {eval_accuracy}\")\n",
    "    return eval_labels, eval_preds"
   ]
  },
  {
   "cell_type": "code",
   "execution_count": 23,
   "metadata": {
    "execution": {
     "iopub.execute_input": "2024-08-05T17:06:30.102369Z",
     "iopub.status.busy": "2024-08-05T17:06:30.101430Z",
     "iopub.status.idle": "2024-08-05T17:06:30.113149Z",
     "shell.execute_reply": "2024-08-05T17:06:30.112150Z",
     "shell.execute_reply.started": "2024-08-05T17:06:30.102326Z"
    }
   },
   "outputs": [],
   "source": [
    "def evaluate_model(labels, predictions):\n",
    "    labels = [ids_to_labels[id.item()] for id in labels]\n",
    "    predictions = [ids_to_labels[id.item()] for id in predictions]\n",
    "    \n",
    "    recall_val = recall_score(y_true=labels, y_pred=predictions, average='micro')\n",
    "    print(f'Recall Score: {recall_val}')\n",
    "\n",
    "    precision_val = precision_score(y_true=labels, y_pred=predictions, average='micro')\n",
    "    print(f'Precision Score: {precision_val}')\n",
    "\n",
    "    f1_val = f1_score(y_true=labels, y_pred=predictions, average='micro')\n",
    "    print(f'F1 Score: {f1_val}')\n",
    "\n",
    "    acc_val = accuracy_score(y_true=labels, y_pred=predictions)\n",
    "    print(f\"Accuracy Score: {acc_val}\")\n",
    "\n",
    "    cm = confusion_matrix(y_true=labels, y_pred=predictions)\n",
    "    print(\"Confusion Matrix:\")\n",
    "    print(cm)\n",
    "\n",
    "    print(\"Classification Report:\")\n",
    "    print(classification_report(labels, predictions))\n",
    "\n",
    "    plt.figure()\n",
    "    fig, ax = plot_confusion_matrix(conf_mat=cm, show_absolute=True, show_normed=True, colorbar=True, class_names=np.unique(labels))\n",
    "    plt.title(\"BERT - Aspect Extraction\")\n",
    "    plt.show()"
   ]
  },
  {
   "cell_type": "code",
   "execution_count": 24,
   "metadata": {
    "execution": {
     "iopub.execute_input": "2024-08-05T17:06:36.933838Z",
     "iopub.status.busy": "2024-08-05T17:06:36.933479Z",
     "iopub.status.idle": "2024-08-05T17:07:14.567325Z",
     "shell.execute_reply": "2024-08-05T17:07:14.566351Z",
     "shell.execute_reply.started": "2024-08-05T17:06:36.933809Z"
    }
   },
   "outputs": [
    {
     "name": "stdout",
     "output_type": "stream",
     "text": [
      "##### Validation #####\n",
      "Validation loss per 1000 evaluation steps: 0.07946199923753738\n",
      "Validation Loss: 0.010715771649954617\n",
      "Validation Accuracy: 0.9964664310954063\n",
      "Recall Score: 0.9964664310954063\n",
      "Precision Score: 0.9964664310954063\n",
      "F1 Score: 0.9964664310954063\n",
      "Accuracy Score: 0.9964664310954063\n",
      "Confusion Matrix:\n",
      "[[1582    0    0]\n",
      " [   2   44    6]\n",
      " [   9    3 4014]]\n",
      "Classification Report:\n",
      "              precision    recall  f1-score   support\n",
      "\n",
      "         B-A       0.99      1.00      1.00      1582\n",
      "         I-A       0.94      0.85      0.89        52\n",
      "           O       1.00      1.00      1.00      4026\n",
      "\n",
      "    accuracy                           1.00      5660\n",
      "   macro avg       0.98      0.95      0.96      5660\n",
      "weighted avg       1.00      1.00      1.00      5660\n",
      "\n"
     ]
    },
    {
     "data": {
      "text/plain": [
       "<Figure size 640x480 with 0 Axes>"
      ]
     },
     "metadata": {},
     "output_type": "display_data"
    },
    {
     "data": {
      "image/png": "[encoded data removed]",
      "text/plain": [
       "<Figure size 640x480 with 2 Axes>"
      ]
     },
     "metadata": {},
     "output_type": "display_data"
    },
    {
     "name": "stdout",
     "output_type": "stream",
     "text": [
      "CPU times: user 37.7 s, sys: 184 ms, total: 37.9 s\n",
      "Wall time: 37.6 s\n"
     ]
    }
   ],
   "source": [
    "%%time\n",
    "\n",
    "print(\"##### Validation #####\")\n",
    "labels, predictions = validate_model(model, validation_loader)\n",
    "evaluate_model(labels, predictions)"
   ]
  },
  {
   "cell_type": "code",
   "execution_count": 25,
   "metadata": {
    "execution": {
     "iopub.execute_input": "2024-08-05T17:07:14.569145Z",
     "iopub.status.busy": "2024-08-05T17:07:14.568865Z",
     "iopub.status.idle": "2024-08-05T17:07:52.199575Z",
     "shell.execute_reply": "2024-08-05T17:07:52.198545Z",
     "shell.execute_reply.started": "2024-08-05T17:07:14.569122Z"
    }
   },
   "outputs": [
    {
     "name": "stdout",
     "output_type": "stream",
     "text": [
      "##### Testing #####\n",
      "Validation loss per 1000 evaluation steps: 0.0016002596821635962\n",
      "Validation Loss: 0.015233689487571722\n",
      "Validation Accuracy: 0.9957604663487016\n",
      "Recall Score: 0.9957604663487016\n",
      "Precision Score: 0.9957604663487016\n",
      "F1 Score: 0.9957604663487016\n",
      "Accuracy Score: 0.9957604663487016\n",
      "Confusion Matrix:\n",
      "[[1639    0    1]\n",
      " [   5   40    5]\n",
      " [   8    5 3958]]\n",
      "Classification Report:\n",
      "              precision    recall  f1-score   support\n",
      "\n",
      "         B-A       0.99      1.00      1.00      1640\n",
      "         I-A       0.89      0.80      0.84        50\n",
      "           O       1.00      1.00      1.00      3971\n",
      "\n",
      "    accuracy                           1.00      5661\n",
      "   macro avg       0.96      0.93      0.95      5661\n",
      "weighted avg       1.00      1.00      1.00      5661\n",
      "\n"
     ]
    },
    {
     "data": {
      "text/plain": [
       "<Figure size 640x480 with 0 Axes>"
      ]
     },
     "metadata": {},
     "output_type": "display_data"
    },
    {
     "data": {
      "image/png": "[encoded data removed]",
      "text/plain": [
       "<Figure size 640x480 with 2 Axes>"
      ]
     },
     "metadata": {},
     "output_type": "display_data"
    },
    {
     "name": "stdout",
     "output_type": "stream",
     "text": [
      "CPU times: user 37.7 s, sys: 173 ms, total: 37.9 s\n",
      "Wall time: 37.6 s\n"
     ]
    }
   ],
   "source": [
    "%%time\n",
    "\n",
    "print(\"##### Testing #####\")\n",
    "labels, predictions = validate_model(model, testing_loader)\n",
    "evaluate_model(labels, predictions)"
   ]
  },
  {
   "cell_type": "code",
   "execution_count": 31,
   "metadata": {
    "execution": {
     "iopub.execute_input": "2024-08-05T17:08:31.128506Z",
     "iopub.status.busy": "2024-08-05T17:08:31.127967Z",
     "iopub.status.idle": "2024-08-05T17:08:31.136699Z",
     "shell.execute_reply": "2024-08-05T17:08:31.135608Z",
     "shell.execute_reply.started": "2024-08-05T17:08:31.128472Z"
    }
   },
   "outputs": [],
   "source": [
    "def align_word_predictions(tokens, token_predictions):\n",
    "    aligned_tokens = []\n",
    "    aligned_predictions = []\n",
    "\n",
    "    for token, prediction in zip(tokens, token_predictions):\n",
    "        if not token.startswith(\"##\"):\n",
    "            aligned_tokens.append(token)\n",
    "            aligned_predictions.append(prediction)\n",
    "        else:\n",
    "            aligned_tokens[-1] = aligned_tokens[-1] + token[2:]\n",
    "\n",
    "    return aligned_tokens, aligned_predictions"
   ]
  },
  {
   "cell_type": "code",
   "execution_count": 40,
   "metadata": {
    "execution": {
     "iopub.execute_input": "2024-08-05T17:08:57.139728Z",
     "iopub.status.busy": "2024-08-05T17:08:57.139123Z",
     "iopub.status.idle": "2024-08-05T17:08:57.143698Z",
     "shell.execute_reply": "2024-08-05T17:08:57.142795Z",
     "shell.execute_reply.started": "2024-08-05T17:08:57.139697Z"
    }
   },
   "outputs": [],
   "source": [
    "#sentence = \"Fiber 100mb SuperOnline kullanıcısıyım yaklaşık 2 haftadır Twitch Kick_Turkey gibi canlı yayın platformlarında 360p yayın izlerken donmalar yaşıyoruz. Başka hiç bir operatörler bu sorunu yaşamazken ben parasını verip alamadığım hizmeti neden ödeyeyim ? Turkcell \"\n",
    "sentence = \t\"Türk Telekom da İnternetiniz yokken bile msj atilio\""
   ]
  },
  {
   "cell_type": "code",
   "execution_count": 41,
   "metadata": {
    "execution": {
     "iopub.execute_input": "2024-08-05T17:08:57.305916Z",
     "iopub.status.busy": "2024-08-05T17:08:57.305627Z",
     "iopub.status.idle": "2024-08-05T17:08:57.311595Z",
     "shell.execute_reply": "2024-08-05T17:08:57.310632Z",
     "shell.execute_reply.started": "2024-08-05T17:08:57.305893Z"
    }
   },
   "outputs": [],
   "source": [
    "inputs = tokenizer(sentence, return_offsets_mapping=True, padding='max_length', truncation=True, max_length=MAX_LEN, return_tensors=\"pt\")"
   ]
  },
  {
   "cell_type": "code",
   "execution_count": 42,
   "metadata": {
    "execution": {
     "iopub.execute_input": "2024-08-05T17:08:57.502477Z",
     "iopub.status.busy": "2024-08-05T17:08:57.502167Z",
     "iopub.status.idle": "2024-08-05T17:08:57.527092Z",
     "shell.execute_reply": "2024-08-05T17:08:57.526229Z",
     "shell.execute_reply.started": "2024-08-05T17:08:57.502452Z"
    }
   },
   "outputs": [],
   "source": [
    "ids = inputs[\"input_ids\"].to(device)\n",
    "mask = inputs[\"attention_mask\"].to(device)\n",
    "\n",
    "with torch.no_grad():\n",
    "    outputs = model(ids, attention_mask=mask)\n",
    "    logits = outputs[0]\n",
    "\n",
    "active_logits = logits.view(-1, model.num_labels) \n",
    "flattened_predictions = torch.argmax(active_logits, axis=1) \n",
    "\n",
    "tokens = tokenizer.convert_ids_to_tokens(ids.squeeze().tolist())\n",
    "token_predictions = [ids_to_labels[i] for i in flattened_predictions.cpu().numpy()]\n",
    "wp_preds = list(zip(tokens, token_predictions))"
   ]
  },
  {
   "cell_type": "code",
   "execution_count": 43,
   "metadata": {
    "execution": {
     "iopub.execute_input": "2024-08-05T17:08:57.957157Z",
     "iopub.status.busy": "2024-08-05T17:08:57.956782Z",
     "iopub.status.idle": "2024-08-05T17:08:57.963681Z",
     "shell.execute_reply": "2024-08-05T17:08:57.962692Z",
     "shell.execute_reply.started": "2024-08-05T17:08:57.957127Z"
    }
   },
   "outputs": [
    {
     "name": "stdout",
     "output_type": "stream",
     "text": [
      "Sample input sentence:\n",
      "Word                          ||Pred      \n",
      "==============================\n",
      "Türk                          ||I-A       \n",
      "Telekom                       ||B-A       \n",
      "da                            ||O         \n",
      "İnternetiniz                  ||O         \n",
      "yokken                        ||O         \n",
      "bile                          ||O         \n",
      "msj                           ||O         \n",
      "atilio                        ||O         \n"
     ]
    }
   ],
   "source": [
    "aligned_tokens, aligned_predictions = align_word_predictions(tokens, token_predictions)\n",
    "\n",
    "print(\"Sample input sentence:\")\n",
    "print(\"{:30}||{:10}\".format(\"Word\", \"Pred\"))\n",
    "print(30 * \"=\")\n",
    "for w, pred in zip(aligned_tokens, aligned_predictions):\n",
    "    if w not in [\"[PAD]\", \"[CLS]\", \"[SEP]\"]:\n",
    "        print(\"{:30}||{:10}\".format(w, pred))"
   ]
  },
  {
   "cell_type": "code",
   "execution_count": null,
   "metadata": {},
   "outputs": [],
   "source": []
  },
  {
   "cell_type": "code",
   "execution_count": null,
   "metadata": {},
   "outputs": [],
   "source": []
  }
 ],
 "metadata": {
  "kernelspec": {
   "display_name": "Python 3 (ipykernel)",
   "language": "python",
   "name": "python3"
  },
  "language_info": {
   "codemirror_mode": {
    "name": "ipython",
    "version": 3
   },
   "file_extension": ".py",
   "mimetype": "text/x-python",
   "name": "python",
   "nbconvert_exporter": "python",
   "pygments_lexer": "ipython3",
   "version": "3.10.12"
  }
 },
 "nbformat": 4,
 "nbformat_minor": 4
}
