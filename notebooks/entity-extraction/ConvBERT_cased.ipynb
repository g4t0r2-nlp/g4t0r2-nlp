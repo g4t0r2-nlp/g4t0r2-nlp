{
 "cells": [
  {
   "cell_type": "code",
   "execution_count": 1,
   "metadata": {
    "_cell_guid": "b1076dfc-b9ad-4769-8c92-a6c4dae69d19",
    "_uuid": "8f2839f25d086af736a60e9eeb907d3b93b6e0e5",
    "execution": {
     "iopub.execute_input": "2024-08-05T17:55:18.892640Z",
     "iopub.status.busy": "2024-08-05T17:55:18.892394Z",
     "iopub.status.idle": "2024-08-05T17:55:20.280983Z",
     "shell.execute_reply": "2024-08-05T17:55:20.279875Z",
     "shell.execute_reply.started": "2024-08-05T17:55:18.892615Z"
    }
   },
   "outputs": [
    {
     "name": "stdout",
     "output_type": "stream",
     "text": [
      "/kaggle/input/all-aspects/all_aspects_just_aspect.csv\n",
      "/kaggle/input/all-aspects/all_tagged_aspects_just_aspect_cleaned.csv\n",
      "/kaggle/input/all-aspects/all_tagged_aspects_just_aspect_filled.csv\n",
      "/kaggle/input/all-aspects/all_tagged_aspects_filled.csv\n",
      "/kaggle/input/all-aspects/all_tagged_aspects_just_aspect.csv\n",
      "/kaggle/input/all-aspects/all_tagged_aspects_sentences.csv\n",
      "/kaggle/input/all-aspects/all_tagged_aspects_just_aspect_sentences.csv\n",
      "/kaggle/input/all-aspects/all_aspects_just_aspect_cleaned.csv\n",
      "/kaggle/input/all-aspects/all_tagged_aspects_just_aspect_filled_sentences.csv\n",
      "/kaggle/input/all-aspects/reviews.csv\n",
      "/kaggle/input/all-aspects/cleaned.csv\n",
      "/kaggle/input/all-aspects/all_aspects_just_aspect_filled.csv\n",
      "/kaggle/input/all-aspects/all_tagged_aspects.csv\n",
      "/kaggle/input/all-aspects/all_aspects.csv\n",
      "/kaggle/input/all-aspects/all_tagged_aspects_just_aspect_cleaned_sentences.csv\n"
     ]
    }
   ],
   "source": [
    "# This Python 3 environment comes with many helpful analytics libraries installed\n",
    "# It is defined by the kaggle/python Docker image: https://github.com/kaggle/docker-python\n",
    "# For example, here's several helpful packages to load\n",
    "\n",
    "import numpy as np # linear algebra\n",
    "import pandas as pd # data processing, CSV file I/O (e.g. pd.read_csv)\n",
    "\n",
    "# Input data files are available in the read-only \"../input/\" directory\n",
    "# For example, running this (by clicking run or pressing Shift+Enter) will list all files under the input directory\n",
    "\n",
    "import os\n",
    "for dirname, _, filenames in os.walk('/kaggle/input'):\n",
    "    for filename in filenames:\n",
    "        print(os.path.join(dirname, filename))\n",
    "\n",
    "# You can write up to 20GB to the current directory (/kaggle/working/) that gets preserved as output when you create a version using \"Save & Run All\" \n",
    "# You can also write temporary files to /kaggle/temp/, but they won't be saved outside of the current session"
   ]
  },
  {
   "cell_type": "code",
   "execution_count": 2,
   "metadata": {
    "execution": {
     "iopub.execute_input": "2024-08-05T17:56:25.829993Z",
     "iopub.status.busy": "2024-08-05T17:56:25.829326Z",
     "iopub.status.idle": "2024-08-05T17:56:27.506601Z",
     "shell.execute_reply": "2024-08-05T17:56:27.505806Z",
     "shell.execute_reply.started": "2024-08-05T17:56:25.829958Z"
    }
   },
   "outputs": [],
   "source": [
    "import pandas as pd\n",
    "from sklearn.model_selection import train_test_split\n",
    "from transformers import BertTokenizerFast\n",
    "import torch\n",
    "import matplotlib.pyplot as plt\n",
    "from torch import nn\n",
    "from transformers import ConvBertTokenizerFast, ConvBertForTokenClassification\n",
    "from torch.utils.data import DataLoader, TensorDataset, RandomSampler, Dataset\n",
    "from transformers import AdamW\n",
    "from mlxtend.plotting import plot_confusion_matrix\n",
    "from sklearn.metrics import confusion_matrix, classification_report, accuracy_score, f1_score, precision_score, recall_score\n",
    "import numpy as np"
   ]
  },
  {
   "cell_type": "code",
   "execution_count": 3,
   "metadata": {
    "execution": {
     "iopub.execute_input": "2024-08-05T17:56:29.525051Z",
     "iopub.status.busy": "2024-08-05T17:56:29.523592Z",
     "iopub.status.idle": "2024-08-05T17:56:29.590611Z",
     "shell.execute_reply": "2024-08-05T17:56:29.589242Z",
     "shell.execute_reply.started": "2024-08-05T17:56:29.524975Z"
    }
   },
   "outputs": [
    {
     "data": {
      "text/plain": [
       "device(type='cuda')"
      ]
     },
     "execution_count": 3,
     "metadata": {},
     "output_type": "execute_result"
    }
   ],
   "source": [
    "device = torch.device(\"cuda\" if torch.cuda.is_available() else \"cpu\")\n",
    "device"
   ]
  },
  {
   "cell_type": "code",
   "execution_count": 4,
   "metadata": {
    "execution": {
     "iopub.execute_input": "2024-08-05T17:56:32.634142Z",
     "iopub.status.busy": "2024-08-05T17:56:32.633762Z",
     "iopub.status.idle": "2024-08-05T17:56:33.374556Z",
     "shell.execute_reply": "2024-08-05T17:56:33.373638Z",
     "shell.execute_reply.started": "2024-08-05T17:56:32.634106Z"
    }
   },
   "outputs": [
    {
     "data": {
      "text/html": [
       "<div>\n",
       "<style scoped>\n",
       "    .dataframe tbody tr th:only-of-type {\n",
       "        vertical-align: middle;\n",
       "    }\n",
       "\n",
       "    .dataframe tbody tr th {\n",
       "        vertical-align: top;\n",
       "    }\n",
       "\n",
       "    .dataframe thead th {\n",
       "        text-align: right;\n",
       "    }\n",
       "</style>\n",
       "<table border=\"1\" class=\"dataframe\">\n",
       "  <thead>\n",
       "    <tr style=\"text-align: right;\">\n",
       "      <th></th>\n",
       "      <th>sentence</th>\n",
       "      <th>word_labels</th>\n",
       "    </tr>\n",
       "  </thead>\n",
       "  <tbody>\n",
       "    <tr>\n",
       "      <th>0</th>\n",
       "      <td>Uygulamada kartlarda Troy kart geçmiyor Lütfen...</td>\n",
       "      <td>O,O,B-A,O,O,O,O,B-A,O,O,O</td>\n",
       "    </tr>\n",
       "    <tr>\n",
       "      <th>1</th>\n",
       "      <td>Her güncellemede daha da kötüleşen Turkcell in...</td>\n",
       "      <td>O,O,O,O,O,B-A,O,O,O,O,O,O,O,O,O,O,O,O,O,O,O,O,O,O</td>\n",
       "    </tr>\n",
       "    <tr>\n",
       "      <th>2</th>\n",
       "      <td>BiP’ten aranmıyor yardım</td>\n",
       "      <td>B-A,O,O</td>\n",
       "    </tr>\n",
       "    <tr>\n",
       "      <th>3</th>\n",
       "      <td>Bu yorumum kesinlikle uygulamanın daha çok gel...</td>\n",
       "      <td>O,O,O,O,O,O,O,O,O,O,O,O,O,O,O,O,O,O,B-A,O,O,O,...</td>\n",
       "    </tr>\n",
       "    <tr>\n",
       "      <th>4</th>\n",
       "      <td>kurumlarda WhatsApp engelleniyor Alternatif ol...</td>\n",
       "      <td>O,B-A,O,O,O,B-A,O,O,B-A,O,O,O,O,O,O,O,B-A,O,O,...</td>\n",
       "    </tr>\n",
       "  </tbody>\n",
       "</table>\n",
       "</div>"
      ],
      "text/plain": [
       "                                            sentence  \\\n",
       "0  Uygulamada kartlarda Troy kart geçmiyor Lütfen...   \n",
       "1  Her güncellemede daha da kötüleşen Turkcell in...   \n",
       "2                           BiP’ten aranmıyor yardım   \n",
       "3  Bu yorumum kesinlikle uygulamanın daha çok gel...   \n",
       "4  kurumlarda WhatsApp engelleniyor Alternatif ol...   \n",
       "\n",
       "                                         word_labels  \n",
       "0                          O,O,B-A,O,O,O,O,B-A,O,O,O  \n",
       "1  O,O,O,O,O,B-A,O,O,O,O,O,O,O,O,O,O,O,O,O,O,O,O,O,O  \n",
       "2                                            B-A,O,O  \n",
       "3  O,O,O,O,O,O,O,O,O,O,O,O,O,O,O,O,O,O,B-A,O,O,O,...  \n",
       "4  O,B-A,O,O,O,B-A,O,O,B-A,O,O,O,O,O,O,O,B-A,O,O,...  "
      ]
     },
     "execution_count": 4,
     "metadata": {},
     "output_type": "execute_result"
    }
   ],
   "source": [
    "df = pd.read_csv(\"../input/all-aspects/all_tagged_aspects_just_aspect_cleaned_sentences.csv\")\n",
    "df.head()"
   ]
  },
  {
   "cell_type": "code",
   "execution_count": 5,
   "metadata": {
    "execution": {
     "iopub.execute_input": "2024-08-05T17:56:37.551771Z",
     "iopub.status.busy": "2024-08-05T17:56:37.551412Z",
     "iopub.status.idle": "2024-08-05T17:56:37.559280Z",
     "shell.execute_reply": "2024-08-05T17:56:37.557686Z",
     "shell.execute_reply.started": "2024-08-05T17:56:37.551742Z"
    }
   },
   "outputs": [
    {
     "data": {
      "text/plain": [
       "(113203, 2)"
      ]
     },
     "execution_count": 5,
     "metadata": {},
     "output_type": "execute_result"
    }
   ],
   "source": [
    "df.shape"
   ]
  },
  {
   "cell_type": "code",
   "execution_count": 6,
   "metadata": {
    "execution": {
     "iopub.execute_input": "2024-08-05T17:56:41.941853Z",
     "iopub.status.busy": "2024-08-05T17:56:41.941488Z",
     "iopub.status.idle": "2024-08-05T17:56:41.946665Z",
     "shell.execute_reply": "2024-08-05T17:56:41.945651Z",
     "shell.execute_reply.started": "2024-08-05T17:56:41.941822Z"
    }
   },
   "outputs": [],
   "source": [
    "labels_to_ids = {'O': 0, 'B-A': 1, 'I-A': 2}\n",
    "ids_to_labels = {0: 'O', 1: 'B-A', 2: 'I-A'}"
   ]
  },
  {
   "cell_type": "code",
   "execution_count": 7,
   "metadata": {
    "execution": {
     "iopub.execute_input": "2024-08-05T17:56:48.056991Z",
     "iopub.status.busy": "2024-08-05T17:56:48.056187Z",
     "iopub.status.idle": "2024-08-05T17:56:48.061467Z",
     "shell.execute_reply": "2024-08-05T17:56:48.060275Z",
     "shell.execute_reply.started": "2024-08-05T17:56:48.056959Z"
    }
   },
   "outputs": [],
   "source": [
    "MAX_LEN = 128\n",
    "EPOCHS = 1\n",
    "LEARNING_RATE = 2e-05\n",
    "MAX_GRAD_NORM = 10"
   ]
  },
  {
   "cell_type": "code",
   "execution_count": 8,
   "metadata": {
    "execution": {
     "iopub.execute_input": "2024-08-05T17:56:53.886362Z",
     "iopub.status.busy": "2024-08-05T17:56:53.885523Z",
     "iopub.status.idle": "2024-08-05T17:56:53.896726Z",
     "shell.execute_reply": "2024-08-05T17:56:53.895781Z",
     "shell.execute_reply.started": "2024-08-05T17:56:53.886328Z"
    }
   },
   "outputs": [],
   "source": [
    "class dataset(Dataset):\n",
    "    def __init__(self, dataframe, tokenizer, max_len):\n",
    "        self.len = len(dataframe)\n",
    "        self.data = dataframe\n",
    "        self.tokenizer = tokenizer\n",
    "        self.max_len = max_len\n",
    "\n",
    "    def __getitem__(self, index):\n",
    "        sentence = self.data.sentence[index]\n",
    "        word_labels = self.data.word_labels[index].split(\",\") \n",
    "\n",
    "        encoding = self.tokenizer(sentence, return_offsets_mapping=True, padding='max_length', truncation=True, max_length=self.max_len)\n",
    "        \n",
    "        labels = [labels_to_ids[label] for label in word_labels] \n",
    "        encoded_labels = np.ones(len(encoding[\"offset_mapping\"]), dtype=int) * -100\n",
    "        \n",
    "        i = 0\n",
    "        for idx, mapping in enumerate(encoding[\"offset_mapping\"]):\n",
    "            if mapping[0] == 0 and mapping[1] != 0:\n",
    "                encoded_labels[idx] = labels[i]\n",
    "                i += 1\n",
    "      \n",
    "        item = {key: torch.as_tensor(val) for key, val in encoding.items()}\n",
    "        item['labels'] = torch.as_tensor(encoded_labels) \n",
    "        return item\n",
    "\n",
    "    def __len__(self):\n",
    "        return self.len"
   ]
  },
  {
   "cell_type": "code",
   "execution_count": 10,
   "metadata": {
    "execution": {
     "iopub.execute_input": "2024-08-05T17:57:27.891352Z",
     "iopub.status.busy": "2024-08-05T17:57:27.890966Z",
     "iopub.status.idle": "2024-08-05T17:57:28.038452Z",
     "shell.execute_reply": "2024-08-05T17:57:28.037678Z",
     "shell.execute_reply.started": "2024-08-05T17:57:27.891322Z"
    }
   },
   "outputs": [],
   "source": [
    "tokenizer = ConvBertTokenizerFast.from_pretrained('dbmdz/convbert-base-turkish-cased')"
   ]
  },
  {
   "cell_type": "code",
   "execution_count": 11,
   "metadata": {
    "execution": {
     "iopub.execute_input": "2024-08-05T17:57:36.563239Z",
     "iopub.status.busy": "2024-08-05T17:57:36.562529Z",
     "iopub.status.idle": "2024-08-05T17:57:45.492898Z",
     "shell.execute_reply": "2024-08-05T17:57:45.491327Z",
     "shell.execute_reply.started": "2024-08-05T17:57:36.563207Z"
    }
   },
   "outputs": [
    {
     "data": {
      "application/vnd.jupyter.widget-view+json": {
       "model_id": "dd7a13fc4bcc40ae9a9c4bbd64135794",
       "version_major": 2,
       "version_minor": 0
      },
      "text/plain": [
       "model.safetensors:   0%|          | 0.00/427M [00:00<?, ?B/s]"
      ]
     },
     "metadata": {},
     "output_type": "display_data"
    },
    {
     "name": "stderr",
     "output_type": "stream",
     "text": [
      "Some weights of ConvBertForTokenClassification were not initialized from the model checkpoint at dbmdz/convbert-base-turkish-cased and are newly initialized: ['classifier.bias', 'classifier.weight']\n",
      "You should probably TRAIN this model on a down-stream task to be able to use it for predictions and inference.\n"
     ]
    }
   ],
   "source": [
    "model = ConvBertForTokenClassification.from_pretrained('dbmdz/convbert-base-turkish-cased', num_labels=len(labels_to_ids)).to(device)"
   ]
  },
  {
   "cell_type": "code",
   "execution_count": 12,
   "metadata": {
    "execution": {
     "iopub.execute_input": "2024-08-05T17:57:45.496002Z",
     "iopub.status.busy": "2024-08-05T17:57:45.495547Z",
     "iopub.status.idle": "2024-08-05T17:57:45.509901Z",
     "shell.execute_reply": "2024-08-05T17:57:45.508806Z",
     "shell.execute_reply.started": "2024-08-05T17:57:45.495960Z"
    }
   },
   "outputs": [],
   "source": [
    "def train_validate_test_split(df, split_size):\n",
    "    perm = np.random.permutation(df.index)\n",
    "    train_end = int(train_size * len(df.index))\n",
    "    validate_end = int(((1 - split_size) / 2) * len(df.index)) + train_end\n",
    "    train = df.iloc[perm[:train_end]]\n",
    "    validate = df.iloc[perm[train_end:validate_end]]\n",
    "    test = df.iloc[perm[validate_end:]]\n",
    "    return train, validate, test"
   ]
  },
  {
   "cell_type": "code",
   "execution_count": 13,
   "metadata": {
    "execution": {
     "iopub.execute_input": "2024-08-05T17:57:50.246629Z",
     "iopub.status.busy": "2024-08-05T17:57:50.245946Z",
     "iopub.status.idle": "2024-08-05T17:57:50.276791Z",
     "shell.execute_reply": "2024-08-05T17:57:50.275937Z",
     "shell.execute_reply.started": "2024-08-05T17:57:50.246598Z"
    }
   },
   "outputs": [
    {
     "name": "stdout",
     "output_type": "stream",
     "text": [
      "Full dataset: 113203\n",
      "Train dataset: 101882\n",
      "Valid dataset: 5660\n",
      "Test dataset: 5661\n"
     ]
    }
   ],
   "source": [
    "train_size = 0.9\n",
    "df_train, df_validation, df_test = train_validate_test_split(df, train_size)\n",
    "df_train = df_train.reset_index(drop=True)\n",
    "df_validation = df_validation.reset_index(drop=True)\n",
    "df_test = df_test.reset_index(drop=True)\n",
    "\n",
    "print(f\"Full dataset: {df.shape[0]}\")\n",
    "print(f\"Train dataset: {df_train.shape[0]}\")\n",
    "print(f\"Valid dataset: {df_validation.shape[0]}\")\n",
    "print(f\"Test dataset: {df_test.shape[0]}\")\n",
    "\n",
    "training_set = dataset(df_train, tokenizer, MAX_LEN)\n",
    "validation_set = dataset(df_validation, tokenizer, MAX_LEN)\n",
    "testing_set = dataset(df_test, tokenizer, MAX_LEN)"
   ]
  },
  {
   "cell_type": "code",
   "execution_count": 14,
   "metadata": {
    "execution": {
     "iopub.execute_input": "2024-08-05T17:57:54.091800Z",
     "iopub.status.busy": "2024-08-05T17:57:54.091085Z",
     "iopub.status.idle": "2024-08-05T17:57:54.097682Z",
     "shell.execute_reply": "2024-08-05T17:57:54.096566Z",
     "shell.execute_reply.started": "2024-08-05T17:57:54.091768Z"
    }
   },
   "outputs": [],
   "source": [
    "train_params = {\"batch_size\": 32, \"shuffle\": True, \"num_workers\": 0}\n",
    "valid_params = {\"batch_size\": 32, \"shuffle\": True, \"num_workers\": 0}\n",
    "test_params = {\"batch_size\": 32, \"shuffle\": True, \"num_workers\": 0}\n",
    "\n",
    "training_loader = DataLoader(training_set, **train_params)\n",
    "validation_loader = DataLoader(validation_set, **valid_params)\n",
    "testing_loader = DataLoader(testing_set, **test_params)"
   ]
  },
  {
   "cell_type": "code",
   "execution_count": 19,
   "metadata": {
    "execution": {
     "iopub.execute_input": "2024-08-05T17:58:10.458821Z",
     "iopub.status.busy": "2024-08-05T17:58:10.457990Z",
     "iopub.status.idle": "2024-08-05T17:58:10.469791Z",
     "shell.execute_reply": "2024-08-05T17:58:10.468704Z",
     "shell.execute_reply.started": "2024-08-05T17:58:10.458782Z"
    }
   },
   "outputs": [],
   "source": [
    "optimizer = torch.optim.Adam(params=model.parameters(), lr=LEARNING_RATE)"
   ]
  },
  {
   "cell_type": "code",
   "execution_count": 20,
   "metadata": {
    "execution": {
     "iopub.execute_input": "2024-08-05T17:58:15.463833Z",
     "iopub.status.busy": "2024-08-05T17:58:15.463187Z",
     "iopub.status.idle": "2024-08-05T17:58:15.475695Z",
     "shell.execute_reply": "2024-08-05T17:58:15.474759Z",
     "shell.execute_reply.started": "2024-08-05T17:58:15.463803Z"
    }
   },
   "outputs": [],
   "source": [
    "def train_model(model, training_loader, optimizer, max_grad_norm, epochs):\n",
    "    for epoch in range(epochs):\n",
    "        print(f\"Training epoch: {epoch + 1}\")\n",
    "        model.train()\n",
    "        tr_loss, tr_accuracy = 0, 0\n",
    "        nb_tr_steps = 0\n",
    "        tr_preds, tr_labels = [], []\n",
    "\n",
    "        for idx, batch in enumerate(training_loader):\n",
    "            ids = batch['input_ids'].to(device)\n",
    "            mask = batch['attention_mask'].to(device)\n",
    "            labels = batch['labels'].to(device)\n",
    "\n",
    "            output = model(input_ids=ids, attention_mask=mask, labels=labels)\n",
    "            loss = output.loss\n",
    "            tr_logits = output.logits\n",
    "            tr_loss += loss.item()\n",
    "\n",
    "            nb_tr_steps += 1\n",
    "            if idx % 1000 == 0:\n",
    "                print(f\"Training loss per 1000 training steps: {tr_loss / nb_tr_steps}\")\n",
    "            \n",
    "            loss.backward()\n",
    "            torch.nn.utils.clip_grad_norm_(model.parameters(), max_grad_norm)\n",
    "            optimizer.step()\n",
    "            optimizer.zero_grad()\n",
    "\n",
    "            flattened_targets = labels.view(-1)\n",
    "            active_logits = tr_logits.view(-1, model.num_labels)\n",
    "            flattened_predictions = torch.argmax(active_logits, axis=1)\n",
    "\n",
    "            active_accuracy = labels.view(-1) != -100\n",
    "            active_targets = torch.masked_select(flattened_targets, active_accuracy)\n",
    "            active_predictions = torch.masked_select(flattened_predictions, active_accuracy)\n",
    "\n",
    "            tr_labels.extend(active_targets.cpu().numpy())\n",
    "            tr_preds.extend(active_predictions.cpu().numpy())\n",
    "\n",
    "        tr_loss /= nb_tr_steps\n",
    "        tr_accuracy = np.sum(np.array(tr_preds) == np.array(tr_labels)) / len(tr_labels)\n",
    "\n",
    "        print(f\"Training loss epoch: {tr_loss}\")\n",
    "        print(f\"Training accuracy epoch: {tr_accuracy}\")"
   ]
  },
  {
   "cell_type": "code",
   "execution_count": 21,
   "metadata": {
    "execution": {
     "iopub.execute_input": "2024-08-05T17:58:18.721342Z",
     "iopub.status.busy": "2024-08-05T17:58:18.720672Z",
     "iopub.status.idle": "2024-08-05T18:35:19.538778Z",
     "shell.execute_reply": "2024-08-05T18:35:19.537767Z",
     "shell.execute_reply.started": "2024-08-05T17:58:18.721299Z"
    }
   },
   "outputs": [
    {
     "name": "stdout",
     "output_type": "stream",
     "text": [
      "Training epoch: 1\n",
      "Training loss per 1000 training steps: 0.9994337558746338\n",
      "Training loss per 1000 training steps: 0.04578769267383185\n",
      "Training loss per 1000 training steps: 0.029692627982892\n",
      "Training loss per 1000 training steps: 0.023736176288811448\n",
      "Training loss epoch: 0.02335716666135368\n",
      "Training accuracy epoch: 0.9939734202312479\n",
      "CPU times: user 36min 17s, sys: 43.4 s, total: 37min\n",
      "Wall time: 37min\n"
     ]
    }
   ],
   "source": [
    "%%time\n",
    "\n",
    "train_model(model, training_loader, optimizer, MAX_GRAD_NORM, EPOCHS)"
   ]
  },
  {
   "cell_type": "code",
   "execution_count": 22,
   "metadata": {
    "execution": {
     "iopub.execute_input": "2024-08-05T18:37:32.048193Z",
     "iopub.status.busy": "2024-08-05T18:37:32.047792Z",
     "iopub.status.idle": "2024-08-05T18:37:32.060289Z",
     "shell.execute_reply": "2024-08-05T18:37:32.059414Z",
     "shell.execute_reply.started": "2024-08-05T18:37:32.048161Z"
    }
   },
   "outputs": [],
   "source": [
    "def validate_model(model, testing_loader):\n",
    "    model.eval()\n",
    "    eval_loss, eval_accuracy = 0, 0\n",
    "    nb_eval_steps = 0\n",
    "    eval_preds, eval_labels = [], []\n",
    "\n",
    "    with torch.no_grad():\n",
    "        for idx, batch in enumerate(testing_loader):\n",
    "            ids = batch['input_ids'].to(device)\n",
    "            mask = batch['attention_mask'].to(device)\n",
    "            labels = batch['labels'].to(device)\n",
    "\n",
    "            output = model(input_ids=ids, attention_mask=mask, labels=labels)\n",
    "            eval_loss += output.loss.item()\n",
    "            eval_logits = output.logits\n",
    "\n",
    "            nb_eval_steps += 1\n",
    "            if idx % 1000 == 0:\n",
    "                print(f\"Validation loss per 1000 evaluation steps: {eval_loss / nb_eval_steps}\")\n",
    "\n",
    "            flattened_targets = labels.view(-1)\n",
    "            active_logits = eval_logits.view(-1, model.num_labels)\n",
    "            flattened_predictions = torch.argmax(active_logits, axis=1)\n",
    "\n",
    "            active_accuracy = labels.view(-1) != -100\n",
    "            active_targets = torch.masked_select(flattened_targets, active_accuracy)\n",
    "            active_predictions = torch.masked_select(flattened_predictions, active_accuracy)\n",
    "\n",
    "            eval_labels.extend(active_targets.cpu().numpy())\n",
    "            eval_preds.extend(active_predictions.cpu().numpy())\n",
    "\n",
    "    eval_loss /= nb_eval_steps\n",
    "    eval_accuracy = np.sum(np.array(eval_preds) == np.array(eval_labels)) / len(eval_labels)\n",
    "\n",
    "    print(f\"Validation Loss: {eval_loss}\")\n",
    "    print(f\"Validation Accuracy: {eval_accuracy}\")\n",
    "    return eval_labels, eval_preds"
   ]
  },
  {
   "cell_type": "code",
   "execution_count": 23,
   "metadata": {
    "execution": {
     "iopub.execute_input": "2024-08-05T18:37:32.253933Z",
     "iopub.status.busy": "2024-08-05T18:37:32.253599Z",
     "iopub.status.idle": "2024-08-05T18:37:32.263210Z",
     "shell.execute_reply": "2024-08-05T18:37:32.261996Z",
     "shell.execute_reply.started": "2024-08-05T18:37:32.253907Z"
    }
   },
   "outputs": [],
   "source": [
    "def evaluate_model(labels, predictions):\n",
    "    labels = [ids_to_labels[id.item()] for id in labels]\n",
    "    predictions = [ids_to_labels[id.item()] for id in predictions]\n",
    "    \n",
    "    recall_val = recall_score(y_true=labels, y_pred=predictions, average='micro')\n",
    "    print(f'Recall Score: {recall_val}')\n",
    "\n",
    "    precision_val = precision_score(y_true=labels, y_pred=predictions, average='micro')\n",
    "    print(f'Precision Score: {precision_val}')\n",
    "\n",
    "    f1_val = f1_score(y_true=labels, y_pred=predictions, average='micro')\n",
    "    print(f'F1 Score: {f1_val}')\n",
    "\n",
    "    acc_val = accuracy_score(y_true=labels, y_pred=predictions)\n",
    "    print(f\"Accuracy Score: {acc_val}\")\n",
    "\n",
    "    cm = confusion_matrix(y_true=labels, y_pred=predictions)\n",
    "    print(\"Confusion Matrix:\")\n",
    "    print(cm)\n",
    "\n",
    "    print(\"Classification Report:\")\n",
    "    print(classification_report(labels, predictions))\n",
    "\n",
    "    plt.figure()\n",
    "    fig, ax = plot_confusion_matrix(conf_mat=cm, show_absolute=True, show_normed=True, colorbar=True, class_names=np.unique(labels))\n",
    "    plt.title(\"BERT - Aspect Extraction\")\n",
    "    plt.show()"
   ]
  },
  {
   "cell_type": "code",
   "execution_count": 24,
   "metadata": {
    "execution": {
     "iopub.execute_input": "2024-08-05T18:37:32.463620Z",
     "iopub.status.busy": "2024-08-05T18:37:32.462503Z",
     "iopub.status.idle": "2024-08-05T18:38:13.847388Z",
     "shell.execute_reply": "2024-08-05T18:38:13.846497Z",
     "shell.execute_reply.started": "2024-08-05T18:37:32.463585Z"
    }
   },
   "outputs": [
    {
     "name": "stdout",
     "output_type": "stream",
     "text": [
      "##### Validation #####\n",
      "Validation loss per 1000 evaluation steps: 0.006736523937433958\n",
      "Validation Loss: 0.011888190190699793\n",
      "Validation Accuracy: 0.9975265017667845\n",
      "Recall Score: 0.9975265017667845\n",
      "Precision Score: 0.9975265017667845\n",
      "F1 Score: 0.9975265017667845\n",
      "Accuracy Score: 0.9975265017667845\n",
      "Confusion Matrix:\n",
      "[[1577    0    4]\n",
      " [   4   43    2]\n",
      " [   3    1 4026]]\n",
      "Classification Report:\n",
      "              precision    recall  f1-score   support\n",
      "\n",
      "         B-A       1.00      1.00      1.00      1581\n",
      "         I-A       0.98      0.88      0.92        49\n",
      "           O       1.00      1.00      1.00      4030\n",
      "\n",
      "    accuracy                           1.00      5660\n",
      "   macro avg       0.99      0.96      0.97      5660\n",
      "weighted avg       1.00      1.00      1.00      5660\n",
      "\n"
     ]
    },
    {
     "data": {
      "text/plain": [
       "<Figure size 640x480 with 0 Axes>"
      ]
     },
     "metadata": {},
     "output_type": "display_data"
    },
    {
     "data": {
      "image/png": "[encoded data removed]",
      "text/plain": [
       "<Figure size 640x480 with 2 Axes>"
      ]
     },
     "metadata": {},
     "output_type": "display_data"
    },
    {
     "name": "stdout",
     "output_type": "stream",
     "text": [
      "CPU times: user 41.4 s, sys: 180 ms, total: 41.6 s\n",
      "Wall time: 41.4 s\n"
     ]
    }
   ],
   "source": [
    "%%time\n",
    "\n",
    "print(\"##### Validation #####\")\n",
    "labels, predictions = validate_model(model, validation_loader)\n",
    "evaluate_model(labels, predictions)"
   ]
  },
  {
   "cell_type": "code",
   "execution_count": 25,
   "metadata": {
    "execution": {
     "iopub.execute_input": "2024-08-05T18:38:13.849514Z",
     "iopub.status.busy": "2024-08-05T18:38:13.849200Z",
     "iopub.status.idle": "2024-08-05T18:38:56.128531Z",
     "shell.execute_reply": "2024-08-05T18:38:56.127636Z",
     "shell.execute_reply.started": "2024-08-05T18:38:13.849487Z"
    }
   },
   "outputs": [
    {
     "name": "stdout",
     "output_type": "stream",
     "text": [
      "##### Testing #####\n",
      "Validation loss per 1000 evaluation steps: 0.023223724216222763\n",
      "Validation Loss: 0.009206722973415755\n",
      "Validation Accuracy: 0.9987634693517047\n",
      "Recall Score: 0.9987634693517047\n",
      "Precision Score: 0.9987634693517047\n",
      "F1 Score: 0.9987634693517047\n",
      "Accuracy Score: 0.9987634693517047\n",
      "Confusion Matrix:\n",
      "[[1597    1    2]\n",
      " [   2   62    0]\n",
      " [   1    1 3995]]\n",
      "Classification Report:\n",
      "              precision    recall  f1-score   support\n",
      "\n",
      "         B-A       1.00      1.00      1.00      1600\n",
      "         I-A       0.97      0.97      0.97        64\n",
      "           O       1.00      1.00      1.00      3997\n",
      "\n",
      "    accuracy                           1.00      5661\n",
      "   macro avg       0.99      0.99      0.99      5661\n",
      "weighted avg       1.00      1.00      1.00      5661\n",
      "\n"
     ]
    },
    {
     "data": {
      "text/plain": [
       "<Figure size 640x480 with 0 Axes>"
      ]
     },
     "metadata": {},
     "output_type": "display_data"
    },
    {
     "data": {
      "image/png": "[encoded data removed]",
      "text/plain": [
       "<Figure size 640x480 with 2 Axes>"
      ]
     },
     "metadata": {},
     "output_type": "display_data"
    },
    {
     "name": "stdout",
     "output_type": "stream",
     "text": [
      "CPU times: user 42.4 s, sys: 157 ms, total: 42.5 s\n",
      "Wall time: 42.3 s\n"
     ]
    }
   ],
   "source": [
    "%%time\n",
    "\n",
    "print(\"##### Testing #####\")\n",
    "labels, predictions = validate_model(model, testing_loader)\n",
    "evaluate_model(labels, predictions)"
   ]
  },
  {
   "cell_type": "code",
   "execution_count": 26,
   "metadata": {
    "execution": {
     "iopub.execute_input": "2024-08-05T18:38:56.130048Z",
     "iopub.status.busy": "2024-08-05T18:38:56.129737Z",
     "iopub.status.idle": "2024-08-05T18:38:56.135874Z",
     "shell.execute_reply": "2024-08-05T18:38:56.134786Z",
     "shell.execute_reply.started": "2024-08-05T18:38:56.130000Z"
    }
   },
   "outputs": [],
   "source": [
    "def align_word_predictions(tokens, token_predictions):\n",
    "    aligned_tokens = []\n",
    "    aligned_predictions = []\n",
    "\n",
    "    for token, prediction in zip(tokens, token_predictions):\n",
    "        if not token.startswith(\"##\"):\n",
    "            aligned_tokens.append(token)\n",
    "            aligned_predictions.append(prediction)\n",
    "        else:\n",
    "            aligned_tokens[-1] = aligned_tokens[-1] + token[2:]\n",
    "\n",
    "    return aligned_tokens, aligned_predictions"
   ]
  },
  {
   "cell_type": "code",
   "execution_count": 59,
   "metadata": {
    "execution": {
     "iopub.execute_input": "2024-08-05T18:41:05.817870Z",
     "iopub.status.busy": "2024-08-05T18:41:05.817533Z",
     "iopub.status.idle": "2024-08-05T18:41:05.823258Z",
     "shell.execute_reply": "2024-08-05T18:41:05.822381Z",
     "shell.execute_reply.started": "2024-08-05T18:41:05.817842Z"
    }
   },
   "outputs": [],
   "source": [
    "#sentence = \"Fiber 100mb SuperOnline kullanıcısıyım yaklaşık 2 haftadır Twitch Kick_Turkey gibi canlı yayın platformlarında 360p yayın izlerken donmalar yaşıyoruz. Başka hiç bir operatörler bu sorunu yaşamazken ben parasını verip alamadığım hizmeti neden ödeyeyim ? Turkcell \"\n",
    "sentence = \t\"baska bir operatörler İnternetiniz yokken bile msj atilio\""
   ]
  },
  {
   "cell_type": "code",
   "execution_count": 60,
   "metadata": {
    "execution": {
     "iopub.execute_input": "2024-08-05T18:41:06.003992Z",
     "iopub.status.busy": "2024-08-05T18:41:06.003231Z",
     "iopub.status.idle": "2024-08-05T18:41:06.009036Z",
     "shell.execute_reply": "2024-08-05T18:41:06.008155Z",
     "shell.execute_reply.started": "2024-08-05T18:41:06.003962Z"
    }
   },
   "outputs": [],
   "source": [
    "inputs = tokenizer(sentence,\n",
    "                    # is_pretokenized=True, \n",
    "                    return_offsets_mapping=True, \n",
    "                    padding='max_length', \n",
    "                    truncation=True, \n",
    "                    max_length=MAX_LEN,\n",
    "                    return_tensors=\"pt\")"
   ]
  },
  {
   "cell_type": "code",
   "execution_count": 61,
   "metadata": {
    "execution": {
     "iopub.execute_input": "2024-08-05T18:41:06.128832Z",
     "iopub.status.busy": "2024-08-05T18:41:06.128072Z",
     "iopub.status.idle": "2024-08-05T18:41:06.155694Z",
     "shell.execute_reply": "2024-08-05T18:41:06.154827Z",
     "shell.execute_reply.started": "2024-08-05T18:41:06.128803Z"
    }
   },
   "outputs": [],
   "source": [
    "ids = inputs[\"input_ids\"].to(device)\n",
    "mask = inputs[\"attention_mask\"].to(device)\n",
    "\n",
    "with torch.no_grad():\n",
    "    outputs = model(ids, attention_mask=mask)\n",
    "    logits = outputs[0]\n",
    "\n",
    "active_logits = logits.view(-1, model.num_labels) \n",
    "flattened_predictions = torch.argmax(active_logits, axis=1) \n",
    "\n",
    "tokens = tokenizer.convert_ids_to_tokens(ids.squeeze().tolist())\n",
    "token_predictions = [ids_to_labels[i] for i in flattened_predictions.cpu().numpy()]\n",
    "wp_preds = list(zip(tokens, token_predictions))"
   ]
  },
  {
   "cell_type": "code",
   "execution_count": 62,
   "metadata": {
    "execution": {
     "iopub.execute_input": "2024-08-05T18:41:06.319106Z",
     "iopub.status.busy": "2024-08-05T18:41:06.318503Z",
     "iopub.status.idle": "2024-08-05T18:41:06.324791Z",
     "shell.execute_reply": "2024-08-05T18:41:06.323840Z",
     "shell.execute_reply.started": "2024-08-05T18:41:06.319078Z"
    }
   },
   "outputs": [
    {
     "name": "stdout",
     "output_type": "stream",
     "text": [
      "Sample input sentence:\n",
      "Word                          ||Pred      \n",
      "==============================\n",
      "baska                         ||O         \n",
      "bir                           ||I-A       \n",
      "operatörler                   ||B-A       \n",
      "İnternetiniz                  ||O         \n",
      "yokken                        ||O         \n",
      "bile                          ||O         \n",
      "msj                           ||O         \n",
      "atilio                        ||O         \n"
     ]
    }
   ],
   "source": [
    "aligned_tokens, aligned_predictions = align_word_predictions(tokens, token_predictions)\n",
    "\n",
    "print(\"Sample input sentence:\")\n",
    "print(\"{:30}||{:10}\".format(\"Word\", \"Pred\"))\n",
    "print(30 * \"=\")\n",
    "for w, pred in zip(aligned_tokens, aligned_predictions):\n",
    "    if w not in [\"[PAD]\", \"[CLS]\", \"[SEP]\"]:\n",
    "        print(\"{:30}||{:10}\".format(w, pred))"
   ]
  },
  {
   "cell_type": "code",
   "execution_count": null,
   "metadata": {},
   "outputs": [],
   "source": []
  },
  {
   "cell_type": "code",
   "execution_count": null,
   "metadata": {},
   "outputs": [],
   "source": []
  }
 ],
 "metadata": {
  "kernelspec": {
   "display_name": "Python 3 (ipykernel)",
   "language": "python",
   "name": "python3"
  },
  "language_info": {
   "codemirror_mode": {
    "name": "ipython",
    "version": 3
   },
   "file_extension": ".py",
   "mimetype": "text/x-python",
   "name": "python",
   "nbconvert_exporter": "python",
   "pygments_lexer": "ipython3",
   "version": "3.10.12"
  }
 },
 "nbformat": 4,
 "nbformat_minor": 4
}
