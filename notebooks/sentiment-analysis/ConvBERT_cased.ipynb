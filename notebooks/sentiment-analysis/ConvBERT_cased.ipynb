{
 "cells": [
  {
   "cell_type": "code",
   "execution_count": 1,
   "metadata": {
    "_cell_guid": "b1076dfc-b9ad-4769-8c92-a6c4dae69d19",
    "_uuid": "8f2839f25d086af736a60e9eeb907d3b93b6e0e5",
    "execution": {
     "iopub.execute_input": "2024-08-06T18:31:20.215151Z",
     "iopub.status.busy": "2024-08-06T18:31:20.214861Z",
     "iopub.status.idle": "2024-08-06T18:31:21.347093Z",
     "shell.execute_reply": "2024-08-06T18:31:21.346062Z",
     "shell.execute_reply.started": "2024-08-06T18:31:20.215126Z"
    }
   },
   "outputs": [
    {
     "name": "stdout",
     "output_type": "stream",
     "text": [
      "/kaggle/input/all-aspects/all_aspects_just_aspect.csv\n",
      "/kaggle/input/all-aspects/all_tagged_aspects_just_aspect_cleaned.csv\n",
      "/kaggle/input/all-aspects/all_tagged_aspects_just_aspect_filled.csv\n",
      "/kaggle/input/all-aspects/all_tagged_aspects_filled.csv\n",
      "/kaggle/input/all-aspects/all_tagged_aspects_just_aspect.csv\n",
      "/kaggle/input/all-aspects/all_tagged_aspects_sentences.csv\n",
      "/kaggle/input/all-aspects/all_tagged_aspects_just_aspect_sentences.csv\n",
      "/kaggle/input/all-aspects/all_aspects_just_aspect_cleaned.csv\n",
      "/kaggle/input/all-aspects/all_tagged_aspects_just_aspect_filled_sentences.csv\n",
      "/kaggle/input/all-aspects/cleaned.csv\n",
      "/kaggle/input/all-aspects/all_aspects_just_aspect_filled.csv\n",
      "/kaggle/input/all-aspects/all_tagged_aspects.csv\n",
      "/kaggle/input/all-aspects/all_aspects.csv\n",
      "/kaggle/input/all-aspects/all_tagged_aspects_just_aspect_cleaned_sentences.csv\n"
     ]
    }
   ],
   "source": [
    "# This Python 3 environment comes with many helpful analytics libraries installed\n",
    "# It is defined by the kaggle/python Docker image: https://github.com/kaggle/docker-python\n",
    "# For example, here's several helpful packages to load\n",
    "\n",
    "import numpy as np # linear algebra\n",
    "import pandas as pd # data processing, CSV file I/O (e.g. pd.read_csv)\n",
    "\n",
    "# Input data files are available in the read-only \"../input/\" directory\n",
    "# For example, running this (by clicking run or pressing Shift+Enter) will list all files under the input directory\n",
    "\n",
    "import os\n",
    "for dirname, _, filenames in os.walk('/kaggle/input'):\n",
    "    for filename in filenames:\n",
    "        print(os.path.join(dirname, filename))\n",
    "\n",
    "# You can write up to 20GB to the current directory (/kaggle/working/) that gets preserved as output when you create a version using \"Save & Run All\" \n",
    "# You can also write temporary files to /kaggle/temp/, but they won't be saved outside of the current session"
   ]
  },
  {
   "cell_type": "code",
   "execution_count": 3,
   "metadata": {
    "execution": {
     "iopub.execute_input": "2024-08-06T18:57:11.770236Z",
     "iopub.status.busy": "2024-08-06T18:57:11.769624Z",
     "iopub.status.idle": "2024-08-06T18:57:19.177633Z",
     "shell.execute_reply": "2024-08-06T18:57:19.176829Z",
     "shell.execute_reply.started": "2024-08-06T18:57:11.770189Z"
    }
   },
   "outputs": [],
   "source": [
    "import os\n",
    "os.environ[\"TF_CPP_MIN_LOG_LEVEL\"] = \"3\"\n",
    "\n",
    "import sys\n",
    "import time\n",
    "import tqdm\n",
    "\n",
    "import numpy as np\n",
    "import pandas as pd\n",
    "\n",
    "import pickle\n",
    "\n",
    "import string\n",
    "import io\n",
    "import re\n",
    "import nltk\n",
    "import emoji\n",
    "\n",
    "import matplotlib.pyplot as plt\n",
    "import seaborn as sns\n",
    "from collections import Counter\n",
    "\n",
    "from sklearn.model_selection import train_test_split\n",
    "\n",
    "from mlxtend.plotting import plot_confusion_matrix\n",
    "\n",
    "from sklearn.metrics import roc_curve, auc, classification_report, confusion_matrix\n",
    "from sklearn.metrics import accuracy_score, f1_score, precision_score, recall_score, roc_auc_score\n",
    "\n",
    "import torch\n",
    "import torch.nn as nn\n",
    "import torch.optim as optim\n",
    "import torch.nn.functional as F\n",
    "import torchvision\n",
    "from torchvision import transforms\n",
    "from torch.utils.data import Dataset, DataLoader\n",
    "from transformers import ConvBertTokenizerFast, ConvBertForSequenceClassification, AdamW, get_linear_schedule_with_warmup\n",
    "\n",
    "from IPython.display import Markdown, clear_output\n",
    "\n",
    "def bold(string):\n",
    "    display(Markdown(\"**\" + string + \"**\"))\n",
    "\n",
    "import warnings\n",
    "from sklearn.exceptions import ConvergenceWarning\n",
    "warnings.filterwarnings(\"ignore\", category=UserWarning)\n",
    "warnings.filterwarnings(\"ignore\", category=FutureWarning)\n",
    "warnings.filterwarnings(\"ignore\", category=ConvergenceWarning)"
   ]
  },
  {
   "cell_type": "code",
   "execution_count": 4,
   "metadata": {
    "execution": {
     "iopub.execute_input": "2024-08-06T18:57:19.180235Z",
     "iopub.status.busy": "2024-08-06T18:57:19.179411Z",
     "iopub.status.idle": "2024-08-06T18:57:19.239064Z",
     "shell.execute_reply": "2024-08-06T18:57:19.238154Z",
     "shell.execute_reply.started": "2024-08-06T18:57:19.180202Z"
    }
   },
   "outputs": [
    {
     "data": {
      "text/plain": [
       "device(type='cuda')"
      ]
     },
     "execution_count": 4,
     "metadata": {},
     "output_type": "execute_result"
    }
   ],
   "source": [
    "device = torch.device(\"cuda\" if torch.cuda.is_available() else \"cpu\")\n",
    "device"
   ]
  },
  {
   "cell_type": "code",
   "execution_count": 5,
   "metadata": {
    "execution": {
     "iopub.execute_input": "2024-08-06T18:57:19.240902Z",
     "iopub.status.busy": "2024-08-06T18:57:19.240214Z",
     "iopub.status.idle": "2024-08-06T18:57:20.867967Z",
     "shell.execute_reply": "2024-08-06T18:57:20.867015Z",
     "shell.execute_reply.started": "2024-08-06T18:57:19.240876Z"
    }
   },
   "outputs": [
    {
     "data": {
      "text/html": [
       "<div>\n",
       "<style scoped>\n",
       "    .dataframe tbody tr th:only-of-type {\n",
       "        vertical-align: middle;\n",
       "    }\n",
       "\n",
       "    .dataframe tbody tr th {\n",
       "        vertical-align: top;\n",
       "    }\n",
       "\n",
       "    .dataframe thead th {\n",
       "        text-align: right;\n",
       "    }\n",
       "</style>\n",
       "<table border=\"1\" class=\"dataframe\">\n",
       "  <thead>\n",
       "    <tr style=\"text-align: right;\">\n",
       "      <th></th>\n",
       "      <th>rid</th>\n",
       "      <th>sid</th>\n",
       "      <th>app</th>\n",
       "      <th>review</th>\n",
       "      <th>cleaned</th>\n",
       "      <th>aspect</th>\n",
       "      <th>sentiment</th>\n",
       "      <th>aspect_polarity</th>\n",
       "    </tr>\n",
       "  </thead>\n",
       "  <tbody>\n",
       "    <tr>\n",
       "      <th>0</th>\n",
       "      <td>9</td>\n",
       "      <td>1</td>\n",
       "      <td>Google Play Store/BiP</td>\n",
       "      <td>Uygulamada kartlarda Troy kart geçmiyor Lütfen...</td>\n",
       "      <td>Uygulama da kartlar da Troy kart geçmiyor uygu...</td>\n",
       "      <td>Troy</td>\n",
       "      <td>Negative</td>\n",
       "      <td>0</td>\n",
       "    </tr>\n",
       "    <tr>\n",
       "      <th>1</th>\n",
       "      <td>9</td>\n",
       "      <td>1</td>\n",
       "      <td>Google Play Store/BiP</td>\n",
       "      <td>Uygulamada kartlarda Troy kart geçmiyor Lütfen...</td>\n",
       "      <td>Uygulama da kartlar da Troy kart geçmiyor uygu...</td>\n",
       "      <td>Troy</td>\n",
       "      <td>Neutral</td>\n",
       "      <td>1</td>\n",
       "    </tr>\n",
       "    <tr>\n",
       "      <th>2</th>\n",
       "      <td>10</td>\n",
       "      <td>1</td>\n",
       "      <td>Google Play Store/BiP</td>\n",
       "      <td>Her güncellemede daha da kötüleşen Turkcell in...</td>\n",
       "      <td>güncelleme de kötüleşen Turkcell in ara ara ha...</td>\n",
       "      <td>Turkcell</td>\n",
       "      <td>Negative</td>\n",
       "      <td>0</td>\n",
       "    </tr>\n",
       "    <tr>\n",
       "      <th>3</th>\n",
       "      <td>13</td>\n",
       "      <td>1</td>\n",
       "      <td>Google Play Store/BiP</td>\n",
       "      <td>BiP’ten aranmıyor yardım</td>\n",
       "      <td>BiP’ten aranmıyor yardım</td>\n",
       "      <td>BiP’ten</td>\n",
       "      <td>Negative</td>\n",
       "      <td>0</td>\n",
       "    </tr>\n",
       "    <tr>\n",
       "      <th>4</th>\n",
       "      <td>17</td>\n",
       "      <td>1</td>\n",
       "      <td>Google Play Store/BiP</td>\n",
       "      <td>Bu yorumum kesinlikle uygulamanın daha çok gel...</td>\n",
       "      <td>yorumum uygulamanın gelişmesi kulanıcıya erişi...</td>\n",
       "      <td>BİP</td>\n",
       "      <td>Positive</td>\n",
       "      <td>2</td>\n",
       "    </tr>\n",
       "  </tbody>\n",
       "</table>\n",
       "</div>"
      ],
      "text/plain": [
       "   rid  sid                    app  \\\n",
       "0    9    1  Google Play Store/BiP   \n",
       "1    9    1  Google Play Store/BiP   \n",
       "2   10    1  Google Play Store/BiP   \n",
       "3   13    1  Google Play Store/BiP   \n",
       "4   17    1  Google Play Store/BiP   \n",
       "\n",
       "                                              review  \\\n",
       "0  Uygulamada kartlarda Troy kart geçmiyor Lütfen...   \n",
       "1  Uygulamada kartlarda Troy kart geçmiyor Lütfen...   \n",
       "2  Her güncellemede daha da kötüleşen Turkcell in...   \n",
       "3                           BiP’ten aranmıyor yardım   \n",
       "4  Bu yorumum kesinlikle uygulamanın daha çok gel...   \n",
       "\n",
       "                                             cleaned    aspect sentiment  \\\n",
       "0  Uygulama da kartlar da Troy kart geçmiyor uygu...      Troy  Negative   \n",
       "1  Uygulama da kartlar da Troy kart geçmiyor uygu...      Troy   Neutral   \n",
       "2  güncelleme de kötüleşen Turkcell in ara ara ha...  Turkcell  Negative   \n",
       "3                           BiP’ten aranmıyor yardım   BiP’ten  Negative   \n",
       "4  yorumum uygulamanın gelişmesi kulanıcıya erişi...       BİP  Positive   \n",
       "\n",
       "   aspect_polarity  \n",
       "0                0  \n",
       "1                1  \n",
       "2                0  \n",
       "3                0  \n",
       "4                2  "
      ]
     },
     "execution_count": 5,
     "metadata": {},
     "output_type": "execute_result"
    }
   ],
   "source": [
    "df = pd.read_csv(\"../input/all-aspects/cleaned.csv\")\n",
    "df.head()"
   ]
  },
  {
   "cell_type": "code",
   "execution_count": 6,
   "metadata": {
    "execution": {
     "iopub.execute_input": "2024-08-06T18:57:20.871278Z",
     "iopub.status.busy": "2024-08-06T18:57:20.870917Z",
     "iopub.status.idle": "2024-08-06T18:57:20.997277Z",
     "shell.execute_reply": "2024-08-06T18:57:20.996467Z",
     "shell.execute_reply.started": "2024-08-06T18:57:20.871245Z"
    }
   },
   "outputs": [],
   "source": [
    "df = df.dropna().reset_index(drop=True)"
   ]
  },
  {
   "cell_type": "code",
   "execution_count": 7,
   "metadata": {
    "execution": {
     "iopub.execute_input": "2024-08-06T18:57:20.998642Z",
     "iopub.status.busy": "2024-08-06T18:57:20.998361Z",
     "iopub.status.idle": "2024-08-06T18:57:21.003092Z",
     "shell.execute_reply": "2024-08-06T18:57:21.002237Z",
     "shell.execute_reply.started": "2024-08-06T18:57:20.998618Z"
    }
   },
   "outputs": [],
   "source": [
    "label_mapping = {\"Negative\": 0, \"Neutral\": 1, \"Positive\": 2}"
   ]
  },
  {
   "cell_type": "code",
   "execution_count": 8,
   "metadata": {
    "execution": {
     "iopub.execute_input": "2024-08-06T18:57:21.004465Z",
     "iopub.status.busy": "2024-08-06T18:57:21.004176Z",
     "iopub.status.idle": "2024-08-06T18:57:21.111950Z",
     "shell.execute_reply": "2024-08-06T18:57:21.110763Z",
     "shell.execute_reply.started": "2024-08-06T18:57:21.004437Z"
    }
   },
   "outputs": [],
   "source": [
    "df['text'] = df['aspect'] + \" [SEP] \" + df['review']"
   ]
  },
  {
   "cell_type": "code",
   "execution_count": 9,
   "metadata": {
    "execution": {
     "iopub.execute_input": "2024-08-06T18:57:21.114296Z",
     "iopub.status.busy": "2024-08-06T18:57:21.113896Z",
     "iopub.status.idle": "2024-08-06T18:57:21.143385Z",
     "shell.execute_reply": "2024-08-06T18:57:21.142285Z",
     "shell.execute_reply.started": "2024-08-06T18:57:21.114260Z"
    }
   },
   "outputs": [],
   "source": [
    "df = df[[\"text\", \"aspect_polarity\"]]"
   ]
  },
  {
   "cell_type": "code",
   "execution_count": 10,
   "metadata": {
    "execution": {
     "iopub.execute_input": "2024-08-06T18:57:21.145693Z",
     "iopub.status.busy": "2024-08-06T18:57:21.145279Z",
     "iopub.status.idle": "2024-08-06T18:57:25.235502Z",
     "shell.execute_reply": "2024-08-06T18:57:25.234520Z",
     "shell.execute_reply.started": "2024-08-06T18:57:21.145657Z"
    }
   },
   "outputs": [
    {
     "data": {
      "application/vnd.jupyter.widget-view+json": {
       "model_id": "705bb8e1803b48c6884a990c945b7ac6",
       "version_major": 2,
       "version_minor": 0
      },
      "text/plain": [
       "tokenizer_config.json:   0%|          | 0.00/83.0 [00:00<?, ?B/s]"
      ]
     },
     "metadata": {},
     "output_type": "display_data"
    },
    {
     "data": {
      "application/vnd.jupyter.widget-view+json": {
       "model_id": "776ea25bcf46494789406c8841405117",
       "version_major": 2,
       "version_minor": 0
      },
      "text/plain": [
       "vocab.txt:   0%|          | 0.00/251k [00:00<?, ?B/s]"
      ]
     },
     "metadata": {},
     "output_type": "display_data"
    },
    {
     "data": {
      "application/vnd.jupyter.widget-view+json": {
       "model_id": "72db38bfa949415a996f940aa9e880c1",
       "version_major": 2,
       "version_minor": 0
      },
      "text/plain": [
       "config.json:   0%|          | 0.00/565 [00:00<?, ?B/s]"
      ]
     },
     "metadata": {},
     "output_type": "display_data"
    },
    {
     "data": {
      "application/vnd.jupyter.widget-view+json": {
       "model_id": "59182b507b7449eaaef2ae5b6cfd639a",
       "version_major": 2,
       "version_minor": 0
      },
      "text/plain": [
       "model.safetensors:   0%|          | 0.00/427M [00:00<?, ?B/s]"
      ]
     },
     "metadata": {},
     "output_type": "display_data"
    },
    {
     "name": "stderr",
     "output_type": "stream",
     "text": [
      "Some weights of ConvBertForSequenceClassification were not initialized from the model checkpoint at dbmdz/convbert-base-turkish-cased and are newly initialized: ['classifier.dense.bias', 'classifier.dense.weight', 'classifier.out_proj.bias', 'classifier.out_proj.weight']\n",
      "You should probably TRAIN this model on a down-stream task to be able to use it for predictions and inference.\n"
     ]
    }
   ],
   "source": [
    "tokenizer = ConvBertTokenizerFast.from_pretrained(\"dbmdz/convbert-base-turkish-cased\")\n",
    "model = ConvBertForSequenceClassification.from_pretrained(\"dbmdz/convbert-base-turkish-cased\", num_labels=3).to(device)"
   ]
  },
  {
   "cell_type": "code",
   "execution_count": 11,
   "metadata": {
    "execution": {
     "iopub.execute_input": "2024-08-06T18:57:25.237083Z",
     "iopub.status.busy": "2024-08-06T18:57:25.236748Z",
     "iopub.status.idle": "2024-08-06T18:57:25.244779Z",
     "shell.execute_reply": "2024-08-06T18:57:25.243842Z",
     "shell.execute_reply.started": "2024-08-06T18:57:25.237057Z"
    }
   },
   "outputs": [],
   "source": [
    "class SentimentDataset(Dataset):\n",
    "    def __init__(self, texts, labels, tokenizer, max_len):\n",
    "        self.texts = texts\n",
    "        self.labels = labels\n",
    "        self.tokenizer = tokenizer\n",
    "        self.max_len = max_len\n",
    "    \n",
    "    def __len__(self):\n",
    "        return len(self.texts)\n",
    "    \n",
    "    def __getitem__(self, item):\n",
    "        text = self.texts[item]\n",
    "        label = self.labels[item]\n",
    "        \n",
    "        encoding = self.tokenizer.encode_plus(\n",
    "            text,\n",
    "            add_special_tokens=True,\n",
    "            max_length=self.max_len,\n",
    "            return_token_type_ids=False,\n",
    "            pad_to_max_length=True,\n",
    "            return_attention_mask=True,\n",
    "            return_tensors='pt',\n",
    "        )\n",
    "        \n",
    "        return {\n",
    "            'text': text,\n",
    "            'input_ids': encoding['input_ids'].flatten(),\n",
    "            'attention_mask': encoding['attention_mask'].flatten(),\n",
    "            'labels': torch.tensor(label, dtype=torch.long)\n",
    "        }"
   ]
  },
  {
   "cell_type": "code",
   "execution_count": 12,
   "metadata": {
    "execution": {
     "iopub.execute_input": "2024-08-06T18:57:25.249708Z",
     "iopub.status.busy": "2024-08-06T18:57:25.249166Z",
     "iopub.status.idle": "2024-08-06T18:57:25.437965Z",
     "shell.execute_reply": "2024-08-06T18:57:25.436991Z",
     "shell.execute_reply.started": "2024-08-06T18:57:25.249680Z"
    }
   },
   "outputs": [],
   "source": [
    "def train_validate_test_split(df, split_size):\n",
    "    perm = np.random.permutation(df.index)\n",
    "    train_end = int(train_size * len(df.index))\n",
    "    validate_end = int(((1 - split_size) / 2) * len(df.index)) + train_end\n",
    "    train = df.iloc[perm[:train_end]]\n",
    "    validate = df.iloc[perm[train_end:validate_end]]\n",
    "    test = df.iloc[perm[validate_end:]]\n",
    "    return train, validate, test"
   ]
  },
  {
   "cell_type": "code",
   "execution_count": 13,
   "metadata": {
    "execution": {
     "iopub.execute_input": "2024-08-06T18:57:25.439344Z",
     "iopub.status.busy": "2024-08-06T18:57:25.439084Z",
     "iopub.status.idle": "2024-08-06T18:57:25.472546Z",
     "shell.execute_reply": "2024-08-06T18:57:25.471646Z",
     "shell.execute_reply.started": "2024-08-06T18:57:25.439322Z"
    }
   },
   "outputs": [
    {
     "name": "stdout",
     "output_type": "stream",
     "text": [
      "Full dataset: 157279\n",
      "Train dataset: 141551\n",
      "Valid dataset: 7863\n",
      "Test dataset: 7865\n"
     ]
    }
   ],
   "source": [
    "train_size = 0.9\n",
    "df_train, df_validation, df_test = train_validate_test_split(df, train_size)\n",
    "df_train = df_train.reset_index(drop=True)\n",
    "df_validation = df_validation.reset_index(drop=True)\n",
    "df_test = df_test.reset_index(drop=True)\n",
    "\n",
    "print(f\"Full dataset: {df.shape[0]}\")\n",
    "print(f\"Train dataset: {df_train.shape[0]}\")\n",
    "print(f\"Valid dataset: {df_validation.shape[0]}\")\n",
    "print(f\"Test dataset: {df_test.shape[0]}\")"
   ]
  },
  {
   "cell_type": "code",
   "execution_count": 14,
   "metadata": {
    "execution": {
     "iopub.execute_input": "2024-08-06T18:57:25.474334Z",
     "iopub.status.busy": "2024-08-06T18:57:25.474024Z",
     "iopub.status.idle": "2024-08-06T18:57:25.478496Z",
     "shell.execute_reply": "2024-08-06T18:57:25.477506Z",
     "shell.execute_reply.started": "2024-08-06T18:57:25.474310Z"
    }
   },
   "outputs": [],
   "source": [
    "MAX_LEN = 64\n",
    "BATCH_SIZE = 32\n",
    "EPOCHS = 2\n",
    "LEARNING_RATE = 1e-7"
   ]
  },
  {
   "cell_type": "code",
   "execution_count": 15,
   "metadata": {
    "execution": {
     "iopub.execute_input": "2024-08-06T18:57:25.479919Z",
     "iopub.status.busy": "2024-08-06T18:57:25.479633Z",
     "iopub.status.idle": "2024-08-06T18:57:25.486523Z",
     "shell.execute_reply": "2024-08-06T18:57:25.485685Z",
     "shell.execute_reply.started": "2024-08-06T18:57:25.479897Z"
    }
   },
   "outputs": [],
   "source": [
    "torch.cuda.empty_cache()"
   ]
  },
  {
   "cell_type": "code",
   "execution_count": 16,
   "metadata": {
    "execution": {
     "iopub.execute_input": "2024-08-06T18:57:25.487703Z",
     "iopub.status.busy": "2024-08-06T18:57:25.487421Z",
     "iopub.status.idle": "2024-08-06T18:57:25.495562Z",
     "shell.execute_reply": "2024-08-06T18:57:25.494626Z",
     "shell.execute_reply.started": "2024-08-06T18:57:25.487674Z"
    }
   },
   "outputs": [],
   "source": [
    "training_set = SentimentDataset(df_train[\"text\"].to_numpy(), df_train[\"aspect_polarity\"].to_numpy(), tokenizer, MAX_LEN)\n",
    "validation_set = SentimentDataset(df_validation[\"text\"].to_numpy(), df_validation[\"aspect_polarity\"].to_numpy(), tokenizer, MAX_LEN)\n",
    "testing_set = SentimentDataset(df_test[\"text\"].to_numpy(), df_test[\"aspect_polarity\"].to_numpy(), tokenizer, MAX_LEN)"
   ]
  },
  {
   "cell_type": "code",
   "execution_count": 17,
   "metadata": {
    "execution": {
     "iopub.execute_input": "2024-08-06T18:57:25.497445Z",
     "iopub.status.busy": "2024-08-06T18:57:25.496888Z",
     "iopub.status.idle": "2024-08-06T18:57:25.506261Z",
     "shell.execute_reply": "2024-08-06T18:57:25.505397Z",
     "shell.execute_reply.started": "2024-08-06T18:57:25.497421Z"
    }
   },
   "outputs": [],
   "source": [
    "train_params = {\"batch_size\": BATCH_SIZE, \"shuffle\": True, \"num_workers\": 0}\n",
    "valid_params = {\"batch_size\": BATCH_SIZE, \"shuffle\": True, \"num_workers\": 0}\n",
    "test_params = {\"batch_size\": BATCH_SIZE, \"shuffle\": True, \"num_workers\": 0}\n",
    "\n",
    "training_loader = DataLoader(training_set, **train_params)\n",
    "validation_loader = DataLoader(validation_set, **valid_params)\n",
    "testing_loader = DataLoader(testing_set, **test_params)"
   ]
  },
  {
   "cell_type": "code",
   "execution_count": 18,
   "metadata": {
    "execution": {
     "iopub.execute_input": "2024-08-06T18:57:25.508174Z",
     "iopub.status.busy": "2024-08-06T18:57:25.507377Z",
     "iopub.status.idle": "2024-08-06T18:57:25.517654Z",
     "shell.execute_reply": "2024-08-06T18:57:25.516845Z",
     "shell.execute_reply.started": "2024-08-06T18:57:25.508145Z"
    }
   },
   "outputs": [],
   "source": [
    "optimizer = AdamW(model.parameters(), lr=LEARNING_RATE)\n",
    "total_steps = len(training_loader) * EPOCHS\n",
    "scheduler = get_linear_schedule_with_warmup(optimizer, num_warmup_steps=0, num_training_steps=total_steps)"
   ]
  },
  {
   "cell_type": "code",
   "execution_count": 19,
   "metadata": {
    "execution": {
     "iopub.execute_input": "2024-08-06T18:57:25.519113Z",
     "iopub.status.busy": "2024-08-06T18:57:25.518834Z",
     "iopub.status.idle": "2024-08-06T18:57:25.526678Z",
     "shell.execute_reply": "2024-08-06T18:57:25.525843Z",
     "shell.execute_reply.started": "2024-08-06T18:57:25.519091Z"
    }
   },
   "outputs": [],
   "source": [
    "def train_epoch(model, data_loader, optimizer, scheduler, device):\n",
    "    model = model.train()\n",
    "    losses = []\n",
    "    correct_predictions = 0\n",
    "\n",
    "    for d in tqdm.tqdm(data_loader):\n",
    "        input_ids = d[\"input_ids\"].to(device)\n",
    "        attention_mask = d[\"attention_mask\"].to(device)\n",
    "        labels = d[\"labels\"].to(device)\n",
    "\n",
    "        outputs = model(input_ids=input_ids, attention_mask=attention_mask, labels=labels)\n",
    "        loss = outputs.loss\n",
    "        logits = outputs.logits\n",
    "\n",
    "        _, preds = torch.max(logits, dim=1)\n",
    "        correct_predictions += torch.sum(preds == labels)\n",
    "        losses.append(loss.item())\n",
    "\n",
    "        loss.backward()\n",
    "        optimizer.step()\n",
    "        scheduler.step()\n",
    "        optimizer.zero_grad()\n",
    "\n",
    "    return correct_predictions.double() / len(data_loader.dataset), np.mean(losses)"
   ]
  },
  {
   "cell_type": "code",
   "execution_count": 20,
   "metadata": {
    "execution": {
     "iopub.execute_input": "2024-08-06T18:57:25.528863Z",
     "iopub.status.busy": "2024-08-06T18:57:25.528502Z",
     "iopub.status.idle": "2024-08-06T18:57:25.536462Z",
     "shell.execute_reply": "2024-08-06T18:57:25.535687Z",
     "shell.execute_reply.started": "2024-08-06T18:57:25.528832Z"
    }
   },
   "outputs": [],
   "source": [
    "def eval_model(model, data_loader, device):\n",
    "    model = model.eval()\n",
    "    losses = []\n",
    "    correct_predictions = 0\n",
    "\n",
    "    with torch.no_grad():\n",
    "        for d in tqdm.tqdm(data_loader):\n",
    "            input_ids = d[\"input_ids\"].to(device)\n",
    "            attention_mask = d[\"attention_mask\"].to(device)\n",
    "            labels = d[\"labels\"].to(device)\n",
    "\n",
    "            outputs = model(input_ids=input_ids, attention_mask=attention_mask, labels=labels)\n",
    "            loss = outputs.loss\n",
    "            logits = outputs.logits\n",
    "\n",
    "            _, preds = torch.max(logits, dim=1)\n",
    "            correct_predictions += torch.sum(preds == labels)\n",
    "            losses.append(loss.item())\n",
    "\n",
    "    return correct_predictions.double() / len(data_loader.dataset), np.mean(losses)"
   ]
  },
  {
   "cell_type": "code",
   "execution_count": 21,
   "metadata": {
    "execution": {
     "iopub.execute_input": "2024-08-06T18:57:25.537673Z",
     "iopub.status.busy": "2024-08-06T18:57:25.537426Z",
     "iopub.status.idle": "2024-08-06T19:54:00.116482Z",
     "shell.execute_reply": "2024-08-06T19:54:00.115233Z",
     "shell.execute_reply.started": "2024-08-06T18:57:25.537645Z"
    }
   },
   "outputs": [
    {
     "name": "stdout",
     "output_type": "stream",
     "text": [
      "Epoch 1/2\n",
      "----------\n"
     ]
    },
    {
     "name": "stderr",
     "output_type": "stream",
     "text": [
      "  0%|          | 0/4424 [00:00<?, ?it/s]Truncation was not explicitly activated but `max_length` is provided a specific value, please use `truncation=True` to explicitly truncate examples to max length. Defaulting to 'longest_first' truncation strategy. If you encode pairs of sequences (GLUE-style) with the tokenizer you can select this strategy more precisely by providing a specific strategy to `truncation`.\n",
      "100%|██████████| 4424/4424 [27:43<00:00,  2.66it/s]\n"
     ]
    },
    {
     "name": "stdout",
     "output_type": "stream",
     "text": [
      "Train loss 0.9475057972140382 accuracy 0.5600101730118473\n"
     ]
    },
    {
     "name": "stderr",
     "output_type": "stream",
     "text": [
      "100%|██████████| 246/246 [00:32<00:00,  7.52it/s]\n"
     ]
    },
    {
     "name": "stdout",
     "output_type": "stream",
     "text": [
      "Val loss 0.8217802081650835 accuracy 0.6731527406842173\n",
      "Epoch 2/2\n",
      "----------\n"
     ]
    },
    {
     "name": "stderr",
     "output_type": "stream",
     "text": [
      "100%|██████████| 4424/4424 [27:45<00:00,  2.66it/s]\n"
     ]
    },
    {
     "name": "stdout",
     "output_type": "stream",
     "text": [
      "Train loss 0.8079798958023461 accuracy 0.6908322795317589\n"
     ]
    },
    {
     "name": "stderr",
     "output_type": "stream",
     "text": [
      "100%|██████████| 246/246 [00:32<00:00,  7.55it/s]"
     ]
    },
    {
     "name": "stdout",
     "output_type": "stream",
     "text": [
      "Val loss 0.7556776338961066 accuracy 0.715502988681165\n",
      "CPU times: user 43min 39s, sys: 12min 59s, total: 56min 38s\n",
      "Wall time: 56min 34s\n"
     ]
    },
    {
     "name": "stderr",
     "output_type": "stream",
     "text": [
      "\n"
     ]
    }
   ],
   "source": [
    "%%time\n",
    "\n",
    "for epoch in range(EPOCHS):\n",
    "    print(f'Epoch {epoch + 1}/{EPOCHS}')\n",
    "    print('-' * 10)\n",
    "\n",
    "    train_acc, train_loss = train_epoch(model, training_loader, optimizer, scheduler, device)\n",
    "    print(f'Train loss {train_loss} accuracy {train_acc}')\n",
    "\n",
    "    val_acc, val_loss = eval_model(model, validation_loader, device)\n",
    "    print(f'Val loss {val_loss} accuracy {val_acc}')"
   ]
  },
  {
   "cell_type": "code",
   "execution_count": 22,
   "metadata": {
    "execution": {
     "iopub.execute_input": "2024-08-06T19:54:05.026088Z",
     "iopub.status.busy": "2024-08-06T19:54:05.025368Z",
     "iopub.status.idle": "2024-08-06T19:54:37.817691Z",
     "shell.execute_reply": "2024-08-06T19:54:37.816816Z",
     "shell.execute_reply.started": "2024-08-06T19:54:05.026055Z"
    }
   },
   "outputs": [],
   "source": [
    "y_pred = []\n",
    "y_true = []\n",
    "\n",
    "model = model.eval()\n",
    "\n",
    "with torch.no_grad():\n",
    "    for d in testing_loader:\n",
    "        input_ids = d[\"input_ids\"].to(device)\n",
    "        attention_mask = d[\"attention_mask\"].to(device)\n",
    "        labels = d[\"labels\"].to(device)\n",
    "\n",
    "        outputs = model(input_ids=input_ids, attention_mask=attention_mask)\n",
    "        logits = outputs.logits\n",
    "\n",
    "        _, preds = torch.max(logits, dim=1)\n",
    "\n",
    "        y_pred.extend(preds.cpu().numpy())\n",
    "        y_true.extend(labels.cpu().numpy())"
   ]
  },
  {
   "cell_type": "code",
   "execution_count": 23,
   "metadata": {
    "execution": {
     "iopub.execute_input": "2024-08-06T19:54:37.819938Z",
     "iopub.status.busy": "2024-08-06T19:54:37.819581Z",
     "iopub.status.idle": "2024-08-06T19:54:37.866356Z",
     "shell.execute_reply": "2024-08-06T19:54:37.865379Z",
     "shell.execute_reply.started": "2024-08-06T19:54:37.819912Z"
    }
   },
   "outputs": [
    {
     "name": "stdout",
     "output_type": "stream",
     "text": [
      "Precision Score = 47.52%\n",
      "F1 Score = 47.76%\n",
      "Recall Score = 48.76%\n",
      "Accuracy Score = 70.96%\n"
     ]
    }
   ],
   "source": [
    "model_precision_score = precision_score(y_true, y_pred, average='macro')\n",
    "model_f1_score = f1_score(y_true, y_pred, average='macro')\n",
    "model_recall_score = recall_score(y_true, y_pred, average='macro')\n",
    "model_accuracy_score = accuracy_score(y_true, y_pred)\n",
    "\n",
    "print(f\"Precision Score = {model_precision_score * 100:.2f}%\")\n",
    "print(f\"F1 Score = {model_f1_score * 100:.2f}%\")\n",
    "print(f\"Recall Score = {model_recall_score * 100:.2f}%\")\n",
    "print(f\"Accuracy Score = {model_accuracy_score * 100:.2f}%\")"
   ]
  },
  {
   "cell_type": "code",
   "execution_count": 24,
   "metadata": {
    "execution": {
     "iopub.execute_input": "2024-08-06T19:54:37.867700Z",
     "iopub.status.busy": "2024-08-06T19:54:37.867444Z",
     "iopub.status.idle": "2024-08-06T19:54:37.889777Z",
     "shell.execute_reply": "2024-08-06T19:54:37.888842Z",
     "shell.execute_reply.started": "2024-08-06T19:54:37.867678Z"
    }
   },
   "outputs": [
    {
     "name": "stdout",
     "output_type": "stream",
     "text": [
      "              precision    recall  f1-score   support\n",
      "\n",
      "    Negative       0.70      0.85      0.77      4271\n",
      "     Neutral       0.00      0.00      0.00       409\n",
      "    Positive       0.72      0.61      0.66      3185\n",
      "\n",
      "    accuracy                           0.71      7865\n",
      "   macro avg       0.48      0.49      0.48      7865\n",
      "weighted avg       0.67      0.71      0.69      7865\n",
      "\n"
     ]
    }
   ],
   "source": [
    "print(classification_report(y_true, y_pred, target_names=[\"Negative\", \"Neutral\", \"Positive\"]))"
   ]
  },
  {
   "cell_type": "code",
   "execution_count": 25,
   "metadata": {
    "execution": {
     "iopub.execute_input": "2024-08-06T19:54:37.892765Z",
     "iopub.status.busy": "2024-08-06T19:54:37.892089Z",
     "iopub.status.idle": "2024-08-06T19:54:38.247681Z",
     "shell.execute_reply": "2024-08-06T19:54:38.246786Z",
     "shell.execute_reply.started": "2024-08-06T19:54:37.892730Z"
    }
   },
   "outputs": [
    {
     "data": {
      "image/png": "[encoded data removed]",
      "text/plain": [
       "<Figure size 640x480 with 2 Axes>"
      ]
     },
     "metadata": {},
     "output_type": "display_data"
    }
   ],
   "source": [
    "cm = confusion_matrix(y_true, y_pred)\n",
    "fig, ax = plot_confusion_matrix(conf_mat=cm, show_absolute=True, show_normed=True, colorbar=True, class_names=[\"Negative\", \"Neutral\", \"Positive\"])\n",
    "plt.title(\"ConvBERT - Sentiment Analysis\")\n",
    "plt.show()"
   ]
  },
  {
   "cell_type": "code",
   "execution_count": null,
   "metadata": {},
   "outputs": [],
   "source": []
  }
 ],
 "metadata": {
  "kaggle": {
   "accelerator": "none",
   "dataSources": [
    {
     "datasetId": 5454449,
     "sourceId": 9119437,
     "sourceType": "datasetVersion"
    }
   ],
   "isGpuEnabled": false,
   "isInternetEnabled": true,
   "language": "python",
   "sourceType": "notebook"
  },
  "kernelspec": {
   "display_name": "Python 3 (ipykernel)",
   "language": "python",
   "name": "python3"
  },
  "language_info": {
   "codemirror_mode": {
    "name": "ipython",
    "version": 3
   },
   "file_extension": ".py",
   "mimetype": "text/x-python",
   "name": "python",
   "nbconvert_exporter": "python",
   "pygments_lexer": "ipython3",
   "version": "3.10.12"
  }
 },
 "nbformat": 4,
 "nbformat_minor": 4
}
