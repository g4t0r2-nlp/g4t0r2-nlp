{
 "cells": [
  {
   "cell_type": "code",
   "execution_count": 1,
   "id": "16809a6e-ff53-484b-b0e1-dc2dbd0c753b",
   "metadata": {},
   "outputs": [],
   "source": [
    "import os\n",
    "os.environ[\"TF_CPP_MIN_LOG_LEVEL\"] = \"3\"\n",
    "\n",
    "import time\n",
    "import tqdm\n",
    "import random\n",
    "import argparse\n",
    "\n",
    "import numpy as np\n",
    "import pandas as pd\n",
    "tqdm.tqdm.pandas()\n",
    "\n",
    "import matplotlib.pyplot as plt\n",
    "\n",
    "import gensim\n",
    "from gensim import corpora, models, similarities\n",
    "\n",
    "from sklearn.feature_extraction.text import CountVectorizer\n",
    "from sklearn.model_selection import train_test_split\n",
    "\n",
    "from mlxtend.plotting import plot_confusion_matrix\n",
    "\n",
    "from sklearn.metrics import classification_report, confusion_matrix\n",
    "from sklearn.metrics import accuracy_score, f1_score, precision_score, recall_score\n",
    "\n",
    "from sklearn.naive_bayes import MultinomialNB\n",
    "\n",
    "import warnings\n",
    "from sklearn.exceptions import ConvergenceWarning\n",
    "warnings.filterwarnings(\"ignore\", category=UserWarning)\n",
    "warnings.filterwarnings(\"ignore\", category=FutureWarning)\n",
    "warnings.filterwarnings(\"ignore\", category=ConvergenceWarning)\n",
    "\n",
    "def set_seed(seed):\n",
    "    random.seed(seed)\n",
    "    np.random.seed(seed)\n",
    "    os.environ['PYTHONHASHSEED'] = str(seed)"
   ]
  },
  {
   "cell_type": "code",
   "execution_count": null,
   "id": "eb15a079-ac6a-4e93-a6dc-3a54f0683ef2",
   "metadata": {},
   "outputs": [],
   "source": [
    "set_seed(42)"
   ]
  },
  {
   "cell_type": "code",
   "execution_count": 2,
   "id": "d83ff2a3-16aa-4f32-8af4-cfb553b8b5d0",
   "metadata": {},
   "outputs": [],
   "source": [
    "df = pd.read_csv(\"/mnt/d/work2/teknofest-tddi/data/processed/cleaned.csv\")\n",
    "df = df.dropna()\n",
    "df = df.reset_index(drop=True)"
   ]
  },
  {
   "cell_type": "code",
   "execution_count": 3,
   "id": "6cd82759-7af6-4954-90f8-eff8ccf2eff9",
   "metadata": {},
   "outputs": [
    {
     "data": {
      "text/html": [
       "<div>\n",
       "<style scoped>\n",
       "    .dataframe tbody tr th:only-of-type {\n",
       "        vertical-align: middle;\n",
       "    }\n",
       "\n",
       "    .dataframe tbody tr th {\n",
       "        vertical-align: top;\n",
       "    }\n",
       "\n",
       "    .dataframe thead th {\n",
       "        text-align: right;\n",
       "    }\n",
       "</style>\n",
       "<table border=\"1\" class=\"dataframe\">\n",
       "  <thead>\n",
       "    <tr style=\"text-align: right;\">\n",
       "      <th></th>\n",
       "      <th>aspect_polarity</th>\n",
       "      <th>text</th>\n",
       "    </tr>\n",
       "  </thead>\n",
       "  <tbody>\n",
       "    <tr>\n",
       "      <th>0</th>\n",
       "      <td>2</td>\n",
       "      <td>Troy Uygulamada kartlarda Troy kart geçmiyor u...</td>\n",
       "    </tr>\n",
       "    <tr>\n",
       "      <th>1</th>\n",
       "      <td>2</td>\n",
       "      <td>Troy Uygulamada kartlarda Troy kart geçmiyor u...</td>\n",
       "    </tr>\n",
       "    <tr>\n",
       "      <th>2</th>\n",
       "      <td>0</td>\n",
       "      <td>Turkcell güncellemede kötüleşen Turkcell in ar...</td>\n",
       "    </tr>\n",
       "    <tr>\n",
       "      <th>3</th>\n",
       "      <td>0</td>\n",
       "      <td>BiP’ten BiPten aranmıyor yardım</td>\n",
       "    </tr>\n",
       "    <tr>\n",
       "      <th>4</th>\n",
       "      <td>2</td>\n",
       "      <td>BİP yorumum uygulamanın gelişmesi kulanıcıya e...</td>\n",
       "    </tr>\n",
       "  </tbody>\n",
       "</table>\n",
       "</div>"
      ],
      "text/plain": [
       "   aspect_polarity                                               text\n",
       "0                2  Troy Uygulamada kartlarda Troy kart geçmiyor u...\n",
       "1                2  Troy Uygulamada kartlarda Troy kart geçmiyor u...\n",
       "2                0  Turkcell güncellemede kötüleşen Turkcell in ar...\n",
       "3                0                    BiP’ten BiPten aranmıyor yardım\n",
       "4                2  BİP yorumum uygulamanın gelişmesi kulanıcıya e..."
      ]
     },
     "execution_count": 3,
     "metadata": {},
     "output_type": "execute_result"
    }
   ],
   "source": [
    "df.head()"
   ]
  },
  {
   "cell_type": "code",
   "execution_count": null,
   "id": "cb70565e-cad3-43ee-84c2-01cb1c4dc611",
   "metadata": {},
   "outputs": [],
   "source": [
    "df[\"text\"] = df[\"aspect\"] + \" \" + df[\"cleaned\"]"
   ]
  },
  {
   "cell_type": "code",
   "execution_count": 4,
   "id": "ab2ebbc2-1e2d-4967-8930-017dfafbdbd8",
   "metadata": {},
   "outputs": [],
   "source": [
    "X = df[\"text\"]\n",
    "y = df[\"aspect_polarity\"]"
   ]
  },
  {
   "cell_type": "code",
   "execution_count": null,
   "id": "70314bf2-1ba8-4a9b-b3c9-f46a2b2f76f2",
   "metadata": {},
   "outputs": [],
   "source": [
    "def train_validate_test_split(df, split_size):\n",
    "    perm = np.random.permutation(df.index)\n",
    "    train_end = int(split_size * len(df.index))\n",
    "    validate_end = int(((1 - split_size) / 2) * len(df.index)) + train_end\n",
    "    train = df.iloc[perm[:train_end]]\n",
    "    validate = df.iloc[perm[train_end:validate_end]]\n",
    "    test = df.iloc[perm[validate_end:]]\n",
    "    return train, validate, test"
   ]
  },
  {
   "cell_type": "code",
   "execution_count": 5,
   "id": "1610401c-9a6d-49f9-b1cd-69d844ebf2c5",
   "metadata": {},
   "outputs": [],
   "source": [
    "df_train, df_validation, df_test = train_validate_test_split(df, split_size=0.9)"
   ]
  },
  {
   "cell_type": "code",
   "execution_count": null,
   "id": "644f390c-23d7-44e1-84a9-a400a298f1c8",
   "metadata": {},
   "outputs": [],
   "source": [
    "X_train = df_train[\"text\"]\n",
    "y_train = df_train[\"aspect_polarity\"]"
   ]
  },
  {
   "cell_type": "code",
   "execution_count": null,
   "id": "a73bbbf3-f457-4335-9788-a0cb13b571b3",
   "metadata": {},
   "outputs": [],
   "source": [
    "X_valid = df_validation[\"text\"]\n",
    "y_valid = df_validation[\"aspect_polarity\"]"
   ]
  },
  {
   "cell_type": "code",
   "execution_count": null,
   "id": "5003e283-ca17-4103-bfc5-c1c6d351abd2",
   "metadata": {},
   "outputs": [],
   "source": [
    "X_test = df_test[\"text\"]\n",
    "y_test = df_test[\"aspect_polarity\"]"
   ]
  },
  {
   "cell_type": "code",
   "execution_count": 6,
   "id": "66203107-5b44-40b2-aacf-39385a0ed317",
   "metadata": {},
   "outputs": [],
   "source": [
    "cv = CountVectorizer()\n",
    "X_train_cv = cv.fit_transform(X_train)\n",
    "X_valid_cv = cv.transform(X_valid)\n",
    "X_test_cv = cv.transform(X_test)"
   ]
  },
  {
   "cell_type": "code",
   "execution_count": 7,
   "id": "dfad1267-f9cc-49b2-8cac-ee25a84e06a0",
   "metadata": {},
   "outputs": [
    {
     "name": "stdout",
     "output_type": "stream",
     "text": [
      "CV + MultinomialNB Train Time = 0.0228\n"
     ]
    }
   ],
   "source": [
    "mnb = MultinomialNB()\n",
    "mnb_cv_train_start = time.time()\n",
    "mnb.fit(X_train_cv, y_train)\n",
    "mnb_cv_train_time = time.time() - mnb_cv_train_start\n",
    "print(f\"MultinomialNB + CV Train Time = {mnb_cv_train_time:.4f}\")"
   ]
  },
  {
   "cell_type": "code",
   "execution_count": 8,
   "id": "3a49bb72-6fee-4f89-9cee-e0d4bd86be04",
   "metadata": {},
   "outputs": [
    {
     "name": "stdout",
     "output_type": "stream",
     "text": [
      "MultinomialNB + CV Train Score = 83.0245%\n",
      "MultinomialNB + CV Test Score = 79.9655%\n",
      "MultinomialNB + CV Test Time = 0.0020\n"
     ]
    }
   ],
   "source": [
    "mnb_cv_pred_train = mnb.predict(X_train_cv)\n",
    "mnb_cv_test_start = time.time()\n",
    "mnb_cv_pred_test = mnb.predict(X_test_cv)\n",
    "mnb_cv_test_time = time.time() - mnb_cv_test_start\n",
    "\n",
    "mnb_cv_train_score = accuracy_score(mnb_cv_pred_train, y_train)\n",
    "mnb_cv_test_score = accuracy_score(mnb_cv_pred_test, y_test)\n",
    "print(f\"MultinomialNB + CV Train Score = {mnb_cv_train_score * 100:.4f}%\")\n",
    "print(f\"MultinomialNB + CV Test Score = {mnb_cv_test_score * 100:.4f}%\")\n",
    "print(f\"MultinomialNB + CV Test Time = {mnb_cv_test_time:.4f}\")"
   ]
  },
  {
   "cell_type": "code",
   "execution_count": 9,
   "id": "eb2637be-6b07-4165-9699-8f2a7da1fd52",
   "metadata": {},
   "outputs": [
    {
     "name": "stdout",
     "output_type": "stream",
     "text": [
      "MultinomialNB + CV Precision Score = 79.2590%\n",
      "MultinomialNB + CV F1 Score = 79.5235%\n",
      "MultinomialNB + CV Recall Score = 79.9655%\n",
      "MultinomialNB + CV Accuracy Score = 79.9655%\n"
     ]
    }
   ],
   "source": [
    "mnb_cv_precision_score = precision_score(y_test, mnb_cv_pred_test, average='macro')\n",
    "mnb_cv_f1_score = f1_score(y_test, mnb_cv_pred_test, average='macro')\n",
    "mnb_cv_recall_score = recall_score(y_test, mnb_cv_pred_test, average='macro')\n",
    "mnb_cv_accuracy_score = accuracy_score(y_test, mnb_cv_pred_test)\n",
    "\n",
    "print(f\"MultinomialNB + CV Precision Score = {mnb_cv_precision_score * 100:.4f}%\")\n",
    "print(f\"MultinomialNB + CV F1 Score = {mnb_cv_f1_score * 100:.4f}%\")\n",
    "print(f\"MultinomialNB + CV Recall Score = {mnb_cv_recall_score * 100:.4f}%\")\n",
    "print(f\"MultinomialNB + CV Accuracy Score = {mnb_cv_accuracy_score * 100:.4f}%\")"
   ]
  },
  {
   "cell_type": "code",
   "execution_count": 10,
   "id": "3b02d4ba-2341-4f2f-90fb-aacb0909b099",
   "metadata": {},
   "outputs": [
    {
     "name": "stdout",
     "output_type": "stream",
     "text": [
      "              precision    recall  f1-score   support\n",
      "\n",
      "    Negative       0.82      0.86      0.84      8977\n",
      "     Neutral       0.40      0.28      0.33       829\n",
      "    Positive       0.80      0.78      0.79      6446\n",
      "\n",
      "    accuracy                           0.80     16252\n",
      "   macro avg       0.68      0.64      0.65     16252\n",
      "weighted avg       0.79      0.80      0.80     16252\n",
      "\n"
     ]
    }
   ],
   "source": [
    "print(classification_report(y_test, mnb_cv_pred_test, target_names=[\"Negative\", \"Neutral\", \"Positive\"]))"
   ]
  },
  {
   "cell_type": "code",
   "execution_count": 12,
   "id": "e05bd45b-189f-42c7-8872-4d9fab773a51",
   "metadata": {},
   "outputs": [
    {
     "data": {
      "image/png": "[encoded data removed]",
      "text/plain": [
       "<Figure size 1000x1000 with 2 Axes>"
      ]
     },
     "metadata": {},
     "output_type": "display_data"
    }
   ],
   "source": [
    "mnb_cm = confusion_matrix(y_test, mnb_cv_pred_test)\n",
    "fig, ax = plot_confusion_matrix(conf_mat=mnb_cm, show_absolute=True, show_normed=True, colorbar=True, class_names=[\"Negative\", \"Neutral\", \"Positive\"], figsize=(10, 10))\n",
    "plt.title(\"MultinomialNB + CV - Sentiment Analysis\")\n",
    "plt.savefig(\"./output/multinomialnb_cv.png\")\n",
    "plt.show()"
   ]
  },
  {
   "cell_type": "code",
   "execution_count": null,
   "id": "42215007-bbf9-406f-9909-fd8cf93eff6b",
   "metadata": {},
   "outputs": [],
   "source": []
  }
 ],
 "metadata": {
  "kernelspec": {
   "display_name": "Python 3 (ipykernel)",
   "language": "python",
   "name": "python3"
  },
  "language_info": {
   "codemirror_mode": {
    "name": "ipython",
    "version": 3
   },
   "file_extension": ".py",
   "mimetype": "text/x-python",
   "name": "python",
   "nbconvert_exporter": "python",
   "pygments_lexer": "ipython3",
   "version": "3.10.12"
  }
 },
 "nbformat": 4,
 "nbformat_minor": 5
}
