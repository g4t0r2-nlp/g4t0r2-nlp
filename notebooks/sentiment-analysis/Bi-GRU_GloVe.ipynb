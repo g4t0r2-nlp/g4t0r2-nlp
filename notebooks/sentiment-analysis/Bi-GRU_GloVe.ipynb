{
 "cells": [
  {
   "cell_type": "code",
   "execution_count": 1,
   "id": "b289d5a1-c048-4e29-8194-644f33942609",
   "metadata": {},
   "outputs": [],
   "source": [
    "import os\n",
    "os.environ[\"TF_CPP_MIN_LOG_LEVEL\"] = \"3\"\n",
    "\n",
    "import time\n",
    "import tqdm\n",
    "import random\n",
    "import argparse\n",
    "\n",
    "import numpy as np\n",
    "import pandas as pd\n",
    "tqdm.tqdm.pandas()\n",
    "\n",
    "import matplotlib.pyplot as plt\n",
    "\n",
    "import gensim\n",
    "from gensim import corpora, models, similarities\n",
    "\n",
    "from sklearn.model_selection import train_test_split\n",
    "\n",
    "from mlxtend.plotting import plot_confusion_matrix\n",
    "\n",
    "from sklearn.metrics import classification_report, confusion_matrix\n",
    "from sklearn.metrics import accuracy_score, f1_score, precision_score, recall_score\n",
    "\n",
    "import tensorflow as tf\n",
    "from tensorflow.keras import layers, models, optimizers, callbacks, preprocessing\n",
    "from tensorflow.keras.utils import to_categorical\n",
    "\n",
    "import warnings\n",
    "from sklearn.exceptions import ConvergenceWarning\n",
    "warnings.filterwarnings(\"ignore\", category=UserWarning)\n",
    "warnings.filterwarnings(\"ignore\", category=FutureWarning)\n",
    "warnings.filterwarnings(\"ignore\", category=ConvergenceWarning)\n",
    "\n",
    "def set_seed(seed):\n",
    "    random.seed(seed)\n",
    "    np.random.seed(seed)\n",
    "    tf.random.set_seed(seed)\n",
    "    os.environ['PYTHONHASHSEED'] = str(seed)"
   ]
  },
  {
   "cell_type": "code",
   "execution_count": 2,
   "id": "d3b85b31-5bd6-46b1-987b-d60d72bf92dd",
   "metadata": {},
   "outputs": [],
   "source": [
    "set_seed(42)"
   ]
  },
  {
   "cell_type": "code",
   "execution_count": 3,
   "id": "eb5fca24-53bd-44a7-b73e-237f43594f7c",
   "metadata": {},
   "outputs": [],
   "source": [
    "df = pd.read_csv(\"/mnt/d/work2/teknofest-tddi/data/processed/cleaned.csv\")\n",
    "df = df.dropna()\n",
    "df = df.reset_index(drop=True)"
   ]
  },
  {
   "cell_type": "code",
   "execution_count": 4,
   "id": "2138b7e9-816d-400f-b672-db517e499a5f",
   "metadata": {},
   "outputs": [
    {
     "data": {
      "text/html": [
       "<div>\n",
       "<style scoped>\n",
       "    .dataframe tbody tr th:only-of-type {\n",
       "        vertical-align: middle;\n",
       "    }\n",
       "\n",
       "    .dataframe tbody tr th {\n",
       "        vertical-align: top;\n",
       "    }\n",
       "\n",
       "    .dataframe thead th {\n",
       "        text-align: right;\n",
       "    }\n",
       "</style>\n",
       "<table border=\"1\" class=\"dataframe\">\n",
       "  <thead>\n",
       "    <tr style=\"text-align: right;\">\n",
       "      <th></th>\n",
       "      <th>rid</th>\n",
       "      <th>sid</th>\n",
       "      <th>app</th>\n",
       "      <th>review</th>\n",
       "      <th>sentiment</th>\n",
       "      <th>aspect</th>\n",
       "      <th>aspect_polarity</th>\n",
       "      <th>cleaned</th>\n",
       "      <th>text</th>\n",
       "    </tr>\n",
       "  </thead>\n",
       "  <tbody>\n",
       "    <tr>\n",
       "      <th>0</th>\n",
       "      <td>9</td>\n",
       "      <td>1</td>\n",
       "      <td>Google Play Store/BiP</td>\n",
       "      <td>Uygulamada kartlarda Troy kart geçmiyor Lütfen...</td>\n",
       "      <td>Positive</td>\n",
       "      <td>Troy</td>\n",
       "      <td>2</td>\n",
       "      <td>Uygulamada kartlarda Troy kart geçmiyor uygula...</td>\n",
       "      <td>Troy Uygulamada kartlarda Troy kart geçmiyor u...</td>\n",
       "    </tr>\n",
       "    <tr>\n",
       "      <th>1</th>\n",
       "      <td>9</td>\n",
       "      <td>1</td>\n",
       "      <td>Google Play Store/BiP</td>\n",
       "      <td>Uygulamada kartlarda Troy kart geçmiyor Lütfen...</td>\n",
       "      <td>Positive</td>\n",
       "      <td>Troy</td>\n",
       "      <td>2</td>\n",
       "      <td>Uygulamada kartlarda Troy kart geçmiyor uygula...</td>\n",
       "      <td>Troy Uygulamada kartlarda Troy kart geçmiyor u...</td>\n",
       "    </tr>\n",
       "    <tr>\n",
       "      <th>2</th>\n",
       "      <td>10</td>\n",
       "      <td>1</td>\n",
       "      <td>Google Play Store/BiP</td>\n",
       "      <td>Her güncellemede daha da kötüleşen Turkcell in...</td>\n",
       "      <td>Negative</td>\n",
       "      <td>Turkcell</td>\n",
       "      <td>0</td>\n",
       "      <td>güncellemede kötüleşen Turkcell in ara ara ken...</td>\n",
       "      <td>Turkcell güncellemede kötüleşen Turkcell in ar...</td>\n",
       "    </tr>\n",
       "    <tr>\n",
       "      <th>3</th>\n",
       "      <td>13</td>\n",
       "      <td>1</td>\n",
       "      <td>Google Play Store/BiP</td>\n",
       "      <td>BiP’ten aranmıyor yardım</td>\n",
       "      <td>Negative</td>\n",
       "      <td>BiP’ten</td>\n",
       "      <td>0</td>\n",
       "      <td>BiPten aranmıyor yardım</td>\n",
       "      <td>BiP’ten BiPten aranmıyor yardım</td>\n",
       "    </tr>\n",
       "    <tr>\n",
       "      <th>4</th>\n",
       "      <td>17</td>\n",
       "      <td>1</td>\n",
       "      <td>Google Play Store/BiP</td>\n",
       "      <td>Bu yorumum kesinlikle uygulamanın daha çok gel...</td>\n",
       "      <td>Positive</td>\n",
       "      <td>BİP</td>\n",
       "      <td>2</td>\n",
       "      <td>yorumum uygulamanın gelişmesi kulanıcıya erişi...</td>\n",
       "      <td>BİP yorumum uygulamanın gelişmesi kulanıcıya e...</td>\n",
       "    </tr>\n",
       "  </tbody>\n",
       "</table>\n",
       "</div>"
      ],
      "text/plain": [
       "   rid  sid                    app  \\\n",
       "0    9    1  Google Play Store/BiP   \n",
       "1    9    1  Google Play Store/BiP   \n",
       "2   10    1  Google Play Store/BiP   \n",
       "3   13    1  Google Play Store/BiP   \n",
       "4   17    1  Google Play Store/BiP   \n",
       "\n",
       "                                              review sentiment    aspect  \\\n",
       "0  Uygulamada kartlarda Troy kart geçmiyor Lütfen...  Positive      Troy   \n",
       "1  Uygulamada kartlarda Troy kart geçmiyor Lütfen...  Positive      Troy   \n",
       "2  Her güncellemede daha da kötüleşen Turkcell in...  Negative  Turkcell   \n",
       "3                           BiP’ten aranmıyor yardım  Negative   BiP’ten   \n",
       "4  Bu yorumum kesinlikle uygulamanın daha çok gel...  Positive       BİP   \n",
       "\n",
       "   aspect_polarity                                            cleaned  \\\n",
       "0                2  Uygulamada kartlarda Troy kart geçmiyor uygula...   \n",
       "1                2  Uygulamada kartlarda Troy kart geçmiyor uygula...   \n",
       "2                0  güncellemede kötüleşen Turkcell in ara ara ken...   \n",
       "3                0                            BiPten aranmıyor yardım   \n",
       "4                2  yorumum uygulamanın gelişmesi kulanıcıya erişi...   \n",
       "\n",
       "                                                text  \n",
       "0  Troy Uygulamada kartlarda Troy kart geçmiyor u...  \n",
       "1  Troy Uygulamada kartlarda Troy kart geçmiyor u...  \n",
       "2  Turkcell güncellemede kötüleşen Turkcell in ar...  \n",
       "3                    BiP’ten BiPten aranmıyor yardım  \n",
       "4  BİP yorumum uygulamanın gelişmesi kulanıcıya e...  "
      ]
     },
     "execution_count": 4,
     "metadata": {},
     "output_type": "execute_result"
    }
   ],
   "source": [
    "df.head()"
   ]
  },
  {
   "cell_type": "code",
   "execution_count": 5,
   "id": "867454db-9398-47e8-9118-3e8a2027810d",
   "metadata": {},
   "outputs": [],
   "source": [
    "df[\"text\"] = df[\"aspect\"] + \" \" + df[\"cleaned\"]"
   ]
  },
  {
   "cell_type": "code",
   "execution_count": 6,
   "id": "b7102482-c8a8-4188-aa11-ee721e10454d",
   "metadata": {},
   "outputs": [],
   "source": [
    "X = df[\"text\"]\n",
    "y = df[\"aspect_polarity\"]"
   ]
  },
  {
   "cell_type": "code",
   "execution_count": 7,
   "id": "4b8da05f-97f5-4510-bda9-4875437503d1",
   "metadata": {},
   "outputs": [],
   "source": [
    "def train_validate_test_split(df, split_size):\n",
    "    perm = np.random.permutation(df.index)\n",
    "    train_end = int(split_size * len(df.index))\n",
    "    validate_end = int(((1 - split_size) / 2) * len(df.index)) + train_end\n",
    "    train = df.iloc[perm[:train_end]]\n",
    "    validate = df.iloc[perm[train_end:validate_end]]\n",
    "    test = df.iloc[perm[validate_end:]]\n",
    "    return train, validate, test"
   ]
  },
  {
   "cell_type": "code",
   "execution_count": 8,
   "id": "6922b502-157c-4960-baa9-82692dcf0227",
   "metadata": {},
   "outputs": [],
   "source": [
    "df_train, df_validation, df_test = train_validate_test_split(df, split_size=0.9)"
   ]
  },
  {
   "cell_type": "code",
   "execution_count": 9,
   "id": "8c96697b-aada-49c3-920e-d1fd7d5f8a52",
   "metadata": {},
   "outputs": [],
   "source": [
    "X_train = df_train[\"text\"]\n",
    "y_train = df_train[\"aspect_polarity\"]"
   ]
  },
  {
   "cell_type": "code",
   "execution_count": 10,
   "id": "bca6debd-c105-4906-8985-39b2e207c23f",
   "metadata": {},
   "outputs": [],
   "source": [
    "X_valid = df_validation[\"text\"]\n",
    "y_valid = df_validation[\"aspect_polarity\"]"
   ]
  },
  {
   "cell_type": "code",
   "execution_count": 11,
   "id": "42f29378-b8af-4737-adf3-8b4e7123a0d6",
   "metadata": {},
   "outputs": [],
   "source": [
    "X_test = df_test[\"text\"]\n",
    "y_test = df_test[\"aspect_polarity\"]"
   ]
  },
  {
   "cell_type": "code",
   "execution_count": 12,
   "id": "07c84c92-03c7-44e7-bcba-d9b5c1894a60",
   "metadata": {},
   "outputs": [],
   "source": [
    "y_train = to_categorical(y_train)\n",
    "y_valid = to_categorical(y_valid)\n",
    "y_test = to_categorical(y_test)"
   ]
  },
  {
   "cell_type": "code",
   "execution_count": 13,
   "id": "957dd634-1a0e-4152-b6b6-e4afcdb5c828",
   "metadata": {},
   "outputs": [],
   "source": [
    "tokenizer = preprocessing.text.Tokenizer(\n",
    "    filters = '!\"#$%&()*+,-./:;<=>?@[\\\\]^_`{|}~\\t\\n',\n",
    "    lower = False,\n",
    "    split = \" \"\n",
    ")\n",
    "tokenizer.fit_on_texts(X)"
   ]
  },
  {
   "cell_type": "code",
   "execution_count": 14,
   "id": "e1b83906-8d12-41ee-9705-10db0df51a93",
   "metadata": {},
   "outputs": [],
   "source": [
    "X_train_tokenizer = tokenizer.texts_to_sequences(X_train)\n",
    "X_valid_tokenizer = tokenizer.texts_to_sequences(X_valid)\n",
    "X_test_tokenizer = tokenizer.texts_to_sequences(X_test)"
   ]
  },
  {
   "cell_type": "code",
   "execution_count": 15,
   "id": "67f84e22-8983-456a-a2d4-13e3f666ec20",
   "metadata": {},
   "outputs": [],
   "source": [
    "maxlen = 64\n",
    "X_train_tokenizer = preprocessing.sequence.pad_sequences(X_train_tokenizer, maxlen=maxlen)\n",
    "X_valid_tokenizer = preprocessing.sequence.pad_sequences(X_valid_tokenizer, maxlen=maxlen)\n",
    "X_test_tokenizer = preprocessing.sequence.pad_sequences(X_test_tokenizer, maxlen=maxlen)"
   ]
  },
  {
   "cell_type": "code",
   "execution_count": 16,
   "id": "5f4f654b-1397-4e0e-b631-5262fd8510f4",
   "metadata": {},
   "outputs": [
    {
     "data": {
      "text/plain": [
       "103649"
      ]
     },
     "execution_count": 16,
     "metadata": {},
     "output_type": "execute_result"
    }
   ],
   "source": [
    "input_dim = len(tokenizer.word_index) + 1\n",
    "input_dim"
   ]
  },
  {
   "cell_type": "code",
   "execution_count": 17,
   "id": "d65e8338-75ba-43d6-9d56-5e322850f4ae",
   "metadata": {},
   "outputs": [
    {
     "name": "stderr",
     "output_type": "stream",
     "text": [
      "1193514it [00:43, 27726.05it/s]"
     ]
    },
    {
     "name": "stdout",
     "output_type": "stream",
     "text": [
      "Found 1193514 word vectors.\n"
     ]
    },
    {
     "name": "stderr",
     "output_type": "stream",
     "text": [
      "\n"
     ]
    }
   ],
   "source": [
    "embeddings_index = {}\n",
    "f = open(\"/mnt/d/Datasets/glove.twitter.27B.100d.txt\", \"r\", encoding=\"utf-8\")\n",
    "for line in tqdm.tqdm(f):\n",
    "    values = line.split(\" \")\n",
    "    word = values[0]\n",
    "    coefs = np.asarray([float(val) for val in values[1:]])\n",
    "    embeddings_index[word] = coefs\n",
    "\n",
    "f.close()\n",
    "print(\"Found %s word vectors.\" % len(embeddings_index))"
   ]
  },
  {
   "cell_type": "code",
   "execution_count": 18,
   "id": "5519f929-fb21-4d10-9c11-bd46f880e20e",
   "metadata": {},
   "outputs": [
    {
     "name": "stderr",
     "output_type": "stream",
     "text": [
      "100%|██████████████████████████████████████████████████████████| 103648/103648 [00:00<00:00, 1073542.96it/s]\n"
     ]
    }
   ],
   "source": [
    "embedding_dim = 100\n",
    "embedding_matrix = np.zeros((input_dim, embedding_dim))\n",
    "for word, i in tqdm.tqdm(tokenizer.word_index.items()):\n",
    "    embedding_vector = embeddings_index.get(word)\n",
    "    if embedding_vector is not None:\n",
    "        embedding_matrix[i] = embedding_vector"
   ]
  },
  {
   "cell_type": "code",
   "execution_count": 19,
   "id": "577c3e24-4a35-42b9-a322-4ce70a4e24ff",
   "metadata": {},
   "outputs": [],
   "source": [
    "model = models.Sequential([\n",
    "    layers.Input(shape=X_train_tokenizer.shape[1]),\n",
    "    layers.Embedding(len(tokenizer.word_index)+1, embedding_dim, weights=[embedding_matrix], input_length=maxlen, trainable=False),\n",
    "    layers.Bidirectional(layers.GRU(100, return_sequences=True)),\n",
    "    layers.GlobalMaxPooling1D(),\n",
    "    layers.Dense(3, activation='softmax')\n",
    "])"
   ]
  },
  {
   "cell_type": "code",
   "execution_count": 20,
   "id": "baca09ee-4899-4ba5-a343-e549f571c8bb",
   "metadata": {},
   "outputs": [],
   "source": [
    "model.compile(loss='categorical_crossentropy', \n",
    "                  optimizer=tf.keras.optimizers.legacy.Adam(), \n",
    "                  metrics=['accuracy'])  "
   ]
  },
  {
   "cell_type": "code",
   "execution_count": 21,
   "id": "a01f4bf1-e3af-4bb5-8b37-a9dab657f006",
   "metadata": {},
   "outputs": [
    {
     "name": "stdout",
     "output_type": "stream",
     "text": [
      "Model: \"sequential\"\n",
      "_________________________________________________________________\n",
      " Layer (type)                Output Shape              Param #   \n",
      "=================================================================\n",
      " embedding (Embedding)       (None, 64, 100)           10364900  \n",
      "                                                                 \n",
      " bidirectional (Bidirectiona  (None, 64, 200)          121200    \n",
      " l)                                                              \n",
      "                                                                 \n",
      " global_max_pooling1d (Globa  (None, 200)              0         \n",
      " lMaxPooling1D)                                                  \n",
      "                                                                 \n",
      " dense (Dense)               (None, 3)                 603       \n",
      "                                                                 \n",
      "=================================================================\n",
      "Total params: 10,486,703\n",
      "Trainable params: 121,803\n",
      "Non-trainable params: 10,364,900\n",
      "_________________________________________________________________\n"
     ]
    }
   ],
   "source": [
    "model.summary()"
   ]
  },
  {
   "cell_type": "code",
   "execution_count": 22,
   "id": "60367d8c-2c82-4d8e-8ea9-11c3efc6f6c7",
   "metadata": {},
   "outputs": [
    {
     "data": {
      "image/png": "[encoded data removed]",
      "text/plain": [
       "<IPython.core.display.Image object>"
      ]
     },
     "execution_count": 22,
     "metadata": {},
     "output_type": "execute_result"
    }
   ],
   "source": [
    "tf.keras.utils.plot_model(model, show_layer_names=True, show_shapes=True, expand_nested=True, to_file=\"./output/bigru_glove_model_plot.png\")"
   ]
  },
  {
   "cell_type": "code",
   "execution_count": 23,
   "id": "9fa8c608-6bad-4ca4-91af-8555d0ace037",
   "metadata": {},
   "outputs": [
    {
     "name": "stdout",
     "output_type": "stream",
     "text": [
      "Epoch 1/10\n",
      "1141/1141 [==============================] - 72s 61ms/step - loss: 0.6379 - accuracy: 0.7381 - val_loss: 0.6053 - val_accuracy: 0.7498\n",
      "Epoch 2/10\n",
      "1141/1141 [==============================] - 67s 59ms/step - loss: 0.5724 - accuracy: 0.7699 - val_loss: 0.5750 - val_accuracy: 0.7712\n",
      "Epoch 3/10\n",
      "1141/1141 [==============================] - 67s 59ms/step - loss: 0.5295 - accuracy: 0.7900 - val_loss: 0.5699 - val_accuracy: 0.7712\n",
      "Epoch 4/10\n",
      "1141/1141 [==============================] - 66s 58ms/step - loss: 0.4863 - accuracy: 0.8098 - val_loss: 0.5367 - val_accuracy: 0.7855\n",
      "Epoch 5/10\n",
      "1141/1141 [==============================] - 66s 58ms/step - loss: 0.4466 - accuracy: 0.8276 - val_loss: 0.5248 - val_accuracy: 0.7976\n",
      "Epoch 6/10\n",
      "1141/1141 [==============================] - 68s 59ms/step - loss: 0.4093 - accuracy: 0.8446 - val_loss: 0.5092 - val_accuracy: 0.8052\n",
      "Epoch 7/10\n",
      "1141/1141 [==============================] - 65s 57ms/step - loss: 0.3760 - accuracy: 0.8596 - val_loss: 0.5043 - val_accuracy: 0.8098\n",
      "Epoch 8/10\n",
      "1141/1141 [==============================] - 66s 57ms/step - loss: 0.3444 - accuracy: 0.8723 - val_loss: 0.5021 - val_accuracy: 0.8112\n",
      "Epoch 9/10\n",
      "1141/1141 [==============================] - 64s 56ms/step - loss: 0.3175 - accuracy: 0.8828 - val_loss: 0.5053 - val_accuracy: 0.8189\n",
      "Epoch 10/10\n",
      "1141/1141 [==============================] - 64s 56ms/step - loss: 0.2918 - accuracy: 0.8938 - val_loss: 0.5242 - val_accuracy: 0.8167\n",
      "Bi-GRU Train Time = 664.5558\n"
     ]
    }
   ],
   "source": [
    "model1_train_start = time.time()\n",
    "model_history = model.fit(\n",
    "    X_train_tokenizer, \n",
    "    y_train, \n",
    "    epochs=10, \n",
    "    batch_size=128, \n",
    "    validation_data=[X_valid_tokenizer, y_valid], \n",
    "    callbacks=[callbacks.EarlyStopping(monitor=\"val_accuracy\", patience=3)]\n",
    ")\n",
    "model1_train_time = time.time() - model1_train_start\n",
    "print(f\"Bi-GRU Train Time = {model1_train_time:.4f}\")"
   ]
  },
  {
   "cell_type": "code",
   "execution_count": 24,
   "id": "4449a4ee-5a18-4f75-b0b7-f07549b2581b",
   "metadata": {},
   "outputs": [
    {
     "name": "stdout",
     "output_type": "stream",
     "text": [
      "Bi-GRU Test Time = 2.3748\n"
     ]
    }
   ],
   "source": [
    "model1_test_start = time.time()\n",
    "model_pred_test = model.predict(X_test_tokenizer, verbose=0)\n",
    "model1_test_time = time.time() - model1_test_start\n",
    "print(f\"Bi-GRU Test Time = {model1_test_time:.4f}\")"
   ]
  },
  {
   "cell_type": "code",
   "execution_count": 25,
   "id": "24947411-c7d0-4ae4-a39a-c600efc95528",
   "metadata": {},
   "outputs": [],
   "source": [
    "true_labels_train = np.argmax(y_train, axis=1)\n",
    "true_labels_test = np.argmax(y_test, axis=1)"
   ]
  },
  {
   "cell_type": "code",
   "execution_count": 26,
   "id": "5dd567d0-0b54-47ba-8641-d8eb10e844ac",
   "metadata": {},
   "outputs": [
    {
     "name": "stdout",
     "output_type": "stream",
     "text": [
      "Bi-GRU Train Score = 89.8351%\n",
      "Bi-GRU Test Score = 81.0681%\n"
     ]
    }
   ],
   "source": [
    "model_pred_train = model.predict(X_train_tokenizer, verbose=0)\n",
    "model_pred_train = np.argmax(model_pred_train, axis=1)\n",
    "model_pred_test = np.argmax(model_pred_test, axis=1)\n",
    "model_train_score = accuracy_score(model_pred_train, true_labels_train)\n",
    "model_test_score = accuracy_score(model_pred_test, true_labels_test)\n",
    "print(f\"Bi-GRU Train Score = {model_train_score * 100:.4f}%\")\n",
    "print(f\"Bi-GRU Test Score = {model_test_score * 100:.4f}%\")"
   ]
  },
  {
   "cell_type": "code",
   "execution_count": 27,
   "id": "c33f5760-b60e-4fc0-ac6b-46774475a6e3",
   "metadata": {},
   "outputs": [
    {
     "name": "stdout",
     "output_type": "stream",
     "text": [
      "Bi-GRU Precision Score = 73.1426%\n",
      "Bi-GRU F1 Score = 67.3912%\n",
      "Bi-GRU Recall Score = 64.6954%\n",
      "Bi-GRU Accuracy Score = 81.0681%\n"
     ]
    }
   ],
   "source": [
    "model_precision_score = precision_score(true_labels_test, model_pred_test, average=\"macro\")\n",
    "model_f1_score = f1_score(true_labels_test, model_pred_test, average=\"macro\")\n",
    "model_recall_score = recall_score(true_labels_test, model_pred_test, average=\"macro\")\n",
    "model_accuracy_score = accuracy_score(true_labels_test, model_pred_test)\n",
    "\n",
    "print(f\"Bi-GRU Precision Score = {model_precision_score * 100:.4f}%\")\n",
    "print(f\"Bi-GRU F1 Score = {model_f1_score * 100:.4f}%\")\n",
    "print(f\"Bi-GRU Recall Score = {model_recall_score * 100:.4f}%\")\n",
    "print(f\"Bi-GRU Accuracy Score = {model_accuracy_score * 100:.4f}%\")"
   ]
  },
  {
   "cell_type": "code",
   "execution_count": 28,
   "id": "9f3922a2-cce0-453c-97ed-6cde4aac7896",
   "metadata": {},
   "outputs": [
    {
     "name": "stdout",
     "output_type": "stream",
     "text": [
      "              precision    recall  f1-score   support\n",
      "\n",
      "    Negative       0.81      0.90      0.85      4508\n",
      "     Neutral       0.55      0.29      0.38       421\n",
      "    Positive       0.83      0.75      0.79      3179\n",
      "\n",
      "    accuracy                           0.81      8108\n",
      "   macro avg       0.73      0.65      0.67      8108\n",
      "weighted avg       0.81      0.81      0.80      8108\n",
      "\n"
     ]
    }
   ],
   "source": [
    "print(classification_report(true_labels_test, model_pred_test, target_names=[\"Negative\", \"Neutral\", \"Positive\"]))"
   ]
  },
  {
   "cell_type": "code",
   "execution_count": 29,
   "id": "8b480c32-6fc2-4c5f-9f68-c847bffe5495",
   "metadata": {},
   "outputs": [
    {
     "data": {
      "image/png": "[encoded data removed]",
      "text/plain": [
       "<Figure size 1000x1000 with 2 Axes>"
      ]
     },
     "metadata": {},
     "output_type": "display_data"
    }
   ],
   "source": [
    "model_cm = confusion_matrix(true_labels_test, model_pred_test)\n",
    "fig, ax = plot_confusion_matrix(conf_mat=model_cm, show_absolute=True, show_normed=True, colorbar=True, class_names=[\"Negative\", \"Neutral\", \"Positive\"], figsize=(10, 10))\n",
    "plt.title(\"Bi-GRU + GloVe - Sentiment Analysis\")\n",
    "plt.savefig(\"./output/bigru_glove.png\")\n",
    "plt.show()"
   ]
  },
  {
   "cell_type": "code",
   "execution_count": null,
   "id": "7e986d24-6b1b-4892-af6e-7820bc72cee5",
   "metadata": {},
   "outputs": [],
   "source": []
  }
 ],
 "metadata": {
  "kernelspec": {
   "display_name": "Python 3 (ipykernel)",
   "language": "python",
   "name": "python3"
  },
  "language_info": {
   "codemirror_mode": {
    "name": "ipython",
    "version": 3
   },
   "file_extension": ".py",
   "mimetype": "text/x-python",
   "name": "python",
   "nbconvert_exporter": "python",
   "pygments_lexer": "ipython3",
   "version": "3.10.12"
  }
 },
 "nbformat": 4,
 "nbformat_minor": 5
}
