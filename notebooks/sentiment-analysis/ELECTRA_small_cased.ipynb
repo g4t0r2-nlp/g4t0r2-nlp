{
 "cells": [
  {
   "cell_type": "code",
   "execution_count": 1,
   "metadata": {
    "_cell_guid": "b1076dfc-b9ad-4769-8c92-a6c4dae69d19",
    "_uuid": "8f2839f25d086af736a60e9eeb907d3b93b6e0e5",
    "execution": {
     "iopub.execute_input": "2024-08-06T20:52:36.404634Z",
     "iopub.status.busy": "2024-08-06T20:52:36.404229Z",
     "iopub.status.idle": "2024-08-06T20:52:37.434379Z",
     "shell.execute_reply": "2024-08-06T20:52:37.433064Z",
     "shell.execute_reply.started": "2024-08-06T20:52:36.404602Z"
    }
   },
   "outputs": [
    {
     "name": "stdout",
     "output_type": "stream",
     "text": [
      "/kaggle/input/all-aspects/all_aspects_just_aspect.csv\n",
      "/kaggle/input/all-aspects/all_tagged_aspects_just_aspect_cleaned.csv\n",
      "/kaggle/input/all-aspects/all_tagged_aspects_just_aspect_filled.csv\n",
      "/kaggle/input/all-aspects/all_tagged_aspects_filled.csv\n",
      "/kaggle/input/all-aspects/all_tagged_aspects_just_aspect.csv\n",
      "/kaggle/input/all-aspects/all_tagged_aspects_sentences.csv\n",
      "/kaggle/input/all-aspects/all_tagged_aspects_just_aspect_sentences.csv\n",
      "/kaggle/input/all-aspects/all_aspects_just_aspect_cleaned.csv\n",
      "/kaggle/input/all-aspects/all_tagged_aspects_just_aspect_filled_sentences.csv\n",
      "/kaggle/input/all-aspects/cleaned.csv\n",
      "/kaggle/input/all-aspects/all_aspects_just_aspect_filled.csv\n",
      "/kaggle/input/all-aspects/all_tagged_aspects.csv\n",
      "/kaggle/input/all-aspects/all_aspects.csv\n",
      "/kaggle/input/all-aspects/all_tagged_aspects_just_aspect_cleaned_sentences.csv\n"
     ]
    }
   ],
   "source": [
    "# This Python 3 environment comes with many helpful analytics libraries installed\n",
    "# It is defined by the kaggle/python Docker image: https://github.com/kaggle/docker-python\n",
    "# For example, here's several helpful packages to load\n",
    "\n",
    "import numpy as np # linear algebra\n",
    "import pandas as pd # data processing, CSV file I/O (e.g. pd.read_csv)\n",
    "\n",
    "# Input data files are available in the read-only \"../input/\" directory\n",
    "# For example, running this (by clicking run or pressing Shift+Enter) will list all files under the input directory\n",
    "\n",
    "import os\n",
    "for dirname, _, filenames in os.walk('/kaggle/input'):\n",
    "    for filename in filenames:\n",
    "        print(os.path.join(dirname, filename))\n",
    "\n",
    "# You can write up to 20GB to the current directory (/kaggle/working/) that gets preserved as output when you create a version using \"Save & Run All\" \n",
    "# You can also write temporary files to /kaggle/temp/, but they won't be saved outside of the current session"
   ]
  },
  {
   "cell_type": "code",
   "execution_count": 2,
   "metadata": {
    "execution": {
     "iopub.execute_input": "2024-08-06T20:53:12.952677Z",
     "iopub.status.busy": "2024-08-06T20:53:12.951812Z",
     "iopub.status.idle": "2024-08-06T20:53:20.358841Z",
     "shell.execute_reply": "2024-08-06T20:53:20.357760Z",
     "shell.execute_reply.started": "2024-08-06T20:53:12.952642Z"
    }
   },
   "outputs": [],
   "source": [
    "import os\n",
    "os.environ[\"TF_CPP_MIN_LOG_LEVEL\"] = \"3\"\n",
    "\n",
    "import sys\n",
    "import time\n",
    "import tqdm\n",
    "\n",
    "import numpy as np\n",
    "import pandas as pd\n",
    "\n",
    "import pickle\n",
    "\n",
    "import string\n",
    "import io\n",
    "import re\n",
    "import nltk\n",
    "import emoji\n",
    "\n",
    "import matplotlib.pyplot as plt\n",
    "import seaborn as sns\n",
    "from collections import Counter\n",
    "\n",
    "from sklearn.model_selection import train_test_split\n",
    "\n",
    "from mlxtend.plotting import plot_confusion_matrix\n",
    "\n",
    "from sklearn.metrics import roc_curve, auc, classification_report, confusion_matrix\n",
    "from sklearn.metrics import accuracy_score, f1_score, precision_score, recall_score, roc_auc_score\n",
    "\n",
    "import torch\n",
    "import torch.nn as nn\n",
    "import torch.optim as optim\n",
    "import torch.nn.functional as F\n",
    "import torchvision\n",
    "from torchvision import transforms\n",
    "from torch.utils.data import Dataset, DataLoader\n",
    "from transformers import ElectraTokenizerFast, ElectraForSequenceClassification, AdamW, get_linear_schedule_with_warmup\n",
    "\n",
    "from IPython.display import Markdown, clear_output\n",
    "\n",
    "def bold(string):\n",
    "    display(Markdown(\"**\" + string + \"**\"))\n",
    "\n",
    "import warnings\n",
    "from sklearn.exceptions import ConvergenceWarning\n",
    "warnings.filterwarnings(\"ignore\", category=UserWarning)\n",
    "warnings.filterwarnings(\"ignore\", category=FutureWarning)\n",
    "warnings.filterwarnings(\"ignore\", category=ConvergenceWarning)"
   ]
  },
  {
   "cell_type": "code",
   "execution_count": 3,
   "metadata": {
    "execution": {
     "iopub.execute_input": "2024-08-06T20:53:44.484719Z",
     "iopub.status.busy": "2024-08-06T20:53:44.484126Z",
     "iopub.status.idle": "2024-08-06T20:53:44.542299Z",
     "shell.execute_reply": "2024-08-06T20:53:44.541089Z",
     "shell.execute_reply.started": "2024-08-06T20:53:44.484683Z"
    }
   },
   "outputs": [
    {
     "data": {
      "text/plain": [
       "device(type='cuda')"
      ]
     },
     "execution_count": 3,
     "metadata": {},
     "output_type": "execute_result"
    }
   ],
   "source": [
    "device = torch.device(\"cuda\" if torch.cuda.is_available() else \"cpu\")\n",
    "device"
   ]
  },
  {
   "cell_type": "code",
   "execution_count": 4,
   "metadata": {
    "execution": {
     "iopub.execute_input": "2024-08-06T20:53:47.807585Z",
     "iopub.status.busy": "2024-08-06T20:53:47.806774Z",
     "iopub.status.idle": "2024-08-06T20:53:49.478612Z",
     "shell.execute_reply": "2024-08-06T20:53:49.477505Z",
     "shell.execute_reply.started": "2024-08-06T20:53:47.807551Z"
    }
   },
   "outputs": [
    {
     "data": {
      "text/html": [
       "<div>\n",
       "<style scoped>\n",
       "    .dataframe tbody tr th:only-of-type {\n",
       "        vertical-align: middle;\n",
       "    }\n",
       "\n",
       "    .dataframe tbody tr th {\n",
       "        vertical-align: top;\n",
       "    }\n",
       "\n",
       "    .dataframe thead th {\n",
       "        text-align: right;\n",
       "    }\n",
       "</style>\n",
       "<table border=\"1\" class=\"dataframe\">\n",
       "  <thead>\n",
       "    <tr style=\"text-align: right;\">\n",
       "      <th></th>\n",
       "      <th>rid</th>\n",
       "      <th>sid</th>\n",
       "      <th>app</th>\n",
       "      <th>review</th>\n",
       "      <th>cleaned</th>\n",
       "      <th>aspect</th>\n",
       "      <th>sentiment</th>\n",
       "      <th>aspect_polarity</th>\n",
       "    </tr>\n",
       "  </thead>\n",
       "  <tbody>\n",
       "    <tr>\n",
       "      <th>0</th>\n",
       "      <td>9</td>\n",
       "      <td>1</td>\n",
       "      <td>Google Play Store/BiP</td>\n",
       "      <td>Uygulamada kartlarda Troy kart geçmiyor Lütfen...</td>\n",
       "      <td>Uygulama da kartlar da Troy kart geçmiyor uygu...</td>\n",
       "      <td>Troy</td>\n",
       "      <td>Negative</td>\n",
       "      <td>0</td>\n",
       "    </tr>\n",
       "    <tr>\n",
       "      <th>1</th>\n",
       "      <td>9</td>\n",
       "      <td>1</td>\n",
       "      <td>Google Play Store/BiP</td>\n",
       "      <td>Uygulamada kartlarda Troy kart geçmiyor Lütfen...</td>\n",
       "      <td>Uygulama da kartlar da Troy kart geçmiyor uygu...</td>\n",
       "      <td>Troy</td>\n",
       "      <td>Neutral</td>\n",
       "      <td>1</td>\n",
       "    </tr>\n",
       "    <tr>\n",
       "      <th>2</th>\n",
       "      <td>10</td>\n",
       "      <td>1</td>\n",
       "      <td>Google Play Store/BiP</td>\n",
       "      <td>Her güncellemede daha da kötüleşen Turkcell in...</td>\n",
       "      <td>güncelleme de kötüleşen Turkcell in ara ara ha...</td>\n",
       "      <td>Turkcell</td>\n",
       "      <td>Negative</td>\n",
       "      <td>0</td>\n",
       "    </tr>\n",
       "    <tr>\n",
       "      <th>3</th>\n",
       "      <td>13</td>\n",
       "      <td>1</td>\n",
       "      <td>Google Play Store/BiP</td>\n",
       "      <td>BiP’ten aranmıyor yardım</td>\n",
       "      <td>BiP’ten aranmıyor yardım</td>\n",
       "      <td>BiP’ten</td>\n",
       "      <td>Negative</td>\n",
       "      <td>0</td>\n",
       "    </tr>\n",
       "    <tr>\n",
       "      <th>4</th>\n",
       "      <td>17</td>\n",
       "      <td>1</td>\n",
       "      <td>Google Play Store/BiP</td>\n",
       "      <td>Bu yorumum kesinlikle uygulamanın daha çok gel...</td>\n",
       "      <td>yorumum uygulamanın gelişmesi kulanıcıya erişi...</td>\n",
       "      <td>BİP</td>\n",
       "      <td>Positive</td>\n",
       "      <td>2</td>\n",
       "    </tr>\n",
       "  </tbody>\n",
       "</table>\n",
       "</div>"
      ],
      "text/plain": [
       "   rid  sid                    app  \\\n",
       "0    9    1  Google Play Store/BiP   \n",
       "1    9    1  Google Play Store/BiP   \n",
       "2   10    1  Google Play Store/BiP   \n",
       "3   13    1  Google Play Store/BiP   \n",
       "4   17    1  Google Play Store/BiP   \n",
       "\n",
       "                                              review  \\\n",
       "0  Uygulamada kartlarda Troy kart geçmiyor Lütfen...   \n",
       "1  Uygulamada kartlarda Troy kart geçmiyor Lütfen...   \n",
       "2  Her güncellemede daha da kötüleşen Turkcell in...   \n",
       "3                           BiP’ten aranmıyor yardım   \n",
       "4  Bu yorumum kesinlikle uygulamanın daha çok gel...   \n",
       "\n",
       "                                             cleaned    aspect sentiment  \\\n",
       "0  Uygulama da kartlar da Troy kart geçmiyor uygu...      Troy  Negative   \n",
       "1  Uygulama da kartlar da Troy kart geçmiyor uygu...      Troy   Neutral   \n",
       "2  güncelleme de kötüleşen Turkcell in ara ara ha...  Turkcell  Negative   \n",
       "3                           BiP’ten aranmıyor yardım   BiP’ten  Negative   \n",
       "4  yorumum uygulamanın gelişmesi kulanıcıya erişi...       BİP  Positive   \n",
       "\n",
       "   aspect_polarity  \n",
       "0                0  \n",
       "1                1  \n",
       "2                0  \n",
       "3                0  \n",
       "4                2  "
      ]
     },
     "execution_count": 4,
     "metadata": {},
     "output_type": "execute_result"
    }
   ],
   "source": [
    "df = pd.read_csv(\"../input/all-aspects/cleaned.csv\")\n",
    "df.head()"
   ]
  },
  {
   "cell_type": "code",
   "execution_count": 5,
   "metadata": {
    "execution": {
     "iopub.execute_input": "2024-08-06T20:53:51.922423Z",
     "iopub.status.busy": "2024-08-06T20:53:51.922035Z",
     "iopub.status.idle": "2024-08-06T20:53:52.020772Z",
     "shell.execute_reply": "2024-08-06T20:53:52.019485Z",
     "shell.execute_reply.started": "2024-08-06T20:53:51.922391Z"
    }
   },
   "outputs": [
    {
     "data": {
      "text/plain": [
       "rid                  0\n",
       "sid                  0\n",
       "app                  0\n",
       "review               0\n",
       "cleaned            224\n",
       "aspect               0\n",
       "sentiment            0\n",
       "aspect_polarity      0\n",
       "dtype: int64"
      ]
     },
     "execution_count": 5,
     "metadata": {},
     "output_type": "execute_result"
    }
   ],
   "source": [
    "df.isnull().sum()"
   ]
  },
  {
   "cell_type": "code",
   "execution_count": 6,
   "metadata": {
    "execution": {
     "iopub.execute_input": "2024-08-06T20:53:56.840929Z",
     "iopub.status.busy": "2024-08-06T20:53:56.840048Z",
     "iopub.status.idle": "2024-08-06T20:53:56.973025Z",
     "shell.execute_reply": "2024-08-06T20:53:56.972140Z",
     "shell.execute_reply.started": "2024-08-06T20:53:56.840894Z"
    }
   },
   "outputs": [],
   "source": [
    "df = df.dropna().reset_index(drop=True)"
   ]
  },
  {
   "cell_type": "code",
   "execution_count": 7,
   "metadata": {
    "execution": {
     "iopub.execute_input": "2024-08-06T20:54:00.069744Z",
     "iopub.status.busy": "2024-08-06T20:54:00.068724Z",
     "iopub.status.idle": "2024-08-06T20:54:00.075561Z",
     "shell.execute_reply": "2024-08-06T20:54:00.074393Z",
     "shell.execute_reply.started": "2024-08-06T20:54:00.069697Z"
    }
   },
   "outputs": [],
   "source": [
    "label_mapping = {\"Negative\": 0, \"Neutral\": 1, \"Positive\": 2}"
   ]
  },
  {
   "cell_type": "code",
   "execution_count": 8,
   "metadata": {
    "execution": {
     "iopub.execute_input": "2024-08-06T20:54:04.421238Z",
     "iopub.status.busy": "2024-08-06T20:54:04.420834Z",
     "iopub.status.idle": "2024-08-06T20:54:04.526217Z",
     "shell.execute_reply": "2024-08-06T20:54:04.525341Z",
     "shell.execute_reply.started": "2024-08-06T20:54:04.421206Z"
    }
   },
   "outputs": [],
   "source": [
    "df['text'] = df['aspect'] + \" [SEP] \" + df['review']"
   ]
  },
  {
   "cell_type": "code",
   "execution_count": 9,
   "metadata": {
    "execution": {
     "iopub.execute_input": "2024-08-06T20:54:07.546302Z",
     "iopub.status.busy": "2024-08-06T20:54:07.545242Z",
     "iopub.status.idle": "2024-08-06T20:54:07.577506Z",
     "shell.execute_reply": "2024-08-06T20:54:07.576462Z",
     "shell.execute_reply.started": "2024-08-06T20:54:07.546253Z"
    }
   },
   "outputs": [],
   "source": [
    "df = df[[\"text\", \"aspect_polarity\"]]"
   ]
  },
  {
   "cell_type": "code",
   "execution_count": 22,
   "metadata": {
    "execution": {
     "iopub.execute_input": "2024-08-06T21:02:49.663280Z",
     "iopub.status.busy": "2024-08-06T21:02:49.662890Z",
     "iopub.status.idle": "2024-08-06T21:02:50.414504Z",
     "shell.execute_reply": "2024-08-06T21:02:50.413342Z",
     "shell.execute_reply.started": "2024-08-06T21:02:49.663249Z"
    }
   },
   "outputs": [
    {
     "name": "stderr",
     "output_type": "stream",
     "text": [
      "Some weights of ElectraForSequenceClassification were not initialized from the model checkpoint at dbmdz/electra-small-turkish-cased-discriminator and are newly initialized: ['classifier.dense.bias', 'classifier.dense.weight', 'classifier.out_proj.bias', 'classifier.out_proj.weight']\n",
      "You should probably TRAIN this model on a down-stream task to be able to use it for predictions and inference.\n"
     ]
    }
   ],
   "source": [
    "torch.cuda.empty_cache()\n",
    "tokenizer = ElectraTokenizerFast.from_pretrained(\"dbmdz/electra-small-turkish-cased-discriminator\")\n",
    "model = ElectraForSequenceClassification.from_pretrained(\"dbmdz/electra-small-turkish-cased-discriminator\", num_labels=3).to(device)"
   ]
  },
  {
   "cell_type": "code",
   "execution_count": 23,
   "metadata": {
    "execution": {
     "iopub.execute_input": "2024-08-06T21:02:50.416912Z",
     "iopub.status.busy": "2024-08-06T21:02:50.416569Z",
     "iopub.status.idle": "2024-08-06T21:02:50.425619Z",
     "shell.execute_reply": "2024-08-06T21:02:50.424518Z",
     "shell.execute_reply.started": "2024-08-06T21:02:50.416884Z"
    }
   },
   "outputs": [],
   "source": [
    "class SentimentDataset(Dataset):\n",
    "    def __init__(self, texts, labels, tokenizer, max_len):\n",
    "        self.texts = texts\n",
    "        self.labels = labels\n",
    "        self.tokenizer = tokenizer\n",
    "        self.max_len = max_len\n",
    "    \n",
    "    def __len__(self):\n",
    "        return len(self.texts)\n",
    "    \n",
    "    def __getitem__(self, item):\n",
    "        text = self.texts[item]\n",
    "        label = self.labels[item]\n",
    "        \n",
    "        encoding = self.tokenizer.encode_plus(\n",
    "            text,\n",
    "            add_special_tokens=True,\n",
    "            max_length=self.max_len,\n",
    "            return_token_type_ids=False,\n",
    "            pad_to_max_length=True,\n",
    "            return_attention_mask=True,\n",
    "            return_tensors='pt',\n",
    "        )\n",
    "        \n",
    "        return {\n",
    "            'text': text,\n",
    "            'input_ids': encoding['input_ids'].flatten(),\n",
    "            'attention_mask': encoding['attention_mask'].flatten(),\n",
    "            'labels': torch.tensor(label, dtype=torch.long)\n",
    "        }"
   ]
  },
  {
   "cell_type": "code",
   "execution_count": 24,
   "metadata": {
    "execution": {
     "iopub.execute_input": "2024-08-06T21:02:50.427136Z",
     "iopub.status.busy": "2024-08-06T21:02:50.426793Z",
     "iopub.status.idle": "2024-08-06T21:02:50.437972Z",
     "shell.execute_reply": "2024-08-06T21:02:50.436939Z",
     "shell.execute_reply.started": "2024-08-06T21:02:50.427108Z"
    }
   },
   "outputs": [],
   "source": [
    "def train_validate_test_split(df, split_size):\n",
    "    perm = np.random.permutation(df.index)\n",
    "    train_end = int(train_size * len(df.index))\n",
    "    validate_end = int(((1 - split_size) / 2) * len(df.index)) + train_end\n",
    "    train = df.iloc[perm[:train_end]]\n",
    "    validate = df.iloc[perm[train_end:validate_end]]\n",
    "    test = df.iloc[perm[validate_end:]]\n",
    "    return train, validate, test"
   ]
  },
  {
   "cell_type": "code",
   "execution_count": 25,
   "metadata": {
    "execution": {
     "iopub.execute_input": "2024-08-06T21:02:50.440559Z",
     "iopub.status.busy": "2024-08-06T21:02:50.440163Z",
     "iopub.status.idle": "2024-08-06T21:02:50.473064Z",
     "shell.execute_reply": "2024-08-06T21:02:50.472096Z",
     "shell.execute_reply.started": "2024-08-06T21:02:50.440531Z"
    }
   },
   "outputs": [
    {
     "name": "stdout",
     "output_type": "stream",
     "text": [
      "Full dataset: 157279\n",
      "Train dataset: 141551\n",
      "Valid dataset: 7863\n",
      "Test dataset: 7865\n"
     ]
    }
   ],
   "source": [
    "train_size = 0.9\n",
    "df_train, df_validation, df_test = train_validate_test_split(df, train_size)\n",
    "df_train = df_train.reset_index(drop=True)\n",
    "df_validation = df_validation.reset_index(drop=True)\n",
    "df_test = df_test.reset_index(drop=True)\n",
    "\n",
    "print(f\"Full dataset: {df.shape[0]}\")\n",
    "print(f\"Train dataset: {df_train.shape[0]}\")\n",
    "print(f\"Valid dataset: {df_validation.shape[0]}\")\n",
    "print(f\"Test dataset: {df_test.shape[0]}\")"
   ]
  },
  {
   "cell_type": "code",
   "execution_count": 26,
   "metadata": {
    "execution": {
     "iopub.execute_input": "2024-08-06T21:02:50.474848Z",
     "iopub.status.busy": "2024-08-06T21:02:50.474459Z",
     "iopub.status.idle": "2024-08-06T21:02:50.480420Z",
     "shell.execute_reply": "2024-08-06T21:02:50.479216Z",
     "shell.execute_reply.started": "2024-08-06T21:02:50.474811Z"
    }
   },
   "outputs": [],
   "source": [
    "MAX_LEN = 64\n",
    "BATCH_SIZE = 64\n",
    "EPOCHS = 4\n",
    "LEARNING_RATE = 2e-5"
   ]
  },
  {
   "cell_type": "code",
   "execution_count": 27,
   "metadata": {
    "execution": {
     "iopub.execute_input": "2024-08-06T21:02:50.482194Z",
     "iopub.status.busy": "2024-08-06T21:02:50.481884Z",
     "iopub.status.idle": "2024-08-06T21:02:50.489378Z",
     "shell.execute_reply": "2024-08-06T21:02:50.488333Z",
     "shell.execute_reply.started": "2024-08-06T21:02:50.482167Z"
    }
   },
   "outputs": [],
   "source": [
    "training_set = SentimentDataset(df_train[\"text\"].to_numpy(), df_train[\"aspect_polarity\"].to_numpy(), tokenizer, MAX_LEN)\n",
    "validation_set = SentimentDataset(df_validation[\"text\"].to_numpy(), df_validation[\"aspect_polarity\"].to_numpy(), tokenizer, MAX_LEN)\n",
    "testing_set = SentimentDataset(df_test[\"text\"].to_numpy(), df_test[\"aspect_polarity\"].to_numpy(), tokenizer, MAX_LEN)"
   ]
  },
  {
   "cell_type": "code",
   "execution_count": 28,
   "metadata": {
    "execution": {
     "iopub.execute_input": "2024-08-06T21:02:50.491022Z",
     "iopub.status.busy": "2024-08-06T21:02:50.490717Z",
     "iopub.status.idle": "2024-08-06T21:02:50.511222Z",
     "shell.execute_reply": "2024-08-06T21:02:50.510155Z",
     "shell.execute_reply.started": "2024-08-06T21:02:50.490996Z"
    }
   },
   "outputs": [],
   "source": [
    "train_params = {\"batch_size\": BATCH_SIZE, \"shuffle\": True, \"num_workers\": 0}\n",
    "valid_params = {\"batch_size\": BATCH_SIZE, \"shuffle\": True, \"num_workers\": 0}\n",
    "test_params = {\"batch_size\": BATCH_SIZE, \"shuffle\": True, \"num_workers\": 0}\n",
    "\n",
    "training_loader = DataLoader(training_set, **train_params)\n",
    "validation_loader = DataLoader(validation_set, **valid_params)\n",
    "testing_loader = DataLoader(testing_set, **test_params)"
   ]
  },
  {
   "cell_type": "code",
   "execution_count": 29,
   "metadata": {
    "execution": {
     "iopub.execute_input": "2024-08-06T21:02:50.746674Z",
     "iopub.status.busy": "2024-08-06T21:02:50.745792Z",
     "iopub.status.idle": "2024-08-06T21:02:50.755547Z",
     "shell.execute_reply": "2024-08-06T21:02:50.754233Z",
     "shell.execute_reply.started": "2024-08-06T21:02:50.746641Z"
    }
   },
   "outputs": [],
   "source": [
    "optimizer = optim.Adam(model.parameters(), lr=LEARNING_RATE)\n",
    "total_steps = len(training_loader) * EPOCHS\n",
    "scheduler = get_linear_schedule_with_warmup(optimizer, num_warmup_steps=0, num_training_steps=total_steps)"
   ]
  },
  {
   "cell_type": "code",
   "execution_count": 30,
   "metadata": {
    "execution": {
     "iopub.execute_input": "2024-08-06T21:02:50.927096Z",
     "iopub.status.busy": "2024-08-06T21:02:50.926720Z",
     "iopub.status.idle": "2024-08-06T21:02:50.936059Z",
     "shell.execute_reply": "2024-08-06T21:02:50.934829Z",
     "shell.execute_reply.started": "2024-08-06T21:02:50.927066Z"
    }
   },
   "outputs": [],
   "source": [
    "def train_epoch(model, data_loader, optimizer, scheduler, device):\n",
    "    model = model.train()\n",
    "    losses = []\n",
    "    correct_predictions = 0\n",
    "\n",
    "    for d in tqdm.tqdm(data_loader):\n",
    "        input_ids = d[\"input_ids\"].to(device)\n",
    "        attention_mask = d[\"attention_mask\"].to(device)\n",
    "        labels = d[\"labels\"].to(device)\n",
    "\n",
    "        outputs = model(input_ids=input_ids, attention_mask=attention_mask, labels=labels)\n",
    "        loss = outputs.loss\n",
    "        logits = outputs.logits\n",
    "\n",
    "        _, preds = torch.max(logits, dim=1)\n",
    "        correct_predictions += torch.sum(preds == labels)\n",
    "        losses.append(loss.item())\n",
    "\n",
    "        loss.backward()\n",
    "        optimizer.step()\n",
    "        scheduler.step()\n",
    "        optimizer.zero_grad()\n",
    "\n",
    "    return correct_predictions.double() / len(data_loader.dataset), np.mean(losses)"
   ]
  },
  {
   "cell_type": "code",
   "execution_count": 31,
   "metadata": {
    "execution": {
     "iopub.execute_input": "2024-08-06T21:02:51.091043Z",
     "iopub.status.busy": "2024-08-06T21:02:51.090641Z",
     "iopub.status.idle": "2024-08-06T21:02:51.100119Z",
     "shell.execute_reply": "2024-08-06T21:02:51.098673Z",
     "shell.execute_reply.started": "2024-08-06T21:02:51.091011Z"
    }
   },
   "outputs": [],
   "source": [
    "def eval_model(model, data_loader, device):\n",
    "    model = model.eval()\n",
    "    losses = []\n",
    "    correct_predictions = 0\n",
    "\n",
    "    with torch.no_grad():\n",
    "        for d in tqdm.tqdm(data_loader):\n",
    "            input_ids = d[\"input_ids\"].to(device)\n",
    "            attention_mask = d[\"attention_mask\"].to(device)\n",
    "            labels = d[\"labels\"].to(device)\n",
    "\n",
    "            outputs = model(input_ids=input_ids, attention_mask=attention_mask, labels=labels)\n",
    "            loss = outputs.loss\n",
    "            logits = outputs.logits\n",
    "\n",
    "            _, preds = torch.max(logits, dim=1)\n",
    "            correct_predictions += torch.sum(preds == labels)\n",
    "            losses.append(loss.item())\n",
    "\n",
    "    return correct_predictions.double() / len(data_loader.dataset), np.mean(losses)"
   ]
  },
  {
   "cell_type": "code",
   "execution_count": 32,
   "metadata": {
    "execution": {
     "iopub.execute_input": "2024-08-06T21:02:51.560535Z",
     "iopub.status.busy": "2024-08-06T21:02:51.559752Z",
     "iopub.status.idle": "2024-08-06T21:18:01.905986Z",
     "shell.execute_reply": "2024-08-06T21:18:01.904979Z",
     "shell.execute_reply.started": "2024-08-06T21:02:51.560494Z"
    }
   },
   "outputs": [
    {
     "name": "stdout",
     "output_type": "stream",
     "text": [
      "Epoch 1/4\n",
      "----------\n"
     ]
    },
    {
     "name": "stderr",
     "output_type": "stream",
     "text": [
      "  0%|          | 0/2212 [00:00<?, ?it/s]Truncation was not explicitly activated but `max_length` is provided a specific value, please use `truncation=True` to explicitly truncate examples to max length. Defaulting to 'longest_first' truncation strategy. If you encode pairs of sequences (GLUE-style) with the tokenizer you can select this strategy more precisely by providing a specific strategy to `truncation`.\n",
      "100%|██████████| 2212/2212 [03:41<00:00,  9.99it/s]\n"
     ]
    },
    {
     "name": "stdout",
     "output_type": "stream",
     "text": [
      "Train loss 0.6060248270469161 accuracy 0.77509872766706\n"
     ]
    },
    {
     "name": "stderr",
     "output_type": "stream",
     "text": [
      "100%|██████████| 123/123 [00:06<00:00, 19.93it/s]\n"
     ]
    },
    {
     "name": "stdout",
     "output_type": "stream",
     "text": [
      "Val   loss 0.5197508785782791 accuracy 0.8065623807706983\n",
      "Epoch 2/4\n",
      "----------\n"
     ]
    },
    {
     "name": "stderr",
     "output_type": "stream",
     "text": [
      "100%|██████████| 2212/2212 [03:41<00:00,  9.99it/s]\n"
     ]
    },
    {
     "name": "stdout",
     "output_type": "stream",
     "text": [
      "Train loss 0.5193030574505518 accuracy 0.805815571772718\n"
     ]
    },
    {
     "name": "stderr",
     "output_type": "stream",
     "text": [
      "100%|██████████| 123/123 [00:06<00:00, 19.87it/s]\n"
     ]
    },
    {
     "name": "stdout",
     "output_type": "stream",
     "text": [
      "Val   loss 0.5047154802132429 accuracy 0.8106320742719064\n",
      "Epoch 3/4\n",
      "----------\n"
     ]
    },
    {
     "name": "stderr",
     "output_type": "stream",
     "text": [
      "100%|██████████| 2212/2212 [03:41<00:00,  9.98it/s]\n"
     ]
    },
    {
     "name": "stdout",
     "output_type": "stream",
     "text": [
      "Train loss 0.49806581814158674 accuracy 0.8151549618158827\n"
     ]
    },
    {
     "name": "stderr",
     "output_type": "stream",
     "text": [
      "100%|██████████| 123/123 [00:06<00:00, 20.01it/s]\n"
     ]
    },
    {
     "name": "stdout",
     "output_type": "stream",
     "text": [
      "Val   loss 0.4871029890165096 accuracy 0.8183899275085845\n",
      "Epoch 4/4\n",
      "----------\n"
     ]
    },
    {
     "name": "stderr",
     "output_type": "stream",
     "text": [
      "100%|██████████| 2212/2212 [03:41<00:00, 10.01it/s]\n"
     ]
    },
    {
     "name": "stdout",
     "output_type": "stream",
     "text": [
      "Train loss 0.4834107927519956 accuracy 0.8210256374027736\n"
     ]
    },
    {
     "name": "stderr",
     "output_type": "stream",
     "text": [
      "100%|██████████| 123/123 [00:06<00:00, 19.67it/s]"
     ]
    },
    {
     "name": "stdout",
     "output_type": "stream",
     "text": [
      "Val   loss 0.4826157525545213 accuracy 0.8205519521811014\n",
      "CPU times: user 15min 8s, sys: 4.93 s, total: 15min 13s\n",
      "Wall time: 15min 10s\n"
     ]
    },
    {
     "name": "stderr",
     "output_type": "stream",
     "text": [
      "\n"
     ]
    }
   ],
   "source": [
    "%%time\n",
    "\n",
    "for epoch in range(EPOCHS):\n",
    "    print(f'Epoch {epoch + 1}/{EPOCHS}')\n",
    "    print('-' * 10)\n",
    "\n",
    "    train_acc, train_loss = train_epoch(model, training_loader, optimizer, scheduler, device)\n",
    "    print(f'Train loss {train_loss} accuracy {train_acc}')\n",
    "\n",
    "    val_acc, val_loss = eval_model(model, validation_loader, device)\n",
    "    print(f'Val   loss {val_loss} accuracy {val_acc}')"
   ]
  },
  {
   "cell_type": "code",
   "execution_count": 33,
   "metadata": {
    "execution": {
     "iopub.execute_input": "2024-08-06T21:19:00.166335Z",
     "iopub.status.busy": "2024-08-06T21:19:00.165961Z",
     "iopub.status.idle": "2024-08-06T21:19:06.487902Z",
     "shell.execute_reply": "2024-08-06T21:19:06.486756Z",
     "shell.execute_reply.started": "2024-08-06T21:19:00.166307Z"
    }
   },
   "outputs": [],
   "source": [
    "y_pred = []\n",
    "y_true = []\n",
    "\n",
    "model = model.eval()\n",
    "\n",
    "with torch.no_grad():\n",
    "    for d in testing_loader:\n",
    "        input_ids = d[\"input_ids\"].to(device)\n",
    "        attention_mask = d[\"attention_mask\"].to(device)\n",
    "        labels = d[\"labels\"].to(device)\n",
    "\n",
    "        outputs = model(input_ids=input_ids, attention_mask=attention_mask)\n",
    "        logits = outputs.logits\n",
    "\n",
    "        _, preds = torch.max(logits, dim=1)\n",
    "\n",
    "        y_pred.extend(preds.cpu().numpy())\n",
    "        y_true.extend(labels.cpu().numpy())"
   ]
  },
  {
   "cell_type": "code",
   "execution_count": 34,
   "metadata": {
    "execution": {
     "iopub.execute_input": "2024-08-06T21:19:06.490293Z",
     "iopub.status.busy": "2024-08-06T21:19:06.489948Z",
     "iopub.status.idle": "2024-08-06T21:19:06.548548Z",
     "shell.execute_reply": "2024-08-06T21:19:06.547208Z",
     "shell.execute_reply.started": "2024-08-06T21:19:06.490267Z"
    }
   },
   "outputs": [
    {
     "name": "stdout",
     "output_type": "stream",
     "text": [
      "Precision Score = 55.03%\n",
      "F1 Score = 56.15%\n",
      "Recall Score = 57.42%\n",
      "Accuracy Score = 82.59%\n"
     ]
    }
   ],
   "source": [
    "model_precision_score = precision_score(y_true, y_pred, average='macro')\n",
    "model_f1_score = f1_score(y_true, y_pred, average='macro')\n",
    "model_recall_score = recall_score(y_true, y_pred, average='macro')\n",
    "model_accuracy_score = accuracy_score(y_true, y_pred)\n",
    "\n",
    "print(f\"Precision Score = {model_precision_score * 100:.2f}%\")\n",
    "print(f\"F1 Score = {model_f1_score * 100:.2f}%\")\n",
    "print(f\"Recall Score = {model_recall_score * 100:.2f}%\")\n",
    "print(f\"Accuracy Score = {model_accuracy_score * 100:.2f}%\")"
   ]
  },
  {
   "cell_type": "code",
   "execution_count": 35,
   "metadata": {
    "execution": {
     "iopub.execute_input": "2024-08-06T21:19:06.550546Z",
     "iopub.status.busy": "2024-08-06T21:19:06.550094Z",
     "iopub.status.idle": "2024-08-06T21:19:06.591948Z",
     "shell.execute_reply": "2024-08-06T21:19:06.590706Z",
     "shell.execute_reply.started": "2024-08-06T21:19:06.550501Z"
    }
   },
   "outputs": [
    {
     "name": "stdout",
     "output_type": "stream",
     "text": [
      "              precision    recall  f1-score   support\n",
      "\n",
      "    Negative       0.83      0.91      0.87      4391\n",
      "     Neutral       0.00      0.00      0.00       404\n",
      "    Positive       0.82      0.81      0.82      3070\n",
      "\n",
      "    accuracy                           0.83      7865\n",
      "   macro avg       0.55      0.57      0.56      7865\n",
      "weighted avg       0.78      0.83      0.80      7865\n",
      "\n"
     ]
    }
   ],
   "source": [
    "print(classification_report(y_true, y_pred, target_names=[\"Negative\", \"Neutral\", \"Positive\"]))"
   ]
  },
  {
   "cell_type": "code",
   "execution_count": 36,
   "metadata": {
    "execution": {
     "iopub.execute_input": "2024-08-06T21:19:06.594971Z",
     "iopub.status.busy": "2024-08-06T21:19:06.594531Z",
     "iopub.status.idle": "2024-08-06T21:19:06.971275Z",
     "shell.execute_reply": "2024-08-06T21:19:06.970171Z",
     "shell.execute_reply.started": "2024-08-06T21:19:06.594934Z"
    }
   },
   "outputs": [
    {
     "data": {
      "image/png": "[encoded data removed]",
      "text/plain": [
       "<Figure size 640x480 with 2 Axes>"
      ]
     },
     "metadata": {},
     "output_type": "display_data"
    }
   ],
   "source": [
    "cm = confusion_matrix(y_true, y_pred)\n",
    "fig, ax = plot_confusion_matrix(conf_mat=cm, show_absolute=True, show_normed=True, colorbar=True, class_names=[\"Negative\", \"Neutral\", \"Positive\"])\n",
    "plt.title(\"ELECTRA - Sentiment Analysis\")\n",
    "plt.show()"
   ]
  },
  {
   "cell_type": "code",
   "execution_count": null,
   "metadata": {},
   "outputs": [],
   "source": []
  },
  {
   "cell_type": "code",
   "execution_count": null,
   "metadata": {},
   "outputs": [],
   "source": []
  }
 ],
 "metadata": {
  "kernelspec": {
   "display_name": "Python 3 (ipykernel)",
   "language": "python",
   "name": "python3"
  },
  "language_info": {
   "codemirror_mode": {
    "name": "ipython",
    "version": 3
   },
   "file_extension": ".py",
   "mimetype": "text/x-python",
   "name": "python",
   "nbconvert_exporter": "python",
   "pygments_lexer": "ipython3",
   "version": "3.10.12"
  }
 },
 "nbformat": 4,
 "nbformat_minor": 4
}
