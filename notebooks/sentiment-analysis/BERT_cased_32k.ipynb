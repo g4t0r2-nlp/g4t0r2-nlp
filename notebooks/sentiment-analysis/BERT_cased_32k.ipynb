{
 "cells": [
  {
   "cell_type": "code",
   "execution_count": 1,
   "metadata": {
    "_cell_guid": "b1076dfc-b9ad-4769-8c92-a6c4dae69d19",
    "_uuid": "8f2839f25d086af736a60e9eeb907d3b93b6e0e5",
    "execution": {
     "iopub.execute_input": "2024-08-01T17:02:00.104322Z",
     "iopub.status.busy": "2024-08-01T17:02:00.104000Z",
     "iopub.status.idle": "2024-08-01T17:02:01.328139Z",
     "shell.execute_reply": "2024-08-01T17:02:01.327030Z",
     "shell.execute_reply.started": "2024-08-01T17:02:00.104295Z"
    }
   },
   "outputs": [
    {
     "name": "stdout",
     "output_type": "stream",
     "text": [
      "/kaggle/input/all-aspects/all_aspects_just_aspect.csv\n",
      "/kaggle/input/all-aspects/all_tagged_aspects_just_aspect.csv\n",
      "/kaggle/input/all-aspects/all_tagged_aspects_sentences.csv\n",
      "/kaggle/input/all-aspects/all_tagged_aspects_just_aspect_sentences.csv\n",
      "/kaggle/input/all-aspects/reviews.csv\n",
      "/kaggle/input/all-aspects/cleaned.csv\n",
      "/kaggle/input/all-aspects/all_tagged_aspects.csv\n",
      "/kaggle/input/all-aspects/all_aspects.csv\n"
     ]
    }
   ],
   "source": [
    "# This Python 3 environment comes with many helpful analytics libraries installed\n",
    "# It is defined by the kaggle/python Docker image: https://github.com/kaggle/docker-python\n",
    "# For example, here's several helpful packages to load\n",
    "\n",
    "import numpy as np # linear algebra\n",
    "import pandas as pd # data processing, CSV file I/O (e.g. pd.read_csv)\n",
    "\n",
    "# Input data files are available in the read-only \"../input/\" directory\n",
    "# For example, running this (by clicking run or pressing Shift+Enter) will list all files under the input directory\n",
    "\n",
    "import os\n",
    "for dirname, _, filenames in os.walk('/kaggle/input'):\n",
    "    for filename in filenames:\n",
    "        print(os.path.join(dirname, filename))\n",
    "\n",
    "# You can write up to 20GB to the current directory (/kaggle/working/) that gets preserved as output when you create a version using \"Save & Run All\" \n",
    "# You can also write temporary files to /kaggle/temp/, but they won't be saved outside of the current session"
   ]
  },
  {
   "cell_type": "code",
   "execution_count": 35,
   "metadata": {
    "execution": {
     "iopub.execute_input": "2024-08-01T17:13:26.041404Z",
     "iopub.status.busy": "2024-08-01T17:13:26.041064Z",
     "iopub.status.idle": "2024-08-01T17:13:27.403194Z",
     "shell.execute_reply": "2024-08-01T17:13:27.402307Z",
     "shell.execute_reply.started": "2024-08-01T17:13:26.041379Z"
    }
   },
   "outputs": [],
   "source": [
    "import os\n",
    "os.environ[\"TF_CPP_MIN_LOG_LEVEL\"] = \"3\"\n",
    "\n",
    "import sys\n",
    "import time\n",
    "import tqdm\n",
    "\n",
    "import numpy as np\n",
    "import pandas as pd\n",
    "\n",
    "import pickle\n",
    "\n",
    "import string\n",
    "import io\n",
    "import re\n",
    "import nltk\n",
    "import emoji\n",
    "\n",
    "import matplotlib.pyplot as plt\n",
    "import seaborn as sns\n",
    "from collections import Counter\n",
    "from wordcloud import WordCloud\n",
    "from textblob import TextBlob\n",
    "from nltk.util import ngrams\n",
    "from nltk import word_tokenize\n",
    "\n",
    "from sklearn.feature_extraction.text import CountVectorizer\n",
    "from sklearn.preprocessing import LabelEncoder\n",
    "from sklearn.model_selection import train_test_split\n",
    "\n",
    "from mlxtend.plotting import plot_confusion_matrix\n",
    "\n",
    "from sklearn.metrics import roc_curve, auc, classification_report, confusion_matrix\n",
    "from sklearn.metrics import accuracy_score, f1_score, precision_score, recall_score, roc_auc_score\n",
    "\n",
    "import torch\n",
    "import torch.nn as nn\n",
    "import torch.optim as optim\n",
    "import torch.nn.functional as F\n",
    "import torchvision\n",
    "from torchvision import transforms\n",
    "from torch.utils.data import Dataset, DataLoader\n",
    "from transformers import BertTokenizer, BertForSequenceClassification, AdamW, get_linear_schedule_with_warmup\n",
    "\n",
    "from IPython.display import Markdown, clear_output\n",
    "\n",
    "def bold(string):\n",
    "    display(Markdown(\"**\" + string + \"**\"))\n",
    "\n",
    "import warnings\n",
    "from sklearn.exceptions import ConvergenceWarning\n",
    "warnings.filterwarnings(\"ignore\", category=UserWarning)\n",
    "warnings.filterwarnings(\"ignore\", category=FutureWarning)\n",
    "warnings.filterwarnings(\"ignore\", category=ConvergenceWarning)"
   ]
  },
  {
   "cell_type": "code",
   "execution_count": null,
   "metadata": {},
   "outputs": [],
   "source": [
    "df = pd.read_csv(\"../input/all-aspects/cleaned.csv\")"
   ]
  },
  {
   "cell_type": "code",
   "execution_count": 7,
   "metadata": {
    "execution": {
     "iopub.execute_input": "2024-08-01T17:03:29.708186Z",
     "iopub.status.busy": "2024-08-01T17:03:29.707594Z",
     "iopub.status.idle": "2024-08-01T17:03:29.857280Z",
     "shell.execute_reply": "2024-08-01T17:03:29.856280Z",
     "shell.execute_reply.started": "2024-08-01T17:03:29.708156Z"
    }
   },
   "outputs": [],
   "source": [
    "df = df.dropna().reset_index(drop=True)"
   ]
  },
  {
   "cell_type": "code",
   "execution_count": 8,
   "metadata": {
    "execution": {
     "iopub.execute_input": "2024-08-01T17:03:32.414762Z",
     "iopub.status.busy": "2024-08-01T17:03:32.414353Z",
     "iopub.status.idle": "2024-08-01T17:03:32.445179Z",
     "shell.execute_reply": "2024-08-01T17:03:32.444043Z",
     "shell.execute_reply.started": "2024-08-01T17:03:32.414732Z"
    }
   },
   "outputs": [],
   "source": [
    "label_mapping = {\"Negative\": 0, \"Neutral\": 1, \"Positive\": 2}\n",
    "df['aspect_polarity'] = df['sentiment'].map(label_mapping)"
   ]
  },
  {
   "cell_type": "code",
   "execution_count": 9,
   "metadata": {
    "execution": {
     "iopub.execute_input": "2024-08-01T17:03:46.572650Z",
     "iopub.status.busy": "2024-08-01T17:03:46.572255Z",
     "iopub.status.idle": "2024-08-01T17:03:46.590279Z",
     "shell.execute_reply": "2024-08-01T17:03:46.589248Z",
     "shell.execute_reply.started": "2024-08-01T17:03:46.572620Z"
    }
   },
   "outputs": [],
   "source": [
    "df = df[[\"text\", \"aspect_polarity\"]]"
   ]
  },
  {
   "cell_type": "code",
   "execution_count": null,
   "metadata": {},
   "outputs": [],
   "source": [
    "def preprocess(t):\n",
    "    text = t.replace(r'http\\S+', '')\n",
    "    text = text.replace(r'www\\S+', '')\n",
    "    text = re.sub('a-zA-Z0-9._%+-]+@[a-zA-Z0-9.-]+\\.[a-zA-Z]{2,}', '', text)\n",
    "    text = re.sub('<.*?>', '', text)\n",
    "    text = re.sub('[0-9]+', '', text)\n",
    "    text = text.translate(text.maketrans('', '', string.punctuation))\n",
    "    text = text.replace('\"', '').replace(\"’\", '').replace(\"'\", '').replace(\"”\", '')\n",
    "    text = emoji.replace_emoji(text)\n",
    "    text = ' '.join([word for word in text.split() if word.lower() not in stop_words])\n",
    "    return text"
   ]
  },
  {
   "cell_type": "code",
   "execution_count": null,
   "metadata": {},
   "outputs": [],
   "source": [
    "df[\"cleaned\"] = df[\"review\"].progress_apply(preprocess)"
   ]
  },
  {
   "cell_type": "code",
   "execution_count": null,
   "metadata": {},
   "outputs": [],
   "source": [
    "freq = pd.Series(' '.join(df['cleaned']).split()).value_counts()\n",
    "less_freq = list(freq[freq == 1].index)"
   ]
  },
  {
   "cell_type": "code",
   "execution_count": null,
   "metadata": {},
   "outputs": [],
   "source": [
    "df['cleaned'] = df['cleaned'].progress_apply(lambda x: \" \".join(x for x in x.split() if x not in less_freq))"
   ]
  },
  {
   "cell_type": "code",
   "execution_count": 10,
   "metadata": {
    "execution": {
     "iopub.execute_input": "2024-08-01T17:04:06.495656Z",
     "iopub.status.busy": "2024-08-01T17:04:06.495284Z",
     "iopub.status.idle": "2024-08-01T17:04:07.194945Z",
     "shell.execute_reply": "2024-08-01T17:04:07.193981Z",
     "shell.execute_reply.started": "2024-08-01T17:04:06.495626Z"
    }
   },
   "outputs": [
    {
     "data": {
      "application/vnd.jupyter.widget-view+json": {
       "model_id": "b6ce04b7061546bc8832b1eacb3d6687",
       "version_major": 2,
       "version_minor": 0
      },
      "text/plain": [
       "tokenizer_config.json:   0%|          | 0.00/60.0 [00:00<?, ?B/s]"
      ]
     },
     "metadata": {},
     "output_type": "display_data"
    },
    {
     "data": {
      "application/vnd.jupyter.widget-view+json": {
       "model_id": "8b51b486adf04cf48c4cca48a119001e",
       "version_major": 2,
       "version_minor": 0
      },
      "text/plain": [
       "vocab.txt:   0%|          | 0.00/251k [00:00<?, ?B/s]"
      ]
     },
     "metadata": {},
     "output_type": "display_data"
    },
    {
     "data": {
      "application/vnd.jupyter.widget-view+json": {
       "model_id": "1ab3b99da8274c72b0039b5eac68b32b",
       "version_major": 2,
       "version_minor": 0
      },
      "text/plain": [
       "config.json:   0%|          | 0.00/385 [00:00<?, ?B/s]"
      ]
     },
     "metadata": {},
     "output_type": "display_data"
    }
   ],
   "source": [
    "tokenizer = BertTokenizer.from_pretrained('dbmdz/bert-base-turkish-cased')"
   ]
  },
  {
   "cell_type": "code",
   "execution_count": 11,
   "metadata": {
    "execution": {
     "iopub.execute_input": "2024-08-01T17:04:09.370262Z",
     "iopub.status.busy": "2024-08-01T17:04:09.369756Z",
     "iopub.status.idle": "2024-08-01T17:04:09.376074Z",
     "shell.execute_reply": "2024-08-01T17:04:09.374950Z",
     "shell.execute_reply.started": "2024-08-01T17:04:09.370222Z"
    }
   },
   "outputs": [],
   "source": [
    "def tokenize_function(examples):\n",
    "    return tokenizer(examples['text'], padding='max_length', truncation=True)"
   ]
  },
  {
   "cell_type": "code",
   "execution_count": null,
   "metadata": {},
   "outputs": [],
   "source": [
    "df['text'] = df['aspect'] + \" [SEP] \" + df['review']"
   ]
  },
  {
   "cell_type": "code",
   "execution_count": 37,
   "metadata": {
    "execution": {
     "iopub.execute_input": "2024-08-01T17:23:46.962963Z",
     "iopub.status.busy": "2024-08-01T17:23:46.962563Z",
     "iopub.status.idle": "2024-08-01T17:23:46.970767Z",
     "shell.execute_reply": "2024-08-01T17:23:46.969637Z",
     "shell.execute_reply.started": "2024-08-01T17:23:46.962931Z"
    }
   },
   "outputs": [
    {
     "data": {
      "text/plain": [
       "device(type='cuda')"
      ]
     },
     "execution_count": 37,
     "metadata": {},
     "output_type": "execute_result"
    }
   ],
   "source": [
    "device = torch.device(\"cuda\" if torch.cuda.is_available() else \"cpu\")\n",
    "device"
   ]
  },
  {
   "cell_type": "code",
   "execution_count": 49,
   "metadata": {
    "execution": {
     "iopub.execute_input": "2024-08-01T17:32:45.904290Z",
     "iopub.status.busy": "2024-08-01T17:32:45.903402Z",
     "iopub.status.idle": "2024-08-01T17:32:45.908555Z",
     "shell.execute_reply": "2024-08-01T17:32:45.907579Z",
     "shell.execute_reply.started": "2024-08-01T17:32:45.904257Z"
    }
   },
   "outputs": [],
   "source": [
    "MAX_LEN = 64\n",
    "BATCH_SIZE = 32\n",
    "EPOCHS = 4\n",
    "LEARNING_RATE = 2e-5"
   ]
  },
  {
   "cell_type": "code",
   "execution_count": 50,
   "metadata": {
    "execution": {
     "iopub.execute_input": "2024-08-01T17:32:46.144358Z",
     "iopub.status.busy": "2024-08-01T17:32:46.143799Z",
     "iopub.status.idle": "2024-08-01T17:32:47.294160Z",
     "shell.execute_reply": "2024-08-01T17:32:47.293337Z",
     "shell.execute_reply.started": "2024-08-01T17:32:46.144330Z"
    }
   },
   "outputs": [
    {
     "name": "stderr",
     "output_type": "stream",
     "text": [
      "Some weights of BertForSequenceClassification were not initialized from the model checkpoint at dbmdz/bert-base-turkish-uncased and are newly initialized: ['classifier.bias', 'classifier.weight']\n",
      "You should probably TRAIN this model on a down-stream task to be able to use it for predictions and inference.\n"
     ]
    }
   ],
   "source": [
    "tokenizer = BertTokenizer.from_pretrained(\"dbmdz/bert-base-turkish-cased\")\n",
    "model = BertForSequenceClassification.from_pretrained(\"dbmdz/bert-base-turkish-cased\", num_labels=3).to(device)"
   ]
  },
  {
   "cell_type": "code",
   "execution_count": 51,
   "metadata": {
    "execution": {
     "iopub.execute_input": "2024-08-01T17:32:47.296017Z",
     "iopub.status.busy": "2024-08-01T17:32:47.295748Z",
     "iopub.status.idle": "2024-08-01T17:32:47.304573Z",
     "shell.execute_reply": "2024-08-01T17:32:47.303477Z",
     "shell.execute_reply.started": "2024-08-01T17:32:47.295994Z"
    }
   },
   "outputs": [],
   "source": [
    "class SentimentDataset(Dataset):\n",
    "    def __init__(self, texts, labels, tokenizer, max_len):\n",
    "        self.texts = texts\n",
    "        self.labels = labels\n",
    "        self.tokenizer = tokenizer\n",
    "        self.max_len = max_len\n",
    "    \n",
    "    def __len__(self):\n",
    "        return len(self.texts)\n",
    "    \n",
    "    def __getitem__(self, item):\n",
    "        text = self.texts[item]\n",
    "        label = self.labels[item]\n",
    "        \n",
    "        encoding = self.tokenizer.encode_plus(\n",
    "            text,\n",
    "            add_special_tokens=True,\n",
    "            max_length=self.max_len,\n",
    "            return_token_type_ids=False,\n",
    "            pad_to_max_length=True,\n",
    "            return_attention_mask=True,\n",
    "            return_tensors='pt',\n",
    "        )\n",
    "        \n",
    "        return {\n",
    "            'text': text,\n",
    "            'input_ids': encoding['input_ids'].flatten(),\n",
    "            'attention_mask': encoding['attention_mask'].flatten(),\n",
    "            'labels': torch.tensor(label, dtype=torch.long)\n",
    "        }"
   ]
  },
  {
   "cell_type": "code",
   "execution_count": 52,
   "metadata": {
    "execution": {
     "iopub.execute_input": "2024-08-01T17:32:48.822370Z",
     "iopub.status.busy": "2024-08-01T17:32:48.821438Z",
     "iopub.status.idle": "2024-08-01T17:32:48.844907Z",
     "shell.execute_reply": "2024-08-01T17:32:48.843903Z",
     "shell.execute_reply.started": "2024-08-01T17:32:48.822326Z"
    }
   },
   "outputs": [],
   "source": [
    "train_texts, val_texts, train_labels, val_labels = train_test_split(df['text'], df['aspect_polarity'], test_size=0.1, random_state=42)"
   ]
  },
  {
   "cell_type": "code",
   "execution_count": 53,
   "metadata": {
    "execution": {
     "iopub.execute_input": "2024-08-01T17:32:49.773385Z",
     "iopub.status.busy": "2024-08-01T17:32:49.773031Z",
     "iopub.status.idle": "2024-08-01T17:32:49.778596Z",
     "shell.execute_reply": "2024-08-01T17:32:49.777561Z",
     "shell.execute_reply.started": "2024-08-01T17:32:49.773356Z"
    }
   },
   "outputs": [],
   "source": [
    "train_dataset = SentimentDataset(train_texts.to_numpy(), train_labels.to_numpy(), tokenizer, MAX_LEN)\n",
    "val_dataset = SentimentDataset(val_texts.to_numpy(), val_labels.to_numpy(), tokenizer, MAX_LEN)"
   ]
  },
  {
   "cell_type": "code",
   "execution_count": 54,
   "metadata": {
    "execution": {
     "iopub.execute_input": "2024-08-01T17:32:50.695121Z",
     "iopub.status.busy": "2024-08-01T17:32:50.694409Z",
     "iopub.status.idle": "2024-08-01T17:32:50.700502Z",
     "shell.execute_reply": "2024-08-01T17:32:50.699404Z",
     "shell.execute_reply.started": "2024-08-01T17:32:50.695089Z"
    }
   },
   "outputs": [],
   "source": [
    "train_data_loader = DataLoader(train_dataset, batch_size=BATCH_SIZE, shuffle=True)\n",
    "val_data_loader = DataLoader(val_dataset, batch_size=BATCH_SIZE, shuffle=False)"
   ]
  },
  {
   "cell_type": "code",
   "execution_count": 55,
   "metadata": {
    "execution": {
     "iopub.execute_input": "2024-08-01T17:32:51.284462Z",
     "iopub.status.busy": "2024-08-01T17:32:51.284120Z",
     "iopub.status.idle": "2024-08-01T17:32:51.291368Z",
     "shell.execute_reply": "2024-08-01T17:32:51.290402Z",
     "shell.execute_reply.started": "2024-08-01T17:32:51.284435Z"
    }
   },
   "outputs": [],
   "source": [
    "optimizer = optim.Adam(model.parameters(), lr=LEARNING_RATE)\n",
    "total_steps = len(train_data_loader) * EPOCHS\n",
    "scheduler = get_linear_schedule_with_warmup(optimizer, num_warmup_steps=0, num_training_steps=total_steps)"
   ]
  },
  {
   "cell_type": "code",
   "execution_count": 58,
   "metadata": {
    "execution": {
     "iopub.execute_input": "2024-08-01T17:33:08.078624Z",
     "iopub.status.busy": "2024-08-01T17:33:08.077796Z",
     "iopub.status.idle": "2024-08-01T17:33:08.089693Z",
     "shell.execute_reply": "2024-08-01T17:33:08.088483Z",
     "shell.execute_reply.started": "2024-08-01T17:33:08.078581Z"
    }
   },
   "outputs": [],
   "source": [
    "def train_epoch(model, data_loader, optimizer, scheduler, device):\n",
    "    model = model.train()\n",
    "    losses = []\n",
    "    correct_predictions = 0\n",
    "\n",
    "    for d in tqdm.tqdm(data_loader):\n",
    "        input_ids = d[\"input_ids\"].to(device)\n",
    "        attention_mask = d[\"attention_mask\"].to(device)\n",
    "        labels = d[\"labels\"].to(device)\n",
    "\n",
    "        outputs = model(input_ids=input_ids, attention_mask=attention_mask, labels=labels)\n",
    "        loss = outputs.loss\n",
    "        logits = outputs.logits\n",
    "\n",
    "        _, preds = torch.max(logits, dim=1)\n",
    "        correct_predictions += torch.sum(preds == labels)\n",
    "        losses.append(loss.item())\n",
    "\n",
    "        loss.backward()\n",
    "        optimizer.step()\n",
    "        scheduler.step()\n",
    "        optimizer.zero_grad()\n",
    "\n",
    "    return correct_predictions.double() / len(data_loader.dataset), np.mean(losses)"
   ]
  },
  {
   "cell_type": "code",
   "execution_count": 59,
   "metadata": {
    "execution": {
     "iopub.execute_input": "2024-08-01T17:33:14.451295Z",
     "iopub.status.busy": "2024-08-01T17:33:14.450430Z",
     "iopub.status.idle": "2024-08-01T17:33:14.458554Z",
     "shell.execute_reply": "2024-08-01T17:33:14.457569Z",
     "shell.execute_reply.started": "2024-08-01T17:33:14.451261Z"
    }
   },
   "outputs": [],
   "source": [
    "def eval_model(model, data_loader, device):\n",
    "    model = model.eval()\n",
    "    losses = []\n",
    "    correct_predictions = 0\n",
    "\n",
    "    with torch.no_grad():\n",
    "        for d in tqdm.tqdm(data_loader):\n",
    "            input_ids = d[\"input_ids\"].to(device)\n",
    "            attention_mask = d[\"attention_mask\"].to(device)\n",
    "            labels = d[\"labels\"].to(device)\n",
    "\n",
    "            outputs = model(input_ids=input_ids, attention_mask=attention_mask, labels=labels)\n",
    "            loss = outputs.loss\n",
    "            logits = outputs.logits\n",
    "\n",
    "            _, preds = torch.max(logits, dim=1)\n",
    "            correct_predictions += torch.sum(preds == labels)\n",
    "            losses.append(loss.item())\n",
    "\n",
    "    return correct_predictions.double() / len(data_loader.dataset), np.mean(losses)"
   ]
  },
  {
   "cell_type": "code",
   "execution_count": 60,
   "metadata": {
    "execution": {
     "iopub.execute_input": "2024-08-01T17:33:15.140968Z",
     "iopub.status.busy": "2024-08-01T17:33:15.140219Z",
     "iopub.status.idle": "2024-08-01T19:16:48.147550Z",
     "shell.execute_reply": "2024-08-01T19:16:48.146344Z",
     "shell.execute_reply.started": "2024-08-01T17:33:15.140936Z"
    }
   },
   "outputs": [
    {
     "name": "stdout",
     "output_type": "stream",
     "text": [
      "Epoch 1/4\n",
      "----------\n"
     ]
    },
    {
     "name": "stderr",
     "output_type": "stream",
     "text": [
      "  0%|          | 0/4561 [00:00<?, ?it/s]Truncation was not explicitly activated but `max_length` is provided a specific value, please use `truncation=True` to explicitly truncate examples to max length. Defaulting to 'longest_first' truncation strategy. If you encode pairs of sequences (GLUE-style) with the tokenizer you can select this strategy more precisely by providing a specific strategy to `truncation`.\n",
      "100%|██████████| 4561/4561 [24:45<00:00,  3.07it/s]\n"
     ]
    },
    {
     "name": "stdout",
     "output_type": "stream",
     "text": [
      "Train loss 0.518720588078561 accuracy 0.8029849314411408\n"
     ]
    },
    {
     "name": "stderr",
     "output_type": "stream",
     "text": [
      "100%|██████████| 507/507 [01:09<00:00,  7.32it/s]\n"
     ]
    },
    {
     "name": "stdout",
     "output_type": "stream",
     "text": [
      "Val   loss 0.4626562777884613 accuracy 0.8275053962380513\n",
      "Epoch 2/4\n",
      "----------\n"
     ]
    },
    {
     "name": "stderr",
     "output_type": "stream",
     "text": [
      "100%|██████████| 4561/4561 [24:44<00:00,  3.07it/s]\n"
     ]
    },
    {
     "name": "stdout",
     "output_type": "stream",
     "text": [
      "Train loss 0.3924622581755088 accuracy 0.8559955596061206\n"
     ]
    },
    {
     "name": "stderr",
     "output_type": "stream",
     "text": [
      "100%|██████████| 507/507 [01:09<00:00,  7.33it/s]\n"
     ]
    },
    {
     "name": "stdout",
     "output_type": "stream",
     "text": [
      "Val   loss 0.4007182188434949 accuracy 0.8539623805118718\n",
      "Epoch 3/4\n",
      "----------\n"
     ]
    },
    {
     "name": "stderr",
     "output_type": "stream",
     "text": [
      "100%|██████████| 4561/4561 [24:44<00:00,  3.07it/s]\n"
     ]
    },
    {
     "name": "stdout",
     "output_type": "stream",
     "text": [
      "Train loss 0.3008475232125309 accuracy 0.8924780549978415\n"
     ]
    },
    {
     "name": "stderr",
     "output_type": "stream",
     "text": [
      "100%|██████████| 507/507 [01:08<00:00,  7.38it/s]\n"
     ]
    },
    {
     "name": "stdout",
     "output_type": "stream",
     "text": [
      "Val   loss 0.3914110418666279 accuracy 0.8646931853222326\n",
      "Epoch 4/4\n",
      "----------\n"
     ]
    },
    {
     "name": "stderr",
     "output_type": "stream",
     "text": [
      "100%|██████████| 4561/4561 [24:42<00:00,  3.08it/s]\n"
     ]
    },
    {
     "name": "stdout",
     "output_type": "stream",
     "text": [
      "Train loss 0.23571169212937512 accuracy 0.9164342540755004\n"
     ]
    },
    {
     "name": "stderr",
     "output_type": "stream",
     "text": [
      "100%|██████████| 507/507 [01:08<00:00,  7.40it/s]"
     ]
    },
    {
     "name": "stdout",
     "output_type": "stream",
     "text": [
      "Val   loss 0.3935033754396015 accuracy 0.8701202590194266\n"
     ]
    },
    {
     "name": "stderr",
     "output_type": "stream",
     "text": [
      "\n"
     ]
    }
   ],
   "source": [
    "for epoch in range(EPOCHS):\n",
    "    print(f'Epoch {epoch + 1}/{EPOCHS}')\n",
    "    print('-' * 10)\n",
    "\n",
    "    train_acc, train_loss = train_epoch(model, train_data_loader, optimizer, scheduler, device)\n",
    "    print(f'Train loss {train_loss} accuracy {train_acc}')\n",
    "\n",
    "    val_acc, val_loss = eval_model(model, val_data_loader, device)\n",
    "    print(f'Val   loss {val_loss} accuracy {val_acc}')"
   ]
  },
  {
   "cell_type": "code",
   "execution_count": 61,
   "metadata": {
    "execution": {
     "iopub.execute_input": "2024-08-01T19:17:28.149800Z",
     "iopub.status.busy": "2024-08-01T19:17:28.149401Z",
     "iopub.status.idle": "2024-08-01T19:18:36.514361Z",
     "shell.execute_reply": "2024-08-01T19:18:36.513567Z",
     "shell.execute_reply.started": "2024-08-01T19:17:28.149765Z"
    }
   },
   "outputs": [],
   "source": [
    "y_pred = []\n",
    "y_true = []\n",
    "\n",
    "model = model.eval()\n",
    "\n",
    "with torch.no_grad():\n",
    "    for d in val_data_loader:\n",
    "        input_ids = d[\"input_ids\"].to(device)\n",
    "        attention_mask = d[\"attention_mask\"].to(device)\n",
    "        labels = d[\"labels\"].to(device)\n",
    "\n",
    "        outputs = model(input_ids=input_ids, attention_mask=attention_mask)\n",
    "        logits = outputs.logits\n",
    "\n",
    "        _, preds = torch.max(logits, dim=1)\n",
    "\n",
    "        y_pred.extend(preds.cpu().numpy())\n",
    "        y_true.extend(labels.cpu().numpy())"
   ]
  },
  {
   "cell_type": "code",
   "execution_count": 62,
   "metadata": {
    "execution": {
     "iopub.execute_input": "2024-08-01T19:18:36.516238Z",
     "iopub.status.busy": "2024-08-01T19:18:36.515928Z",
     "iopub.status.idle": "2024-08-01T19:18:36.598467Z",
     "shell.execute_reply": "2024-08-01T19:18:36.597570Z",
     "shell.execute_reply.started": "2024-08-01T19:18:36.516212Z"
    }
   },
   "outputs": [
    {
     "name": "stdout",
     "output_type": "stream",
     "text": [
      "Precision Score = 86.52%\n",
      "F1 Score = 86.52%\n",
      "Recall Score = 87.01%\n",
      "Accuracy Score = 87.01%\n"
     ]
    }
   ],
   "source": [
    "model_precision_score = precision_score(y_true, y_pred, average='macro')\n",
    "model_f1_score = f1_score(y_true, y_pred, average='macro')\n",
    "model_recall_score = recall_score(y_true, y_pred, average='macro')\n",
    "model_accuracy_score = accuracy_score(y_true, y_pred)\n",
    "\n",
    "print(f\"Precision Score = {model_precision_score * 100:.2f}%\")\n",
    "print(f\"F1 Score = {model_f1_score * 100:.2f}%\")\n",
    "print(f\"Recall Score = {model_recall_score * 100:.2f}%\")\n",
    "print(f\"Accuracy Score = {model_accuracy_score * 100:.2f}%\")"
   ]
  },
  {
   "cell_type": "code",
   "execution_count": 63,
   "metadata": {
    "execution": {
     "iopub.execute_input": "2024-08-01T19:18:36.599883Z",
     "iopub.status.busy": "2024-08-01T19:18:36.599608Z",
     "iopub.status.idle": "2024-08-01T19:18:36.642197Z",
     "shell.execute_reply": "2024-08-01T19:18:36.640049Z",
     "shell.execute_reply.started": "2024-08-01T19:18:36.599859Z"
    }
   },
   "outputs": [
    {
     "name": "stdout",
     "output_type": "stream",
     "text": [
      "              precision    recall  f1-score   support\n",
      "\n",
      "    Negative       0.88      0.92      0.90      8862\n",
      "     Neutral       0.67      0.38      0.48       868\n",
      "    Positive       0.87      0.87      0.87      6485\n",
      "\n",
      "    accuracy                           0.87     16215\n",
      "   macro avg       0.81      0.72      0.75     16215\n",
      "weighted avg       0.87      0.87      0.87     16215\n",
      "\n"
     ]
    }
   ],
   "source": [
    "print(classification_report(y_true, y_pred, target_names=[\"Negative\", \"Neutral\", \"Positive\"]))"
   ]
  },
  {
   "cell_type": "code",
   "execution_count": 64,
   "metadata": {
    "execution": {
     "iopub.execute_input": "2024-08-01T19:18:36.645014Z",
     "iopub.status.busy": "2024-08-01T19:18:36.644718Z",
     "iopub.status.idle": "2024-08-01T19:18:37.000336Z",
     "shell.execute_reply": "2024-08-01T19:18:36.999447Z",
     "shell.execute_reply.started": "2024-08-01T19:18:36.644988Z"
    }
   },
   "outputs": [
    {
     "data": {
      "image/png": "[encoded data removed]",
      "text/plain": [
       "<Figure size 640x480 with 2 Axes>"
      ]
     },
     "metadata": {},
     "output_type": "display_data"
    }
   ],
   "source": [
    "cm = confusion_matrix(y_true, y_pred)\n",
    "fig, ax = plot_confusion_matrix(conf_mat=cm, show_absolute=True, show_normed=True, colorbar=True, class_names=[\"Negative\", \"Neutral\", \"Positive\"])\n",
    "plt.show()"
   ]
  },
  {
   "cell_type": "code",
   "execution_count": null,
   "metadata": {},
   "outputs": [],
   "source": []
  },
  {
   "cell_type": "code",
   "execution_count": null,
   "metadata": {},
   "outputs": [],
   "source": []
  },
  {
   "cell_type": "code",
   "execution_count": null,
   "metadata": {},
   "outputs": [],
   "source": []
  }
 ],
 "metadata": {
  "kaggle": {
   "accelerator": "nvidiaTeslaT4",
   "dataSources": [
    {
     "datasetId": 5454449,
     "sourceId": 9069252,
     "sourceType": "datasetVersion"
    }
   ],
   "dockerImageVersionId": 30746,
   "isGpuEnabled": true,
   "isInternetEnabled": true,
   "language": "python",
   "sourceType": "notebook"
  },
  "kernelspec": {
   "display_name": "Python 3 (ipykernel)",
   "language": "python",
   "name": "python3"
  },
  "language_info": {
   "codemirror_mode": {
    "name": "ipython",
    "version": 3
   },
   "file_extension": ".py",
   "mimetype": "text/x-python",
   "name": "python",
   "nbconvert_exporter": "python",
   "pygments_lexer": "ipython3",
   "version": "3.10.12"
  }
 },
 "nbformat": 4,
 "nbformat_minor": 4
}
