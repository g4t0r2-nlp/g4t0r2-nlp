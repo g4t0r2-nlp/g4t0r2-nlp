{
 "cells": [
  {
   "cell_type": "code",
   "execution_count": 1,
   "id": "4b561616-c87e-4dd0-84b5-8e8588baa28a",
   "metadata": {},
   "outputs": [],
   "source": [
    "import os\n",
    "os.environ[\"TF_CPP_MIN_LOG_LEVEL\"] = \"3\"\n",
    "\n",
    "import time\n",
    "import tqdm\n",
    "import random\n",
    "import argparse\n",
    "\n",
    "import numpy as np\n",
    "import pandas as pd\n",
    "tqdm.tqdm.pandas()\n",
    "\n",
    "import matplotlib.pyplot as plt\n",
    "\n",
    "import gensim\n",
    "from gensim import corpora, models, similarities\n",
    "\n",
    "from sklearn.feature_extraction.text import TfidfVectorizer\n",
    "from sklearn.model_selection import train_test_split\n",
    "\n",
    "from mlxtend.plotting import plot_confusion_matrix\n",
    "\n",
    "from sklearn.metrics import classification_report, confusion_matrix\n",
    "from sklearn.metrics import accuracy_score, f1_score, precision_score, recall_score\n",
    "\n",
    "from sklearn.naive_bayes import MultinomialNB\n",
    "\n",
    "import warnings\n",
    "from sklearn.exceptions import ConvergenceWarning\n",
    "warnings.filterwarnings(\"ignore\", category=UserWarning)\n",
    "warnings.filterwarnings(\"ignore\", category=FutureWarning)\n",
    "warnings.filterwarnings(\"ignore\", category=ConvergenceWarning)\n",
    "\n",
    "def set_seed(seed):\n",
    "    random.seed(seed)\n",
    "    np.random.seed(seed)\n",
    "    os.environ['PYTHONHASHSEED'] = str(seed)"
   ]
  },
  {
   "cell_type": "code",
   "execution_count": null,
   "id": "38bb1552-318d-427b-a804-9f0c71112914",
   "metadata": {},
   "outputs": [],
   "source": [
    "set_seed(42)"
   ]
  },
  {
   "cell_type": "code",
   "execution_count": 2,
   "id": "71bfacca-2d23-4a91-a0e4-86f76b6e7bdc",
   "metadata": {},
   "outputs": [],
   "source": [
    "df = pd.read_csv(\"/mnt/d/work2/teknofest-tddi/data/processed/cleaned.csv\")\n",
    "df = df.dropna()\n",
    "df = df.reset_index(drop=True)"
   ]
  },
  {
   "cell_type": "code",
   "execution_count": 3,
   "id": "3a04a90e-1f5f-4034-ad0e-a23210165186",
   "metadata": {},
   "outputs": [
    {
     "data": {
      "text/html": [
       "<div>\n",
       "<style scoped>\n",
       "    .dataframe tbody tr th:only-of-type {\n",
       "        vertical-align: middle;\n",
       "    }\n",
       "\n",
       "    .dataframe tbody tr th {\n",
       "        vertical-align: top;\n",
       "    }\n",
       "\n",
       "    .dataframe thead th {\n",
       "        text-align: right;\n",
       "    }\n",
       "</style>\n",
       "<table border=\"1\" class=\"dataframe\">\n",
       "  <thead>\n",
       "    <tr style=\"text-align: right;\">\n",
       "      <th></th>\n",
       "      <th>aspect_polarity</th>\n",
       "      <th>text</th>\n",
       "    </tr>\n",
       "  </thead>\n",
       "  <tbody>\n",
       "    <tr>\n",
       "      <th>0</th>\n",
       "      <td>2</td>\n",
       "      <td>Troy Uygulamada kartlarda Troy kart geçmiyor u...</td>\n",
       "    </tr>\n",
       "    <tr>\n",
       "      <th>1</th>\n",
       "      <td>2</td>\n",
       "      <td>Troy Uygulamada kartlarda Troy kart geçmiyor u...</td>\n",
       "    </tr>\n",
       "    <tr>\n",
       "      <th>2</th>\n",
       "      <td>0</td>\n",
       "      <td>Turkcell güncellemede kötüleşen Turkcell in ar...</td>\n",
       "    </tr>\n",
       "    <tr>\n",
       "      <th>3</th>\n",
       "      <td>0</td>\n",
       "      <td>BiP’ten BiPten aranmıyor yardım</td>\n",
       "    </tr>\n",
       "    <tr>\n",
       "      <th>4</th>\n",
       "      <td>2</td>\n",
       "      <td>BİP yorumum uygulamanın gelişmesi kulanıcıya e...</td>\n",
       "    </tr>\n",
       "  </tbody>\n",
       "</table>\n",
       "</div>"
      ],
      "text/plain": [
       "   aspect_polarity                                               text\n",
       "0                2  Troy Uygulamada kartlarda Troy kart geçmiyor u...\n",
       "1                2  Troy Uygulamada kartlarda Troy kart geçmiyor u...\n",
       "2                0  Turkcell güncellemede kötüleşen Turkcell in ar...\n",
       "3                0                    BiP’ten BiPten aranmıyor yardım\n",
       "4                2  BİP yorumum uygulamanın gelişmesi kulanıcıya e..."
      ]
     },
     "execution_count": 3,
     "metadata": {},
     "output_type": "execute_result"
    }
   ],
   "source": [
    "df.head()"
   ]
  },
  {
   "cell_type": "code",
   "execution_count": null,
   "id": "d734ebec-6451-49d7-8143-70b102516226",
   "metadata": {},
   "outputs": [],
   "source": [
    "df[\"text\"] = df[\"aspect\"] + \" \" + df[\"cleaned\"]"
   ]
  },
  {
   "cell_type": "code",
   "execution_count": 4,
   "id": "c6aa6e91-a85c-4f71-908b-31ce9e15e4f7",
   "metadata": {},
   "outputs": [],
   "source": [
    "X = df[\"text\"]\n",
    "y = df[\"aspect_polarity\"]"
   ]
  },
  {
   "cell_type": "code",
   "execution_count": null,
   "id": "9996fd31-ca35-403e-8b6f-4dddd6bce903",
   "metadata": {},
   "outputs": [],
   "source": [
    "def train_validate_test_split(df, split_size):\n",
    "    perm = np.random.permutation(df.index)\n",
    "    train_end = int(split_size * len(df.index))\n",
    "    validate_end = int(((1 - split_size) / 2) * len(df.index)) + train_end\n",
    "    train = df.iloc[perm[:train_end]]\n",
    "    validate = df.iloc[perm[train_end:validate_end]]\n",
    "    test = df.iloc[perm[validate_end:]]\n",
    "    return train, validate, test"
   ]
  },
  {
   "cell_type": "code",
   "execution_count": 5,
   "id": "180e9968-c6ad-469a-816a-ae3f00dca59c",
   "metadata": {},
   "outputs": [],
   "source": [
    "df_train, df_validation, df_test = train_validate_test_split(df, split_size=0.9)"
   ]
  },
  {
   "cell_type": "code",
   "execution_count": null,
   "id": "4e6ce61e-538b-4c70-821b-72b28790b406",
   "metadata": {},
   "outputs": [],
   "source": [
    "X_train = df_train[\"text\"]\n",
    "y_train = df_train[\"aspect_polarity\"]"
   ]
  },
  {
   "cell_type": "code",
   "execution_count": null,
   "id": "aebdbcef-0a68-4874-b37b-b2e1f228c87f",
   "metadata": {},
   "outputs": [],
   "source": [
    "X_valid = df_validation[\"text\"]\n",
    "y_valid = df_validation[\"aspect_polarity\"]"
   ]
  },
  {
   "cell_type": "code",
   "execution_count": null,
   "id": "d194febe-d0ab-490a-ab95-dcfe29530146",
   "metadata": {},
   "outputs": [],
   "source": [
    "X_test = df_test[\"text\"]\n",
    "y_test = df_test[\"aspect_polarity\"]"
   ]
  },
  {
   "cell_type": "code",
   "execution_count": 6,
   "id": "d3aee8a2-6559-4558-b480-0faec1ee8cfd",
   "metadata": {},
   "outputs": [],
   "source": [
    "tfidf = TfidfVectorizer()\n",
    "X_train_tfidf = tfidf.fit_transform(X_train)\n",
    "X_valid_tfidf = tfidf.transform(X_valid)\n",
    "X_test_tfidf = tfidf.transform(X_test)"
   ]
  },
  {
   "cell_type": "code",
   "execution_count": 7,
   "id": "2c536ba5-40d3-4790-8e2a-e4301448d280",
   "metadata": {},
   "outputs": [
    {
     "name": "stdout",
     "output_type": "stream",
     "text": [
      "MultnomialNB + TFIDF Train Time = 0.0249\n"
     ]
    }
   ],
   "source": [
    "mnb = MultinomialNB()\n",
    "mnb_tfidf_train_start = time.time()\n",
    "mnb.fit(X_train_tfidf, y_train)\n",
    "mnb_tfidf_train_time = time.time() - mnb_tfidf_train_start\n",
    "print(f\"MultnomialNB + TFIDF Train Time = {mnb_tfidf_train_time:.4f}\")"
   ]
  },
  {
   "cell_type": "code",
   "execution_count": 8,
   "id": "4f6406d2-4a99-4ba6-ba56-cd6e862e22e1",
   "metadata": {},
   "outputs": [
    {
     "name": "stdout",
     "output_type": "stream",
     "text": [
      "MultnomialNB + TFIDF Train Score = 81.5368%\n",
      "MultnomialNB + TFIDF Test Score = 79.0795%\n",
      "MultnomialNB + TFIDF Test Time = 0.0017\n"
     ]
    }
   ],
   "source": [
    "mnb_tfidf_pred_train = mnb.predict(X_train_tfidf)\n",
    "mnb_tfidf_test_start = time.time()\n",
    "mnb_tfidf_pred_test = mnb.predict(X_test_tfidf)\n",
    "mnb_tfidf_test_time = time.time() - mnb_tfidf_test_start\n",
    "\n",
    "mnb_tfidf_train_score = accuracy_score(mnb_tfidf_pred_train, y_train)\n",
    "mnb_tfidf_test_score = accuracy_score(mnb_tfidf_pred_test, y_test)\n",
    "print(f\"MultnomialNB + TFIDF Train Score = {mnb_tfidf_train_score * 100:.4f}%\")\n",
    "print(f\"MultnomialNB + TFIDF Test Score = {mnb_tfidf_test_score * 100:.4f}%\")\n",
    "print(f\"MultnomialNB + TFIDF Test Time = {mnb_tfidf_test_time:.4f}\")"
   ]
  },
  {
   "cell_type": "code",
   "execution_count": 9,
   "id": "f5623615-0e18-4690-9871-d4d65ed4cb2a",
   "metadata": {},
   "outputs": [
    {
     "name": "stdout",
     "output_type": "stream",
     "text": [
      "MultnomialNB + TFIDF Precision Score = 78.8569%\n",
      "MultnomialNB + TFIDF F1 Score = 76.6170%\n",
      "MultnomialNB + TFIDF Recall Score = 79.0795%\n",
      "MultnomialNB + TFIDF Accuracy Score = 79.0795%\n"
     ]
    }
   ],
   "source": [
    "mnb_tfidf_precision_score = precision_score(y_test, mnb_tfidf_pred_test, average='macro')\n",
    "mnb_tfidf_f1_score = f1_score(y_test, mnb_tfidf_pred_test, average='macro')\n",
    "mnb_tfidf_recall_score = recall_score(y_test, mnb_tfidf_pred_test, average='macro')\n",
    "mnb_tfidf_accuracy_score = accuracy_score(y_test, mnb_tfidf_pred_test)\n",
    "\n",
    "print(f\"MultnomialNB + TFIDF Precision Score = {mnb_tfidf_precision_score * 100:.4f}%\")\n",
    "print(f\"MultnomialNB + TFIDF F1 Score = {mnb_tfidf_f1_score * 100:.4f}%\")\n",
    "print(f\"MultnomialNB + TFIDF Recall Score = {mnb_tfidf_recall_score * 100:.4f}%\")\n",
    "print(f\"MultnomialNB + TFIDF Accuracy Score = {mnb_tfidf_accuracy_score * 100:.4f}%\")"
   ]
  },
  {
   "cell_type": "code",
   "execution_count": 10,
   "id": "ae959bb9-a8d2-4b0d-afdf-a7dfbc12706f",
   "metadata": {},
   "outputs": [
    {
     "name": "stdout",
     "output_type": "stream",
     "text": [
      "              precision    recall  f1-score   support\n",
      "\n",
      "    Negative       0.77      0.94      0.84      8977\n",
      "     Neutral       0.60      0.00      0.01       829\n",
      "    Positive       0.85      0.68      0.76      6446\n",
      "\n",
      "    accuracy                           0.79     16252\n",
      "   macro avg       0.74      0.54      0.54     16252\n",
      "weighted avg       0.79      0.79      0.77     16252\n",
      "\n"
     ]
    }
   ],
   "source": [
    "print(classification_report(y_test, mnb_tfidf_pred_test, target_names=[\"Negative\", \"Neutral\", \"Positive\"]))"
   ]
  },
  {
   "cell_type": "code",
   "execution_count": 11,
   "id": "efb99bfd-0613-4a20-8938-7284cb1ff18a",
   "metadata": {},
   "outputs": [
    {
     "data": {
      "image/png": "[encoded data removed]",
      "text/plain": [
       "<Figure size 1000x1000 with 2 Axes>"
      ]
     },
     "metadata": {},
     "output_type": "display_data"
    }
   ],
   "source": [
    "simplernn_cm = confusion_matrix(y_test, mnb_tfidf_pred_test)\n",
    "fig, ax = plot_confusion_matrix(conf_mat=simplernn_cm, show_absolute=True, show_normed=True, colorbar=True, class_names=[\"Negative\", \"Neutral\", \"Positive\"], figsize=(10, 10))\n",
    "plt.title(\"MultinomialNB + TFIDF - Sentiment Analysis\")\n",
    "plt.savefig(\"./output/multinomialnb_tfidf.png\")\n",
    "plt.show()"
   ]
  },
  {
   "cell_type": "code",
   "execution_count": null,
   "id": "6f707b78-e81d-45d2-a404-06829eddfbb8",
   "metadata": {},
   "outputs": [],
   "source": []
  }
 ],
 "metadata": {
  "kernelspec": {
   "display_name": "Python 3 (ipykernel)",
   "language": "python",
   "name": "python3"
  },
  "language_info": {
   "codemirror_mode": {
    "name": "ipython",
    "version": 3
   },
   "file_extension": ".py",
   "mimetype": "text/x-python",
   "name": "python",
   "nbconvert_exporter": "python",
   "pygments_lexer": "ipython3",
   "version": "3.10.12"
  }
 },
 "nbformat": 4,
 "nbformat_minor": 5
}
