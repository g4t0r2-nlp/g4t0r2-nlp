{
 "cells": [
  {
   "cell_type": "code",
   "execution_count": 3,
   "metadata": {
    "_cell_guid": "b1076dfc-b9ad-4769-8c92-a6c4dae69d19",
    "_uuid": "8f2839f25d086af736a60e9eeb907d3b93b6e0e5",
    "execution": {
     "iopub.execute_input": "2024-08-05T21:03:58.639536Z",
     "iopub.status.busy": "2024-08-05T21:03:58.639000Z",
     "iopub.status.idle": "2024-08-05T21:03:58.654602Z",
     "shell.execute_reply": "2024-08-05T21:03:58.653430Z",
     "shell.execute_reply.started": "2024-08-05T21:03:58.639500Z"
    }
   },
   "outputs": [
    {
     "name": "stdout",
     "output_type": "stream",
     "text": [
      "/kaggle/input/all-aspects/all_aspects_just_aspect.csv\n",
      "/kaggle/input/all-aspects/all_tagged_aspects_just_aspect_cleaned.csv\n",
      "/kaggle/input/all-aspects/all_tagged_aspects_just_aspect_filled.csv\n",
      "/kaggle/input/all-aspects/all_tagged_aspects_filled.csv\n",
      "/kaggle/input/all-aspects/all_tagged_aspects_just_aspect.csv\n",
      "/kaggle/input/all-aspects/all_tagged_aspects_sentences.csv\n",
      "/kaggle/input/all-aspects/all_tagged_aspects_just_aspect_sentences.csv\n",
      "/kaggle/input/all-aspects/all_aspects_just_aspect_cleaned.csv\n",
      "/kaggle/input/all-aspects/all_tagged_aspects_just_aspect_filled_sentences.csv\n",
      "/kaggle/input/all-aspects/reviews.csv\n",
      "/kaggle/input/all-aspects/cleaned.csv\n",
      "/kaggle/input/all-aspects/all_aspects_just_aspect_filled.csv\n",
      "/kaggle/input/all-aspects/all_tagged_aspects.csv\n",
      "/kaggle/input/all-aspects/all_aspects.csv\n",
      "/kaggle/input/all-aspects/all_tagged_aspects_just_aspect_cleaned_sentences.csv\n"
     ]
    }
   ],
   "source": [
    "# This Python 3 environment comes with many helpful analytics libraries installed\n",
    "# It is defined by the kaggle/python Docker image: https://github.com/kaggle/docker-python\n",
    "# For example, here's several helpful packages to load\n",
    "\n",
    "import numpy as np # linear algebra\n",
    "import pandas as pd # data processing, CSV file I/O (e.g. pd.read_csv)\n",
    "\n",
    "# Input data files are available in the read-only \"../input/\" directory\n",
    "# For example, running this (by clicking run or pressing Shift+Enter) will list all files under the input directory\n",
    "\n",
    "import os\n",
    "for dirname, _, filenames in os.walk('/kaggle/input'):\n",
    "    for filename in filenames:\n",
    "        print(os.path.join(dirname, filename))\n",
    "\n",
    "# You can write up to 20GB to the current directory (/kaggle/working/) that gets preserved as output when you create a version using \"Save & Run All\" \n",
    "# You can also write temporary files to /kaggle/temp/, but they won't be saved outside of the current session"
   ]
  },
  {
   "cell_type": "code",
   "execution_count": 4,
   "metadata": {
    "execution": {
     "iopub.execute_input": "2024-08-05T21:03:59.060842Z",
     "iopub.status.busy": "2024-08-05T21:03:59.060498Z",
     "iopub.status.idle": "2024-08-05T21:03:59.073684Z",
     "shell.execute_reply": "2024-08-05T21:03:59.072408Z",
     "shell.execute_reply.started": "2024-08-05T21:03:59.060815Z"
    }
   },
   "outputs": [],
   "source": [
    "import os\n",
    "os.environ[\"TF_CPP_MIN_LOG_LEVEL\"] = \"3\"\n",
    "\n",
    "import sys\n",
    "import time\n",
    "import tqdm\n",
    "\n",
    "import numpy as np\n",
    "import pandas as pd\n",
    "\n",
    "import pickle\n",
    "\n",
    "import string\n",
    "import io\n",
    "import re\n",
    "import nltk\n",
    "import emoji\n",
    "\n",
    "import matplotlib.pyplot as plt\n",
    "import seaborn as sns\n",
    "from collections import Counter\n",
    "\n",
    "from sklearn.model_selection import train_test_split\n",
    "\n",
    "from mlxtend.plotting import plot_confusion_matrix\n",
    "\n",
    "from sklearn.metrics import roc_curve, auc, classification_report, confusion_matrix\n",
    "from sklearn.metrics import accuracy_score, f1_score, precision_score, recall_score, roc_auc_score\n",
    "\n",
    "import torch\n",
    "import torch.nn as nn\n",
    "import torch.optim as optim\n",
    "import torch.nn.functional as F\n",
    "import torchvision\n",
    "from torchvision import transforms\n",
    "from torch.utils.data import Dataset, DataLoader\n",
    "from transformers import BertTokenizerFast, BertForSequenceClassification, AdamW, get_linear_schedule_with_warmup\n",
    "\n",
    "from IPython.display import Markdown, clear_output\n",
    "\n",
    "def bold(string):\n",
    "    display(Markdown(\"**\" + string + \"**\"))\n",
    "\n",
    "import warnings\n",
    "from sklearn.exceptions import ConvergenceWarning\n",
    "warnings.filterwarnings(\"ignore\", category=UserWarning)\n",
    "warnings.filterwarnings(\"ignore\", category=FutureWarning)\n",
    "warnings.filterwarnings(\"ignore\", category=ConvergenceWarning)"
   ]
  },
  {
   "cell_type": "code",
   "execution_count": 5,
   "metadata": {
    "execution": {
     "iopub.execute_input": "2024-08-05T21:03:59.401503Z",
     "iopub.status.busy": "2024-08-05T21:03:59.400738Z",
     "iopub.status.idle": "2024-08-05T21:03:59.465597Z",
     "shell.execute_reply": "2024-08-05T21:03:59.464158Z",
     "shell.execute_reply.started": "2024-08-05T21:03:59.401466Z"
    }
   },
   "outputs": [
    {
     "data": {
      "text/plain": [
       "device(type='cuda')"
      ]
     },
     "execution_count": 5,
     "metadata": {},
     "output_type": "execute_result"
    }
   ],
   "source": [
    "device = torch.device(\"cuda\" if torch.cuda.is_available() else \"cpu\")\n",
    "device"
   ]
  },
  {
   "cell_type": "code",
   "execution_count": null,
   "metadata": {},
   "outputs": [],
   "source": [
    "df = pd.read_csv(\"../input/all-aspects/cleaned.csv\")"
   ]
  },
  {
   "cell_type": "code",
   "execution_count": 7,
   "metadata": {
    "execution": {
     "iopub.execute_input": "2024-08-05T21:04:02.655547Z",
     "iopub.status.busy": "2024-08-05T21:04:02.655216Z",
     "iopub.status.idle": "2024-08-05T21:04:02.778702Z",
     "shell.execute_reply": "2024-08-05T21:04:02.777624Z",
     "shell.execute_reply.started": "2024-08-05T21:04:02.655505Z"
    }
   },
   "outputs": [
    {
     "data": {
      "text/plain": [
       "rid                  0\n",
       "sid                  0\n",
       "app                  0\n",
       "review               0\n",
       "sentiment            0\n",
       "aspect               0\n",
       "aspect_polarity      0\n",
       "cleaned            368\n",
       "text                 0\n",
       "dtype: int64"
      ]
     },
     "execution_count": 7,
     "metadata": {},
     "output_type": "execute_result"
    }
   ],
   "source": [
    "df.isnull().sum()"
   ]
  },
  {
   "cell_type": "code",
   "execution_count": 8,
   "metadata": {
    "execution": {
     "iopub.execute_input": "2024-08-05T21:04:03.135377Z",
     "iopub.status.busy": "2024-08-05T21:04:03.134975Z",
     "iopub.status.idle": "2024-08-05T21:04:03.302829Z",
     "shell.execute_reply": "2024-08-05T21:04:03.301746Z",
     "shell.execute_reply.started": "2024-08-05T21:04:03.135346Z"
    }
   },
   "outputs": [],
   "source": [
    "df = df.dropna().reset_index(drop=True)"
   ]
  },
  {
   "cell_type": "code",
   "execution_count": 9,
   "metadata": {
    "execution": {
     "iopub.execute_input": "2024-08-05T21:04:03.370795Z",
     "iopub.status.busy": "2024-08-05T21:04:03.370421Z",
     "iopub.status.idle": "2024-08-05T21:04:03.376598Z",
     "shell.execute_reply": "2024-08-05T21:04:03.375140Z",
     "shell.execute_reply.started": "2024-08-05T21:04:03.370766Z"
    }
   },
   "outputs": [],
   "source": [
    "label_mapping = {\"Negative\": 0, \"Neutral\": 1, \"Positive\": 2}"
   ]
  },
  {
   "cell_type": "code",
   "execution_count": 10,
   "metadata": {
    "execution": {
     "iopub.execute_input": "2024-08-05T21:04:04.275772Z",
     "iopub.status.busy": "2024-08-05T21:04:04.275392Z",
     "iopub.status.idle": "2024-08-05T21:04:04.377020Z",
     "shell.execute_reply": "2024-08-05T21:04:04.375613Z",
     "shell.execute_reply.started": "2024-08-05T21:04:04.275741Z"
    }
   },
   "outputs": [],
   "source": [
    "df['text'] = df['aspect'] + \" [SEP] \" + df['review']"
   ]
  },
  {
   "cell_type": "code",
   "execution_count": 11,
   "metadata": {
    "execution": {
     "iopub.execute_input": "2024-08-05T21:04:04.936300Z",
     "iopub.status.busy": "2024-08-05T21:04:04.935899Z",
     "iopub.status.idle": "2024-08-05T21:04:04.962533Z",
     "shell.execute_reply": "2024-08-05T21:04:04.961427Z",
     "shell.execute_reply.started": "2024-08-05T21:04:04.936267Z"
    }
   },
   "outputs": [],
   "source": [
    "df = df[[\"text\", \"aspect_polarity\"]]"
   ]
  },
  {
   "cell_type": "code",
   "execution_count": 12,
   "metadata": {
    "execution": {
     "iopub.execute_input": "2024-08-05T21:04:08.642296Z",
     "iopub.status.busy": "2024-08-05T21:04:08.641881Z",
     "iopub.status.idle": "2024-08-05T21:04:16.917351Z",
     "shell.execute_reply": "2024-08-05T21:04:16.916235Z",
     "shell.execute_reply.started": "2024-08-05T21:04:08.642262Z"
    }
   },
   "outputs": [
    {
     "data": {
      "application/vnd.jupyter.widget-view+json": {
       "model_id": "d92bc24ec04941e3bc36d06ba0e50255",
       "version_major": 2,
       "version_minor": 0
      },
      "text/plain": [
       "tokenizer_config.json:   0%|          | 0.00/60.0 [00:00<?, ?B/s]"
      ]
     },
     "metadata": {},
     "output_type": "display_data"
    },
    {
     "data": {
      "application/vnd.jupyter.widget-view+json": {
       "model_id": "0a3041b03ce44fe5b3c7e2324c6b102a",
       "version_major": 2,
       "version_minor": 0
      },
      "text/plain": [
       "vocab.txt:   0%|          | 0.00/1.18M [00:00<?, ?B/s]"
      ]
     },
     "metadata": {},
     "output_type": "display_data"
    },
    {
     "data": {
      "application/vnd.jupyter.widget-view+json": {
       "model_id": "a46d83d8bb394f54a98697dcc702246d",
       "version_major": 2,
       "version_minor": 0
      },
      "text/plain": [
       "config.json:   0%|          | 0.00/386 [00:00<?, ?B/s]"
      ]
     },
     "metadata": {},
     "output_type": "display_data"
    },
    {
     "data": {
      "application/vnd.jupyter.widget-view+json": {
       "model_id": "f34e25d9f5eb497d82aeb718533c6a9e",
       "version_major": 2,
       "version_minor": 0
      },
      "text/plain": [
       "pytorch_model.bin:   0%|          | 0.00/740M [00:00<?, ?B/s]"
      ]
     },
     "metadata": {},
     "output_type": "display_data"
    },
    {
     "name": "stderr",
     "output_type": "stream",
     "text": [
      "Some weights of BertForSequenceClassification were not initialized from the model checkpoint at dbmdz/bert-base-turkish-128k-cased and are newly initialized: ['classifier.bias', 'classifier.weight']\n",
      "You should probably TRAIN this model on a down-stream task to be able to use it for predictions and inference.\n"
     ]
    }
   ],
   "source": [
    "tokenizer = BertTokenizerFast.from_pretrained(\"dbmdz/bert-base-turkish-128k-cased\")\n",
    "model = BertForSequenceClassification.from_pretrained(\"dbmdz/bert-base-turkish-128k-cased\", num_labels=3).to(device)"
   ]
  },
  {
   "cell_type": "code",
   "execution_count": 13,
   "metadata": {
    "execution": {
     "iopub.execute_input": "2024-08-05T21:04:16.919705Z",
     "iopub.status.busy": "2024-08-05T21:04:16.919368Z",
     "iopub.status.idle": "2024-08-05T21:04:16.928835Z",
     "shell.execute_reply": "2024-08-05T21:04:16.927686Z",
     "shell.execute_reply.started": "2024-08-05T21:04:16.919677Z"
    }
   },
   "outputs": [],
   "source": [
    "class SentimentDataset(Dataset):\n",
    "    def __init__(self, texts, labels, tokenizer, max_len):\n",
    "        self.texts = texts\n",
    "        self.labels = labels\n",
    "        self.tokenizer = tokenizer\n",
    "        self.max_len = max_len\n",
    "    \n",
    "    def __len__(self):\n",
    "        return len(self.texts)\n",
    "    \n",
    "    def __getitem__(self, item):\n",
    "        text = self.texts[item]\n",
    "        label = self.labels[item]\n",
    "        \n",
    "        encoding = self.tokenizer.encode_plus(\n",
    "            text,\n",
    "            add_special_tokens=True,\n",
    "            max_length=self.max_len,\n",
    "            return_token_type_ids=False,\n",
    "            pad_to_max_length=True,\n",
    "            return_attention_mask=True,\n",
    "            return_tensors='pt',\n",
    "        )\n",
    "        \n",
    "        return {\n",
    "            'text': text,\n",
    "            'input_ids': encoding['input_ids'].flatten(),\n",
    "            'attention_mask': encoding['attention_mask'].flatten(),\n",
    "            'labels': torch.tensor(label, dtype=torch.long)\n",
    "        }"
   ]
  },
  {
   "cell_type": "code",
   "execution_count": 14,
   "metadata": {
    "execution": {
     "iopub.execute_input": "2024-08-05T21:04:16.930527Z",
     "iopub.status.busy": "2024-08-05T21:04:16.930137Z",
     "iopub.status.idle": "2024-08-05T21:04:16.941664Z",
     "shell.execute_reply": "2024-08-05T21:04:16.940759Z",
     "shell.execute_reply.started": "2024-08-05T21:04:16.930499Z"
    }
   },
   "outputs": [],
   "source": [
    "def train_validate_test_split(df, split_size):\n",
    "    perm = np.random.permutation(df.index)\n",
    "    train_end = int(train_size * len(df.index))\n",
    "    validate_end = int(((1 - split_size) / 2) * len(df.index)) + train_end\n",
    "    train = df.iloc[perm[:train_end]]\n",
    "    validate = df.iloc[perm[train_end:validate_end]]\n",
    "    test = df.iloc[perm[validate_end:]]\n",
    "    return train, validate, test"
   ]
  },
  {
   "cell_type": "code",
   "execution_count": 15,
   "metadata": {
    "execution": {
     "iopub.execute_input": "2024-08-05T21:04:16.944364Z",
     "iopub.status.busy": "2024-08-05T21:04:16.944008Z",
     "iopub.status.idle": "2024-08-05T21:04:16.980090Z",
     "shell.execute_reply": "2024-08-05T21:04:16.979155Z",
     "shell.execute_reply.started": "2024-08-05T21:04:16.944336Z"
    }
   },
   "outputs": [
    {
     "name": "stdout",
     "output_type": "stream",
     "text": [
      "Full dataset: 162148\n",
      "Train dataset: 145933\n",
      "Valid dataset: 8107\n",
      "Test dataset: 8108\n"
     ]
    }
   ],
   "source": [
    "train_size = 0.9\n",
    "df_train, df_validation, df_test = train_validate_test_split(df, train_size)\n",
    "df_train = df_train.reset_index(drop=True)\n",
    "df_validation = df_validation.reset_index(drop=True)\n",
    "df_test = df_test.reset_index(drop=True)\n",
    "\n",
    "print(f\"Full dataset: {df.shape[0]}\")\n",
    "print(f\"Train dataset: {df_train.shape[0]}\")\n",
    "print(f\"Valid dataset: {df_validation.shape[0]}\")\n",
    "print(f\"Test dataset: {df_test.shape[0]}\")"
   ]
  },
  {
   "cell_type": "code",
   "execution_count": 16,
   "metadata": {
    "execution": {
     "iopub.execute_input": "2024-08-05T21:04:16.981901Z",
     "iopub.status.busy": "2024-08-05T21:04:16.981475Z",
     "iopub.status.idle": "2024-08-05T21:04:16.987047Z",
     "shell.execute_reply": "2024-08-05T21:04:16.986032Z",
     "shell.execute_reply.started": "2024-08-05T21:04:16.981868Z"
    }
   },
   "outputs": [],
   "source": [
    "MAX_LEN = 64\n",
    "BATCH_SIZE = 64\n",
    "EPOCHS = 4\n",
    "LEARNING_RATE = 2e-5"
   ]
  },
  {
   "cell_type": "code",
   "execution_count": 17,
   "metadata": {
    "execution": {
     "iopub.execute_input": "2024-08-05T21:04:16.988678Z",
     "iopub.status.busy": "2024-08-05T21:04:16.988353Z",
     "iopub.status.idle": "2024-08-05T21:04:16.998017Z",
     "shell.execute_reply": "2024-08-05T21:04:16.996979Z",
     "shell.execute_reply.started": "2024-08-05T21:04:16.988654Z"
    }
   },
   "outputs": [],
   "source": [
    "training_set = SentimentDataset(df_train[\"text\"].to_numpy(), df_train[\"aspect_polarity\"].to_numpy(), tokenizer, MAX_LEN)\n",
    "validation_set = SentimentDataset(df_validation[\"text\"].to_numpy(), df_validation[\"aspect_polarity\"].to_numpy(), tokenizer, MAX_LEN)\n",
    "testing_set = SentimentDataset(df_test[\"text\"].to_numpy(), df_test[\"aspect_polarity\"].to_numpy(), tokenizer, MAX_LEN)"
   ]
  },
  {
   "cell_type": "code",
   "execution_count": 18,
   "metadata": {
    "execution": {
     "iopub.execute_input": "2024-08-05T21:04:16.999591Z",
     "iopub.status.busy": "2024-08-05T21:04:16.999255Z",
     "iopub.status.idle": "2024-08-05T21:04:17.010144Z",
     "shell.execute_reply": "2024-08-05T21:04:17.009297Z",
     "shell.execute_reply.started": "2024-08-05T21:04:16.999564Z"
    }
   },
   "outputs": [],
   "source": [
    "train_params = {\"batch_size\": BATCH_SIZE, \"shuffle\": True, \"num_workers\": 0}\n",
    "valid_params = {\"batch_size\": BATCH_SIZE, \"shuffle\": True, \"num_workers\": 0}\n",
    "test_params = {\"batch_size\": BATCH_SIZE, \"shuffle\": True, \"num_workers\": 0}\n",
    "\n",
    "training_loader = DataLoader(training_set, **train_params)\n",
    "validation_loader = DataLoader(validation_set, **valid_params)\n",
    "testing_loader = DataLoader(testing_set, **test_params)"
   ]
  },
  {
   "cell_type": "code",
   "execution_count": 19,
   "metadata": {
    "execution": {
     "iopub.execute_input": "2024-08-05T21:04:17.011910Z",
     "iopub.status.busy": "2024-08-05T21:04:17.011513Z",
     "iopub.status.idle": "2024-08-05T21:04:17.021271Z",
     "shell.execute_reply": "2024-08-05T21:04:17.020307Z",
     "shell.execute_reply.started": "2024-08-05T21:04:17.011877Z"
    }
   },
   "outputs": [],
   "source": [
    "optimizer = optim.Adam(model.parameters(), lr=LEARNING_RATE)\n",
    "total_steps = len(training_loader) * EPOCHS\n",
    "scheduler = get_linear_schedule_with_warmup(optimizer, num_warmup_steps=0, num_training_steps=total_steps)"
   ]
  },
  {
   "cell_type": "code",
   "execution_count": 20,
   "metadata": {
    "execution": {
     "iopub.execute_input": "2024-08-05T21:04:17.022650Z",
     "iopub.status.busy": "2024-08-05T21:04:17.022388Z",
     "iopub.status.idle": "2024-08-05T21:04:17.031386Z",
     "shell.execute_reply": "2024-08-05T21:04:17.030333Z",
     "shell.execute_reply.started": "2024-08-05T21:04:17.022627Z"
    }
   },
   "outputs": [],
   "source": [
    "def train_epoch(model, data_loader, optimizer, scheduler, device):\n",
    "    model = model.train()\n",
    "    losses = []\n",
    "    correct_predictions = 0\n",
    "\n",
    "    for d in tqdm.tqdm(data_loader):\n",
    "        input_ids = d[\"input_ids\"].to(device)\n",
    "        attention_mask = d[\"attention_mask\"].to(device)\n",
    "        labels = d[\"labels\"].to(device)\n",
    "\n",
    "        outputs = model(input_ids=input_ids, attention_mask=attention_mask, labels=labels)\n",
    "        loss = outputs.loss\n",
    "        logits = outputs.logits\n",
    "\n",
    "        _, preds = torch.max(logits, dim=1)\n",
    "        correct_predictions += torch.sum(preds == labels)\n",
    "        losses.append(loss.item())\n",
    "\n",
    "        loss.backward()\n",
    "        optimizer.step()\n",
    "        scheduler.step()\n",
    "        optimizer.zero_grad()\n",
    "\n",
    "    return correct_predictions.double() / len(data_loader.dataset), np.mean(losses)"
   ]
  },
  {
   "cell_type": "code",
   "execution_count": 21,
   "metadata": {
    "execution": {
     "iopub.execute_input": "2024-08-05T21:04:17.034322Z",
     "iopub.status.busy": "2024-08-05T21:04:17.033999Z",
     "iopub.status.idle": "2024-08-05T21:04:17.043005Z",
     "shell.execute_reply": "2024-08-05T21:04:17.042021Z",
     "shell.execute_reply.started": "2024-08-05T21:04:17.034291Z"
    }
   },
   "outputs": [],
   "source": [
    "def eval_model(model, data_loader, device):\n",
    "    model = model.eval()\n",
    "    losses = []\n",
    "    correct_predictions = 0\n",
    "\n",
    "    with torch.no_grad():\n",
    "        for d in tqdm.tqdm(data_loader):\n",
    "            input_ids = d[\"input_ids\"].to(device)\n",
    "            attention_mask = d[\"attention_mask\"].to(device)\n",
    "            labels = d[\"labels\"].to(device)\n",
    "\n",
    "            outputs = model(input_ids=input_ids, attention_mask=attention_mask, labels=labels)\n",
    "            loss = outputs.loss\n",
    "            logits = outputs.logits\n",
    "\n",
    "            _, preds = torch.max(logits, dim=1)\n",
    "            correct_predictions += torch.sum(preds == labels)\n",
    "            losses.append(loss.item())\n",
    "\n",
    "    return correct_predictions.double() / len(data_loader.dataset), np.mean(losses)"
   ]
  },
  {
   "cell_type": "code",
   "execution_count": 22,
   "metadata": {
    "execution": {
     "iopub.execute_input": "2024-08-05T21:04:17.167729Z",
     "iopub.status.busy": "2024-08-05T21:04:17.166694Z",
     "iopub.status.idle": "2024-08-05T22:38:53.734240Z",
     "shell.execute_reply": "2024-08-05T22:38:53.733196Z",
     "shell.execute_reply.started": "2024-08-05T21:04:17.167663Z"
    }
   },
   "outputs": [
    {
     "name": "stdout",
     "output_type": "stream",
     "text": [
      "Epoch 1/4\n",
      "----------\n"
     ]
    },
    {
     "name": "stderr",
     "output_type": "stream",
     "text": [
      "  0%|          | 0/2281 [00:00<?, ?it/s]Truncation was not explicitly activated but `max_length` is provided a specific value, please use `truncation=True` to explicitly truncate examples to max length. Defaulting to 'longest_first' truncation strategy. If you encode pairs of sequences (GLUE-style) with the tokenizer you can select this strategy more precisely by providing a specific strategy to `truncation`.\n",
      "100%|██████████| 2281/2281 [23:10<00:00,  1.64it/s]\n"
     ]
    },
    {
     "name": "stdout",
     "output_type": "stream",
     "text": [
      "Train loss 0.4832320123100845 accuracy 0.8190059821973097\n"
     ]
    },
    {
     "name": "stderr",
     "output_type": "stream",
     "text": [
      "100%|██████████| 127/127 [00:26<00:00,  4.81it/s]\n"
     ]
    },
    {
     "name": "stdout",
     "output_type": "stream",
     "text": [
      "Val   loss 0.41851177307095117 accuracy 0.849759467127174\n",
      "Epoch 2/4\n",
      "----------\n"
     ]
    },
    {
     "name": "stderr",
     "output_type": "stream",
     "text": [
      "100%|██████████| 2281/2281 [23:13<00:00,  1.64it/s]\n"
     ]
    },
    {
     "name": "stdout",
     "output_type": "stream",
     "text": [
      "Train loss 0.37160096711453405 accuracy 0.8666991016425346\n"
     ]
    },
    {
     "name": "stderr",
     "output_type": "stream",
     "text": [
      "100%|██████████| 127/127 [00:26<00:00,  4.81it/s]\n"
     ]
    },
    {
     "name": "stdout",
     "output_type": "stream",
     "text": [
      "Val   loss 0.3713859921599936 accuracy 0.8683853459972862\n",
      "Epoch 3/4\n",
      "----------\n"
     ]
    },
    {
     "name": "stderr",
     "output_type": "stream",
     "text": [
      "100%|██████████| 2281/2281 [23:13<00:00,  1.64it/s]\n"
     ]
    },
    {
     "name": "stdout",
     "output_type": "stream",
     "text": [
      "Train loss 0.2891528352258865 accuracy 0.8980491047261414\n"
     ]
    },
    {
     "name": "stderr",
     "output_type": "stream",
     "text": [
      "100%|██████████| 127/127 [00:26<00:00,  4.80it/s]\n"
     ]
    },
    {
     "name": "stdout",
     "output_type": "stream",
     "text": [
      "Val   loss 0.3500370687152457 accuracy 0.8775132601455532\n",
      "Epoch 4/4\n",
      "----------\n"
     ]
    },
    {
     "name": "stderr",
     "output_type": "stream",
     "text": [
      "100%|██████████| 2281/2281 [23:12<00:00,  1.64it/s]\n"
     ]
    },
    {
     "name": "stdout",
     "output_type": "stream",
     "text": [
      "Train loss 0.23271445372925417 accuracy 0.918791500209\n"
     ]
    },
    {
     "name": "stderr",
     "output_type": "stream",
     "text": [
      "100%|██████████| 127/127 [00:26<00:00,  4.81it/s]"
     ]
    },
    {
     "name": "stdout",
     "output_type": "stream",
     "text": [
      "Val   loss 0.34379579056435683 accuracy 0.884297520661157\n",
      "CPU times: user 1h 34min 36s, sys: 7.05 s, total: 1h 34min 43s\n",
      "Wall time: 1h 34min 36s\n"
     ]
    },
    {
     "name": "stderr",
     "output_type": "stream",
     "text": [
      "\n"
     ]
    }
   ],
   "source": [
    "%%time\n",
    "\n",
    "for epoch in range(EPOCHS):\n",
    "    print(f'Epoch {epoch + 1}/{EPOCHS}')\n",
    "    print('-' * 10)\n",
    "\n",
    "    train_acc, train_loss = train_epoch(model, training_loader, optimizer, scheduler, device)\n",
    "    print(f'Train loss {train_loss} accuracy {train_acc}')\n",
    "\n",
    "    val_acc, val_loss = eval_model(model, validation_loader, device)\n",
    "    print(f'Val   loss {val_loss} accuracy {val_acc}')"
   ]
  },
  {
   "cell_type": "code",
   "execution_count": 23,
   "metadata": {
    "execution": {
     "iopub.execute_input": "2024-08-05T22:38:58.045905Z",
     "iopub.status.busy": "2024-08-05T22:38:58.045516Z",
     "iopub.status.idle": "2024-08-05T22:39:24.380544Z",
     "shell.execute_reply": "2024-08-05T22:39:24.379433Z",
     "shell.execute_reply.started": "2024-08-05T22:38:58.045875Z"
    }
   },
   "outputs": [],
   "source": [
    "y_pred = []\n",
    "y_true = []\n",
    "\n",
    "model = model.eval()\n",
    "\n",
    "with torch.no_grad():\n",
    "    for d in testing_loader:\n",
    "        input_ids = d[\"input_ids\"].to(device)\n",
    "        attention_mask = d[\"attention_mask\"].to(device)\n",
    "        labels = d[\"labels\"].to(device)\n",
    "\n",
    "        outputs = model(input_ids=input_ids, attention_mask=attention_mask)\n",
    "        logits = outputs.logits\n",
    "\n",
    "        _, preds = torch.max(logits, dim=1)\n",
    "\n",
    "        y_pred.extend(preds.cpu().numpy())\n",
    "        y_true.extend(labels.cpu().numpy())"
   ]
  },
  {
   "cell_type": "code",
   "execution_count": 24,
   "metadata": {
    "execution": {
     "iopub.execute_input": "2024-08-05T22:39:24.382677Z",
     "iopub.status.busy": "2024-08-05T22:39:24.382330Z",
     "iopub.status.idle": "2024-08-05T22:39:24.433770Z",
     "shell.execute_reply": "2024-08-05T22:39:24.432633Z",
     "shell.execute_reply.started": "2024-08-05T22:39:24.382644Z"
    }
   },
   "outputs": [
    {
     "name": "stdout",
     "output_type": "stream",
     "text": [
      "Precision Score = 80.46%\n",
      "F1 Score = 76.39%\n",
      "Recall Score = 73.93%\n",
      "Accuracy Score = 88.89%\n"
     ]
    }
   ],
   "source": [
    "model_precision_score = precision_score(y_true, y_pred, average='macro')\n",
    "model_f1_score = f1_score(y_true, y_pred, average='macro')\n",
    "model_recall_score = recall_score(y_true, y_pred, average='macro')\n",
    "model_accuracy_score = accuracy_score(y_true, y_pred)\n",
    "\n",
    "print(f\"Precision Score = {model_precision_score * 100:.2f}%\")\n",
    "print(f\"F1 Score = {model_f1_score * 100:.2f}%\")\n",
    "print(f\"Recall Score = {model_recall_score * 100:.2f}%\")\n",
    "print(f\"Accuracy Score = {model_accuracy_score * 100:.2f}%\")"
   ]
  },
  {
   "cell_type": "code",
   "execution_count": 25,
   "metadata": {
    "execution": {
     "iopub.execute_input": "2024-08-05T22:39:24.435354Z",
     "iopub.status.busy": "2024-08-05T22:39:24.435043Z",
     "iopub.status.idle": "2024-08-05T22:39:24.459882Z",
     "shell.execute_reply": "2024-08-05T22:39:24.459020Z",
     "shell.execute_reply.started": "2024-08-05T22:39:24.435327Z"
    }
   },
   "outputs": [
    {
     "name": "stdout",
     "output_type": "stream",
     "text": [
      "              precision    recall  f1-score   support\n",
      "\n",
      "    Negative       0.89      0.95      0.92      4495\n",
      "     Neutral       0.61      0.40      0.48       424\n",
      "    Positive       0.91      0.87      0.89      3189\n",
      "\n",
      "    accuracy                           0.89      8108\n",
      "   macro avg       0.80      0.74      0.76      8108\n",
      "weighted avg       0.88      0.89      0.88      8108\n",
      "\n"
     ]
    }
   ],
   "source": [
    "print(classification_report(y_true, y_pred, target_names=[\"Negative\", \"Neutral\", \"Positive\"]))"
   ]
  },
  {
   "cell_type": "code",
   "execution_count": 26,
   "metadata": {
    "execution": {
     "iopub.execute_input": "2024-08-05T22:39:34.785121Z",
     "iopub.status.busy": "2024-08-05T22:39:34.784172Z",
     "iopub.status.idle": "2024-08-05T22:39:35.084118Z",
     "shell.execute_reply": "2024-08-05T22:39:35.083155Z",
     "shell.execute_reply.started": "2024-08-05T22:39:34.785084Z"
    }
   },
   "outputs": [
    {
     "data": {
      "image/png": "[encoded data removed]",
      "text/plain": [
       "<Figure size 640x480 with 2 Axes>"
      ]
     },
     "metadata": {},
     "output_type": "display_data"
    }
   ],
   "source": [
    "cm = confusion_matrix(y_true, y_pred)\n",
    "fig, ax = plot_confusion_matrix(conf_mat=cm, show_absolute=True, show_normed=True, colorbar=True, class_names=[\"Negative\", \"Neutral\", \"Positive\"])\n",
    "plt.title(\"BERT - Sentiment Analysis\")\n",
    "plt.show()"
   ]
  },
  {
   "cell_type": "code",
   "execution_count": null,
   "metadata": {},
   "outputs": [],
   "source": []
  }
 ],
 "metadata": {
  "kernelspec": {
   "display_name": "Python 3 (ipykernel)",
   "language": "python",
   "name": "python3"
  },
  "language_info": {
   "codemirror_mode": {
    "name": "ipython",
    "version": 3
   },
   "file_extension": ".py",
   "mimetype": "text/x-python",
   "name": "python",
   "nbconvert_exporter": "python",
   "pygments_lexer": "ipython3",
   "version": "3.10.12"
  }
 },
 "nbformat": 4,
 "nbformat_minor": 4
}
