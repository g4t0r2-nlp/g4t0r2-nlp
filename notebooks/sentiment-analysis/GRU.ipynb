{
 "cells": [
  {
   "cell_type": "code",
   "execution_count": 1,
   "id": "e8e05017-c8f7-4cab-9c58-37fd6009170c",
   "metadata": {},
   "outputs": [],
   "source": [
    "import os\n",
    "os.environ[\"TF_CPP_MIN_LOG_LEVEL\"] = \"3\"\n",
    "\n",
    "import time\n",
    "import tqdm\n",
    "import random\n",
    "import argparse\n",
    "\n",
    "import numpy as np\n",
    "import pandas as pd\n",
    "tqdm.tqdm.pandas()\n",
    "\n",
    "import matplotlib.pyplot as plt\n",
    "\n",
    "import gensim\n",
    "from gensim import corpora, models, similarities\n",
    "\n",
    "from sklearn.model_selection import train_test_split\n",
    "\n",
    "from mlxtend.plotting import plot_confusion_matrix\n",
    "\n",
    "from sklearn.metrics import classification_report, confusion_matrix\n",
    "from sklearn.metrics import accuracy_score, f1_score, precision_score, recall_score\n",
    "\n",
    "import tensorflow as tf\n",
    "from tensorflow.keras import layers, models, optimizers, callbacks, preprocessing\n",
    "from tensorflow.keras.utils import to_categorical\n",
    "\n",
    "import warnings\n",
    "from sklearn.exceptions import ConvergenceWarning\n",
    "warnings.filterwarnings(\"ignore\", category=UserWarning)\n",
    "warnings.filterwarnings(\"ignore\", category=FutureWarning)\n",
    "warnings.filterwarnings(\"ignore\", category=ConvergenceWarning)\n",
    "\n",
    "def set_seed(seed):\n",
    "    random.seed(seed)\n",
    "    np.random.seed(seed)\n",
    "    tf.random.set_seed(seed)\n",
    "    os.environ['PYTHONHASHSEED'] = str(seed)"
   ]
  },
  {
   "cell_type": "code",
   "execution_count": 2,
   "id": "cc2d73f6-c760-46de-84c5-603db3f7fda0",
   "metadata": {},
   "outputs": [],
   "source": [
    "set_seed(42)"
   ]
  },
  {
   "cell_type": "code",
   "execution_count": 3,
   "id": "deb54dce-d815-473c-ae53-ce3687d0428f",
   "metadata": {},
   "outputs": [],
   "source": [
    "df = pd.read_csv(\"/mnt/d/work2/teknofest-tddi/data/processed/cleaned.csv\")\n",
    "df = df.dropna()\n",
    "df = df.reset_index(drop=True)"
   ]
  },
  {
   "cell_type": "code",
   "execution_count": 4,
   "id": "d521efc9-26e9-44de-9a40-afc9c1802e64",
   "metadata": {},
   "outputs": [
    {
     "data": {
      "text/html": [
       "<div>\n",
       "<style scoped>\n",
       "    .dataframe tbody tr th:only-of-type {\n",
       "        vertical-align: middle;\n",
       "    }\n",
       "\n",
       "    .dataframe tbody tr th {\n",
       "        vertical-align: top;\n",
       "    }\n",
       "\n",
       "    .dataframe thead th {\n",
       "        text-align: right;\n",
       "    }\n",
       "</style>\n",
       "<table border=\"1\" class=\"dataframe\">\n",
       "  <thead>\n",
       "    <tr style=\"text-align: right;\">\n",
       "      <th></th>\n",
       "      <th>rid</th>\n",
       "      <th>sid</th>\n",
       "      <th>app</th>\n",
       "      <th>review</th>\n",
       "      <th>sentiment</th>\n",
       "      <th>aspect</th>\n",
       "      <th>aspect_polarity</th>\n",
       "      <th>cleaned</th>\n",
       "      <th>text</th>\n",
       "    </tr>\n",
       "  </thead>\n",
       "  <tbody>\n",
       "    <tr>\n",
       "      <th>0</th>\n",
       "      <td>9</td>\n",
       "      <td>1</td>\n",
       "      <td>Google Play Store/BiP</td>\n",
       "      <td>Uygulamada kartlarda Troy kart geçmiyor Lütfen...</td>\n",
       "      <td>Positive</td>\n",
       "      <td>Troy</td>\n",
       "      <td>2</td>\n",
       "      <td>Uygulamada kartlarda Troy kart geçmiyor uygula...</td>\n",
       "      <td>Troy Uygulamada kartlarda Troy kart geçmiyor u...</td>\n",
       "    </tr>\n",
       "    <tr>\n",
       "      <th>1</th>\n",
       "      <td>9</td>\n",
       "      <td>1</td>\n",
       "      <td>Google Play Store/BiP</td>\n",
       "      <td>Uygulamada kartlarda Troy kart geçmiyor Lütfen...</td>\n",
       "      <td>Positive</td>\n",
       "      <td>Troy</td>\n",
       "      <td>2</td>\n",
       "      <td>Uygulamada kartlarda Troy kart geçmiyor uygula...</td>\n",
       "      <td>Troy Uygulamada kartlarda Troy kart geçmiyor u...</td>\n",
       "    </tr>\n",
       "    <tr>\n",
       "      <th>2</th>\n",
       "      <td>10</td>\n",
       "      <td>1</td>\n",
       "      <td>Google Play Store/BiP</td>\n",
       "      <td>Her güncellemede daha da kötüleşen Turkcell in...</td>\n",
       "      <td>Negative</td>\n",
       "      <td>Turkcell</td>\n",
       "      <td>0</td>\n",
       "      <td>güncellemede kötüleşen Turkcell in ara ara ken...</td>\n",
       "      <td>Turkcell güncellemede kötüleşen Turkcell in ar...</td>\n",
       "    </tr>\n",
       "    <tr>\n",
       "      <th>3</th>\n",
       "      <td>13</td>\n",
       "      <td>1</td>\n",
       "      <td>Google Play Store/BiP</td>\n",
       "      <td>BiP’ten aranmıyor yardım</td>\n",
       "      <td>Negative</td>\n",
       "      <td>BiP’ten</td>\n",
       "      <td>0</td>\n",
       "      <td>BiPten aranmıyor yardım</td>\n",
       "      <td>BiP’ten BiPten aranmıyor yardım</td>\n",
       "    </tr>\n",
       "    <tr>\n",
       "      <th>4</th>\n",
       "      <td>17</td>\n",
       "      <td>1</td>\n",
       "      <td>Google Play Store/BiP</td>\n",
       "      <td>Bu yorumum kesinlikle uygulamanın daha çok gel...</td>\n",
       "      <td>Positive</td>\n",
       "      <td>BİP</td>\n",
       "      <td>2</td>\n",
       "      <td>yorumum uygulamanın gelişmesi kulanıcıya erişi...</td>\n",
       "      <td>BİP yorumum uygulamanın gelişmesi kulanıcıya e...</td>\n",
       "    </tr>\n",
       "  </tbody>\n",
       "</table>\n",
       "</div>"
      ],
      "text/plain": [
       "   rid  sid                    app  \\\n",
       "0    9    1  Google Play Store/BiP   \n",
       "1    9    1  Google Play Store/BiP   \n",
       "2   10    1  Google Play Store/BiP   \n",
       "3   13    1  Google Play Store/BiP   \n",
       "4   17    1  Google Play Store/BiP   \n",
       "\n",
       "                                              review sentiment    aspect  \\\n",
       "0  Uygulamada kartlarda Troy kart geçmiyor Lütfen...  Positive      Troy   \n",
       "1  Uygulamada kartlarda Troy kart geçmiyor Lütfen...  Positive      Troy   \n",
       "2  Her güncellemede daha da kötüleşen Turkcell in...  Negative  Turkcell   \n",
       "3                           BiP’ten aranmıyor yardım  Negative   BiP’ten   \n",
       "4  Bu yorumum kesinlikle uygulamanın daha çok gel...  Positive       BİP   \n",
       "\n",
       "   aspect_polarity                                            cleaned  \\\n",
       "0                2  Uygulamada kartlarda Troy kart geçmiyor uygula...   \n",
       "1                2  Uygulamada kartlarda Troy kart geçmiyor uygula...   \n",
       "2                0  güncellemede kötüleşen Turkcell in ara ara ken...   \n",
       "3                0                            BiPten aranmıyor yardım   \n",
       "4                2  yorumum uygulamanın gelişmesi kulanıcıya erişi...   \n",
       "\n",
       "                                                text  \n",
       "0  Troy Uygulamada kartlarda Troy kart geçmiyor u...  \n",
       "1  Troy Uygulamada kartlarda Troy kart geçmiyor u...  \n",
       "2  Turkcell güncellemede kötüleşen Turkcell in ar...  \n",
       "3                    BiP’ten BiPten aranmıyor yardım  \n",
       "4  BİP yorumum uygulamanın gelişmesi kulanıcıya e...  "
      ]
     },
     "execution_count": 4,
     "metadata": {},
     "output_type": "execute_result"
    }
   ],
   "source": [
    "df.head()"
   ]
  },
  {
   "cell_type": "code",
   "execution_count": 5,
   "id": "9ea05fcd-b460-4a66-8bce-0770b05a8806",
   "metadata": {},
   "outputs": [],
   "source": [
    "df[\"text\"] = df[\"aspect\"] + \" \" + df[\"cleaned\"]"
   ]
  },
  {
   "cell_type": "code",
   "execution_count": 6,
   "id": "936c8f9e-f36f-48c7-8839-e85529d2e5bc",
   "metadata": {},
   "outputs": [],
   "source": [
    "X = df[\"text\"]\n",
    "y = df[\"aspect_polarity\"]"
   ]
  },
  {
   "cell_type": "code",
   "execution_count": 7,
   "id": "d527f7f4-62e5-4ea6-9cd1-19667056464d",
   "metadata": {},
   "outputs": [],
   "source": [
    "def train_validate_test_split(df, split_size):\n",
    "    perm = np.random.permutation(df.index)\n",
    "    train_end = int(split_size * len(df.index))\n",
    "    validate_end = int(((1 - split_size) / 2) * len(df.index)) + train_end\n",
    "    train = df.iloc[perm[:train_end]]\n",
    "    validate = df.iloc[perm[train_end:validate_end]]\n",
    "    test = df.iloc[perm[validate_end:]]\n",
    "    return train, validate, test"
   ]
  },
  {
   "cell_type": "code",
   "execution_count": 8,
   "id": "c964e7cc-e50e-42cc-8d0a-387fa3af68ab",
   "metadata": {},
   "outputs": [],
   "source": [
    "df_train, df_validation, df_test = train_validate_test_split(df, split_size=0.9)"
   ]
  },
  {
   "cell_type": "code",
   "execution_count": 9,
   "id": "cc294dd0-3571-4512-bb5b-ed5944544f17",
   "metadata": {},
   "outputs": [],
   "source": [
    "X_train = df_train[\"text\"]\n",
    "y_train = df_train[\"aspect_polarity\"]"
   ]
  },
  {
   "cell_type": "code",
   "execution_count": 10,
   "id": "282792f2-cda2-41d1-a570-d855baaaa81f",
   "metadata": {},
   "outputs": [],
   "source": [
    "X_valid = df_validation[\"text\"]\n",
    "y_valid = df_validation[\"aspect_polarity\"]"
   ]
  },
  {
   "cell_type": "code",
   "execution_count": 11,
   "id": "fdb02558-66fe-4582-a16e-bcf0f08f68cd",
   "metadata": {},
   "outputs": [],
   "source": [
    "X_test = df_test[\"text\"]\n",
    "y_test = df_test[\"aspect_polarity\"]"
   ]
  },
  {
   "cell_type": "code",
   "execution_count": 12,
   "id": "dd84463b-c105-4445-a8d1-b28fdb7fc18e",
   "metadata": {},
   "outputs": [],
   "source": [
    "y_train = to_categorical(y_train)\n",
    "y_valid = to_categorical(y_valid)\n",
    "y_test = to_categorical(y_test)"
   ]
  },
  {
   "cell_type": "code",
   "execution_count": 13,
   "id": "ad6fa5e0-d2ac-4171-bef7-a2a8380a93e0",
   "metadata": {},
   "outputs": [],
   "source": [
    "tokenizer = preprocessing.text.Tokenizer(\n",
    "    filters = '!\"#$%&()*+,-./:;<=>?@[\\\\]^_`{|}~\\t\\n',\n",
    "    lower = False,\n",
    "    split = \" \"\n",
    ")\n",
    "tokenizer.fit_on_texts(X)"
   ]
  },
  {
   "cell_type": "code",
   "execution_count": 14,
   "id": "b9fc033f-b2ab-4181-9983-6b1f1f49ecbd",
   "metadata": {},
   "outputs": [],
   "source": [
    "X_train_tokenizer = tokenizer.texts_to_sequences(X_train)\n",
    "X_valid_tokenizer = tokenizer.texts_to_sequences(X_valid)\n",
    "X_test_tokenizer = tokenizer.texts_to_sequences(X_test)"
   ]
  },
  {
   "cell_type": "code",
   "execution_count": 15,
   "id": "ba743127-e39d-42ab-b925-ebcb46a440c2",
   "metadata": {},
   "outputs": [],
   "source": [
    "maxlen = 64\n",
    "X_train_tokenizer = preprocessing.sequence.pad_sequences(X_train_tokenizer, maxlen=maxlen)\n",
    "X_valid_tokenizer = preprocessing.sequence.pad_sequences(X_valid_tokenizer, maxlen=maxlen)\n",
    "X_test_tokenizer = preprocessing.sequence.pad_sequences(X_test_tokenizer, maxlen=maxlen)"
   ]
  },
  {
   "cell_type": "code",
   "execution_count": 16,
   "id": "7893f90a-c608-40fb-8582-e87bc72bc9ac",
   "metadata": {},
   "outputs": [
    {
     "data": {
      "text/plain": [
       "103649"
      ]
     },
     "execution_count": 16,
     "metadata": {},
     "output_type": "execute_result"
    }
   ],
   "source": [
    "input_dim = len(tokenizer.word_index) + 1\n",
    "input_dim"
   ]
  },
  {
   "cell_type": "code",
   "execution_count": 17,
   "id": "2087b621-b28a-49f2-abf6-6a4d613885a0",
   "metadata": {},
   "outputs": [],
   "source": [
    "model = models.Sequential([\n",
    "    layers.Input(shape=X_train_tokenizer.shape[1]),\n",
    "    layers.Embedding(len(tokenizer.word_index)+1, 100, input_length=maxlen, mask_zero=True, trainable=True),\n",
    "    layers.GRU(100),\n",
    "    layers.Dense(3, activation='softmax')\n",
    "])"
   ]
  },
  {
   "cell_type": "code",
   "execution_count": 18,
   "id": "df5d0bff-e240-4a7e-8982-525984006e74",
   "metadata": {},
   "outputs": [],
   "source": [
    "model.compile(loss='categorical_crossentropy', \n",
    "                  optimizer=tf.keras.optimizers.legacy.Adam(), \n",
    "                  metrics=['accuracy'])  "
   ]
  },
  {
   "cell_type": "code",
   "execution_count": 19,
   "id": "cbd6a047-7ef9-4045-853f-34ac31f4b217",
   "metadata": {},
   "outputs": [
    {
     "name": "stdout",
     "output_type": "stream",
     "text": [
      "Model: \"sequential\"\n",
      "_________________________________________________________________\n",
      " Layer (type)                Output Shape              Param #   \n",
      "=================================================================\n",
      " embedding (Embedding)       (None, 64, 100)           10364900  \n",
      "                                                                 \n",
      " gru (GRU)                   (None, 100)               60600     \n",
      "                                                                 \n",
      " dense (Dense)               (None, 3)                 303       \n",
      "                                                                 \n",
      "=================================================================\n",
      "Total params: 10,425,803\n",
      "Trainable params: 10,425,803\n",
      "Non-trainable params: 0\n",
      "_________________________________________________________________\n"
     ]
    }
   ],
   "source": [
    "model.summary()"
   ]
  },
  {
   "cell_type": "code",
   "execution_count": 20,
   "id": "638e6fa5-c1de-482d-a534-ccc4ef44b961",
   "metadata": {},
   "outputs": [
    {
     "data": {
      "image/png": "[encoded data removed]",
      "text/plain": [
       "<IPython.core.display.Image object>"
      ]
     },
     "execution_count": 20,
     "metadata": {},
     "output_type": "execute_result"
    }
   ],
   "source": [
    "tf.keras.utils.plot_model(model, show_layer_names=True, show_shapes=True, expand_nested=True, to_file=\"./output/gru_model_plot.png\")"
   ]
  },
  {
   "cell_type": "code",
   "execution_count": 21,
   "id": "9145ae0a-1dbd-4f25-978e-8da39f2b31cf",
   "metadata": {},
   "outputs": [
    {
     "name": "stdout",
     "output_type": "stream",
     "text": [
      "Epoch 1/10\n",
      "1141/1141 [==============================] - 116s 100ms/step - loss: 0.5327 - accuracy: 0.7923 - val_loss: 0.4289 - val_accuracy: 0.8383\n",
      "Epoch 2/10\n",
      "1141/1141 [==============================] - 114s 100ms/step - loss: 0.3063 - accuracy: 0.8882 - val_loss: 0.4051 - val_accuracy: 0.8551\n",
      "Epoch 3/10\n",
      "1141/1141 [==============================] - 114s 100ms/step - loss: 0.1983 - accuracy: 0.9283 - val_loss: 0.4429 - val_accuracy: 0.8530\n",
      "Epoch 4/10\n",
      "1141/1141 [==============================] - 115s 101ms/step - loss: 0.1381 - accuracy: 0.9499 - val_loss: 0.5134 - val_accuracy: 0.8522\n",
      "Epoch 5/10\n",
      "1141/1141 [==============================] - 117s 103ms/step - loss: 0.1007 - accuracy: 0.9633 - val_loss: 0.6463 - val_accuracy: 0.8470\n",
      "GRU Train Time = 577.0050\n"
     ]
    }
   ],
   "source": [
    "model1_train_start = time.time()\n",
    "model_history = model.fit(\n",
    "    X_train_tokenizer, \n",
    "    y_train, \n",
    "    epochs=10, \n",
    "    batch_size=128, \n",
    "    validation_data=[X_valid_tokenizer, y_valid], \n",
    "    callbacks=[callbacks.EarlyStopping(monitor=\"val_accuracy\", patience=3)]\n",
    ")\n",
    "model1_train_time = time.time() - model1_train_start\n",
    "print(f\"GRU Train Time = {model1_train_time:.4f}\")"
   ]
  },
  {
   "cell_type": "code",
   "execution_count": 22,
   "id": "9ee62ef5-462c-456a-9f52-9c040cc849da",
   "metadata": {},
   "outputs": [
    {
     "name": "stdout",
     "output_type": "stream",
     "text": [
      "GRU Test Time = 2.3618\n"
     ]
    }
   ],
   "source": [
    "model1_test_start = time.time()\n",
    "model_pred_test = model.predict(X_test_tokenizer, verbose=0)\n",
    "model1_test_time = time.time() - model1_test_start\n",
    "print(f\"GRU Test Time = {model1_test_time:.4f}\")"
   ]
  },
  {
   "cell_type": "code",
   "execution_count": 23,
   "id": "a395feaa-7fea-4f43-9926-2fb81b2c916c",
   "metadata": {},
   "outputs": [],
   "source": [
    "true_labels_train = np.argmax(y_train, axis=1)\n",
    "true_labels_test = np.argmax(y_test, axis=1)"
   ]
  },
  {
   "cell_type": "code",
   "execution_count": 24,
   "id": "9aae14ce-16f5-4d58-a446-442e96f8a7f6",
   "metadata": {},
   "outputs": [
    {
     "name": "stdout",
     "output_type": "stream",
     "text": [
      "GRU Train Score = 97.6160%\n",
      "GRU Test Score = 84.8175%\n"
     ]
    }
   ],
   "source": [
    "model_pred_train = model.predict(X_train_tokenizer, verbose=0)\n",
    "model_pred_train = np.argmax(model_pred_train, axis=1)\n",
    "model_pred_test = np.argmax(model_pred_test, axis=1)\n",
    "model_train_score = accuracy_score(model_pred_train, true_labels_train)\n",
    "model_test_score = accuracy_score(model_pred_test, true_labels_test)\n",
    "print(f\"GRU Train Score = {model_train_score * 100:.4f}%\")\n",
    "print(f\"GRU Test Score = {model_test_score * 100:.4f}%\")"
   ]
  },
  {
   "cell_type": "code",
   "execution_count": 25,
   "id": "c77825cc-c009-4295-b5ad-5d938f2129e4",
   "metadata": {},
   "outputs": [
    {
     "name": "stdout",
     "output_type": "stream",
     "text": [
      "GRU Precision Score = 75.8586%\n",
      "GRU F1 Score = 74.4215%\n",
      "GRU Recall Score = 73.2457%\n",
      "GRU Accuracy Score = 84.8175%\n"
     ]
    }
   ],
   "source": [
    "model_precision_score = precision_score(true_labels_test, model_pred_test, average=\"macro\")\n",
    "model_f1_score = f1_score(true_labels_test, model_pred_test, average=\"macro\")\n",
    "model_recall_score = recall_score(true_labels_test, model_pred_test, average=\"macro\")\n",
    "model_accuracy_score = accuracy_score(true_labels_test, model_pred_test)\n",
    "\n",
    "print(f\"GRU Precision Score = {model_precision_score * 100:.4f}%\")\n",
    "print(f\"GRU F1 Score = {model_f1_score * 100:.4f}%\")\n",
    "print(f\"GRU Recall Score = {model_recall_score * 100:.4f}%\")\n",
    "print(f\"GRU Accuracy Score = {model_accuracy_score * 100:.4f}%\")"
   ]
  },
  {
   "cell_type": "code",
   "execution_count": 26,
   "id": "78c2d606-b7b4-4d74-8ece-7029ce5bf6b9",
   "metadata": {},
   "outputs": [
    {
     "name": "stdout",
     "output_type": "stream",
     "text": [
      "              precision    recall  f1-score   support\n",
      "\n",
      "    Negative       0.87      0.89      0.88      4508\n",
      "     Neutral       0.56      0.47      0.51       421\n",
      "    Positive       0.85      0.83      0.84      3179\n",
      "\n",
      "    accuracy                           0.85      8108\n",
      "   macro avg       0.76      0.73      0.74      8108\n",
      "weighted avg       0.85      0.85      0.85      8108\n",
      "\n"
     ]
    }
   ],
   "source": [
    "print(classification_report(true_labels_test, model_pred_test, target_names=[\"Negative\", \"Neutral\", \"Positive\"]))"
   ]
  },
  {
   "cell_type": "code",
   "execution_count": 27,
   "id": "9bea3e04-4c99-48e5-a286-f05d807da56d",
   "metadata": {},
   "outputs": [
    {
     "data": {
      "image/png": "[encoded data removed]",
      "text/plain": [
       "<Figure size 1000x1000 with 2 Axes>"
      ]
     },
     "metadata": {},
     "output_type": "display_data"
    }
   ],
   "source": [
    "model_cm = confusion_matrix(true_labels_test, model_pred_test)\n",
    "fig, ax = plot_confusion_matrix(conf_mat=model_cm, show_absolute=True, show_normed=True, colorbar=True, class_names=[\"Negative\", \"Neutral\", \"Positive\"], figsize=(10, 10))\n",
    "plt.title(\"GRU - Sentiment Analysis\")\n",
    "plt.savefig(\"./output/gru.png\")\n",
    "plt.show()"
   ]
  },
  {
   "cell_type": "code",
   "execution_count": null,
   "id": "41b61bcf-89f6-4a11-9f49-1765331fbbb8",
   "metadata": {},
   "outputs": [],
   "source": []
  },
  {
   "cell_type": "code",
   "execution_count": null,
   "id": "03389e68-d4f0-4540-bdd9-b913622652cd",
   "metadata": {},
   "outputs": [],
   "source": []
  }
 ],
 "metadata": {
  "kernelspec": {
   "display_name": "Python 3 (ipykernel)",
   "language": "python",
   "name": "python3"
  },
  "language_info": {
   "codemirror_mode": {
    "name": "ipython",
    "version": 3
   },
   "file_extension": ".py",
   "mimetype": "text/x-python",
   "name": "python",
   "nbconvert_exporter": "python",
   "pygments_lexer": "ipython3",
   "version": "3.10.12"
  }
 },
 "nbformat": 4,
 "nbformat_minor": 5
}
