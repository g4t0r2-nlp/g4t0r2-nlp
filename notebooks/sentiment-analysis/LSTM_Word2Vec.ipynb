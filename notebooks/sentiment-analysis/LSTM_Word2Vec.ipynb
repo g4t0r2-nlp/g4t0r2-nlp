{
 "cells": [
  {
   "cell_type": "code",
   "execution_count": 1,
   "id": "704d5dbc-23c4-4141-bfa6-e8b57eb5a12e",
   "metadata": {},
   "outputs": [],
   "source": [
    "import os\n",
    "os.environ[\"TF_CPP_MIN_LOG_LEVEL\"] = \"3\"\n",
    "\n",
    "import time\n",
    "import tqdm\n",
    "import random\n",
    "import argparse\n",
    "\n",
    "import numpy as np\n",
    "import pandas as pd\n",
    "tqdm.tqdm.pandas()\n",
    "\n",
    "import matplotlib.pyplot as plt\n",
    "\n",
    "import gensim\n",
    "from gensim import corpora, models, similarities\n",
    "\n",
    "from sklearn.model_selection import train_test_split\n",
    "\n",
    "from mlxtend.plotting import plot_confusion_matrix\n",
    "\n",
    "from sklearn.metrics import classification_report, confusion_matrix\n",
    "from sklearn.metrics import accuracy_score, f1_score, precision_score, recall_score\n",
    "\n",
    "import tensorflow as tf\n",
    "from tensorflow.keras import layers, models, optimizers, callbacks, preprocessing\n",
    "from tensorflow.keras.utils import to_categorical\n",
    "\n",
    "import warnings\n",
    "from sklearn.exceptions import ConvergenceWarning\n",
    "warnings.filterwarnings(\"ignore\", category=UserWarning)\n",
    "warnings.filterwarnings(\"ignore\", category=FutureWarning)\n",
    "warnings.filterwarnings(\"ignore\", category=ConvergenceWarning)\n",
    "\n",
    "def set_seed(seed):\n",
    "    random.seed(seed)\n",
    "    np.random.seed(seed)\n",
    "    tf.random.set_seed(seed)\n",
    "    os.environ['PYTHONHASHSEED'] = str(seed)"
   ]
  },
  {
   "cell_type": "code",
   "execution_count": 2,
   "id": "e770d903-f61a-4074-90b6-31d519b1172b",
   "metadata": {},
   "outputs": [],
   "source": [
    "set_seed(42)"
   ]
  },
  {
   "cell_type": "code",
   "execution_count": 3,
   "id": "dbff5d93-c27d-4629-8d25-cc3d61a40cfd",
   "metadata": {},
   "outputs": [],
   "source": [
    "df = pd.read_csv(\"/mnt/d/work2/teknofest-tddi/data/processed/cleaned.csv\")\n",
    "df = df.dropna()\n",
    "df = df.reset_index(drop=True)"
   ]
  },
  {
   "cell_type": "code",
   "execution_count": 4,
   "id": "973f6fa1-f70b-4296-bfbf-f5d0c68b520f",
   "metadata": {},
   "outputs": [
    {
     "data": {
      "text/html": [
       "<div>\n",
       "<style scoped>\n",
       "    .dataframe tbody tr th:only-of-type {\n",
       "        vertical-align: middle;\n",
       "    }\n",
       "\n",
       "    .dataframe tbody tr th {\n",
       "        vertical-align: top;\n",
       "    }\n",
       "\n",
       "    .dataframe thead th {\n",
       "        text-align: right;\n",
       "    }\n",
       "</style>\n",
       "<table border=\"1\" class=\"dataframe\">\n",
       "  <thead>\n",
       "    <tr style=\"text-align: right;\">\n",
       "      <th></th>\n",
       "      <th>rid</th>\n",
       "      <th>sid</th>\n",
       "      <th>app</th>\n",
       "      <th>review</th>\n",
       "      <th>sentiment</th>\n",
       "      <th>aspect</th>\n",
       "      <th>aspect_polarity</th>\n",
       "      <th>cleaned</th>\n",
       "      <th>text</th>\n",
       "    </tr>\n",
       "  </thead>\n",
       "  <tbody>\n",
       "    <tr>\n",
       "      <th>0</th>\n",
       "      <td>9</td>\n",
       "      <td>1</td>\n",
       "      <td>Google Play Store/BiP</td>\n",
       "      <td>Uygulamada kartlarda Troy kart geçmiyor Lütfen...</td>\n",
       "      <td>Positive</td>\n",
       "      <td>Troy</td>\n",
       "      <td>2</td>\n",
       "      <td>Uygulamada kartlarda Troy kart geçmiyor uygula...</td>\n",
       "      <td>Troy Uygulamada kartlarda Troy kart geçmiyor u...</td>\n",
       "    </tr>\n",
       "    <tr>\n",
       "      <th>1</th>\n",
       "      <td>9</td>\n",
       "      <td>1</td>\n",
       "      <td>Google Play Store/BiP</td>\n",
       "      <td>Uygulamada kartlarda Troy kart geçmiyor Lütfen...</td>\n",
       "      <td>Positive</td>\n",
       "      <td>Troy</td>\n",
       "      <td>2</td>\n",
       "      <td>Uygulamada kartlarda Troy kart geçmiyor uygula...</td>\n",
       "      <td>Troy Uygulamada kartlarda Troy kart geçmiyor u...</td>\n",
       "    </tr>\n",
       "    <tr>\n",
       "      <th>2</th>\n",
       "      <td>10</td>\n",
       "      <td>1</td>\n",
       "      <td>Google Play Store/BiP</td>\n",
       "      <td>Her güncellemede daha da kötüleşen Turkcell in...</td>\n",
       "      <td>Negative</td>\n",
       "      <td>Turkcell</td>\n",
       "      <td>0</td>\n",
       "      <td>güncellemede kötüleşen Turkcell in ara ara ken...</td>\n",
       "      <td>Turkcell güncellemede kötüleşen Turkcell in ar...</td>\n",
       "    </tr>\n",
       "    <tr>\n",
       "      <th>3</th>\n",
       "      <td>13</td>\n",
       "      <td>1</td>\n",
       "      <td>Google Play Store/BiP</td>\n",
       "      <td>BiP’ten aranmıyor yardım</td>\n",
       "      <td>Negative</td>\n",
       "      <td>BiP’ten</td>\n",
       "      <td>0</td>\n",
       "      <td>BiPten aranmıyor yardım</td>\n",
       "      <td>BiP’ten BiPten aranmıyor yardım</td>\n",
       "    </tr>\n",
       "    <tr>\n",
       "      <th>4</th>\n",
       "      <td>17</td>\n",
       "      <td>1</td>\n",
       "      <td>Google Play Store/BiP</td>\n",
       "      <td>Bu yorumum kesinlikle uygulamanın daha çok gel...</td>\n",
       "      <td>Positive</td>\n",
       "      <td>BİP</td>\n",
       "      <td>2</td>\n",
       "      <td>yorumum uygulamanın gelişmesi kulanıcıya erişi...</td>\n",
       "      <td>BİP yorumum uygulamanın gelişmesi kulanıcıya e...</td>\n",
       "    </tr>\n",
       "  </tbody>\n",
       "</table>\n",
       "</div>"
      ],
      "text/plain": [
       "   rid  sid                    app  \\\n",
       "0    9    1  Google Play Store/BiP   \n",
       "1    9    1  Google Play Store/BiP   \n",
       "2   10    1  Google Play Store/BiP   \n",
       "3   13    1  Google Play Store/BiP   \n",
       "4   17    1  Google Play Store/BiP   \n",
       "\n",
       "                                              review sentiment    aspect  \\\n",
       "0  Uygulamada kartlarda Troy kart geçmiyor Lütfen...  Positive      Troy   \n",
       "1  Uygulamada kartlarda Troy kart geçmiyor Lütfen...  Positive      Troy   \n",
       "2  Her güncellemede daha da kötüleşen Turkcell in...  Negative  Turkcell   \n",
       "3                           BiP’ten aranmıyor yardım  Negative   BiP’ten   \n",
       "4  Bu yorumum kesinlikle uygulamanın daha çok gel...  Positive       BİP   \n",
       "\n",
       "   aspect_polarity                                            cleaned  \\\n",
       "0                2  Uygulamada kartlarda Troy kart geçmiyor uygula...   \n",
       "1                2  Uygulamada kartlarda Troy kart geçmiyor uygula...   \n",
       "2                0  güncellemede kötüleşen Turkcell in ara ara ken...   \n",
       "3                0                            BiPten aranmıyor yardım   \n",
       "4                2  yorumum uygulamanın gelişmesi kulanıcıya erişi...   \n",
       "\n",
       "                                                text  \n",
       "0  Troy Uygulamada kartlarda Troy kart geçmiyor u...  \n",
       "1  Troy Uygulamada kartlarda Troy kart geçmiyor u...  \n",
       "2  Turkcell güncellemede kötüleşen Turkcell in ar...  \n",
       "3                    BiP’ten BiPten aranmıyor yardım  \n",
       "4  BİP yorumum uygulamanın gelişmesi kulanıcıya e...  "
      ]
     },
     "execution_count": 4,
     "metadata": {},
     "output_type": "execute_result"
    }
   ],
   "source": [
    "df.head()"
   ]
  },
  {
   "cell_type": "code",
   "execution_count": 5,
   "id": "68228085-0445-4f66-a949-6d830123c864",
   "metadata": {},
   "outputs": [],
   "source": [
    "df[\"text\"] = df[\"aspect\"] + \" \" + df[\"cleaned\"]"
   ]
  },
  {
   "cell_type": "code",
   "execution_count": 6,
   "id": "1b903732-7841-42a7-8d64-7c582d2a079b",
   "metadata": {},
   "outputs": [],
   "source": [
    "X = df[\"text\"]\n",
    "y = df[\"aspect_polarity\"]"
   ]
  },
  {
   "cell_type": "code",
   "execution_count": 7,
   "id": "1db4fac6-62e9-425e-b720-1993b58513fc",
   "metadata": {},
   "outputs": [],
   "source": [
    "def train_validate_test_split(df, split_size):\n",
    "    perm = np.random.permutation(df.index)\n",
    "    train_end = int(split_size * len(df.index))\n",
    "    validate_end = int(((1 - split_size) / 2) * len(df.index)) + train_end\n",
    "    train = df.iloc[perm[:train_end]]\n",
    "    validate = df.iloc[perm[train_end:validate_end]]\n",
    "    test = df.iloc[perm[validate_end:]]\n",
    "    return train, validate, test"
   ]
  },
  {
   "cell_type": "code",
   "execution_count": 8,
   "id": "c705e443-7d83-4f66-b645-f3c75a2fbf61",
   "metadata": {},
   "outputs": [],
   "source": [
    "df_train, df_validation, df_test = train_validate_test_split(df, split_size=0.9)"
   ]
  },
  {
   "cell_type": "code",
   "execution_count": 9,
   "id": "9ee28609-459f-446d-968f-d4e47afab272",
   "metadata": {},
   "outputs": [],
   "source": [
    "X_train = df_train[\"text\"]\n",
    "y_train = df_train[\"aspect_polarity\"]"
   ]
  },
  {
   "cell_type": "code",
   "execution_count": 10,
   "id": "8dbb1c11-6c4d-44b6-b182-cedaa854eb35",
   "metadata": {},
   "outputs": [],
   "source": [
    "X_valid = df_validation[\"text\"]\n",
    "y_valid = df_validation[\"aspect_polarity\"]"
   ]
  },
  {
   "cell_type": "code",
   "execution_count": 11,
   "id": "76a94f98-5c49-43cb-9332-ceaf0502780b",
   "metadata": {},
   "outputs": [],
   "source": [
    "X_test = df_test[\"text\"]\n",
    "y_test = df_test[\"aspect_polarity\"]"
   ]
  },
  {
   "cell_type": "code",
   "execution_count": 12,
   "id": "87849e83-72c6-4c05-bf4b-d128d84fe3bf",
   "metadata": {},
   "outputs": [],
   "source": [
    "y_train = to_categorical(y_train)\n",
    "y_valid = to_categorical(y_valid)\n",
    "y_test = to_categorical(y_test)"
   ]
  },
  {
   "cell_type": "code",
   "execution_count": 13,
   "id": "eccb0f56-f2b0-446e-8ae9-875ca1fbb909",
   "metadata": {},
   "outputs": [],
   "source": [
    "tokenizer = preprocessing.text.Tokenizer(\n",
    "    filters = '!\"#$%&()*+,-./:;<=>?@[\\\\]^_`{|}~\\t\\n',\n",
    "    lower = False,\n",
    "    split = \" \"\n",
    ")\n",
    "tokenizer.fit_on_texts(X)"
   ]
  },
  {
   "cell_type": "code",
   "execution_count": 14,
   "id": "25bbacdd-f745-4258-9ac6-257c61a57dbc",
   "metadata": {},
   "outputs": [],
   "source": [
    "X_train_tokenizer = tokenizer.texts_to_sequences(X_train)\n",
    "X_valid_tokenizer = tokenizer.texts_to_sequences(X_valid)\n",
    "X_test_tokenizer = tokenizer.texts_to_sequences(X_test)"
   ]
  },
  {
   "cell_type": "code",
   "execution_count": 15,
   "id": "b274db7c-3bfd-434c-b715-b0aa594151c8",
   "metadata": {},
   "outputs": [],
   "source": [
    "maxlen = 64\n",
    "X_train_tokenizer = preprocessing.sequence.pad_sequences(X_train_tokenizer, maxlen=maxlen)\n",
    "X_valid_tokenizer = preprocessing.sequence.pad_sequences(X_valid_tokenizer, maxlen=maxlen)\n",
    "X_test_tokenizer = preprocessing.sequence.pad_sequences(X_test_tokenizer, maxlen=maxlen)"
   ]
  },
  {
   "cell_type": "code",
   "execution_count": 16,
   "id": "19f3b709-dd93-46f4-8577-769e59a9b207",
   "metadata": {},
   "outputs": [
    {
     "data": {
      "text/plain": [
       "103649"
      ]
     },
     "execution_count": 16,
     "metadata": {},
     "output_type": "execute_result"
    }
   ],
   "source": [
    "input_dim = len(tokenizer.word_index) + 1\n",
    "input_dim"
   ]
  },
  {
   "cell_type": "code",
   "execution_count": 17,
   "id": "0575f549-21d4-40c4-99e4-49cffb42de7e",
   "metadata": {},
   "outputs": [],
   "source": [
    "documents = [_text.split() for _text in df[\"text\"]]"
   ]
  },
  {
   "cell_type": "code",
   "execution_count": 18,
   "id": "2324a6c3-7670-49e6-9b51-9f78f4a3772c",
   "metadata": {},
   "outputs": [],
   "source": [
    "w2v_model = gensim.models.word2vec.Word2Vec(\n",
    "    vector_size = 100,\n",
    "    window = 2,\n",
    "    min_count = 10,\n",
    "    workers = 10\n",
    ")"
   ]
  },
  {
   "cell_type": "code",
   "execution_count": 19,
   "id": "e551c36c-4743-4805-8075-406427cebbe5",
   "metadata": {},
   "outputs": [],
   "source": [
    "w2v_model.build_vocab(documents)"
   ]
  },
  {
   "cell_type": "code",
   "execution_count": 20,
   "id": "0150b42c-046e-4354-8aa0-8e5d021f7e3b",
   "metadata": {},
   "outputs": [
    {
     "data": {
      "text/plain": [
       "23630"
      ]
     },
     "execution_count": 20,
     "metadata": {},
     "output_type": "execute_result"
    }
   ],
   "source": [
    "vocab_len = len(w2v_model.wv)\n",
    "vocab_len"
   ]
  },
  {
   "cell_type": "code",
   "execution_count": 21,
   "id": "15f9c52a-bad2-4dd9-9a5b-2f0673619bfb",
   "metadata": {},
   "outputs": [
    {
     "data": {
      "text/plain": [
       "(38734933, 46927632)"
      ]
     },
     "execution_count": 21,
     "metadata": {},
     "output_type": "execute_result"
    }
   ],
   "source": [
    "w2v_model.train(documents, total_examples=len(documents), epochs=16)"
   ]
  },
  {
   "cell_type": "code",
   "execution_count": 22,
   "id": "3626ac92-8e43-4d69-99c9-3f3118fa708d",
   "metadata": {},
   "outputs": [
    {
     "name": "stderr",
     "output_type": "stream",
     "text": [
      "100%|██████████████████████████████████████████████████████████| 103648/103648 [00:00<00:00, 1129506.45it/s]\n"
     ]
    }
   ],
   "source": [
    "wv_embedding_matrix = np.zeros((input_dim, 100))\n",
    "for word, i in tqdm.tqdm(tokenizer.word_index.items()):\n",
    "    if word in w2v_model.wv:\n",
    "        wv_embedding_matrix[i] = w2v_model.wv[word]"
   ]
  },
  {
   "cell_type": "code",
   "execution_count": 23,
   "id": "a1e7937f-f8c9-4354-ad7d-ff2a966efd1a",
   "metadata": {},
   "outputs": [],
   "source": [
    "model = models.Sequential([\n",
    "    layers.Input(shape=X_train_tokenizer.shape[1]),\n",
    "    layers.Embedding(len(tokenizer.word_index)+1, 100, weights=[wv_embedding_matrix], input_length=maxlen, trainable=False),\n",
    "    layers.LSTM(100),\n",
    "    layers.Dense(3, activation='softmax')\n",
    "])"
   ]
  },
  {
   "cell_type": "code",
   "execution_count": 24,
   "id": "6ae60c7b-c2b7-4e47-b789-ecaf47bc6095",
   "metadata": {},
   "outputs": [],
   "source": [
    "model.compile(loss='categorical_crossentropy', \n",
    "                  optimizer=tf.keras.optimizers.legacy.Adam(), \n",
    "                  metrics=['accuracy'])   "
   ]
  },
  {
   "cell_type": "code",
   "execution_count": 25,
   "id": "4ae18a1a-5bfd-4969-b332-2c4d758705b0",
   "metadata": {},
   "outputs": [
    {
     "name": "stdout",
     "output_type": "stream",
     "text": [
      "Model: \"sequential\"\n",
      "_________________________________________________________________\n",
      " Layer (type)                Output Shape              Param #   \n",
      "=================================================================\n",
      " embedding (Embedding)       (None, 64, 100)           10364900  \n",
      "                                                                 \n",
      " lstm (LSTM)                 (None, 100)               80400     \n",
      "                                                                 \n",
      " dense (Dense)               (None, 3)                 303       \n",
      "                                                                 \n",
      "=================================================================\n",
      "Total params: 10,445,603\n",
      "Trainable params: 80,703\n",
      "Non-trainable params: 10,364,900\n",
      "_________________________________________________________________\n"
     ]
    }
   ],
   "source": [
    "model.summary()"
   ]
  },
  {
   "cell_type": "code",
   "execution_count": 26,
   "id": "ebf2f438-df25-4aaf-8b15-ad909bc3869f",
   "metadata": {},
   "outputs": [
    {
     "data": {
      "image/png": "[encoded data removed]",
      "text/plain": [
       "<IPython.core.display.Image object>"
      ]
     },
     "execution_count": 26,
     "metadata": {},
     "output_type": "execute_result"
    }
   ],
   "source": [
    "tf.keras.utils.plot_model(model, show_layer_names=True, show_shapes=True, expand_nested=True, to_file=\"./output/lstm_word2vec_model_plot.png\")"
   ]
  },
  {
   "cell_type": "code",
   "execution_count": 27,
   "id": "33c024ee-a4c9-401f-ba67-d7b7362677a1",
   "metadata": {},
   "outputs": [
    {
     "name": "stdout",
     "output_type": "stream",
     "text": [
      "Epoch 1/10\n",
      "1141/1141 [==============================] - 55s 47ms/step - loss: 0.5848 - accuracy: 0.7652 - val_loss: 0.5494 - val_accuracy: 0.7812\n",
      "Epoch 2/10\n",
      "1141/1141 [==============================] - 55s 48ms/step - loss: 0.5281 - accuracy: 0.7914 - val_loss: 0.5201 - val_accuracy: 0.7965\n",
      "Epoch 3/10\n",
      "1141/1141 [==============================] - 54s 48ms/step - loss: 0.4878 - accuracy: 0.8092 - val_loss: 0.5020 - val_accuracy: 0.8079\n",
      "Epoch 4/10\n",
      "1141/1141 [==============================] - 55s 48ms/step - loss: 0.4462 - accuracy: 0.8269 - val_loss: 0.4861 - val_accuracy: 0.8142\n",
      "Epoch 5/10\n",
      "1141/1141 [==============================] - 56s 50ms/step - loss: 0.4062 - accuracy: 0.8442 - val_loss: 0.4790 - val_accuracy: 0.8199\n",
      "Epoch 6/10\n",
      "1141/1141 [==============================] - 56s 49ms/step - loss: 0.3699 - accuracy: 0.8594 - val_loss: 0.4729 - val_accuracy: 0.8250\n",
      "Epoch 7/10\n",
      "1141/1141 [==============================] - 56s 49ms/step - loss: 0.3398 - accuracy: 0.8722 - val_loss: 0.4725 - val_accuracy: 0.8292\n",
      "Epoch 8/10\n",
      "1141/1141 [==============================] - 56s 49ms/step - loss: 0.3110 - accuracy: 0.8836 - val_loss: 0.4792 - val_accuracy: 0.8334\n",
      "Epoch 9/10\n",
      "1141/1141 [==============================] - 55s 48ms/step - loss: 0.2871 - accuracy: 0.8932 - val_loss: 0.4872 - val_accuracy: 0.8318\n",
      "Epoch 10/10\n",
      "1141/1141 [==============================] - 56s 49ms/step - loss: 0.2660 - accuracy: 0.9017 - val_loss: 0.5030 - val_accuracy: 0.8304\n",
      "LSTM Train Time = 553.6769\n"
     ]
    }
   ],
   "source": [
    "model1_train_start = time.time()\n",
    "model_history = model.fit(\n",
    "    X_train_tokenizer, \n",
    "    y_train, \n",
    "    epochs=10, \n",
    "    batch_size=128, \n",
    "    validation_data=[X_valid_tokenizer, y_valid], \n",
    "    callbacks=[callbacks.EarlyStopping(monitor=\"val_accuracy\", patience=3)]\n",
    ")\n",
    "model1_train_time = time.time() - model1_train_start\n",
    "print(f\"LSTM Train Time = {model1_train_time:.4f}\")"
   ]
  },
  {
   "cell_type": "code",
   "execution_count": 28,
   "id": "251f8553-ab58-4cb9-9cc6-9d3735bd5dee",
   "metadata": {},
   "outputs": [
    {
     "name": "stdout",
     "output_type": "stream",
     "text": [
      "LSTM Test Time = 2.2478\n"
     ]
    }
   ],
   "source": [
    "model1_test_start = time.time()\n",
    "model_pred_test = model.predict(X_test_tokenizer, verbose=0)\n",
    "model1_test_time = time.time() - model1_test_start\n",
    "print(f\"LSTM Test Time = {model1_test_time:.4f}\")"
   ]
  },
  {
   "cell_type": "code",
   "execution_count": 29,
   "id": "f7aa78cb-cddf-4da2-b1c6-73a5557fef92",
   "metadata": {},
   "outputs": [],
   "source": [
    "true_labels_train = np.argmax(y_train, axis=1)\n",
    "true_labels_test = np.argmax(y_test, axis=1)"
   ]
  },
  {
   "cell_type": "code",
   "execution_count": 30,
   "id": "df7f422d-14a7-4980-b07b-35fe8d8c2091",
   "metadata": {},
   "outputs": [
    {
     "name": "stdout",
     "output_type": "stream",
     "text": [
      "Bi-LSTM Train Score = 91.4379%\n",
      "Bi-LSTM Test Score = 82.8688%\n"
     ]
    }
   ],
   "source": [
    "model_pred_train = model.predict(X_train_tokenizer, verbose=0)\n",
    "model_pred_train = np.argmax(model_pred_train, axis=1)\n",
    "model_pred_test = np.argmax(model_pred_test, axis=1)\n",
    "model_train_score = accuracy_score(model_pred_train, true_labels_train)\n",
    "model_test_score = accuracy_score(model_pred_test, true_labels_test)\n",
    "print(f\"Bi-LSTM Train Score = {model_train_score * 100:.4f}%\")\n",
    "print(f\"Bi-LSTM Test Score = {model_test_score * 100:.4f}%\")"
   ]
  },
  {
   "cell_type": "code",
   "execution_count": 31,
   "id": "f708b5ca-9a0e-423e-a5fc-3f737cee98bb",
   "metadata": {},
   "outputs": [
    {
     "name": "stdout",
     "output_type": "stream",
     "text": [
      "Bi-LSTM Precision Score = 76.2164%\n",
      "Bi-LSTM F1 Score = 69.6938%\n",
      "Bi-LSTM Recall Score = 66.7998%\n",
      "Bi-LSTM Accuracy Score = 82.8688%\n"
     ]
    }
   ],
   "source": [
    "model_precision_score = precision_score(true_labels_test, model_pred_test, average=\"macro\")\n",
    "model_f1_score = f1_score(true_labels_test, model_pred_test, average=\"macro\")\n",
    "model_recall_score = recall_score(true_labels_test, model_pred_test, average=\"macro\")\n",
    "model_accuracy_score = accuracy_score(true_labels_test, model_pred_test)\n",
    "\n",
    "print(f\"Bi-LSTM Precision Score = {model_precision_score * 100:.4f}%\")\n",
    "print(f\"Bi-LSTM F1 Score = {model_f1_score * 100:.4f}%\")\n",
    "print(f\"Bi-LSTM Recall Score = {model_recall_score * 100:.4f}%\")\n",
    "print(f\"Bi-LSTM Accuracy Score = {model_accuracy_score * 100:.4f}%\")"
   ]
  },
  {
   "cell_type": "code",
   "execution_count": 32,
   "id": "8411fbf6-707f-4b86-9a12-3f0f3818c931",
   "metadata": {},
   "outputs": [
    {
     "name": "stdout",
     "output_type": "stream",
     "text": [
      "              precision    recall  f1-score   support\n",
      "\n",
      "    Negative       0.84      0.90      0.87      4508\n",
      "     Neutral       0.62      0.31      0.41       421\n",
      "    Positive       0.83      0.80      0.81      3179\n",
      "\n",
      "    accuracy                           0.83      8108\n",
      "   macro avg       0.76      0.67      0.70      8108\n",
      "weighted avg       0.82      0.83      0.82      8108\n",
      "\n"
     ]
    }
   ],
   "source": [
    "print(classification_report(true_labels_test, model_pred_test, target_names=[\"Negative\", \"Neutral\", \"Positive\"]))"
   ]
  },
  {
   "cell_type": "code",
   "execution_count": 33,
   "id": "cc8d1400-caf3-4d63-ade0-ea97f8f9c03a",
   "metadata": {},
   "outputs": [
    {
     "data": {
      "image/png": "[encoded data removed]",
      "text/plain": [
       "<Figure size 1000x1000 with 2 Axes>"
      ]
     },
     "metadata": {},
     "output_type": "display_data"
    }
   ],
   "source": [
    "model_cm = confusion_matrix(true_labels_test, model_pred_test)\n",
    "fig, ax = plot_confusion_matrix(conf_mat=model_cm, show_absolute=True, show_normed=True, colorbar=True, class_names=[\"Negative\", \"Neutral\", \"Positive\"], figsize=(10, 10))\n",
    "plt.title(\"LSTM + Word2Vec - Sentiment Analysis\")\n",
    "plt.savefig(\"./output/lstm_word2vec.png\")\n",
    "plt.show()"
   ]
  },
  {
   "cell_type": "code",
   "execution_count": null,
   "id": "138d9110-2e32-4924-96be-da34d842c746",
   "metadata": {},
   "outputs": [],
   "source": []
  },
  {
   "cell_type": "code",
   "execution_count": null,
   "id": "7b5160c9-5ee5-4a6b-af99-881871028787",
   "metadata": {},
   "outputs": [],
   "source": []
  }
 ],
 "metadata": {
  "kernelspec": {
   "display_name": "Python 3 (ipykernel)",
   "language": "python",
   "name": "python3"
  },
  "language_info": {
   "codemirror_mode": {
    "name": "ipython",
    "version": 3
   },
   "file_extension": ".py",
   "mimetype": "text/x-python",
   "name": "python",
   "nbconvert_exporter": "python",
   "pygments_lexer": "ipython3",
   "version": "3.10.12"
  }
 },
 "nbformat": 4,
 "nbformat_minor": 5
}
