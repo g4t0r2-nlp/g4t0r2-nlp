{
 "cells": [
  {
   "cell_type": "code",
   "execution_count": 1,
   "id": "719b42c8-8a6d-438d-bfed-e35bec8b0391",
   "metadata": {},
   "outputs": [],
   "source": [
    "import os\n",
    "os.environ[\"TF_CPP_MIN_LOG_LEVEL\"] = \"3\"\n",
    "\n",
    "import time\n",
    "import tqdm\n",
    "import random\n",
    "import argparse\n",
    "\n",
    "import numpy as np\n",
    "import pandas as pd\n",
    "tqdm.tqdm.pandas()\n",
    "\n",
    "import matplotlib.pyplot as plt\n",
    "\n",
    "import gensim\n",
    "from gensim import corpora, models, similarities\n",
    "\n",
    "from sklearn.model_selection import train_test_split\n",
    "\n",
    "from mlxtend.plotting import plot_confusion_matrix\n",
    "\n",
    "from sklearn.metrics import classification_report, confusion_matrix\n",
    "from sklearn.metrics import accuracy_score, f1_score, precision_score, recall_score\n",
    "\n",
    "import tensorflow as tf\n",
    "from tensorflow.keras import layers, models, optimizers, callbacks, preprocessing\n",
    "from tensorflow.keras.utils import to_categorical\n",
    "\n",
    "import warnings\n",
    "from sklearn.exceptions import ConvergenceWarning\n",
    "warnings.filterwarnings(\"ignore\", category=UserWarning)\n",
    "warnings.filterwarnings(\"ignore\", category=FutureWarning)\n",
    "warnings.filterwarnings(\"ignore\", category=ConvergenceWarning)\n",
    "\n",
    "def set_seed(seed):\n",
    "    random.seed(seed)\n",
    "    np.random.seed(seed)\n",
    "    tf.random.set_seed(seed)\n",
    "    os.environ['PYTHONHASHSEED'] = str(seed)"
   ]
  },
  {
   "cell_type": "code",
   "execution_count": 2,
   "id": "59c28b32-3c22-4e16-8188-e05cc37d3feb",
   "metadata": {},
   "outputs": [],
   "source": [
    "set_seed(42)"
   ]
  },
  {
   "cell_type": "code",
   "execution_count": 3,
   "id": "671ab4ca-1686-4596-8ab2-ad572616da12",
   "metadata": {},
   "outputs": [],
   "source": [
    "df = pd.read_csv(\"/mnt/d/work2/teknofest-tddi/data/processed/cleaned.csv\")\n",
    "df = df.dropna()\n",
    "df = df.reset_index(drop=True)"
   ]
  },
  {
   "cell_type": "code",
   "execution_count": 4,
   "id": "25389c48-f5f4-45ad-a213-e04a94b4fdcb",
   "metadata": {},
   "outputs": [
    {
     "data": {
      "text/html": [
       "<div>\n",
       "<style scoped>\n",
       "    .dataframe tbody tr th:only-of-type {\n",
       "        vertical-align: middle;\n",
       "    }\n",
       "\n",
       "    .dataframe tbody tr th {\n",
       "        vertical-align: top;\n",
       "    }\n",
       "\n",
       "    .dataframe thead th {\n",
       "        text-align: right;\n",
       "    }\n",
       "</style>\n",
       "<table border=\"1\" class=\"dataframe\">\n",
       "  <thead>\n",
       "    <tr style=\"text-align: right;\">\n",
       "      <th></th>\n",
       "      <th>rid</th>\n",
       "      <th>sid</th>\n",
       "      <th>app</th>\n",
       "      <th>review</th>\n",
       "      <th>sentiment</th>\n",
       "      <th>aspect</th>\n",
       "      <th>aspect_polarity</th>\n",
       "      <th>cleaned</th>\n",
       "      <th>text</th>\n",
       "    </tr>\n",
       "  </thead>\n",
       "  <tbody>\n",
       "    <tr>\n",
       "      <th>0</th>\n",
       "      <td>9</td>\n",
       "      <td>1</td>\n",
       "      <td>Google Play Store/BiP</td>\n",
       "      <td>Uygulamada kartlarda Troy kart geçmiyor Lütfen...</td>\n",
       "      <td>Positive</td>\n",
       "      <td>Troy</td>\n",
       "      <td>2</td>\n",
       "      <td>Uygulamada kartlarda Troy kart geçmiyor uygula...</td>\n",
       "      <td>Troy Uygulamada kartlarda Troy kart geçmiyor u...</td>\n",
       "    </tr>\n",
       "    <tr>\n",
       "      <th>1</th>\n",
       "      <td>9</td>\n",
       "      <td>1</td>\n",
       "      <td>Google Play Store/BiP</td>\n",
       "      <td>Uygulamada kartlarda Troy kart geçmiyor Lütfen...</td>\n",
       "      <td>Positive</td>\n",
       "      <td>Troy</td>\n",
       "      <td>2</td>\n",
       "      <td>Uygulamada kartlarda Troy kart geçmiyor uygula...</td>\n",
       "      <td>Troy Uygulamada kartlarda Troy kart geçmiyor u...</td>\n",
       "    </tr>\n",
       "    <tr>\n",
       "      <th>2</th>\n",
       "      <td>10</td>\n",
       "      <td>1</td>\n",
       "      <td>Google Play Store/BiP</td>\n",
       "      <td>Her güncellemede daha da kötüleşen Turkcell in...</td>\n",
       "      <td>Negative</td>\n",
       "      <td>Turkcell</td>\n",
       "      <td>0</td>\n",
       "      <td>güncellemede kötüleşen Turkcell in ara ara ken...</td>\n",
       "      <td>Turkcell güncellemede kötüleşen Turkcell in ar...</td>\n",
       "    </tr>\n",
       "    <tr>\n",
       "      <th>3</th>\n",
       "      <td>13</td>\n",
       "      <td>1</td>\n",
       "      <td>Google Play Store/BiP</td>\n",
       "      <td>BiP’ten aranmıyor yardım</td>\n",
       "      <td>Negative</td>\n",
       "      <td>BiP’ten</td>\n",
       "      <td>0</td>\n",
       "      <td>BiPten aranmıyor yardım</td>\n",
       "      <td>BiP’ten BiPten aranmıyor yardım</td>\n",
       "    </tr>\n",
       "    <tr>\n",
       "      <th>4</th>\n",
       "      <td>17</td>\n",
       "      <td>1</td>\n",
       "      <td>Google Play Store/BiP</td>\n",
       "      <td>Bu yorumum kesinlikle uygulamanın daha çok gel...</td>\n",
       "      <td>Positive</td>\n",
       "      <td>BİP</td>\n",
       "      <td>2</td>\n",
       "      <td>yorumum uygulamanın gelişmesi kulanıcıya erişi...</td>\n",
       "      <td>BİP yorumum uygulamanın gelişmesi kulanıcıya e...</td>\n",
       "    </tr>\n",
       "  </tbody>\n",
       "</table>\n",
       "</div>"
      ],
      "text/plain": [
       "   rid  sid                    app  \\\n",
       "0    9    1  Google Play Store/BiP   \n",
       "1    9    1  Google Play Store/BiP   \n",
       "2   10    1  Google Play Store/BiP   \n",
       "3   13    1  Google Play Store/BiP   \n",
       "4   17    1  Google Play Store/BiP   \n",
       "\n",
       "                                              review sentiment    aspect  \\\n",
       "0  Uygulamada kartlarda Troy kart geçmiyor Lütfen...  Positive      Troy   \n",
       "1  Uygulamada kartlarda Troy kart geçmiyor Lütfen...  Positive      Troy   \n",
       "2  Her güncellemede daha da kötüleşen Turkcell in...  Negative  Turkcell   \n",
       "3                           BiP’ten aranmıyor yardım  Negative   BiP’ten   \n",
       "4  Bu yorumum kesinlikle uygulamanın daha çok gel...  Positive       BİP   \n",
       "\n",
       "   aspect_polarity                                            cleaned  \\\n",
       "0                2  Uygulamada kartlarda Troy kart geçmiyor uygula...   \n",
       "1                2  Uygulamada kartlarda Troy kart geçmiyor uygula...   \n",
       "2                0  güncellemede kötüleşen Turkcell in ara ara ken...   \n",
       "3                0                            BiPten aranmıyor yardım   \n",
       "4                2  yorumum uygulamanın gelişmesi kulanıcıya erişi...   \n",
       "\n",
       "                                                text  \n",
       "0  Troy Uygulamada kartlarda Troy kart geçmiyor u...  \n",
       "1  Troy Uygulamada kartlarda Troy kart geçmiyor u...  \n",
       "2  Turkcell güncellemede kötüleşen Turkcell in ar...  \n",
       "3                    BiP’ten BiPten aranmıyor yardım  \n",
       "4  BİP yorumum uygulamanın gelişmesi kulanıcıya e...  "
      ]
     },
     "execution_count": 4,
     "metadata": {},
     "output_type": "execute_result"
    }
   ],
   "source": [
    "df.head()"
   ]
  },
  {
   "cell_type": "code",
   "execution_count": 5,
   "id": "26aa086e-f960-4744-a709-a35a4c5d22a4",
   "metadata": {},
   "outputs": [],
   "source": [
    "df[\"text\"] = df[\"aspect\"] + \" \" + df[\"cleaned\"]"
   ]
  },
  {
   "cell_type": "code",
   "execution_count": 6,
   "id": "bbe3e034-6377-46b8-a1dc-3bdf8192312f",
   "metadata": {},
   "outputs": [],
   "source": [
    "X = df[\"text\"]\n",
    "y = df[\"aspect_polarity\"]"
   ]
  },
  {
   "cell_type": "code",
   "execution_count": 7,
   "id": "37e69839-a8df-475e-8764-6b1e5aedbd12",
   "metadata": {},
   "outputs": [],
   "source": [
    "def train_validate_test_split(df, split_size):\n",
    "    perm = np.random.permutation(df.index)\n",
    "    train_end = int(split_size * len(df.index))\n",
    "    validate_end = int(((1 - split_size) / 2) * len(df.index)) + train_end\n",
    "    train = df.iloc[perm[:train_end]]\n",
    "    validate = df.iloc[perm[train_end:validate_end]]\n",
    "    test = df.iloc[perm[validate_end:]]\n",
    "    return train, validate, test"
   ]
  },
  {
   "cell_type": "code",
   "execution_count": 8,
   "id": "0f1d38c5-4a29-4f33-8ef7-0b4d3b56c456",
   "metadata": {},
   "outputs": [],
   "source": [
    "df_train, df_validation, df_test = train_validate_test_split(df, split_size=0.9)"
   ]
  },
  {
   "cell_type": "code",
   "execution_count": 13,
   "id": "64298896-493a-4bf8-84ee-f7f47d9e3bc7",
   "metadata": {},
   "outputs": [],
   "source": [
    "X_train = df_train[\"text\"]\n",
    "y_train = df_train[\"aspect_polarity\"]"
   ]
  },
  {
   "cell_type": "code",
   "execution_count": 14,
   "id": "9a262640-e5b2-48bc-a385-b6f5af1c858a",
   "metadata": {},
   "outputs": [],
   "source": [
    "X_valid = df_validation[\"text\"]\n",
    "y_valid = df_validation[\"aspect_polarity\"]"
   ]
  },
  {
   "cell_type": "code",
   "execution_count": 15,
   "id": "b81c971c-eb41-4211-8fbd-e2d085f8c7db",
   "metadata": {},
   "outputs": [],
   "source": [
    "X_test = df_test[\"text\"]\n",
    "y_test = df_test[\"aspect_polarity\"]"
   ]
  },
  {
   "cell_type": "code",
   "execution_count": 16,
   "id": "ab792804-ec1e-4335-9ec0-438e14c87e56",
   "metadata": {},
   "outputs": [],
   "source": [
    "y_train = to_categorical(y_train)\n",
    "y_valid = to_categorical(y_valid)\n",
    "y_test = to_categorical(y_test)"
   ]
  },
  {
   "cell_type": "code",
   "execution_count": 17,
   "id": "8dd66567-c9f1-4154-afff-ae75dd0b6ef8",
   "metadata": {},
   "outputs": [],
   "source": [
    "tokenizer = preprocessing.text.Tokenizer(\n",
    "    filters = '!\"#$%&()*+,-./:;<=>?@[\\\\]^_`{|}~\\t\\n',\n",
    "    lower = False,\n",
    "    split = \" \"\n",
    ")\n",
    "tokenizer.fit_on_texts(X)"
   ]
  },
  {
   "cell_type": "code",
   "execution_count": 18,
   "id": "3ff8cf58-fe9b-49e1-83a7-e1a3815e6a71",
   "metadata": {},
   "outputs": [],
   "source": [
    "X_train_tokenizer = tokenizer.texts_to_sequences(X_train)\n",
    "X_valid_tokenizer = tokenizer.texts_to_sequences(X_valid)\n",
    "X_test_tokenizer = tokenizer.texts_to_sequences(X_test)"
   ]
  },
  {
   "cell_type": "code",
   "execution_count": 19,
   "id": "cb37bbae-c33e-4bc5-9bbc-82a081a7d4c1",
   "metadata": {},
   "outputs": [],
   "source": [
    "maxlen = 64\n",
    "X_train_tokenizer = preprocessing.sequence.pad_sequences(X_train_tokenizer, maxlen=maxlen)\n",
    "X_valid_tokenizer = preprocessing.sequence.pad_sequences(X_valid_tokenizer, maxlen=maxlen)\n",
    "X_test_tokenizer = preprocessing.sequence.pad_sequences(X_test_tokenizer, maxlen=maxlen)"
   ]
  },
  {
   "cell_type": "code",
   "execution_count": 20,
   "id": "a84e090b-5578-4789-a70d-cb4f6f8cac7b",
   "metadata": {},
   "outputs": [
    {
     "data": {
      "text/plain": [
       "103649"
      ]
     },
     "execution_count": 20,
     "metadata": {},
     "output_type": "execute_result"
    }
   ],
   "source": [
    "input_dim = len(tokenizer.word_index) + 1\n",
    "input_dim"
   ]
  },
  {
   "cell_type": "code",
   "execution_count": 21,
   "id": "8871a8cd-cc7c-4363-ba45-4d6a5b6cfa96",
   "metadata": {},
   "outputs": [],
   "source": [
    "documents = [_text.split() for _text in df[\"text\"]]"
   ]
  },
  {
   "cell_type": "code",
   "execution_count": 22,
   "id": "429d819f-48c5-4365-8dff-2b3ea798840e",
   "metadata": {},
   "outputs": [],
   "source": [
    "w2v_model = gensim.models.word2vec.Word2Vec(\n",
    "    vector_size = 100,\n",
    "    window = 2,\n",
    "    min_count = 10,\n",
    "    workers = 10\n",
    ")"
   ]
  },
  {
   "cell_type": "code",
   "execution_count": 23,
   "id": "a44670d1-e6dd-43f1-b0b7-633234b10cbc",
   "metadata": {},
   "outputs": [],
   "source": [
    "w2v_model.build_vocab(documents)"
   ]
  },
  {
   "cell_type": "code",
   "execution_count": 24,
   "id": "3875ee1d-62ca-416c-8665-9726a7c2c030",
   "metadata": {},
   "outputs": [
    {
     "data": {
      "text/plain": [
       "23630"
      ]
     },
     "execution_count": 24,
     "metadata": {},
     "output_type": "execute_result"
    }
   ],
   "source": [
    "vocab_len = len(w2v_model.wv)\n",
    "vocab_len"
   ]
  },
  {
   "cell_type": "code",
   "execution_count": 25,
   "id": "d1fd3273-d099-4064-86ed-c08af0e8d9c3",
   "metadata": {},
   "outputs": [
    {
     "data": {
      "text/plain": [
       "(38735444, 46927632)"
      ]
     },
     "execution_count": 25,
     "metadata": {},
     "output_type": "execute_result"
    }
   ],
   "source": [
    "w2v_model.train(documents, total_examples=len(documents), epochs=16)"
   ]
  },
  {
   "cell_type": "code",
   "execution_count": 26,
   "id": "319478a4-1fed-445c-bb63-6623b9660a2d",
   "metadata": {},
   "outputs": [
    {
     "name": "stderr",
     "output_type": "stream",
     "text": [
      "100%|██████████████████████████████████████████████████████████| 103648/103648 [00:00<00:00, 1100329.09it/s]\n"
     ]
    }
   ],
   "source": [
    "wv_embedding_matrix = np.zeros((input_dim, 100))\n",
    "for word, i in tqdm.tqdm(tokenizer.word_index.items()):\n",
    "    if word in w2v_model.wv:\n",
    "        wv_embedding_matrix[i] = w2v_model.wv[word]"
   ]
  },
  {
   "cell_type": "code",
   "execution_count": 27,
   "id": "fd38bdd1-62a5-4808-9763-45172ca5aee8",
   "metadata": {},
   "outputs": [],
   "source": [
    "model = models.Sequential([\n",
    "    layers.Input(shape=X_train_tokenizer.shape[1]),\n",
    "    layers.Embedding(len(tokenizer.word_index)+1, 100, weights=[wv_embedding_matrix], input_length=maxlen, trainable=False),\n",
    "    layers.SimpleRNN(100),\n",
    "    layers.Dense(3, activation='softmax')\n",
    "])"
   ]
  },
  {
   "cell_type": "code",
   "execution_count": 28,
   "id": "ae5c6226-d14a-4dab-a3f0-60875080a146",
   "metadata": {},
   "outputs": [],
   "source": [
    "model.compile(loss='categorical_crossentropy', \n",
    "                  optimizer=tf.keras.optimizers.legacy.Adam(), \n",
    "                  metrics=['accuracy'])   "
   ]
  },
  {
   "cell_type": "code",
   "execution_count": 29,
   "id": "654817e4-4efd-4c36-8ed7-47b995499d30",
   "metadata": {},
   "outputs": [
    {
     "name": "stdout",
     "output_type": "stream",
     "text": [
      "Model: \"sequential\"\n",
      "_________________________________________________________________\n",
      " Layer (type)                Output Shape              Param #   \n",
      "=================================================================\n",
      " embedding (Embedding)       (None, 64, 100)           10364900  \n",
      "                                                                 \n",
      " simple_rnn (SimpleRNN)      (None, 100)               20100     \n",
      "                                                                 \n",
      " dense (Dense)               (None, 3)                 303       \n",
      "                                                                 \n",
      "=================================================================\n",
      "Total params: 10,385,303\n",
      "Trainable params: 20,403\n",
      "Non-trainable params: 10,364,900\n",
      "_________________________________________________________________\n"
     ]
    }
   ],
   "source": [
    "model.summary()"
   ]
  },
  {
   "cell_type": "code",
   "execution_count": 30,
   "id": "5849dba4-4242-41d8-a930-1ed8afb98b4e",
   "metadata": {},
   "outputs": [
    {
     "data": {
      "image/png": "[encoded data removed]",
      "text/plain": [
       "<IPython.core.display.Image object>"
      ]
     },
     "execution_count": 30,
     "metadata": {},
     "output_type": "execute_result"
    }
   ],
   "source": [
    "tf.keras.utils.plot_model(model, show_layer_names=True, show_shapes=True, expand_nested=True, to_file=\"./output/rnn_word2vec_model_plot.png\")"
   ]
  },
  {
   "cell_type": "code",
   "execution_count": 31,
   "id": "8bf7ecbf-1e80-4984-82c5-c178f0edfd3d",
   "metadata": {},
   "outputs": [
    {
     "name": "stdout",
     "output_type": "stream",
     "text": [
      "Epoch 1/10\n",
      "1141/1141 [==============================] - 15s 13ms/step - loss: 0.6448 - accuracy: 0.7383 - val_loss: 0.6066 - val_accuracy: 0.7551\n",
      "Epoch 2/10\n",
      "1141/1141 [==============================] - 15s 13ms/step - loss: 0.6157 - accuracy: 0.7498 - val_loss: 0.6111 - val_accuracy: 0.7571\n",
      "Epoch 3/10\n",
      "1141/1141 [==============================] - 15s 13ms/step - loss: 0.5897 - accuracy: 0.7636 - val_loss: 0.6294 - val_accuracy: 0.7448\n",
      "Epoch 4/10\n",
      "1141/1141 [==============================] - 15s 13ms/step - loss: 0.5726 - accuracy: 0.7719 - val_loss: 0.5905 - val_accuracy: 0.7627\n",
      "Epoch 5/10\n",
      "1141/1141 [==============================] - 15s 13ms/step - loss: 0.5584 - accuracy: 0.7784 - val_loss: 0.5763 - val_accuracy: 0.7677\n",
      "Epoch 6/10\n",
      "1141/1141 [==============================] - 15s 13ms/step - loss: 0.5471 - accuracy: 0.7830 - val_loss: 0.5711 - val_accuracy: 0.7713\n",
      "Epoch 7/10\n",
      "1141/1141 [==============================] - 15s 13ms/step - loss: 0.5381 - accuracy: 0.7865 - val_loss: 0.5588 - val_accuracy: 0.7775\n",
      "Epoch 8/10\n",
      "1141/1141 [==============================] - 15s 13ms/step - loss: 0.5232 - accuracy: 0.7932 - val_loss: 0.5673 - val_accuracy: 0.7788\n",
      "Epoch 9/10\n",
      "1141/1141 [==============================] - 15s 13ms/step - loss: 0.5133 - accuracy: 0.7971 - val_loss: 0.5516 - val_accuracy: 0.7832\n",
      "Epoch 10/10\n",
      "1141/1141 [==============================] - 15s 13ms/step - loss: 0.5001 - accuracy: 0.8040 - val_loss: 0.5869 - val_accuracy: 0.7633\n",
      "RNN Train Time = 149.9060\n"
     ]
    }
   ],
   "source": [
    "model1_train_start = time.time()\n",
    "model_history = model.fit(\n",
    "    X_train_tokenizer, \n",
    "    y_train, \n",
    "    epochs=10, \n",
    "    batch_size=128, \n",
    "    validation_data=[X_valid_tokenizer, y_valid], \n",
    "    callbacks=[callbacks.EarlyStopping(monitor=\"val_accuracy\", patience=3)]\n",
    ")\n",
    "model1_train_time = time.time() - model1_train_start\n",
    "print(f\"RNN Train Time = {model1_train_time:.4f}\")"
   ]
  },
  {
   "cell_type": "code",
   "execution_count": 32,
   "id": "5401e62d-9a27-411b-9e7a-373855a533c9",
   "metadata": {},
   "outputs": [
    {
     "name": "stdout",
     "output_type": "stream",
     "text": [
      "RNN Test Time = 1.2226\n"
     ]
    }
   ],
   "source": [
    "model1_test_start = time.time()\n",
    "model_pred_test = model.predict(X_test_tokenizer, verbose=0)\n",
    "model1_test_time = time.time() - model1_test_start\n",
    "print(f\"RNN Test Time = {model1_test_time:.4f}\")"
   ]
  },
  {
   "cell_type": "code",
   "execution_count": 33,
   "id": "e309d0ed-6fb7-4998-af66-017d6a5767bf",
   "metadata": {},
   "outputs": [],
   "source": [
    "true_labels_train = np.argmax(y_train, axis=1)\n",
    "true_labels_test = np.argmax(y_test, axis=1)"
   ]
  },
  {
   "cell_type": "code",
   "execution_count": 34,
   "id": "a400a4ea-c17e-4195-ab0b-95394f912d5a",
   "metadata": {},
   "outputs": [
    {
     "name": "stdout",
     "output_type": "stream",
     "text": [
      "RNN Train Score = 78.4209%\n",
      "RNN Test Score = 75.9990%\n"
     ]
    }
   ],
   "source": [
    "model_pred_train = model.predict(X_train_tokenizer, verbose=0)\n",
    "model_pred_train = np.argmax(model_pred_train, axis=1)\n",
    "model_pred_test = np.argmax(model_pred_test, axis=1)\n",
    "model_train_score = accuracy_score(model_pred_train, true_labels_train)\n",
    "model_test_score = accuracy_score(model_pred_test, true_labels_test)\n",
    "print(f\"RNN Train Score = {model_train_score * 100:.4f}%\")\n",
    "print(f\"RNN Test Score = {model_test_score * 100:.4f}%\")"
   ]
  },
  {
   "cell_type": "code",
   "execution_count": 35,
   "id": "76f46b52-9cde-4d6f-8bf6-86df6cb122ed",
   "metadata": {},
   "outputs": [
    {
     "name": "stdout",
     "output_type": "stream",
     "text": [
      "RNN Precision Score = 64.8018%\n",
      "RNN F1 Score = 53.4257%\n",
      "RNN Recall Score = 52.8494%\n",
      "RNN Accuracy Score = 75.9990%\n"
     ]
    }
   ],
   "source": [
    "model_precision_score = precision_score(true_labels_test, model_pred_test, average=\"macro\")\n",
    "model_f1_score = f1_score(true_labels_test, model_pred_test, average=\"macro\")\n",
    "model_recall_score = recall_score(true_labels_test, model_pred_test, average=\"macro\")\n",
    "model_accuracy_score = accuracy_score(true_labels_test, model_pred_test)\n",
    "\n",
    "print(f\"RNN Precision Score = {model_precision_score * 100:.4f}%\")\n",
    "print(f\"RNN F1 Score = {model_f1_score * 100:.4f}%\")\n",
    "print(f\"RNN Recall Score = {model_recall_score * 100:.4f}%\")\n",
    "print(f\"RNN Accuracy Score = {model_accuracy_score * 100:.4f}%\")"
   ]
  },
  {
   "cell_type": "code",
   "execution_count": 36,
   "id": "81ce7b80-0cbd-4fe0-8f2b-d7801553ef57",
   "metadata": {},
   "outputs": [
    {
     "name": "stdout",
     "output_type": "stream",
     "text": [
      "              precision    recall  f1-score   support\n",
      "\n",
      "    Negative       0.73      0.93      0.82      4508\n",
      "     Neutral       0.38      0.04      0.08       421\n",
      "    Positive       0.84      0.61      0.71      3179\n",
      "\n",
      "    accuracy                           0.76      8108\n",
      "   macro avg       0.65      0.53      0.53      8108\n",
      "weighted avg       0.75      0.76      0.74      8108\n",
      "\n"
     ]
    }
   ],
   "source": [
    "print(classification_report(true_labels_test, model_pred_test, target_names=[\"Negative\", \"Neutral\", \"Positive\"]))"
   ]
  },
  {
   "cell_type": "code",
   "execution_count": 37,
   "id": "cca321d2-ec4d-4171-a1c6-de040f17ae51",
   "metadata": {},
   "outputs": [
    {
     "data": {
      "image/png": "[encoded data removed]",
      "text/plain": [
       "<Figure size 1000x1000 with 2 Axes>"
      ]
     },
     "metadata": {},
     "output_type": "display_data"
    }
   ],
   "source": [
    "model_cm = confusion_matrix(true_labels_test, model_pred_test)\n",
    "fig, ax = plot_confusion_matrix(conf_mat=model_cm, show_absolute=True, show_normed=True, colorbar=True, class_names=[\"Negative\", \"Neutral\", \"Positive\"], figsize=(10, 10))\n",
    "plt.title(\"RNN + Word2Vec - Sentiment Analysis\")\n",
    "plt.savefig(\"./output/rnn_word2vec.png\")\n",
    "plt.show()"
   ]
  },
  {
   "cell_type": "code",
   "execution_count": null,
   "id": "e0ee0e34-7d4f-4165-9402-cbcd78749a58",
   "metadata": {},
   "outputs": [],
   "source": []
  },
  {
   "cell_type": "code",
   "execution_count": null,
   "id": "59b80f49-5c07-43f2-a6b1-5f81b44d1cc9",
   "metadata": {},
   "outputs": [],
   "source": []
  },
  {
   "cell_type": "code",
   "execution_count": null,
   "id": "74b1bc22-56c7-49b1-b816-2a89a240b6ea",
   "metadata": {},
   "outputs": [],
   "source": []
  },
  {
   "cell_type": "code",
   "execution_count": null,
   "id": "e47902c4-5dd6-4fcc-ad1b-5860179c3061",
   "metadata": {},
   "outputs": [],
   "source": []
  },
  {
   "cell_type": "code",
   "execution_count": null,
   "id": "2ee26c5c-5b57-4469-8315-44dfe5cdb8f8",
   "metadata": {},
   "outputs": [],
   "source": []
  },
  {
   "cell_type": "code",
   "execution_count": null,
   "id": "a4853fcf-51c1-4954-8cf2-7433cc4b5716",
   "metadata": {},
   "outputs": [],
   "source": []
  },
  {
   "cell_type": "code",
   "execution_count": null,
   "id": "f3323afc-2f2a-4c3d-a6ec-76d107d36254",
   "metadata": {},
   "outputs": [],
   "source": []
  }
 ],
 "metadata": {
  "kernelspec": {
   "display_name": "Python 3 (ipykernel)",
   "language": "python",
   "name": "python3"
  },
  "language_info": {
   "codemirror_mode": {
    "name": "ipython",
    "version": 3
   },
   "file_extension": ".py",
   "mimetype": "text/x-python",
   "name": "python",
   "nbconvert_exporter": "python",
   "pygments_lexer": "ipython3",
   "version": "3.10.12"
  }
 },
 "nbformat": 4,
 "nbformat_minor": 5
}
