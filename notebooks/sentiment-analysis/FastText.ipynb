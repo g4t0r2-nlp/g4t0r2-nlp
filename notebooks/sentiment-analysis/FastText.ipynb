{
 "cells": [
  {
   "cell_type": "code",
   "execution_count": 1,
   "id": "03d50e87-3e66-4bb6-a33f-9a3767206cfe",
   "metadata": {},
   "outputs": [],
   "source": [
    "import os\n",
    "os.environ[\"TF_CPP_MIN_LOG_LEVEL\"] = \"3\"\n",
    "\n",
    "import time\n",
    "import tqdm\n",
    "import random\n",
    "import argparse\n",
    "\n",
    "import numpy as np\n",
    "import pandas as pd\n",
    "tqdm.tqdm.pandas()\n",
    "\n",
    "import matplotlib.pyplot as plt\n",
    "\n",
    "import fasttext\n",
    "\n",
    "import gensim\n",
    "from gensim import corpora, models, similarities\n",
    "\n",
    "from sklearn.model_selection import train_test_split\n",
    "\n",
    "from mlxtend.plotting import plot_confusion_matrix\n",
    "\n",
    "from sklearn.metrics import classification_report, confusion_matrix\n",
    "from sklearn.metrics import accuracy_score, f1_score, precision_score, recall_score\n",
    "\n",
    "import warnings\n",
    "from sklearn.exceptions import ConvergenceWarning\n",
    "warnings.filterwarnings(\"ignore\", category=UserWarning)\n",
    "warnings.filterwarnings(\"ignore\", category=FutureWarning)\n",
    "warnings.filterwarnings(\"ignore\", category=ConvergenceWarning)\n",
    "\n",
    "def set_seed(seed):\n",
    "    random.seed(seed)\n",
    "    np.random.seed(seed)\n",
    "    os.environ['PYTHONHASHSEED'] = str(seed)"
   ]
  },
  {
   "cell_type": "code",
   "execution_count": 2,
   "id": "621ff996-3211-47ac-b0d7-07a658d9250d",
   "metadata": {},
   "outputs": [],
   "source": [
    "set_seed(42)"
   ]
  },
  {
   "cell_type": "code",
   "execution_count": 3,
   "id": "51296937-0bb1-4f57-99a3-1e71f5e8d0f1",
   "metadata": {},
   "outputs": [],
   "source": [
    "df = pd.read_csv(\"/mnt/d/work2/teknofest-tddi/data/processed/cleaned.csv\")\n",
    "df = df.dropna()\n",
    "df = df.reset_index(drop=True)"
   ]
  },
  {
   "cell_type": "code",
   "execution_count": 4,
   "id": "1510d643-fa5a-4970-bfc9-1cef635280e8",
   "metadata": {},
   "outputs": [
    {
     "data": {
      "text/html": [
       "<div>\n",
       "<style scoped>\n",
       "    .dataframe tbody tr th:only-of-type {\n",
       "        vertical-align: middle;\n",
       "    }\n",
       "\n",
       "    .dataframe tbody tr th {\n",
       "        vertical-align: top;\n",
       "    }\n",
       "\n",
       "    .dataframe thead th {\n",
       "        text-align: right;\n",
       "    }\n",
       "</style>\n",
       "<table border=\"1\" class=\"dataframe\">\n",
       "  <thead>\n",
       "    <tr style=\"text-align: right;\">\n",
       "      <th></th>\n",
       "      <th>rid</th>\n",
       "      <th>sid</th>\n",
       "      <th>app</th>\n",
       "      <th>review</th>\n",
       "      <th>sentiment</th>\n",
       "      <th>aspect</th>\n",
       "      <th>aspect_polarity</th>\n",
       "      <th>cleaned</th>\n",
       "      <th>text</th>\n",
       "    </tr>\n",
       "  </thead>\n",
       "  <tbody>\n",
       "    <tr>\n",
       "      <th>0</th>\n",
       "      <td>9</td>\n",
       "      <td>1</td>\n",
       "      <td>Google Play Store/BiP</td>\n",
       "      <td>Uygulamada kartlarda Troy kart geçmiyor Lütfen...</td>\n",
       "      <td>Positive</td>\n",
       "      <td>Troy</td>\n",
       "      <td>2</td>\n",
       "      <td>Uygulamada kartlarda Troy kart geçmiyor uygula...</td>\n",
       "      <td>Troy Uygulamada kartlarda Troy kart geçmiyor u...</td>\n",
       "    </tr>\n",
       "    <tr>\n",
       "      <th>1</th>\n",
       "      <td>9</td>\n",
       "      <td>1</td>\n",
       "      <td>Google Play Store/BiP</td>\n",
       "      <td>Uygulamada kartlarda Troy kart geçmiyor Lütfen...</td>\n",
       "      <td>Positive</td>\n",
       "      <td>Troy</td>\n",
       "      <td>2</td>\n",
       "      <td>Uygulamada kartlarda Troy kart geçmiyor uygula...</td>\n",
       "      <td>Troy Uygulamada kartlarda Troy kart geçmiyor u...</td>\n",
       "    </tr>\n",
       "    <tr>\n",
       "      <th>2</th>\n",
       "      <td>10</td>\n",
       "      <td>1</td>\n",
       "      <td>Google Play Store/BiP</td>\n",
       "      <td>Her güncellemede daha da kötüleşen Turkcell in...</td>\n",
       "      <td>Negative</td>\n",
       "      <td>Turkcell</td>\n",
       "      <td>0</td>\n",
       "      <td>güncellemede kötüleşen Turkcell in ara ara ken...</td>\n",
       "      <td>Turkcell güncellemede kötüleşen Turkcell in ar...</td>\n",
       "    </tr>\n",
       "    <tr>\n",
       "      <th>3</th>\n",
       "      <td>13</td>\n",
       "      <td>1</td>\n",
       "      <td>Google Play Store/BiP</td>\n",
       "      <td>BiP’ten aranmıyor yardım</td>\n",
       "      <td>Negative</td>\n",
       "      <td>BiP’ten</td>\n",
       "      <td>0</td>\n",
       "      <td>BiPten aranmıyor yardım</td>\n",
       "      <td>BiP’ten BiPten aranmıyor yardım</td>\n",
       "    </tr>\n",
       "    <tr>\n",
       "      <th>4</th>\n",
       "      <td>17</td>\n",
       "      <td>1</td>\n",
       "      <td>Google Play Store/BiP</td>\n",
       "      <td>Bu yorumum kesinlikle uygulamanın daha çok gel...</td>\n",
       "      <td>Positive</td>\n",
       "      <td>BİP</td>\n",
       "      <td>2</td>\n",
       "      <td>yorumum uygulamanın gelişmesi kulanıcıya erişi...</td>\n",
       "      <td>BİP yorumum uygulamanın gelişmesi kulanıcıya e...</td>\n",
       "    </tr>\n",
       "  </tbody>\n",
       "</table>\n",
       "</div>"
      ],
      "text/plain": [
       "   rid  sid                    app  \\\n",
       "0    9    1  Google Play Store/BiP   \n",
       "1    9    1  Google Play Store/BiP   \n",
       "2   10    1  Google Play Store/BiP   \n",
       "3   13    1  Google Play Store/BiP   \n",
       "4   17    1  Google Play Store/BiP   \n",
       "\n",
       "                                              review sentiment    aspect  \\\n",
       "0  Uygulamada kartlarda Troy kart geçmiyor Lütfen...  Positive      Troy   \n",
       "1  Uygulamada kartlarda Troy kart geçmiyor Lütfen...  Positive      Troy   \n",
       "2  Her güncellemede daha da kötüleşen Turkcell in...  Negative  Turkcell   \n",
       "3                           BiP’ten aranmıyor yardım  Negative   BiP’ten   \n",
       "4  Bu yorumum kesinlikle uygulamanın daha çok gel...  Positive       BİP   \n",
       "\n",
       "   aspect_polarity                                            cleaned  \\\n",
       "0                2  Uygulamada kartlarda Troy kart geçmiyor uygula...   \n",
       "1                2  Uygulamada kartlarda Troy kart geçmiyor uygula...   \n",
       "2                0  güncellemede kötüleşen Turkcell in ara ara ken...   \n",
       "3                0                            BiPten aranmıyor yardım   \n",
       "4                2  yorumum uygulamanın gelişmesi kulanıcıya erişi...   \n",
       "\n",
       "                                                text  \n",
       "0  Troy Uygulamada kartlarda Troy kart geçmiyor u...  \n",
       "1  Troy Uygulamada kartlarda Troy kart geçmiyor u...  \n",
       "2  Turkcell güncellemede kötüleşen Turkcell in ar...  \n",
       "3                    BiP’ten BiPten aranmıyor yardım  \n",
       "4  BİP yorumum uygulamanın gelişmesi kulanıcıya e...  "
      ]
     },
     "execution_count": 4,
     "metadata": {},
     "output_type": "execute_result"
    }
   ],
   "source": [
    "df.head()"
   ]
  },
  {
   "cell_type": "code",
   "execution_count": 5,
   "id": "d1487847-c5f1-47ce-8830-1096c8e267eb",
   "metadata": {},
   "outputs": [],
   "source": [
    "df[\"text\"] = df[\"aspect\"] + \" \" + df[\"cleaned\"]"
   ]
  },
  {
   "cell_type": "code",
   "execution_count": 6,
   "id": "1ba7fa94-69e7-446d-9989-fa9b0251a75b",
   "metadata": {},
   "outputs": [],
   "source": [
    "X = df[\"text\"]\n",
    "y = df[\"aspect_polarity\"]"
   ]
  },
  {
   "cell_type": "code",
   "execution_count": 9,
   "id": "d42716a8-9253-4032-8432-350d6cf031ea",
   "metadata": {},
   "outputs": [],
   "source": [
    "def train_validate_test_split(df, split_size):\n",
    "    perm = np.random.permutation(df.index)\n",
    "    train_end = int(split_size * len(df.index))\n",
    "    validate_end = int(((1 - split_size) / 2) * len(df.index)) + train_end\n",
    "    train = df.iloc[perm[:train_end]]\n",
    "    validate = df.iloc[perm[train_end:validate_end]]\n",
    "    test = df.iloc[perm[validate_end:]]\n",
    "    return train, validate, test"
   ]
  },
  {
   "cell_type": "code",
   "execution_count": 12,
   "id": "c35d55cb-17d2-42b8-8ae1-04bdd8f4e93a",
   "metadata": {},
   "outputs": [],
   "source": [
    "train_df, valid_df, test_df = train_validate_test_split(df, split_size=0.9)"
   ]
  },
  {
   "cell_type": "code",
   "execution_count": 13,
   "id": "1351bb1c-5f8d-453b-8da6-b1e57dd3d7c2",
   "metadata": {},
   "outputs": [],
   "source": [
    "train_df.reset_index(drop=True, inplace=True)\n",
    "valid_df.reset_index(drop=True, inplace=True)\n",
    "test_df.reset_index(drop=True, inplace=True)"
   ]
  },
  {
   "cell_type": "code",
   "execution_count": 14,
   "id": "3a39bc52-bb84-4775-b9dd-9ad719228dc6",
   "metadata": {},
   "outputs": [
    {
     "name": "stderr",
     "output_type": "stream",
     "text": [
      "/tmp/ipykernel_228050/789492946.py:1: SettingWithCopyWarning: \n",
      "A value is trying to be set on a copy of a slice from a DataFrame.\n",
      "Try using .loc[row_indexer,col_indexer] = value instead\n",
      "\n",
      "See the caveats in the documentation: https://pandas.pydata.org/pandas-docs/stable/user_guide/indexing.html#returning-a-view-versus-a-copy\n",
      "  train_df[\"label_format\"] = 0\n",
      "/tmp/ipykernel_228050/789492946.py:3: SettingWithCopyWarning: \n",
      "A value is trying to be set on a copy of a slice from a DataFrame\n",
      "\n",
      "See the caveats in the documentation: https://pandas.pydata.org/pandas-docs/stable/user_guide/indexing.html#returning-a-view-versus-a-copy\n",
      "  train_df.label_format[i] = \"__label__\" + str(train_df[\"aspect_polarity\"][i]) + \" \" + str(train_df[\"text\"][i])\n"
     ]
    }
   ],
   "source": [
    "train_df[\"label_format\"] = 0\n",
    "for i in range(len(train_df)):\n",
    "    train_df.label_format[i] = \"__label__\" + str(train_df[\"aspect_polarity\"][i]) + \" \" + str(train_df[\"text\"][i])"
   ]
  },
  {
   "cell_type": "code",
   "execution_count": 15,
   "id": "2c2e9e07-a40a-432d-985a-727ed43d587b",
   "metadata": {},
   "outputs": [
    {
     "name": "stderr",
     "output_type": "stream",
     "text": [
      "/tmp/ipykernel_228050/3067820444.py:1: SettingWithCopyWarning: \n",
      "A value is trying to be set on a copy of a slice from a DataFrame.\n",
      "Try using .loc[row_indexer,col_indexer] = value instead\n",
      "\n",
      "See the caveats in the documentation: https://pandas.pydata.org/pandas-docs/stable/user_guide/indexing.html#returning-a-view-versus-a-copy\n",
      "  valid_df[\"label_format\"] = 0\n",
      "/tmp/ipykernel_228050/3067820444.py:3: SettingWithCopyWarning: \n",
      "A value is trying to be set on a copy of a slice from a DataFrame\n",
      "\n",
      "See the caveats in the documentation: https://pandas.pydata.org/pandas-docs/stable/user_guide/indexing.html#returning-a-view-versus-a-copy\n",
      "  valid_df.label_format[i] = \"__label__\" + str(valid_df[\"aspect_polarity\"][i]) + \" \" + str(valid_df[\"text\"][i])\n"
     ]
    }
   ],
   "source": [
    "valid_df[\"label_format\"] = 0\n",
    "for i in range(len(valid_df)):\n",
    "    valid_df.label_format[i] = \"__label__\" + str(valid_df[\"aspect_polarity\"][i]) + \" \" + str(valid_df[\"text\"][i])"
   ]
  },
  {
   "cell_type": "code",
   "execution_count": 16,
   "id": "0bdca675-93a2-44bc-8f14-4f156e61ffbc",
   "metadata": {},
   "outputs": [
    {
     "name": "stderr",
     "output_type": "stream",
     "text": [
      "/tmp/ipykernel_228050/401181974.py:1: SettingWithCopyWarning: \n",
      "A value is trying to be set on a copy of a slice from a DataFrame.\n",
      "Try using .loc[row_indexer,col_indexer] = value instead\n",
      "\n",
      "See the caveats in the documentation: https://pandas.pydata.org/pandas-docs/stable/user_guide/indexing.html#returning-a-view-versus-a-copy\n",
      "  test_df[\"label_format\"] = 0\n",
      "/tmp/ipykernel_228050/401181974.py:3: SettingWithCopyWarning: \n",
      "A value is trying to be set on a copy of a slice from a DataFrame\n",
      "\n",
      "See the caveats in the documentation: https://pandas.pydata.org/pandas-docs/stable/user_guide/indexing.html#returning-a-view-versus-a-copy\n",
      "  test_df.label_format[i] = \"__label__\" + str(test_df[\"aspect_polarity\"][i]) + \" \" + str(test_df[\"text\"][i])\n"
     ]
    }
   ],
   "source": [
    "test_df[\"label_format\"] = 0\n",
    "for i in range(len(test_df)):\n",
    "    test_df.label_format[i] = \"__label__\" + str(test_df[\"aspect_polarity\"][i]) + \" \" + str(test_df[\"text\"][i])"
   ]
  },
  {
   "cell_type": "code",
   "execution_count": 17,
   "id": "bbabeb7e-0ca1-466f-85ef-0af1a91fe6ee",
   "metadata": {},
   "outputs": [],
   "source": [
    "train_df.label_format.to_csv(\"fasttext_train.txt\", index=None, header=None)\n",
    "valid_df.label_format.to_csv(\"fasttext_valid.txt\", index=None, header=None)\n",
    "test_df.label_format.to_csv(\"fasttext_test.txt\", index=None, header=None)"
   ]
  },
  {
   "cell_type": "code",
   "execution_count": 18,
   "id": "97106c5b-d09d-43f6-9c99-c1e462fec583",
   "metadata": {},
   "outputs": [
    {
     "name": "stderr",
     "output_type": "stream",
     "text": [
      "Read 2M words\n",
      "Number of words:  103172\n",
      "Number of labels: 3\n",
      "Progress:  99.0% words/sec/thread: 1071690 lr:  0.000510 avg.loss:  0.299367 ETA:   0h 0m 0s"
     ]
    },
    {
     "name": "stdout",
     "output_type": "stream",
     "text": [
      "FastText Train Time = 13.1039\n"
     ]
    },
    {
     "name": "stderr",
     "output_type": "stream",
     "text": [
      "Progress: 100.0% words/sec/thread: 1065392 lr:  0.000000 avg.loss:  0.298017 ETA:   0h 0m 0s\n"
     ]
    }
   ],
   "source": [
    "model5_train_start = time.time()\n",
    "fasttext_model = fasttext.train_supervised(\"fasttext_train.txt\", epoch=50, lr=0.05, label_prefix=\"__label__\", dim=300)\n",
    "model5_train_time = time.time() - model5_train_start\n",
    "print(f\"FastText Train Time = {model5_train_time:.4f}\")"
   ]
  },
  {
   "cell_type": "code",
   "execution_count": 19,
   "id": "d3e174b4-829f-42f8-9d54-5cdd66546d02",
   "metadata": {},
   "outputs": [],
   "source": [
    "def predict_fasttext(row):\n",
    "    pred = fasttext_model.predict(row)[0][0].replace(\"__label__\", \"\")\n",
    "    return int(pred)"
   ]
  },
  {
   "cell_type": "code",
   "execution_count": 24,
   "id": "5b573fdb-8074-4ea1-8f89-e2d5a0cc4eca",
   "metadata": {},
   "outputs": [
    {
     "name": "stdout",
     "output_type": "stream",
     "text": [
      "FastText Test Time = 0.0824\n"
     ]
    }
   ],
   "source": [
    "model5_test_start = time.time()\n",
    "fasttext_pred_test = [predict_fasttext(test) for test in test_df.label_format]\n",
    "model5_test_time = time.time() - model5_test_start\n",
    "print(f\"FastText Test Time = {model5_test_time:.4f}\")"
   ]
  },
  {
   "cell_type": "code",
   "execution_count": 28,
   "id": "4a9f3ce4-ee3e-46a4-a8b9-6405c41c836a",
   "metadata": {},
   "outputs": [
    {
     "name": "stdout",
     "output_type": "stream",
     "text": [
      "FastText Train Score = 95.9091%\n",
      "FastText Test Score = 83.6704%\n"
     ]
    }
   ],
   "source": [
    "fasttext_pred_train = [predict_fasttext(train) for train in train_df.label_format]\n",
    "fasttext_train_score = accuracy_score(fasttext_pred_train, train_df.aspect_polarity)\n",
    "fasttext_test_score = accuracy_score(fasttext_pred_test, test_df.aspect_polarity)\n",
    "print(f\"FastText Train Score = {fasttext_train_score * 100:.4f}%\")\n",
    "print(f\"FastText Test Score = {fasttext_test_score * 100:.4f}%\")"
   ]
  },
  {
   "cell_type": "code",
   "execution_count": 29,
   "id": "d4458c78-b9d0-44b9-b5d1-d2a42d0d4ca8",
   "metadata": {},
   "outputs": [
    {
     "name": "stdout",
     "output_type": "stream",
     "text": [
      "FastText Precision Score = 73.4314%\n",
      "FastText F1 Score = 73.0349%\n",
      "FastText Recall Score = 72.6645%\n",
      "FastText Accuracy Score = 83.6704%\n"
     ]
    }
   ],
   "source": [
    "fasttext_precision_score = precision_score(test_df.aspect_polarity, fasttext_pred_test, average=\"macro\")\n",
    "fasttext_f1_score = f1_score(test_df.aspect_polarity, fasttext_pred_test, average=\"macro\")\n",
    "fasttext_recall_score = recall_score(test_df.aspect_polarity, fasttext_pred_test, average=\"macro\")\n",
    "fasttext_accuracy_score = accuracy_score(test_df.aspect_polarity, fasttext_pred_test)\n",
    "\n",
    "print(f\"FastText Precision Score = {fasttext_precision_score * 100:.4f}%\")\n",
    "print(f\"FastText F1 Score = {fasttext_f1_score * 100:.4f}%\")\n",
    "print(f\"FastText Recall Score = {fasttext_recall_score * 100:.4f}%\")\n",
    "print(f\"FastText Accuracy Score = {fasttext_accuracy_score * 100:.4f}%\")"
   ]
  },
  {
   "cell_type": "code",
   "execution_count": 30,
   "id": "668549bb-2b09-4a1c-8a7a-313cdf80ea1f",
   "metadata": {},
   "outputs": [
    {
     "name": "stdout",
     "output_type": "stream",
     "text": [
      "              precision    recall  f1-score   support\n",
      "\n",
      "    Negative       0.87      0.88      0.87      4508\n",
      "     Neutral       0.50      0.48      0.49       421\n",
      "    Positive       0.83      0.83      0.83      3179\n",
      "\n",
      "    accuracy                           0.84      8108\n",
      "   macro avg       0.73      0.73      0.73      8108\n",
      "weighted avg       0.84      0.84      0.84      8108\n",
      "\n"
     ]
    }
   ],
   "source": [
    "print(classification_report(test_df.aspect_polarity, fasttext_pred_test, target_names=[\"Negative\", \"Neutral\", \"Positive\"]))"
   ]
  },
  {
   "cell_type": "code",
   "execution_count": 31,
   "id": "0a2054c1-bb83-4081-939d-25af0b726ec9",
   "metadata": {},
   "outputs": [
    {
     "data": {
      "image/png": "[encoded data removed]",
      "text/plain": [
       "<Figure size 1000x1000 with 2 Axes>"
      ]
     },
     "metadata": {},
     "output_type": "display_data"
    }
   ],
   "source": [
    "fasttext_cm = confusion_matrix(test_df.aspect_polarity, fasttext_pred_test)\n",
    "fig, ax = plot_confusion_matrix(conf_mat=fasttext_cm, show_absolute=True, show_normed=True, colorbar=True, class_names=[\"Negative\", \"Neutral\", \"Positive\"], figsize=(10, 10))\n",
    "plt.title(\"FastText - Sentiment Analysis\")\n",
    "plt.savefig(\"./output/fasttext.png\")\n",
    "plt.show()"
   ]
  },
  {
   "cell_type": "code",
   "execution_count": null,
   "id": "9d38b315-87f1-4eb2-bfac-f94a70d30ab6",
   "metadata": {},
   "outputs": [],
   "source": []
  }
 ],
 "metadata": {
  "kernelspec": {
   "display_name": "Python 3 (ipykernel)",
   "language": "python",
   "name": "python3"
  },
  "language_info": {
   "codemirror_mode": {
    "name": "ipython",
    "version": 3
   },
   "file_extension": ".py",
   "mimetype": "text/x-python",
   "name": "python",
   "nbconvert_exporter": "python",
   "pygments_lexer": "ipython3",
   "version": "3.10.12"
  }
 },
 "nbformat": 4,
 "nbformat_minor": 5
}
