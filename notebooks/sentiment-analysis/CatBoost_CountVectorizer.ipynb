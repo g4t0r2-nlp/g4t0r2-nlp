{
 "cells": [
  {
   "cell_type": "code",
   "execution_count": 1,
   "id": "16809a6e-ff53-484b-b0e1-dc2dbd0c753b",
   "metadata": {},
   "outputs": [],
   "source": [
    "import os\n",
    "os.environ[\"TF_CPP_MIN_LOG_LEVEL\"] = \"3\"\n",
    "\n",
    "import time\n",
    "import tqdm\n",
    "import random\n",
    "import argparse\n",
    "\n",
    "import numpy as np\n",
    "import pandas as pd\n",
    "tqdm.tqdm.pandas()\n",
    "\n",
    "import matplotlib.pyplot as plt\n",
    "\n",
    "import gensim\n",
    "from gensim import corpora, models, similarities\n",
    "\n",
    "from sklearn.feature_extraction.text import CountVectorizer\n",
    "from sklearn.model_selection import train_test_split\n",
    "\n",
    "from mlxtend.plotting import plot_confusion_matrix\n",
    "\n",
    "from sklearn.metrics import classification_report, confusion_matrix\n",
    "from sklearn.metrics import accuracy_score, f1_score, precision_score, recall_score\n",
    "\n",
    "from catboost import CatBoostClassifier\n",
    "\n",
    "import warnings\n",
    "from sklearn.exceptions import ConvergenceWarning\n",
    "warnings.filterwarnings(\"ignore\", category=UserWarning)\n",
    "warnings.filterwarnings(\"ignore\", category=FutureWarning)\n",
    "warnings.filterwarnings(\"ignore\", category=ConvergenceWarning)\n",
    "\n",
    "def set_seed(seed):\n",
    "    random.seed(seed)\n",
    "    np.random.seed(seed)\n",
    "    os.environ['PYTHONHASHSEED'] = str(seed)"
   ]
  },
  {
   "cell_type": "code",
   "execution_count": 2,
   "id": "70040c51-263b-4b26-8857-640c350421ed",
   "metadata": {},
   "outputs": [],
   "source": [
    "set_seed(42)"
   ]
  },
  {
   "cell_type": "code",
   "execution_count": 3,
   "id": "d83ff2a3-16aa-4f32-8af4-cfb553b8b5d0",
   "metadata": {},
   "outputs": [],
   "source": [
    "df = pd.read_csv(\"/mnt/d/work2/teknofest-tddi/data/processed/cleaned.csv\")\n",
    "df = df.dropna()\n",
    "df = df.reset_index(drop=True)"
   ]
  },
  {
   "cell_type": "code",
   "execution_count": 4,
   "id": "6cd82759-7af6-4954-90f8-eff8ccf2eff9",
   "metadata": {},
   "outputs": [
    {
     "data": {
      "text/html": [
       "<div>\n",
       "<style scoped>\n",
       "    .dataframe tbody tr th:only-of-type {\n",
       "        vertical-align: middle;\n",
       "    }\n",
       "\n",
       "    .dataframe tbody tr th {\n",
       "        vertical-align: top;\n",
       "    }\n",
       "\n",
       "    .dataframe thead th {\n",
       "        text-align: right;\n",
       "    }\n",
       "</style>\n",
       "<table border=\"1\" class=\"dataframe\">\n",
       "  <thead>\n",
       "    <tr style=\"text-align: right;\">\n",
       "      <th></th>\n",
       "      <th>rid</th>\n",
       "      <th>sid</th>\n",
       "      <th>app</th>\n",
       "      <th>review</th>\n",
       "      <th>sentiment</th>\n",
       "      <th>aspect</th>\n",
       "      <th>aspect_polarity</th>\n",
       "      <th>cleaned</th>\n",
       "      <th>text</th>\n",
       "    </tr>\n",
       "  </thead>\n",
       "  <tbody>\n",
       "    <tr>\n",
       "      <th>0</th>\n",
       "      <td>9</td>\n",
       "      <td>1</td>\n",
       "      <td>Google Play Store/BiP</td>\n",
       "      <td>Uygulamada kartlarda Troy kart geçmiyor Lütfen...</td>\n",
       "      <td>Positive</td>\n",
       "      <td>Troy</td>\n",
       "      <td>2</td>\n",
       "      <td>Uygulamada kartlarda Troy kart geçmiyor uygula...</td>\n",
       "      <td>Troy Uygulamada kartlarda Troy kart geçmiyor u...</td>\n",
       "    </tr>\n",
       "    <tr>\n",
       "      <th>1</th>\n",
       "      <td>9</td>\n",
       "      <td>1</td>\n",
       "      <td>Google Play Store/BiP</td>\n",
       "      <td>Uygulamada kartlarda Troy kart geçmiyor Lütfen...</td>\n",
       "      <td>Positive</td>\n",
       "      <td>Troy</td>\n",
       "      <td>2</td>\n",
       "      <td>Uygulamada kartlarda Troy kart geçmiyor uygula...</td>\n",
       "      <td>Troy Uygulamada kartlarda Troy kart geçmiyor u...</td>\n",
       "    </tr>\n",
       "    <tr>\n",
       "      <th>2</th>\n",
       "      <td>10</td>\n",
       "      <td>1</td>\n",
       "      <td>Google Play Store/BiP</td>\n",
       "      <td>Her güncellemede daha da kötüleşen Turkcell in...</td>\n",
       "      <td>Negative</td>\n",
       "      <td>Turkcell</td>\n",
       "      <td>0</td>\n",
       "      <td>güncellemede kötüleşen Turkcell in ara ara ken...</td>\n",
       "      <td>Turkcell güncellemede kötüleşen Turkcell in ar...</td>\n",
       "    </tr>\n",
       "    <tr>\n",
       "      <th>3</th>\n",
       "      <td>13</td>\n",
       "      <td>1</td>\n",
       "      <td>Google Play Store/BiP</td>\n",
       "      <td>BiP’ten aranmıyor yardım</td>\n",
       "      <td>Negative</td>\n",
       "      <td>BiP’ten</td>\n",
       "      <td>0</td>\n",
       "      <td>BiPten aranmıyor yardım</td>\n",
       "      <td>BiP’ten BiPten aranmıyor yardım</td>\n",
       "    </tr>\n",
       "    <tr>\n",
       "      <th>4</th>\n",
       "      <td>17</td>\n",
       "      <td>1</td>\n",
       "      <td>Google Play Store/BiP</td>\n",
       "      <td>Bu yorumum kesinlikle uygulamanın daha çok gel...</td>\n",
       "      <td>Positive</td>\n",
       "      <td>BİP</td>\n",
       "      <td>2</td>\n",
       "      <td>yorumum uygulamanın gelişmesi kulanıcıya erişi...</td>\n",
       "      <td>BİP yorumum uygulamanın gelişmesi kulanıcıya e...</td>\n",
       "    </tr>\n",
       "  </tbody>\n",
       "</table>\n",
       "</div>"
      ],
      "text/plain": [
       "   rid  ...                                               text\n",
       "0    9  ...  Troy Uygulamada kartlarda Troy kart geçmiyor u...\n",
       "1    9  ...  Troy Uygulamada kartlarda Troy kart geçmiyor u...\n",
       "2   10  ...  Turkcell güncellemede kötüleşen Turkcell in ar...\n",
       "3   13  ...                    BiP’ten BiPten aranmıyor yardım\n",
       "4   17  ...  BİP yorumum uygulamanın gelişmesi kulanıcıya e...\n",
       "\n",
       "[5 rows x 9 columns]"
      ]
     },
     "execution_count": 4,
     "metadata": {},
     "output_type": "execute_result"
    }
   ],
   "source": [
    "df.head()"
   ]
  },
  {
   "cell_type": "code",
   "execution_count": 5,
   "id": "c9e43a81-ec46-466b-ae86-dd800e471c71",
   "metadata": {},
   "outputs": [],
   "source": [
    "df[\"text\"] = df[\"aspect\"] + \" \" + df[\"cleaned\"]"
   ]
  },
  {
   "cell_type": "code",
   "execution_count": 6,
   "id": "ab2ebbc2-1e2d-4967-8930-017dfafbdbd8",
   "metadata": {},
   "outputs": [],
   "source": [
    "X = df[\"text\"]\n",
    "y = df[\"aspect_polarity\"]"
   ]
  },
  {
   "cell_type": "code",
   "execution_count": 7,
   "id": "4447e3c3-9957-453e-a178-f2bcee71e06b",
   "metadata": {},
   "outputs": [],
   "source": [
    "def train_validate_test_split(df, split_size):\n",
    "    perm = np.random.permutation(df.index)\n",
    "    train_end = int(split_size * len(df.index))\n",
    "    validate_end = int(((1 - split_size) / 2) * len(df.index)) + train_end\n",
    "    train = df.iloc[perm[:train_end]]\n",
    "    validate = df.iloc[perm[train_end:validate_end]]\n",
    "    test = df.iloc[perm[validate_end:]]\n",
    "    return train, validate, test"
   ]
  },
  {
   "cell_type": "code",
   "execution_count": 8,
   "id": "1610401c-9a6d-49f9-b1cd-69d844ebf2c5",
   "metadata": {},
   "outputs": [],
   "source": [
    "df_train, df_validation, df_test = train_validate_test_split(df, split_size=0.9)"
   ]
  },
  {
   "cell_type": "code",
   "execution_count": 9,
   "id": "03855e14-d224-496d-a4e0-cef093ee738b",
   "metadata": {},
   "outputs": [],
   "source": [
    "X_train = df_train[\"text\"]\n",
    "y_train = df_train[\"aspect_polarity\"]"
   ]
  },
  {
   "cell_type": "code",
   "execution_count": 10,
   "id": "16a5cff4-8e92-42fa-9f4e-6f262e6a06fd",
   "metadata": {},
   "outputs": [],
   "source": [
    "X_valid = df_validation[\"text\"]\n",
    "y_valid = df_validation[\"aspect_polarity\"]"
   ]
  },
  {
   "cell_type": "code",
   "execution_count": 11,
   "id": "b36d2b4c-c725-4f7b-83b0-c2edf76f2ae9",
   "metadata": {},
   "outputs": [],
   "source": [
    "X_test = df_test[\"text\"]\n",
    "y_test = df_test[\"aspect_polarity\"]"
   ]
  },
  {
   "cell_type": "code",
   "execution_count": 12,
   "id": "66203107-5b44-40b2-aacf-39385a0ed317",
   "metadata": {},
   "outputs": [],
   "source": [
    "cv = CountVectorizer()\n",
    "X_train_cv = cv.fit_transform(X_train).astype('float32')\n",
    "X_valid_cv = cv.transform(X_valid).astype('float32')\n",
    "X_test_cv = cv.transform(X_test).astype('float32')"
   ]
  },
  {
   "cell_type": "code",
   "execution_count": 16,
   "id": "dfad1267-f9cc-49b2-8cac-ee25a84e06a0",
   "metadata": {},
   "outputs": [
    {
     "name": "stdout",
     "output_type": "stream",
     "text": [
      "CatBoost + CV Train Time = 207.7125\n"
     ]
    }
   ],
   "source": [
    "catboost = CatBoostClassifier(verbose=0)\n",
    "catboost_cv_train_start = time.time()\n",
    "catboost.fit(X_train_cv, y_train)\n",
    "catboost_cv_train_time = time.time() - catboost_cv_train_start\n",
    "print(f\"CatBoost + CV Train Time = {catboost_cv_train_time:.4f}\")"
   ]
  },
  {
   "cell_type": "code",
   "execution_count": 18,
   "id": "3a49bb72-6fee-4f89-9cee-e0d4bd86be04",
   "metadata": {},
   "outputs": [
    {
     "name": "stdout",
     "output_type": "stream",
     "text": [
      "CatBoost + CV Train Score = 77.2245%\n",
      "CatBoost + CV Test Score = 76.1963%\n",
      "CatBoost + CV Test Time = 0.0832\n"
     ]
    }
   ],
   "source": [
    "catboost_cv_pred_train = catboost.predict(X_train_cv)\n",
    "catboost_cv_test_start = time.time()\n",
    "catboost_cv_pred_test = catboost.predict(X_test_cv)\n",
    "catboost_cv_test_time = time.time() - catboost_cv_test_start\n",
    "\n",
    "catboost_cv_train_score = accuracy_score(catboost_cv_pred_train, y_train)\n",
    "catboost_cv_test_score = accuracy_score(catboost_cv_pred_test, y_test)\n",
    "print(f\"CatBoost + CV Train Score = {catboost_cv_train_score * 100:.4f}%\")\n",
    "print(f\"CatBoost + CV Test Score = {catboost_cv_test_score * 100:.4f}%\")\n",
    "print(f\"CatBoost + CV Test Time = {catboost_cv_test_time:.4f}\")"
   ]
  },
  {
   "cell_type": "code",
   "execution_count": 19,
   "id": "eb2637be-6b07-4165-9699-8f2a7da1fd52",
   "metadata": {},
   "outputs": [
    {
     "name": "stdout",
     "output_type": "stream",
     "text": [
      "CatBoost + CV Precision Score = 67.2289%\n",
      "CatBoost + CV F1 Score = 52.0829%\n",
      "CatBoost + CV Recall Score = 53.0471%\n",
      "CatBoost + CV Accuracy Score = 76.1963%\n"
     ]
    }
   ],
   "source": [
    "catboost_cv_precision_score = precision_score(y_test, catboost_cv_pred_test, average='macro')\n",
    "catboost_cv_f1_score = f1_score(y_test, catboost_cv_pred_test, average='macro')\n",
    "catboost_cv_recall_score = recall_score(y_test, catboost_cv_pred_test, average='macro')\n",
    "catboost_cv_accuracy_score = accuracy_score(y_test, catboost_cv_pred_test)\n",
    "\n",
    "print(f\"CatBoost + CV Precision Score = {catboost_cv_precision_score * 100:.4f}%\")\n",
    "print(f\"CatBoost + CV F1 Score = {catboost_cv_f1_score * 100:.4f}%\")\n",
    "print(f\"CatBoost + CV Recall Score = {catboost_cv_recall_score * 100:.4f}%\")\n",
    "print(f\"CatBoost + CV Accuracy Score = {catboost_cv_accuracy_score * 100:.4f}%\")"
   ]
  },
  {
   "cell_type": "code",
   "execution_count": 20,
   "id": "3b02d4ba-2341-4f2f-90fb-aacb0909b099",
   "metadata": {},
   "outputs": [
    {
     "name": "stdout",
     "output_type": "stream",
     "text": [
      "              precision    recall  f1-score   support\n",
      "\n",
      "    Negative       0.77      0.86      0.81      4508\n",
      "     Neutral       0.50      0.01      0.01       421\n",
      "    Positive       0.74      0.73      0.73      3179\n",
      "\n",
      "    accuracy                           0.76      8108\n",
      "   macro avg       0.67      0.53      0.52      8108\n",
      "weighted avg       0.75      0.76      0.74      8108\n",
      "\n"
     ]
    }
   ],
   "source": [
    "print(classification_report(y_test, catboost_cv_pred_test, target_names=[\"Negative\", \"Neutral\", \"Positive\"]))"
   ]
  },
  {
   "cell_type": "code",
   "execution_count": 22,
   "id": "e05bd45b-189f-42c7-8872-4d9fab773a51",
   "metadata": {},
   "outputs": [
    {
     "data": {
      "image/png": "[encoded data removed]",
      "text/plain": [
       "<Figure size 1000x1000 with 2 Axes>"
      ]
     },
     "metadata": {},
     "output_type": "display_data"
    }
   ],
   "source": [
    "catboost_cm = confusion_matrix(y_test, catboost_cv_pred_test)\n",
    "fig, ax = plot_confusion_matrix(conf_mat=catboost_cm, show_absolute=True, show_normed=True, colorbar=True, class_names=[\"Negative\", \"Neutral\", \"Positive\"], figsize=(10, 10))\n",
    "plt.title(\"CatBoost + CV - Sentiment Analysis\")\n",
    "plt.savefig(\"./output/catboost_cv.png\")\n",
    "plt.show()"
   ]
  },
  {
   "cell_type": "code",
   "execution_count": null,
   "id": "42215007-bbf9-406f-9909-fd8cf93eff6b",
   "metadata": {},
   "outputs": [],
   "source": []
  },
  {
   "cell_type": "code",
   "execution_count": null,
   "id": "45386ac2-3ce0-44f7-8878-a4c3998d1d44",
   "metadata": {},
   "outputs": [],
   "source": []
  },
  {
   "cell_type": "code",
   "execution_count": null,
   "id": "f48a40d9-5ab4-4ae4-913f-1a4d18720ab2",
   "metadata": {},
   "outputs": [],
   "source": []
  },
  {
   "cell_type": "code",
   "execution_count": null,
   "id": "222d3f1b-b860-4f69-8d68-696bc98bd917",
   "metadata": {},
   "outputs": [],
   "source": []
  },
  {
   "cell_type": "code",
   "execution_count": null,
   "id": "84f903bb-d1dd-46db-a8a4-fc3235e39927",
   "metadata": {},
   "outputs": [],
   "source": []
  },
  {
   "cell_type": "code",
   "execution_count": null,
   "id": "6f08d2c1-4c56-4b1e-b62f-91a971ef68a4",
   "metadata": {},
   "outputs": [],
   "source": []
  },
  {
   "cell_type": "code",
   "execution_count": null,
   "id": "ed5c950f-4b65-4660-ad6b-6b062c4bb30a",
   "metadata": {},
   "outputs": [],
   "source": []
  },
  {
   "cell_type": "code",
   "execution_count": null,
   "id": "cb43ea5a-f3ae-418c-914d-3685df47d024",
   "metadata": {},
   "outputs": [],
   "source": []
  },
  {
   "cell_type": "code",
   "execution_count": null,
   "id": "5d91f25b-6189-4019-a89d-6403ecc6874d",
   "metadata": {},
   "outputs": [],
   "source": []
  }
 ],
 "metadata": {
  "kernelspec": {
   "display_name": "Python 3 (ipykernel)",
   "language": "python",
   "name": "python3"
  },
  "language_info": {
   "codemirror_mode": {
    "name": "ipython",
    "version": 3
   },
   "file_extension": ".py",
   "mimetype": "text/x-python",
   "name": "python",
   "nbconvert_exporter": "python",
   "pygments_lexer": "ipython3",
   "version": "3.10.12"
  }
 },
 "nbformat": 4,
 "nbformat_minor": 5
}
