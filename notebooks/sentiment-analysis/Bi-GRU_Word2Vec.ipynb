{
 "cells": [
  {
   "cell_type": "code",
   "execution_count": 1,
   "id": "b61426fc-0054-4a51-9859-010f9593a689",
   "metadata": {},
   "outputs": [],
   "source": [
    "import os\n",
    "os.environ[\"TF_CPP_MIN_LOG_LEVEL\"] = \"3\"\n",
    "\n",
    "import time\n",
    "import tqdm\n",
    "import random\n",
    "import argparse\n",
    "\n",
    "import numpy as np\n",
    "import pandas as pd\n",
    "tqdm.tqdm.pandas()\n",
    "\n",
    "import matplotlib.pyplot as plt\n",
    "\n",
    "import gensim\n",
    "from gensim import corpora, models, similarities\n",
    "\n",
    "from sklearn.model_selection import train_test_split\n",
    "\n",
    "from mlxtend.plotting import plot_confusion_matrix\n",
    "\n",
    "from sklearn.metrics import classification_report, confusion_matrix\n",
    "from sklearn.metrics import accuracy_score, f1_score, precision_score, recall_score\n",
    "\n",
    "import tensorflow as tf\n",
    "from tensorflow.keras import layers, models, optimizers, callbacks, preprocessing\n",
    "from tensorflow.keras.utils import to_categorical\n",
    "\n",
    "import warnings\n",
    "from sklearn.exceptions import ConvergenceWarning\n",
    "warnings.filterwarnings(\"ignore\", category=UserWarning)\n",
    "warnings.filterwarnings(\"ignore\", category=FutureWarning)\n",
    "warnings.filterwarnings(\"ignore\", category=ConvergenceWarning)\n",
    "\n",
    "def set_seed(seed):\n",
    "    random.seed(seed)\n",
    "    np.random.seed(seed)\n",
    "    tf.random.set_seed(seed)\n",
    "    os.environ['PYTHONHASHSEED'] = str(seed)"
   ]
  },
  {
   "cell_type": "code",
   "execution_count": 2,
   "id": "6b6e829d-1a51-453d-a05b-27e15b12bae6",
   "metadata": {},
   "outputs": [],
   "source": [
    "set_seed(42)"
   ]
  },
  {
   "cell_type": "code",
   "execution_count": 3,
   "id": "8d789dfb-f773-4920-ade3-d02ce00d3337",
   "metadata": {},
   "outputs": [],
   "source": [
    "df = pd.read_csv(\"/mnt/d/work2/teknofest-tddi/data/processed/cleaned.csv\")\n",
    "df = df.dropna()\n",
    "df = df.reset_index(drop=True)"
   ]
  },
  {
   "cell_type": "code",
   "execution_count": 4,
   "id": "8cce97cc-470e-47c0-bb37-c798aef5409c",
   "metadata": {},
   "outputs": [
    {
     "data": {
      "text/html": [
       "<div>\n",
       "<style scoped>\n",
       "    .dataframe tbody tr th:only-of-type {\n",
       "        vertical-align: middle;\n",
       "    }\n",
       "\n",
       "    .dataframe tbody tr th {\n",
       "        vertical-align: top;\n",
       "    }\n",
       "\n",
       "    .dataframe thead th {\n",
       "        text-align: right;\n",
       "    }\n",
       "</style>\n",
       "<table border=\"1\" class=\"dataframe\">\n",
       "  <thead>\n",
       "    <tr style=\"text-align: right;\">\n",
       "      <th></th>\n",
       "      <th>rid</th>\n",
       "      <th>sid</th>\n",
       "      <th>app</th>\n",
       "      <th>review</th>\n",
       "      <th>sentiment</th>\n",
       "      <th>aspect</th>\n",
       "      <th>aspect_polarity</th>\n",
       "      <th>cleaned</th>\n",
       "      <th>text</th>\n",
       "    </tr>\n",
       "  </thead>\n",
       "  <tbody>\n",
       "    <tr>\n",
       "      <th>0</th>\n",
       "      <td>9</td>\n",
       "      <td>1</td>\n",
       "      <td>Google Play Store/BiP</td>\n",
       "      <td>Uygulamada kartlarda Troy kart geçmiyor Lütfen...</td>\n",
       "      <td>Positive</td>\n",
       "      <td>Troy</td>\n",
       "      <td>2</td>\n",
       "      <td>Uygulamada kartlarda Troy kart geçmiyor uygula...</td>\n",
       "      <td>Troy Uygulamada kartlarda Troy kart geçmiyor u...</td>\n",
       "    </tr>\n",
       "    <tr>\n",
       "      <th>1</th>\n",
       "      <td>9</td>\n",
       "      <td>1</td>\n",
       "      <td>Google Play Store/BiP</td>\n",
       "      <td>Uygulamada kartlarda Troy kart geçmiyor Lütfen...</td>\n",
       "      <td>Positive</td>\n",
       "      <td>Troy</td>\n",
       "      <td>2</td>\n",
       "      <td>Uygulamada kartlarda Troy kart geçmiyor uygula...</td>\n",
       "      <td>Troy Uygulamada kartlarda Troy kart geçmiyor u...</td>\n",
       "    </tr>\n",
       "    <tr>\n",
       "      <th>2</th>\n",
       "      <td>10</td>\n",
       "      <td>1</td>\n",
       "      <td>Google Play Store/BiP</td>\n",
       "      <td>Her güncellemede daha da kötüleşen Turkcell in...</td>\n",
       "      <td>Negative</td>\n",
       "      <td>Turkcell</td>\n",
       "      <td>0</td>\n",
       "      <td>güncellemede kötüleşen Turkcell in ara ara ken...</td>\n",
       "      <td>Turkcell güncellemede kötüleşen Turkcell in ar...</td>\n",
       "    </tr>\n",
       "    <tr>\n",
       "      <th>3</th>\n",
       "      <td>13</td>\n",
       "      <td>1</td>\n",
       "      <td>Google Play Store/BiP</td>\n",
       "      <td>BiP’ten aranmıyor yardım</td>\n",
       "      <td>Negative</td>\n",
       "      <td>BiP’ten</td>\n",
       "      <td>0</td>\n",
       "      <td>BiPten aranmıyor yardım</td>\n",
       "      <td>BiP’ten BiPten aranmıyor yardım</td>\n",
       "    </tr>\n",
       "    <tr>\n",
       "      <th>4</th>\n",
       "      <td>17</td>\n",
       "      <td>1</td>\n",
       "      <td>Google Play Store/BiP</td>\n",
       "      <td>Bu yorumum kesinlikle uygulamanın daha çok gel...</td>\n",
       "      <td>Positive</td>\n",
       "      <td>BİP</td>\n",
       "      <td>2</td>\n",
       "      <td>yorumum uygulamanın gelişmesi kulanıcıya erişi...</td>\n",
       "      <td>BİP yorumum uygulamanın gelişmesi kulanıcıya e...</td>\n",
       "    </tr>\n",
       "  </tbody>\n",
       "</table>\n",
       "</div>"
      ],
      "text/plain": [
       "   rid  sid                    app  \\\n",
       "0    9    1  Google Play Store/BiP   \n",
       "1    9    1  Google Play Store/BiP   \n",
       "2   10    1  Google Play Store/BiP   \n",
       "3   13    1  Google Play Store/BiP   \n",
       "4   17    1  Google Play Store/BiP   \n",
       "\n",
       "                                              review sentiment    aspect  \\\n",
       "0  Uygulamada kartlarda Troy kart geçmiyor Lütfen...  Positive      Troy   \n",
       "1  Uygulamada kartlarda Troy kart geçmiyor Lütfen...  Positive      Troy   \n",
       "2  Her güncellemede daha da kötüleşen Turkcell in...  Negative  Turkcell   \n",
       "3                           BiP’ten aranmıyor yardım  Negative   BiP’ten   \n",
       "4  Bu yorumum kesinlikle uygulamanın daha çok gel...  Positive       BİP   \n",
       "\n",
       "   aspect_polarity                                            cleaned  \\\n",
       "0                2  Uygulamada kartlarda Troy kart geçmiyor uygula...   \n",
       "1                2  Uygulamada kartlarda Troy kart geçmiyor uygula...   \n",
       "2                0  güncellemede kötüleşen Turkcell in ara ara ken...   \n",
       "3                0                            BiPten aranmıyor yardım   \n",
       "4                2  yorumum uygulamanın gelişmesi kulanıcıya erişi...   \n",
       "\n",
       "                                                text  \n",
       "0  Troy Uygulamada kartlarda Troy kart geçmiyor u...  \n",
       "1  Troy Uygulamada kartlarda Troy kart geçmiyor u...  \n",
       "2  Turkcell güncellemede kötüleşen Turkcell in ar...  \n",
       "3                    BiP’ten BiPten aranmıyor yardım  \n",
       "4  BİP yorumum uygulamanın gelişmesi kulanıcıya e...  "
      ]
     },
     "execution_count": 4,
     "metadata": {},
     "output_type": "execute_result"
    }
   ],
   "source": [
    "df.head()"
   ]
  },
  {
   "cell_type": "code",
   "execution_count": 5,
   "id": "b2a25dd7-164b-4b4d-ac1c-7ccf13415617",
   "metadata": {},
   "outputs": [],
   "source": [
    "df[\"text\"] = df[\"aspect\"] + \" \" + df[\"cleaned\"]"
   ]
  },
  {
   "cell_type": "code",
   "execution_count": 6,
   "id": "2e594325-0a3b-42d9-b9a4-febf81e0ef2a",
   "metadata": {},
   "outputs": [],
   "source": [
    "X = df[\"text\"]\n",
    "y = df[\"aspect_polarity\"]"
   ]
  },
  {
   "cell_type": "code",
   "execution_count": 7,
   "id": "4902197f-9a9d-40cf-92f5-3be0f9050c2a",
   "metadata": {},
   "outputs": [],
   "source": [
    "def train_validate_test_split(df, split_size):\n",
    "    perm = np.random.permutation(df.index)\n",
    "    train_end = int(split_size * len(df.index))\n",
    "    validate_end = int(((1 - split_size) / 2) * len(df.index)) + train_end\n",
    "    train = df.iloc[perm[:train_end]]\n",
    "    validate = df.iloc[perm[train_end:validate_end]]\n",
    "    test = df.iloc[perm[validate_end:]]\n",
    "    return train, validate, test"
   ]
  },
  {
   "cell_type": "code",
   "execution_count": 8,
   "id": "e5380535-e95a-4135-9e1e-c3581efbebb8",
   "metadata": {},
   "outputs": [],
   "source": [
    "df_train, df_validation, df_test = train_validate_test_split(df, split_size=0.9)"
   ]
  },
  {
   "cell_type": "code",
   "execution_count": 9,
   "id": "c06a15ab-8865-4577-af80-41163ede0984",
   "metadata": {},
   "outputs": [],
   "source": [
    "X_train = df_train[\"text\"]\n",
    "y_train = df_train[\"aspect_polarity\"]"
   ]
  },
  {
   "cell_type": "code",
   "execution_count": 10,
   "id": "c4770ecd-0d20-4030-9363-92187a12cb57",
   "metadata": {},
   "outputs": [],
   "source": [
    "X_valid = df_validation[\"text\"]\n",
    "y_valid = df_validation[\"aspect_polarity\"]"
   ]
  },
  {
   "cell_type": "code",
   "execution_count": 11,
   "id": "6e3e52bd-74b0-49a5-a4b0-53d09fe0b14e",
   "metadata": {},
   "outputs": [],
   "source": [
    "X_test = df_test[\"text\"]\n",
    "y_test = df_test[\"aspect_polarity\"]"
   ]
  },
  {
   "cell_type": "code",
   "execution_count": 12,
   "id": "affdef2f-23f9-4e85-96e8-b14a9086ee21",
   "metadata": {},
   "outputs": [],
   "source": [
    "y_train = to_categorical(y_train)\n",
    "y_valid = to_categorical(y_valid)\n",
    "y_test = to_categorical(y_test)"
   ]
  },
  {
   "cell_type": "code",
   "execution_count": 13,
   "id": "8dfb7edd-59f8-460a-8543-d5e2844aa4db",
   "metadata": {},
   "outputs": [],
   "source": [
    "tokenizer = preprocessing.text.Tokenizer(\n",
    "    filters = '!\"#$%&()*+,-./:;<=>?@[\\\\]^_`{|}~\\t\\n',\n",
    "    lower = False,\n",
    "    split = \" \"\n",
    ")\n",
    "tokenizer.fit_on_texts(X)"
   ]
  },
  {
   "cell_type": "code",
   "execution_count": 17,
   "id": "3574bb90-617b-4d8b-a500-f0b38c14cd09",
   "metadata": {},
   "outputs": [],
   "source": [
    "X_train_tokenizer = tokenizer.texts_to_sequences(X_train)\n",
    "X_valid_tokenizer = tokenizer.texts_to_sequences(X_valid)\n",
    "X_test_tokenizer = tokenizer.texts_to_sequences(X_test)"
   ]
  },
  {
   "cell_type": "code",
   "execution_count": 18,
   "id": "4f484c0d-5889-45fc-bb03-c1d5de8f2323",
   "metadata": {},
   "outputs": [],
   "source": [
    "maxlen = 64\n",
    "X_train_tokenizer = preprocessing.sequence.pad_sequences(X_train_tokenizer, maxlen=maxlen)\n",
    "X_valid_tokenizer = preprocessing.sequence.pad_sequences(X_valid_tokenizer, maxlen=maxlen)\n",
    "X_test_tokenizer = preprocessing.sequence.pad_sequences(X_test_tokenizer, maxlen=maxlen)"
   ]
  },
  {
   "cell_type": "code",
   "execution_count": 19,
   "id": "f6fa495b-4d79-4e3c-a646-ca1f176e9650",
   "metadata": {},
   "outputs": [
    {
     "data": {
      "text/plain": [
       "103649"
      ]
     },
     "execution_count": 19,
     "metadata": {},
     "output_type": "execute_result"
    }
   ],
   "source": [
    "input_dim = len(tokenizer.word_index) + 1\n",
    "input_dim"
   ]
  },
  {
   "cell_type": "code",
   "execution_count": 20,
   "id": "c68408cd-e81a-4a10-9712-680f5fe043e0",
   "metadata": {},
   "outputs": [],
   "source": [
    "documents = [_text.split() for _text in df[\"text\"]]"
   ]
  },
  {
   "cell_type": "code",
   "execution_count": 21,
   "id": "31fbddc7-aef5-4188-9a40-c15054df9ff3",
   "metadata": {},
   "outputs": [],
   "source": [
    "w2v_model = gensim.models.word2vec.Word2Vec(\n",
    "    vector_size = 100,\n",
    "    window = 2,\n",
    "    min_count = 10,\n",
    "    workers = 10\n",
    ")"
   ]
  },
  {
   "cell_type": "code",
   "execution_count": 22,
   "id": "be41aebf-2d13-4cbd-9360-f14a0fe2ef1f",
   "metadata": {},
   "outputs": [],
   "source": [
    "w2v_model.build_vocab(documents)"
   ]
  },
  {
   "cell_type": "code",
   "execution_count": 23,
   "id": "ddbb3de9-7746-4cc2-9985-686a54b3b3f0",
   "metadata": {},
   "outputs": [
    {
     "data": {
      "text/plain": [
       "23630"
      ]
     },
     "execution_count": 23,
     "metadata": {},
     "output_type": "execute_result"
    }
   ],
   "source": [
    "vocab_len = len(w2v_model.wv)\n",
    "vocab_len"
   ]
  },
  {
   "cell_type": "code",
   "execution_count": 24,
   "id": "e4d06d54-a1e4-4619-a0c0-454beb3aac9c",
   "metadata": {},
   "outputs": [
    {
     "data": {
      "text/plain": [
       "(38735439, 46927632)"
      ]
     },
     "execution_count": 24,
     "metadata": {},
     "output_type": "execute_result"
    }
   ],
   "source": [
    "w2v_model.train(documents, total_examples=len(documents), epochs=16)"
   ]
  },
  {
   "cell_type": "code",
   "execution_count": 25,
   "id": "022b00e4-9388-4fda-ac27-7f6288663aa0",
   "metadata": {},
   "outputs": [
    {
     "name": "stderr",
     "output_type": "stream",
     "text": [
      "100%|██████████████████████████████████████████████████████████| 103648/103648 [00:00<00:00, 1127087.62it/s]\n"
     ]
    }
   ],
   "source": [
    "wv_embedding_matrix = np.zeros((input_dim, 100))\n",
    "for word, i in tqdm.tqdm(tokenizer.word_index.items()):\n",
    "    if word in w2v_model.wv:\n",
    "        wv_embedding_matrix[i] = w2v_model.wv[word]"
   ]
  },
  {
   "cell_type": "code",
   "execution_count": 26,
   "id": "0d94939e-3d3c-4f0e-afb4-a0d5804bdb5f",
   "metadata": {},
   "outputs": [],
   "source": [
    "model = models.Sequential([\n",
    "    layers.Input(shape=X_train_tokenizer.shape[1]),\n",
    "    layers.Embedding(len(tokenizer.word_index)+1, 100, weights=[wv_embedding_matrix], input_length=maxlen, trainable=False),\n",
    "    layers.Bidirectional(layers.GRU(100, return_sequences=True)),\n",
    "    layers.GlobalMaxPooling1D(),\n",
    "    layers.Dense(3, activation='softmax')\n",
    "])"
   ]
  },
  {
   "cell_type": "code",
   "execution_count": 27,
   "id": "33b2aef4-e364-48eb-819c-4a4fe00ad130",
   "metadata": {},
   "outputs": [],
   "source": [
    "model.compile(loss='categorical_crossentropy', \n",
    "                  optimizer=tf.keras.optimizers.legacy.Adam(), \n",
    "                  metrics=['accuracy'])   "
   ]
  },
  {
   "cell_type": "code",
   "execution_count": 28,
   "id": "bdfa1929-a283-4c5d-8ad7-320e2192110b",
   "metadata": {},
   "outputs": [
    {
     "name": "stdout",
     "output_type": "stream",
     "text": [
      "Model: \"sequential\"\n",
      "_________________________________________________________________\n",
      " Layer (type)                Output Shape              Param #   \n",
      "=================================================================\n",
      " embedding (Embedding)       (None, 64, 100)           10364900  \n",
      "                                                                 \n",
      " bidirectional (Bidirectiona  (None, 64, 200)          121200    \n",
      " l)                                                              \n",
      "                                                                 \n",
      " global_max_pooling1d (Globa  (None, 200)              0         \n",
      " lMaxPooling1D)                                                  \n",
      "                                                                 \n",
      " dense (Dense)               (None, 3)                 603       \n",
      "                                                                 \n",
      "=================================================================\n",
      "Total params: 10,486,703\n",
      "Trainable params: 121,803\n",
      "Non-trainable params: 10,364,900\n",
      "_________________________________________________________________\n"
     ]
    }
   ],
   "source": [
    "model.summary()"
   ]
  },
  {
   "cell_type": "code",
   "execution_count": 29,
   "id": "f633d345-8c36-4bb9-a67a-a4f98e29b138",
   "metadata": {},
   "outputs": [
    {
     "data": {
      "image/png": "[encoded data removed]",
      "text/plain": [
       "<IPython.core.display.Image object>"
      ]
     },
     "execution_count": 29,
     "metadata": {},
     "output_type": "execute_result"
    }
   ],
   "source": [
    "tf.keras.utils.plot_model(model, show_layer_names=True, show_shapes=True, expand_nested=True, to_file=\"./output/bigru_word2vec_model_plot.png\")"
   ]
  },
  {
   "cell_type": "code",
   "execution_count": 30,
   "id": "d53a0364-aa7f-4e17-81e3-91a2b747195c",
   "metadata": {},
   "outputs": [
    {
     "name": "stdout",
     "output_type": "stream",
     "text": [
      "Epoch 1/10\n",
      "1141/1141 [==============================] - 73s 63ms/step - loss: 0.5776 - accuracy: 0.7680 - val_loss: 0.5414 - val_accuracy: 0.7843\n",
      "Epoch 2/10\n",
      "1141/1141 [==============================] - 66s 58ms/step - loss: 0.5167 - accuracy: 0.7970 - val_loss: 0.5108 - val_accuracy: 0.8018\n",
      "Epoch 3/10\n",
      "1141/1141 [==============================] - 65s 57ms/step - loss: 0.4750 - accuracy: 0.8169 - val_loss: 0.5089 - val_accuracy: 0.8015\n",
      "Epoch 4/10\n",
      "1141/1141 [==============================] - 69s 60ms/step - loss: 0.4318 - accuracy: 0.8354 - val_loss: 0.4774 - val_accuracy: 0.8136\n",
      "Epoch 5/10\n",
      "1141/1141 [==============================] - 66s 58ms/step - loss: 0.3904 - accuracy: 0.8536 - val_loss: 0.4794 - val_accuracy: 0.8169\n",
      "Epoch 6/10\n",
      "1141/1141 [==============================] - 67s 58ms/step - loss: 0.3523 - accuracy: 0.8709 - val_loss: 0.4614 - val_accuracy: 0.8257\n",
      "Epoch 7/10\n",
      "1141/1141 [==============================] - 66s 58ms/step - loss: 0.3174 - accuracy: 0.8852 - val_loss: 0.4587 - val_accuracy: 0.8330\n",
      "Epoch 8/10\n",
      "1141/1141 [==============================] - 68s 60ms/step - loss: 0.2870 - accuracy: 0.8970 - val_loss: 0.4628 - val_accuracy: 0.8359\n",
      "Epoch 9/10\n",
      "1141/1141 [==============================] - 68s 59ms/step - loss: 0.2583 - accuracy: 0.9088 - val_loss: 0.4721 - val_accuracy: 0.8374\n",
      "Epoch 10/10\n",
      "1141/1141 [==============================] - 67s 59ms/step - loss: 0.2325 - accuracy: 0.9193 - val_loss: 0.4836 - val_accuracy: 0.8367\n",
      "Bi-GRU Train Time = 673.9245\n"
     ]
    }
   ],
   "source": [
    "model1_train_start = time.time()\n",
    "model_history = model.fit(\n",
    "    X_train_tokenizer, \n",
    "    y_train, \n",
    "    epochs=10, \n",
    "    batch_size=128, \n",
    "    validation_data=[X_valid_tokenizer, y_valid], \n",
    "    callbacks=[callbacks.EarlyStopping(monitor=\"val_accuracy\", patience=3)]\n",
    ")\n",
    "model1_train_time = time.time() - model1_train_start\n",
    "print(f\"Bi-GRU Train Time = {model1_train_time:.4f}\")"
   ]
  },
  {
   "cell_type": "code",
   "execution_count": 31,
   "id": "4c437831-8544-4066-8a7a-2fb6f6a32eb2",
   "metadata": {},
   "outputs": [
    {
     "name": "stdout",
     "output_type": "stream",
     "text": [
      "Bi-GRU Test Time = 2.8081\n"
     ]
    }
   ],
   "source": [
    "model1_test_start = time.time()\n",
    "model_pred_test = model.predict(X_test_tokenizer, verbose=0)\n",
    "model1_test_time = time.time() - model1_test_start\n",
    "print(f\"Bi-GRU Test Time = {model1_test_time:.4f}\")"
   ]
  },
  {
   "cell_type": "code",
   "execution_count": 32,
   "id": "69eb28b2-30fd-47e4-b20e-82fd870f2abc",
   "metadata": {},
   "outputs": [],
   "source": [
    "true_labels_train = np.argmax(y_train, axis=1)\n",
    "true_labels_test = np.argmax(y_test, axis=1)"
   ]
  },
  {
   "cell_type": "code",
   "execution_count": 33,
   "id": "de89c93c-b639-4935-ac63-3c67335acd72",
   "metadata": {},
   "outputs": [
    {
     "name": "stdout",
     "output_type": "stream",
     "text": [
      "Bi-GRU Train Score = 92.9002%\n",
      "Bi-GRU Test Score = 82.8688%\n"
     ]
    }
   ],
   "source": [
    "model_pred_train = model.predict(X_train_tokenizer, verbose=0)\n",
    "model_pred_train = np.argmax(model_pred_train, axis=1)\n",
    "model_pred_test = np.argmax(model_pred_test, axis=1)\n",
    "model_train_score = accuracy_score(model_pred_train, true_labels_train)\n",
    "model_test_score = accuracy_score(model_pred_test, true_labels_test)\n",
    "print(f\"Bi-GRU Train Score = {model_train_score * 100:.4f}%\")\n",
    "print(f\"Bi-GRU Test Score = {model_test_score * 100:.4f}%\")"
   ]
  },
  {
   "cell_type": "code",
   "execution_count": 34,
   "id": "8f491634-5267-4cdc-8ca5-a64d4e7b5ff0",
   "metadata": {},
   "outputs": [
    {
     "name": "stdout",
     "output_type": "stream",
     "text": [
      "Bi-GRU Precision Score = 74.3743%\n",
      "Bi-GRU F1 Score = 69.6539%\n",
      "Bi-GRU Recall Score = 67.1144%\n",
      "Bi-GRU Accuracy Score = 82.8688%\n"
     ]
    }
   ],
   "source": [
    "model_precision_score = precision_score(true_labels_test, model_pred_test, average=\"macro\")\n",
    "model_f1_score = f1_score(true_labels_test, model_pred_test, average=\"macro\")\n",
    "model_recall_score = recall_score(true_labels_test, model_pred_test, average=\"macro\")\n",
    "model_accuracy_score = accuracy_score(true_labels_test, model_pred_test)\n",
    "\n",
    "print(f\"Bi-GRU Precision Score = {model_precision_score * 100:.4f}%\")\n",
    "print(f\"Bi-GRU F1 Score = {model_f1_score * 100:.4f}%\")\n",
    "print(f\"Bi-GRU Recall Score = {model_recall_score * 100:.4f}%\")\n",
    "print(f\"Bi-GRU Accuracy Score = {model_accuracy_score * 100:.4f}%\")"
   ]
  },
  {
   "cell_type": "code",
   "execution_count": 35,
   "id": "5ad74065-aa52-4f5b-be88-53737b6ad081",
   "metadata": {},
   "outputs": [
    {
     "name": "stdout",
     "output_type": "stream",
     "text": [
      "              precision    recall  f1-score   support\n",
      "\n",
      "    Negative       0.83      0.91      0.87      4508\n",
      "     Neutral       0.55      0.33      0.41       421\n",
      "    Positive       0.86      0.77      0.81      3179\n",
      "\n",
      "    accuracy                           0.83      8108\n",
      "   macro avg       0.74      0.67      0.70      8108\n",
      "weighted avg       0.82      0.83      0.82      8108\n",
      "\n"
     ]
    }
   ],
   "source": [
    "print(classification_report(true_labels_test, model_pred_test, target_names=[\"Negative\", \"Neutral\", \"Positive\"]))"
   ]
  },
  {
   "cell_type": "code",
   "execution_count": 36,
   "id": "1d990be1-d4b1-4eab-943a-1040a4f173ff",
   "metadata": {},
   "outputs": [
    {
     "data": {
      "image/png": "[encoded data removed]",
      "text/plain": [
       "<Figure size 1000x1000 with 2 Axes>"
      ]
     },
     "metadata": {},
     "output_type": "display_data"
    }
   ],
   "source": [
    "model_cm = confusion_matrix(true_labels_test, model_pred_test)\n",
    "fig, ax = plot_confusion_matrix(conf_mat=model_cm, show_absolute=True, show_normed=True, colorbar=True, class_names=[\"Negative\", \"Neutral\", \"Positive\"], figsize=(10, 10))\n",
    "plt.title(\"Bi-GRU + Word2Vec - Sentiment Analysis\")\n",
    "plt.savefig(\"./output/bigru_word2vec.png\")\n",
    "plt.show()"
   ]
  },
  {
   "cell_type": "code",
   "execution_count": null,
   "id": "dc32efd7-2dff-42cb-81ab-e5c7bbd96956",
   "metadata": {},
   "outputs": [],
   "source": []
  },
  {
   "cell_type": "code",
   "execution_count": null,
   "id": "2ddcb525-f69f-4bb1-bd99-84e183c63cd8",
   "metadata": {},
   "outputs": [],
   "source": []
  }
 ],
 "metadata": {
  "kernelspec": {
   "display_name": "Python 3 (ipykernel)",
   "language": "python",
   "name": "python3"
  },
  "language_info": {
   "codemirror_mode": {
    "name": "ipython",
    "version": 3
   },
   "file_extension": ".py",
   "mimetype": "text/x-python",
   "name": "python",
   "nbconvert_exporter": "python",
   "pygments_lexer": "ipython3",
   "version": "3.10.12"
  }
 },
 "nbformat": 4,
 "nbformat_minor": 5
}
