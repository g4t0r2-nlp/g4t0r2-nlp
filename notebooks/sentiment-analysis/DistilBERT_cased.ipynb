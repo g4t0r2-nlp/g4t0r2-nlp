{
 "cells": [
  {
   "cell_type": "code",
   "execution_count": 1,
   "metadata": {
    "_cell_guid": "b1076dfc-b9ad-4769-8c92-a6c4dae69d19",
    "_uuid": "8f2839f25d086af736a60e9eeb907d3b93b6e0e5",
    "execution": {
     "iopub.execute_input": "2024-08-06T17:28:59.368840Z",
     "iopub.status.busy": "2024-08-06T17:28:59.368595Z",
     "iopub.status.idle": "2024-08-06T17:29:00.251678Z",
     "shell.execute_reply": "2024-08-06T17:29:00.250629Z",
     "shell.execute_reply.started": "2024-08-06T17:28:59.368817Z"
    }
   },
   "outputs": [
    {
     "name": "stdout",
     "output_type": "stream",
     "text": [
      "/kaggle/input/all-aspects/all_aspects_just_aspect.csv\n",
      "/kaggle/input/all-aspects/all_tagged_aspects_just_aspect_cleaned.csv\n",
      "/kaggle/input/all-aspects/all_tagged_aspects_just_aspect_filled.csv\n",
      "/kaggle/input/all-aspects/all_tagged_aspects_filled.csv\n",
      "/kaggle/input/all-aspects/all_tagged_aspects_just_aspect.csv\n",
      "/kaggle/input/all-aspects/all_tagged_aspects_sentences.csv\n",
      "/kaggle/input/all-aspects/all_tagged_aspects_just_aspect_sentences.csv\n",
      "/kaggle/input/all-aspects/all_aspects_just_aspect_cleaned.csv\n",
      "/kaggle/input/all-aspects/all_tagged_aspects_just_aspect_filled_sentences.csv\n",
      "/kaggle/input/all-aspects/cleaned.csv\n",
      "/kaggle/input/all-aspects/all_aspects_just_aspect_filled.csv\n",
      "/kaggle/input/all-aspects/all_tagged_aspects.csv\n",
      "/kaggle/input/all-aspects/all_aspects.csv\n",
      "/kaggle/input/all-aspects/all_tagged_aspects_just_aspect_cleaned_sentences.csv\n"
     ]
    }
   ],
   "source": [
    "# This Python 3 environment comes with many helpful analytics libraries installed\n",
    "# It is defined by the kaggle/python Docker image: https://github.com/kaggle/docker-python\n",
    "# For example, here's several helpful packages to load\n",
    "\n",
    "import numpy as np # linear algebra\n",
    "import pandas as pd # data processing, CSV file I/O (e.g. pd.read_csv)\n",
    "\n",
    "# Input data files are available in the read-only \"../input/\" directory\n",
    "# For example, running this (by clicking run or pressing Shift+Enter) will list all files under the input directory\n",
    "\n",
    "import os\n",
    "for dirname, _, filenames in os.walk('/kaggle/input'):\n",
    "    for filename in filenames:\n",
    "        print(os.path.join(dirname, filename))\n",
    "\n",
    "# You can write up to 20GB to the current directory (/kaggle/working/) that gets preserved as output when you create a version using \"Save & Run All\" \n",
    "# You can also write temporary files to /kaggle/temp/, but they won't be saved outside of the current session"
   ]
  },
  {
   "cell_type": "code",
   "execution_count": 2,
   "metadata": {
    "execution": {
     "iopub.execute_input": "2024-08-06T17:29:00.254155Z",
     "iopub.status.busy": "2024-08-06T17:29:00.253641Z",
     "iopub.status.idle": "2024-08-06T17:29:07.852265Z",
     "shell.execute_reply": "2024-08-06T17:29:07.851419Z",
     "shell.execute_reply.started": "2024-08-06T17:29:00.254121Z"
    }
   },
   "outputs": [],
   "source": [
    "import os\n",
    "os.environ[\"TF_CPP_MIN_LOG_LEVEL\"] = \"3\"\n",
    "\n",
    "import sys\n",
    "import time\n",
    "import tqdm\n",
    "tqdm.tqdm.pandas()\n",
    "\n",
    "import numpy as np\n",
    "import pandas as pd\n",
    "\n",
    "import pickle\n",
    "\n",
    "import string\n",
    "import io\n",
    "import re\n",
    "import nltk\n",
    "import emoji\n",
    "\n",
    "import matplotlib.pyplot as plt\n",
    "import seaborn as sns\n",
    "from collections import Counter\n",
    "\n",
    "from sklearn.model_selection import train_test_split\n",
    "\n",
    "from mlxtend.plotting import plot_confusion_matrix\n",
    "\n",
    "from sklearn.metrics import roc_curve, auc, classification_report, confusion_matrix\n",
    "from sklearn.metrics import accuracy_score, f1_score, precision_score, recall_score, roc_auc_score\n",
    "\n",
    "import torch\n",
    "import torch.nn as nn\n",
    "import torch.optim as optim\n",
    "import torch.nn.functional as F\n",
    "import torchvision\n",
    "from torchvision import transforms\n",
    "from torch.utils.data import Dataset, DataLoader\n",
    "from transformers import DistilBertTokenizerFast, DistilBertForSequenceClassification, AdamW, get_linear_schedule_with_warmup\n",
    "\n",
    "from IPython.display import Markdown, clear_output\n",
    "\n",
    "def bold(string):\n",
    "    display(Markdown(\"**\" + string + \"**\"))\n",
    "\n",
    "import warnings\n",
    "from sklearn.exceptions import ConvergenceWarning\n",
    "warnings.filterwarnings(\"ignore\", category=UserWarning)\n",
    "warnings.filterwarnings(\"ignore\", category=FutureWarning)\n",
    "warnings.filterwarnings(\"ignore\", category=ConvergenceWarning)"
   ]
  },
  {
   "cell_type": "code",
   "execution_count": 3,
   "metadata": {
    "execution": {
     "iopub.execute_input": "2024-08-06T17:29:07.857163Z",
     "iopub.status.busy": "2024-08-06T17:29:07.856896Z",
     "iopub.status.idle": "2024-08-06T17:29:07.910183Z",
     "shell.execute_reply": "2024-08-06T17:29:07.909157Z",
     "shell.execute_reply.started": "2024-08-06T17:29:07.857139Z"
    }
   },
   "outputs": [
    {
     "data": {
      "text/plain": [
       "device(type='cuda')"
      ]
     },
     "execution_count": 3,
     "metadata": {},
     "output_type": "execute_result"
    }
   ],
   "source": [
    "device = torch.device(\"cuda\" if torch.cuda.is_available() else \"cpu\")\n",
    "device"
   ]
  },
  {
   "cell_type": "code",
   "execution_count": 4,
   "metadata": {
    "execution": {
     "iopub.execute_input": "2024-08-06T17:29:07.911587Z",
     "iopub.status.busy": "2024-08-06T17:29:07.911263Z",
     "iopub.status.idle": "2024-08-06T17:29:09.585772Z",
     "shell.execute_reply": "2024-08-06T17:29:09.584779Z",
     "shell.execute_reply.started": "2024-08-06T17:29:07.911563Z"
    }
   },
   "outputs": [
    {
     "data": {
      "text/html": [
       "<div>\n",
       "<style scoped>\n",
       "    .dataframe tbody tr th:only-of-type {\n",
       "        vertical-align: middle;\n",
       "    }\n",
       "\n",
       "    .dataframe tbody tr th {\n",
       "        vertical-align: top;\n",
       "    }\n",
       "\n",
       "    .dataframe thead th {\n",
       "        text-align: right;\n",
       "    }\n",
       "</style>\n",
       "<table border=\"1\" class=\"dataframe\">\n",
       "  <thead>\n",
       "    <tr style=\"text-align: right;\">\n",
       "      <th></th>\n",
       "      <th>rid</th>\n",
       "      <th>sid</th>\n",
       "      <th>app</th>\n",
       "      <th>review</th>\n",
       "      <th>cleaned</th>\n",
       "      <th>aspect</th>\n",
       "      <th>sentiment</th>\n",
       "      <th>aspect_polarity</th>\n",
       "    </tr>\n",
       "  </thead>\n",
       "  <tbody>\n",
       "    <tr>\n",
       "      <th>0</th>\n",
       "      <td>9</td>\n",
       "      <td>1</td>\n",
       "      <td>Google Play Store/BiP</td>\n",
       "      <td>Uygulamada kartlarda Troy kart geçmiyor Lütfen...</td>\n",
       "      <td>Uygulama da kartlar da Troy kart geçmiyor uygu...</td>\n",
       "      <td>Troy</td>\n",
       "      <td>Negative</td>\n",
       "      <td>0</td>\n",
       "    </tr>\n",
       "    <tr>\n",
       "      <th>1</th>\n",
       "      <td>9</td>\n",
       "      <td>1</td>\n",
       "      <td>Google Play Store/BiP</td>\n",
       "      <td>Uygulamada kartlarda Troy kart geçmiyor Lütfen...</td>\n",
       "      <td>Uygulama da kartlar da Troy kart geçmiyor uygu...</td>\n",
       "      <td>Troy</td>\n",
       "      <td>Neutral</td>\n",
       "      <td>1</td>\n",
       "    </tr>\n",
       "    <tr>\n",
       "      <th>2</th>\n",
       "      <td>10</td>\n",
       "      <td>1</td>\n",
       "      <td>Google Play Store/BiP</td>\n",
       "      <td>Her güncellemede daha da kötüleşen Turkcell in...</td>\n",
       "      <td>güncelleme de kötüleşen Turkcell in ara ara ha...</td>\n",
       "      <td>Turkcell</td>\n",
       "      <td>Negative</td>\n",
       "      <td>0</td>\n",
       "    </tr>\n",
       "    <tr>\n",
       "      <th>3</th>\n",
       "      <td>13</td>\n",
       "      <td>1</td>\n",
       "      <td>Google Play Store/BiP</td>\n",
       "      <td>BiP’ten aranmıyor yardım</td>\n",
       "      <td>BiPten aranmıyor yardım</td>\n",
       "      <td>BiP’ten</td>\n",
       "      <td>Negative</td>\n",
       "      <td>0</td>\n",
       "    </tr>\n",
       "    <tr>\n",
       "      <th>4</th>\n",
       "      <td>17</td>\n",
       "      <td>1</td>\n",
       "      <td>Google Play Store/BiP</td>\n",
       "      <td>Bu yorumum kesinlikle uygulamanın daha çok gel...</td>\n",
       "      <td>yorumum uygulamanın gelişmesi kulanıcıya erişi...</td>\n",
       "      <td>BİP</td>\n",
       "      <td>Positive</td>\n",
       "      <td>2</td>\n",
       "    </tr>\n",
       "  </tbody>\n",
       "</table>\n",
       "</div>"
      ],
      "text/plain": [
       "   rid  sid                    app  \\\n",
       "0    9    1  Google Play Store/BiP   \n",
       "1    9    1  Google Play Store/BiP   \n",
       "2   10    1  Google Play Store/BiP   \n",
       "3   13    1  Google Play Store/BiP   \n",
       "4   17    1  Google Play Store/BiP   \n",
       "\n",
       "                                              review  \\\n",
       "0  Uygulamada kartlarda Troy kart geçmiyor Lütfen...   \n",
       "1  Uygulamada kartlarda Troy kart geçmiyor Lütfen...   \n",
       "2  Her güncellemede daha da kötüleşen Turkcell in...   \n",
       "3                           BiP’ten aranmıyor yardım   \n",
       "4  Bu yorumum kesinlikle uygulamanın daha çok gel...   \n",
       "\n",
       "                                             cleaned    aspect sentiment  \\\n",
       "0  Uygulama da kartlar da Troy kart geçmiyor uygu...      Troy  Negative   \n",
       "1  Uygulama da kartlar da Troy kart geçmiyor uygu...      Troy   Neutral   \n",
       "2  güncelleme de kötüleşen Turkcell in ara ara ha...  Turkcell  Negative   \n",
       "3                            BiPten aranmıyor yardım   BiP’ten  Negative   \n",
       "4  yorumum uygulamanın gelişmesi kulanıcıya erişi...       BİP  Positive   \n",
       "\n",
       "   aspect_polarity  \n",
       "0                0  \n",
       "1                1  \n",
       "2                0  \n",
       "3                0  \n",
       "4                2  "
      ]
     },
     "execution_count": 4,
     "metadata": {},
     "output_type": "execute_result"
    }
   ],
   "source": [
    "df = pd.read_csv(\"../input/all-aspects/cleaned.csv\")\n",
    "df.head()"
   ]
  },
  {
   "cell_type": "code",
   "execution_count": 5,
   "metadata": {
    "execution": {
     "iopub.execute_input": "2024-08-06T17:29:51.563977Z",
     "iopub.status.busy": "2024-08-06T17:29:51.563220Z",
     "iopub.status.idle": "2024-08-06T17:29:51.659274Z",
     "shell.execute_reply": "2024-08-06T17:29:51.658213Z",
     "shell.execute_reply.started": "2024-08-06T17:29:51.563944Z"
    }
   },
   "outputs": [
    {
     "data": {
      "text/plain": [
       "rid                  0\n",
       "sid                  0\n",
       "app                  0\n",
       "review               0\n",
       "cleaned            224\n",
       "aspect               0\n",
       "sentiment            0\n",
       "aspect_polarity      0\n",
       "dtype: int64"
      ]
     },
     "execution_count": 5,
     "metadata": {},
     "output_type": "execute_result"
    }
   ],
   "source": [
    "df.isnull().sum()"
   ]
  },
  {
   "cell_type": "code",
   "execution_count": 8,
   "metadata": {
    "execution": {
     "iopub.execute_input": "2024-08-06T17:30:21.573766Z",
     "iopub.status.busy": "2024-08-06T17:30:21.573407Z",
     "iopub.status.idle": "2024-08-06T17:30:21.684339Z",
     "shell.execute_reply": "2024-08-06T17:30:21.683545Z",
     "shell.execute_reply.started": "2024-08-06T17:30:21.573738Z"
    }
   },
   "outputs": [],
   "source": [
    "df = df.dropna().reset_index(drop=True)"
   ]
  },
  {
   "cell_type": "code",
   "execution_count": 9,
   "metadata": {
    "execution": {
     "iopub.execute_input": "2024-08-06T17:30:22.561667Z",
     "iopub.status.busy": "2024-08-06T17:30:22.561097Z",
     "iopub.status.idle": "2024-08-06T17:30:22.567014Z",
     "shell.execute_reply": "2024-08-06T17:30:22.566215Z",
     "shell.execute_reply.started": "2024-08-06T17:30:22.561636Z"
    }
   },
   "outputs": [
    {
     "data": {
      "text/plain": [
       "(157279, 8)"
      ]
     },
     "execution_count": 9,
     "metadata": {},
     "output_type": "execute_result"
    }
   ],
   "source": [
    "df.shape"
   ]
  },
  {
   "cell_type": "code",
   "execution_count": 10,
   "metadata": {
    "execution": {
     "iopub.execute_input": "2024-08-06T17:30:23.376396Z",
     "iopub.status.busy": "2024-08-06T17:30:23.376091Z",
     "iopub.status.idle": "2024-08-06T17:30:23.380607Z",
     "shell.execute_reply": "2024-08-06T17:30:23.379701Z",
     "shell.execute_reply.started": "2024-08-06T17:30:23.376340Z"
    }
   },
   "outputs": [],
   "source": [
    "label_mapping = {\"Negative\": 0, \"Neutral\": 1, \"Positive\": 2}"
   ]
  },
  {
   "cell_type": "code",
   "execution_count": 11,
   "metadata": {
    "execution": {
     "iopub.execute_input": "2024-08-06T17:30:26.635165Z",
     "iopub.status.busy": "2024-08-06T17:30:26.634837Z",
     "iopub.status.idle": "2024-08-06T17:30:26.714102Z",
     "shell.execute_reply": "2024-08-06T17:30:26.713133Z",
     "shell.execute_reply.started": "2024-08-06T17:30:26.635139Z"
    }
   },
   "outputs": [],
   "source": [
    "df['text'] = df['aspect'] + \" [SEP] \" + df['cleaned']"
   ]
  },
  {
   "cell_type": "code",
   "execution_count": 12,
   "metadata": {
    "execution": {
     "iopub.execute_input": "2024-08-06T17:30:27.390974Z",
     "iopub.status.busy": "2024-08-06T17:30:27.390190Z",
     "iopub.status.idle": "2024-08-06T17:30:27.408215Z",
     "shell.execute_reply": "2024-08-06T17:30:27.407402Z",
     "shell.execute_reply.started": "2024-08-06T17:30:27.390945Z"
    }
   },
   "outputs": [],
   "source": [
    "df = df[[\"text\", \"aspect_polarity\"]]"
   ]
  },
  {
   "cell_type": "code",
   "execution_count": 13,
   "metadata": {
    "execution": {
     "iopub.execute_input": "2024-08-06T17:30:28.178547Z",
     "iopub.status.busy": "2024-08-06T17:30:28.178170Z",
     "iopub.status.idle": "2024-08-06T17:30:31.784819Z",
     "shell.execute_reply": "2024-08-06T17:30:31.783831Z",
     "shell.execute_reply.started": "2024-08-06T17:30:28.178517Z"
    }
   },
   "outputs": [
    {
     "data": {
      "application/vnd.jupyter.widget-view+json": {
       "model_id": "c9a968ec65c34d14a0b6d735abc91c90",
       "version_major": 2,
       "version_minor": 0
      },
      "text/plain": [
       "tokenizer_config.json:   0%|          | 0.00/60.0 [00:00<?, ?B/s]"
      ]
     },
     "metadata": {},
     "output_type": "display_data"
    },
    {
     "data": {
      "application/vnd.jupyter.widget-view+json": {
       "model_id": "3ef7c822ea494e5e8ed7063abc258fb3",
       "version_major": 2,
       "version_minor": 0
      },
      "text/plain": [
       "vocab.txt:   0%|          | 0.00/251k [00:00<?, ?B/s]"
      ]
     },
     "metadata": {},
     "output_type": "display_data"
    },
    {
     "data": {
      "application/vnd.jupyter.widget-view+json": {
       "model_id": "1432dc249fb74f39b777a70e23ad6daf",
       "version_major": 2,
       "version_minor": 0
      },
      "text/plain": [
       "config.json:   0%|          | 0.00/410 [00:00<?, ?B/s]"
      ]
     },
     "metadata": {},
     "output_type": "display_data"
    },
    {
     "data": {
      "application/vnd.jupyter.widget-view+json": {
       "model_id": "a2b9bce1fa444f83838c80b8e57fac99",
       "version_major": 2,
       "version_minor": 0
      },
      "text/plain": [
       "pytorch_model.bin:   0%|          | 0.00/273M [00:00<?, ?B/s]"
      ]
     },
     "metadata": {},
     "output_type": "display_data"
    },
    {
     "name": "stderr",
     "output_type": "stream",
     "text": [
      "Some weights of DistilBertForSequenceClassification were not initialized from the model checkpoint at dbmdz/distilbert-base-turkish-cased and are newly initialized: ['classifier.bias', 'classifier.weight', 'pre_classifier.bias', 'pre_classifier.weight']\n",
      "You should probably TRAIN this model on a down-stream task to be able to use it for predictions and inference.\n"
     ]
    }
   ],
   "source": [
    "tokenizer = DistilBertTokenizerFast.from_pretrained(\"dbmdz/distilbert-base-turkish-cased\")\n",
    "model = DistilBertForSequenceClassification.from_pretrained(\"dbmdz/distilbert-base-turkish-cased\", num_labels=3).to(device)"
   ]
  },
  {
   "cell_type": "code",
   "execution_count": 14,
   "metadata": {
    "execution": {
     "iopub.execute_input": "2024-08-06T17:30:32.716863Z",
     "iopub.status.busy": "2024-08-06T17:30:32.716236Z",
     "iopub.status.idle": "2024-08-06T17:30:32.724236Z",
     "shell.execute_reply": "2024-08-06T17:30:32.723274Z",
     "shell.execute_reply.started": "2024-08-06T17:30:32.716833Z"
    }
   },
   "outputs": [],
   "source": [
    "class SentimentDataset(Dataset):\n",
    "    def __init__(self, texts, labels, tokenizer, max_len):\n",
    "        self.texts = texts\n",
    "        self.labels = labels\n",
    "        self.tokenizer = tokenizer\n",
    "        self.max_len = max_len\n",
    "    \n",
    "    def __len__(self):\n",
    "        return len(self.texts)\n",
    "    \n",
    "    def __getitem__(self, item):\n",
    "        text = self.texts[item]\n",
    "        label = self.labels[item]\n",
    "        \n",
    "        encoding = self.tokenizer.encode_plus(\n",
    "            text,\n",
    "            add_special_tokens=True,\n",
    "            max_length=self.max_len,\n",
    "            return_token_type_ids=False,\n",
    "            pad_to_max_length=True,\n",
    "            return_attention_mask=True,\n",
    "            return_tensors='pt',\n",
    "        )\n",
    "        \n",
    "        return {\n",
    "            'text': text,\n",
    "            'input_ids': encoding['input_ids'].flatten(),\n",
    "            'attention_mask': encoding['attention_mask'].flatten(),\n",
    "            'labels': torch.tensor(label, dtype=torch.long)\n",
    "        }"
   ]
  },
  {
   "cell_type": "code",
   "execution_count": 15,
   "metadata": {
    "execution": {
     "iopub.execute_input": "2024-08-06T17:30:33.548576Z",
     "iopub.status.busy": "2024-08-06T17:30:33.548289Z",
     "iopub.status.idle": "2024-08-06T17:30:33.554654Z",
     "shell.execute_reply": "2024-08-06T17:30:33.553617Z",
     "shell.execute_reply.started": "2024-08-06T17:30:33.548551Z"
    }
   },
   "outputs": [],
   "source": [
    "def train_validate_test_split(df, split_size):\n",
    "    perm = np.random.permutation(df.index)\n",
    "    train_end = int(train_size * len(df.index))\n",
    "    validate_end = int(((1 - split_size) / 2) * len(df.index)) + train_end\n",
    "    train = df.iloc[perm[:train_end]]\n",
    "    validate = df.iloc[perm[train_end:validate_end]]\n",
    "    test = df.iloc[perm[validate_end:]]\n",
    "    return train, validate, test"
   ]
  },
  {
   "cell_type": "code",
   "execution_count": 16,
   "metadata": {
    "execution": {
     "iopub.execute_input": "2024-08-06T17:30:33.880661Z",
     "iopub.status.busy": "2024-08-06T17:30:33.880011Z",
     "iopub.status.idle": "2024-08-06T17:30:33.910833Z",
     "shell.execute_reply": "2024-08-06T17:30:33.909998Z",
     "shell.execute_reply.started": "2024-08-06T17:30:33.880635Z"
    }
   },
   "outputs": [
    {
     "name": "stdout",
     "output_type": "stream",
     "text": [
      "Full dataset: 157279\n",
      "Train dataset: 141551\n",
      "Valid dataset: 7863\n",
      "Test dataset: 7865\n"
     ]
    }
   ],
   "source": [
    "train_size = 0.9\n",
    "df_train, df_validation, df_test = train_validate_test_split(df, train_size)\n",
    "df_train = df_train.reset_index(drop=True)\n",
    "df_validation = df_validation.reset_index(drop=True)\n",
    "df_test = df_test.reset_index(drop=True)\n",
    "\n",
    "print(f\"Full dataset: {df.shape[0]}\")\n",
    "print(f\"Train dataset: {df_train.shape[0]}\")\n",
    "print(f\"Valid dataset: {df_validation.shape[0]}\")\n",
    "print(f\"Test dataset: {df_test.shape[0]}\")"
   ]
  },
  {
   "cell_type": "code",
   "execution_count": 17,
   "metadata": {
    "execution": {
     "iopub.execute_input": "2024-08-06T17:30:34.674406Z",
     "iopub.status.busy": "2024-08-06T17:30:34.674130Z",
     "iopub.status.idle": "2024-08-06T17:30:34.678567Z",
     "shell.execute_reply": "2024-08-06T17:30:34.677509Z",
     "shell.execute_reply.started": "2024-08-06T17:30:34.674383Z"
    }
   },
   "outputs": [],
   "source": [
    "MAX_LEN = 64\n",
    "BATCH_SIZE = 64\n",
    "EPOCHS = 4\n",
    "LEARNING_RATE = 2e-5"
   ]
  },
  {
   "cell_type": "code",
   "execution_count": 18,
   "metadata": {
    "execution": {
     "iopub.execute_input": "2024-08-06T17:30:36.544083Z",
     "iopub.status.busy": "2024-08-06T17:30:36.543786Z",
     "iopub.status.idle": "2024-08-06T17:30:36.550078Z",
     "shell.execute_reply": "2024-08-06T17:30:36.549049Z",
     "shell.execute_reply.started": "2024-08-06T17:30:36.544060Z"
    }
   },
   "outputs": [],
   "source": [
    "training_set = SentimentDataset(df_train[\"text\"].to_numpy(), df_train[\"aspect_polarity\"].to_numpy(), tokenizer, MAX_LEN)\n",
    "validation_set = SentimentDataset(df_validation[\"text\"].to_numpy(), df_validation[\"aspect_polarity\"].to_numpy(), tokenizer, MAX_LEN)\n",
    "testing_set = SentimentDataset(df_test[\"text\"].to_numpy(), df_test[\"aspect_polarity\"].to_numpy(), tokenizer, MAX_LEN)"
   ]
  },
  {
   "cell_type": "code",
   "execution_count": 19,
   "metadata": {
    "execution": {
     "iopub.execute_input": "2024-08-06T17:30:38.947498Z",
     "iopub.status.busy": "2024-08-06T17:30:38.946614Z",
     "iopub.status.idle": "2024-08-06T17:30:38.954033Z",
     "shell.execute_reply": "2024-08-06T17:30:38.953283Z",
     "shell.execute_reply.started": "2024-08-06T17:30:38.947464Z"
    }
   },
   "outputs": [],
   "source": [
    "train_params = {\"batch_size\": BATCH_SIZE, \"shuffle\": True, \"num_workers\": 0}\n",
    "valid_params = {\"batch_size\": BATCH_SIZE, \"shuffle\": True, \"num_workers\": 0}\n",
    "test_params = {\"batch_size\": BATCH_SIZE, \"shuffle\": True, \"num_workers\": 0}\n",
    "\n",
    "training_loader = DataLoader(training_set, **train_params)\n",
    "validation_loader = DataLoader(validation_set, **valid_params)\n",
    "testing_loader = DataLoader(testing_set, **test_params)"
   ]
  },
  {
   "cell_type": "code",
   "execution_count": 20,
   "metadata": {
    "execution": {
     "iopub.execute_input": "2024-08-06T17:30:39.743949Z",
     "iopub.status.busy": "2024-08-06T17:30:39.743704Z",
     "iopub.status.idle": "2024-08-06T17:30:39.749769Z",
     "shell.execute_reply": "2024-08-06T17:30:39.748668Z",
     "shell.execute_reply.started": "2024-08-06T17:30:39.743929Z"
    }
   },
   "outputs": [],
   "source": [
    "optimizer = optim.Adam(model.parameters(), lr=LEARNING_RATE)\n",
    "total_steps = len(training_loader) * EPOCHS\n",
    "scheduler = get_linear_schedule_with_warmup(optimizer, num_warmup_steps=0, num_training_steps=total_steps)"
   ]
  },
  {
   "cell_type": "code",
   "execution_count": 21,
   "metadata": {
    "execution": {
     "iopub.execute_input": "2024-08-06T17:30:40.312470Z",
     "iopub.status.busy": "2024-08-06T17:30:40.311946Z",
     "iopub.status.idle": "2024-08-06T17:30:40.319632Z",
     "shell.execute_reply": "2024-08-06T17:30:40.318646Z",
     "shell.execute_reply.started": "2024-08-06T17:30:40.312445Z"
    }
   },
   "outputs": [],
   "source": [
    "def train_epoch(model, data_loader, optimizer, scheduler, device):\n",
    "    model = model.train()\n",
    "    losses = []\n",
    "    correct_predictions = 0\n",
    "\n",
    "    for d in tqdm.tqdm(data_loader):\n",
    "        input_ids = d[\"input_ids\"].to(device)\n",
    "        attention_mask = d[\"attention_mask\"].to(device)\n",
    "        labels = d[\"labels\"].to(device)\n",
    "\n",
    "        outputs = model(input_ids=input_ids, attention_mask=attention_mask, labels=labels)\n",
    "        loss = outputs.loss\n",
    "        logits = outputs.logits\n",
    "\n",
    "        _, preds = torch.max(logits, dim=1)\n",
    "        correct_predictions += torch.sum(preds == labels)\n",
    "        losses.append(loss.item())\n",
    "\n",
    "        loss.backward()\n",
    "        optimizer.step()\n",
    "        scheduler.step()\n",
    "        optimizer.zero_grad()\n",
    "\n",
    "    return correct_predictions.double() / len(data_loader.dataset), np.mean(losses)"
   ]
  },
  {
   "cell_type": "code",
   "execution_count": 22,
   "metadata": {
    "execution": {
     "iopub.execute_input": "2024-08-06T17:30:40.792385Z",
     "iopub.status.busy": "2024-08-06T17:30:40.791627Z",
     "iopub.status.idle": "2024-08-06T17:30:40.799766Z",
     "shell.execute_reply": "2024-08-06T17:30:40.798858Z",
     "shell.execute_reply.started": "2024-08-06T17:30:40.792326Z"
    }
   },
   "outputs": [],
   "source": [
    "def eval_model(model, data_loader, device):\n",
    "    model = model.eval()\n",
    "    losses = []\n",
    "    correct_predictions = 0\n",
    "\n",
    "    with torch.no_grad():\n",
    "        for d in tqdm.tqdm(data_loader):\n",
    "            input_ids = d[\"input_ids\"].to(device)\n",
    "            attention_mask = d[\"attention_mask\"].to(device)\n",
    "            labels = d[\"labels\"].to(device)\n",
    "\n",
    "            outputs = model(input_ids=input_ids, attention_mask=attention_mask, labels=labels)\n",
    "            loss = outputs.loss\n",
    "            logits = outputs.logits\n",
    "\n",
    "            _, preds = torch.max(logits, dim=1)\n",
    "            correct_predictions += torch.sum(preds == labels)\n",
    "            losses.append(loss.item())\n",
    "\n",
    "    return correct_predictions.double() / len(data_loader.dataset), np.mean(losses)"
   ]
  },
  {
   "cell_type": "code",
   "execution_count": 23,
   "metadata": {
    "execution": {
     "iopub.execute_input": "2024-08-06T17:30:41.536229Z",
     "iopub.status.busy": "2024-08-06T17:30:41.535970Z",
     "iopub.status.idle": "2024-08-06T18:18:17.906229Z",
     "shell.execute_reply": "2024-08-06T18:18:17.905307Z",
     "shell.execute_reply.started": "2024-08-06T17:30:41.536207Z"
    }
   },
   "outputs": [
    {
     "name": "stdout",
     "output_type": "stream",
     "text": [
      "Epoch 1/4\n",
      "----------\n"
     ]
    },
    {
     "name": "stderr",
     "output_type": "stream",
     "text": [
      "  0%|          | 0/2212 [00:00<?, ?it/s]Truncation was not explicitly activated but `max_length` is provided a specific value, please use `truncation=True` to explicitly truncate examples to max length. Defaulting to 'longest_first' truncation strategy. If you encode pairs of sequences (GLUE-style) with the tokenizer you can select this strategy more precisely by providing a specific strategy to `truncation`.\n",
      "100%|██████████| 2212/2212 [11:34<00:00,  3.19it/s]\n"
     ]
    },
    {
     "name": "stdout",
     "output_type": "stream",
     "text": [
      "Train loss 0.5772925819561667 accuracy 0.774999823385211\n"
     ]
    },
    {
     "name": "stderr",
     "output_type": "stream",
     "text": [
      "100%|██████████| 123/123 [00:14<00:00,  8.69it/s]\n"
     ]
    },
    {
     "name": "stdout",
     "output_type": "stream",
     "text": [
      "Val   loss 0.5069164161275073 accuracy 0.805672135317309\n",
      "Epoch 2/4\n",
      "----------\n"
     ]
    },
    {
     "name": "stderr",
     "output_type": "stream",
     "text": [
      "100%|██████████| 2212/2212 [11:41<00:00,  3.15it/s]\n"
     ]
    },
    {
     "name": "stdout",
     "output_type": "stream",
     "text": [
      "Train loss 0.470832718526153 accuracy 0.8247204187889877\n"
     ]
    },
    {
     "name": "stderr",
     "output_type": "stream",
     "text": [
      "100%|██████████| 123/123 [00:14<00:00,  8.69it/s]\n"
     ]
    },
    {
     "name": "stdout",
     "output_type": "stream",
     "text": [
      "Val   loss 0.4618012525928699 accuracy 0.8247488236042223\n",
      "Epoch 3/4\n",
      "----------\n"
     ]
    },
    {
     "name": "stderr",
     "output_type": "stream",
     "text": [
      "100%|██████████| 2212/2212 [11:41<00:00,  3.15it/s]\n"
     ]
    },
    {
     "name": "stdout",
     "output_type": "stream",
     "text": [
      "Train loss 0.4050520439421721 accuracy 0.8509583118452008\n"
     ]
    },
    {
     "name": "stderr",
     "output_type": "stream",
     "text": [
      "100%|██████████| 123/123 [00:14<00:00,  8.70it/s]\n"
     ]
    },
    {
     "name": "stdout",
     "output_type": "stream",
     "text": [
      "Val   loss 0.4415896123017722 accuracy 0.8369579041078469\n",
      "Epoch 4/4\n",
      "----------\n"
     ]
    },
    {
     "name": "stderr",
     "output_type": "stream",
     "text": [
      "100%|██████████| 2212/2212 [11:42<00:00,  3.15it/s]\n"
     ]
    },
    {
     "name": "stdout",
     "output_type": "stream",
     "text": [
      "Train loss 0.3648972750403944 accuracy 0.8675389082380203\n"
     ]
    },
    {
     "name": "stderr",
     "output_type": "stream",
     "text": [
      "100%|██████████| 123/123 [00:14<00:00,  8.69it/s]"
     ]
    },
    {
     "name": "stdout",
     "output_type": "stream",
     "text": [
      "Val   loss 0.437162769398069 accuracy 0.840010174233753\n",
      "CPU times: user 47min 34s, sys: 4.53 s, total: 47min 38s\n",
      "Wall time: 47min 36s\n"
     ]
    },
    {
     "name": "stderr",
     "output_type": "stream",
     "text": [
      "\n"
     ]
    }
   ],
   "source": [
    "%%time\n",
    "\n",
    "for epoch in range(EPOCHS):\n",
    "    print(f'Epoch {epoch + 1}/{EPOCHS}')\n",
    "    print('-' * 10)\n",
    "\n",
    "    train_acc, train_loss = train_epoch(model, training_loader, optimizer, scheduler, device)\n",
    "    print(f'Train loss {train_loss} accuracy {train_acc}')\n",
    "\n",
    "    val_acc, val_loss = eval_model(model, validation_loader, device)\n",
    "    print(f'Val   loss {val_loss} accuracy {val_acc}')"
   ]
  },
  {
   "cell_type": "code",
   "execution_count": 24,
   "metadata": {
    "execution": {
     "iopub.execute_input": "2024-08-06T18:18:22.918946Z",
     "iopub.status.busy": "2024-08-06T18:18:22.918259Z",
     "iopub.status.idle": "2024-08-06T18:18:36.934470Z",
     "shell.execute_reply": "2024-08-06T18:18:36.933534Z",
     "shell.execute_reply.started": "2024-08-06T18:18:22.918916Z"
    }
   },
   "outputs": [],
   "source": [
    "y_pred = []\n",
    "y_true = []\n",
    "\n",
    "model = model.eval()\n",
    "\n",
    "with torch.no_grad():\n",
    "    for d in testing_loader:\n",
    "        input_ids = d[\"input_ids\"].to(device)\n",
    "        attention_mask = d[\"attention_mask\"].to(device)\n",
    "        labels = d[\"labels\"].to(device)\n",
    "\n",
    "        outputs = model(input_ids=input_ids, attention_mask=attention_mask)\n",
    "        logits = outputs.logits\n",
    "\n",
    "        _, preds = torch.max(logits, dim=1)\n",
    "\n",
    "        y_pred.extend(preds.cpu().numpy())\n",
    "        y_true.extend(labels.cpu().numpy())"
   ]
  },
  {
   "cell_type": "code",
   "execution_count": 25,
   "metadata": {
    "execution": {
     "iopub.execute_input": "2024-08-06T18:18:36.936692Z",
     "iopub.status.busy": "2024-08-06T18:18:36.936321Z",
     "iopub.status.idle": "2024-08-06T18:18:36.980210Z",
     "shell.execute_reply": "2024-08-06T18:18:36.979417Z",
     "shell.execute_reply.started": "2024-08-06T18:18:36.936660Z"
    }
   },
   "outputs": [
    {
     "name": "stdout",
     "output_type": "stream",
     "text": [
      "Precision Score = 72.62%\n",
      "F1 Score = 64.91%\n",
      "Recall Score = 63.24%\n",
      "Accuracy Score = 84.31%\n"
     ]
    }
   ],
   "source": [
    "model_precision_score = precision_score(y_true, y_pred, average='macro')\n",
    "model_f1_score = f1_score(y_true, y_pred, average='macro')\n",
    "model_recall_score = recall_score(y_true, y_pred, average='macro')\n",
    "model_accuracy_score = accuracy_score(y_true, y_pred)\n",
    "\n",
    "print(f\"Precision Score = {model_precision_score * 100:.2f}%\")\n",
    "print(f\"F1 Score = {model_f1_score * 100:.2f}%\")\n",
    "print(f\"Recall Score = {model_recall_score * 100:.2f}%\")\n",
    "print(f\"Accuracy Score = {model_accuracy_score * 100:.2f}%\")"
   ]
  },
  {
   "cell_type": "code",
   "execution_count": 26,
   "metadata": {
    "execution": {
     "iopub.execute_input": "2024-08-06T18:18:36.981547Z",
     "iopub.status.busy": "2024-08-06T18:18:36.981227Z",
     "iopub.status.idle": "2024-08-06T18:18:37.003335Z",
     "shell.execute_reply": "2024-08-06T18:18:37.002533Z",
     "shell.execute_reply.started": "2024-08-06T18:18:36.981519Z"
    }
   },
   "outputs": [
    {
     "name": "stdout",
     "output_type": "stream",
     "text": [
      "              precision    recall  f1-score   support\n",
      "\n",
      "    Negative       0.85      0.91      0.88      4279\n",
      "     Neutral       0.48      0.15      0.23       401\n",
      "    Positive       0.84      0.84      0.84      3185\n",
      "\n",
      "    accuracy                           0.84      7865\n",
      "   macro avg       0.73      0.63      0.65      7865\n",
      "weighted avg       0.83      0.84      0.83      7865\n",
      "\n"
     ]
    }
   ],
   "source": [
    "print(classification_report(y_true, y_pred, target_names=[\"Negative\", \"Neutral\", \"Positive\"]))"
   ]
  },
  {
   "cell_type": "code",
   "execution_count": 27,
   "metadata": {
    "execution": {
     "iopub.execute_input": "2024-08-06T18:18:37.006491Z",
     "iopub.status.busy": "2024-08-06T18:18:37.006200Z",
     "iopub.status.idle": "2024-08-06T18:18:37.333524Z",
     "shell.execute_reply": "2024-08-06T18:18:37.332681Z",
     "shell.execute_reply.started": "2024-08-06T18:18:37.006468Z"
    }
   },
   "outputs": [
    {
     "data": {
      "image/png": "[encoded data removed]",
      "text/plain": [
       "<Figure size 640x480 with 2 Axes>"
      ]
     },
     "metadata": {},
     "output_type": "display_data"
    }
   ],
   "source": [
    "cm = confusion_matrix(y_true, y_pred)\n",
    "fig, ax = plot_confusion_matrix(conf_mat=cm, show_absolute=True, show_normed=True, colorbar=True, class_names=[\"Negative\", \"Neutral\", \"Positive\"])\n",
    "plt.title(\"DistilBERT - Sentiment Analysis\")\n",
    "plt.show()"
   ]
  },
  {
   "cell_type": "code",
   "execution_count": null,
   "metadata": {},
   "outputs": [],
   "source": []
  }
 ],
 "metadata": {
  "kaggle": {
   "accelerator": "nvidiaTeslaT4",
   "dataSources": [
    {
     "datasetId": 5454449,
     "sourceId": 9098506,
     "sourceType": "datasetVersion"
    }
   ],
   "dockerImageVersionId": 30747,
   "isGpuEnabled": true,
   "isInternetEnabled": true,
   "language": "python",
   "sourceType": "notebook"
  },
  "kernelspec": {
   "display_name": "Python 3 (ipykernel)",
   "language": "python",
   "name": "python3"
  },
  "language_info": {
   "codemirror_mode": {
    "name": "ipython",
    "version": 3
   },
   "file_extension": ".py",
   "mimetype": "text/x-python",
   "name": "python",
   "nbconvert_exporter": "python",
   "pygments_lexer": "ipython3",
   "version": "3.10.12"
  }
 },
 "nbformat": 4,
 "nbformat_minor": 4
}
