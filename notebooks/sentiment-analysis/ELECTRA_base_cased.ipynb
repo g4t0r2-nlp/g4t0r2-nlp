{
 "cells": [
  {
   "cell_type": "code",
   "execution_count": 1,
   "metadata": {
    "_cell_guid": "b1076dfc-b9ad-4769-8c92-a6c4dae69d19",
    "_uuid": "8f2839f25d086af736a60e9eeb907d3b93b6e0e5",
    "execution": {
     "iopub.execute_input": "2024-08-06T19:56:49.158959Z",
     "iopub.status.busy": "2024-08-06T19:56:49.158680Z",
     "iopub.status.idle": "2024-08-06T19:56:50.150841Z",
     "shell.execute_reply": "2024-08-06T19:56:50.149781Z",
     "shell.execute_reply.started": "2024-08-06T19:56:49.158927Z"
    }
   },
   "outputs": [
    {
     "name": "stdout",
     "output_type": "stream",
     "text": [
      "/kaggle/input/all-aspects/all_aspects_just_aspect.csv\n",
      "/kaggle/input/all-aspects/all_tagged_aspects_just_aspect_cleaned.csv\n",
      "/kaggle/input/all-aspects/all_tagged_aspects_just_aspect_filled.csv\n",
      "/kaggle/input/all-aspects/all_tagged_aspects_filled.csv\n",
      "/kaggle/input/all-aspects/all_tagged_aspects_just_aspect.csv\n",
      "/kaggle/input/all-aspects/all_tagged_aspects_sentences.csv\n",
      "/kaggle/input/all-aspects/all_tagged_aspects_just_aspect_sentences.csv\n",
      "/kaggle/input/all-aspects/all_aspects_just_aspect_cleaned.csv\n",
      "/kaggle/input/all-aspects/all_tagged_aspects_just_aspect_filled_sentences.csv\n",
      "/kaggle/input/all-aspects/cleaned.csv\n",
      "/kaggle/input/all-aspects/all_aspects_just_aspect_filled.csv\n",
      "/kaggle/input/all-aspects/all_tagged_aspects.csv\n",
      "/kaggle/input/all-aspects/all_aspects.csv\n",
      "/kaggle/input/all-aspects/all_tagged_aspects_just_aspect_cleaned_sentences.csv\n"
     ]
    }
   ],
   "source": [
    "# This Python 3 environment comes with many helpful analytics libraries installed\n",
    "# It is defined by the kaggle/python Docker image: https://github.com/kaggle/docker-python\n",
    "# For example, here's several helpful packages to load\n",
    "\n",
    "import numpy as np # linear algebra\n",
    "import pandas as pd # data processing, CSV file I/O (e.g. pd.read_csv)\n",
    "\n",
    "# Input data files are available in the read-only \"../input/\" directory\n",
    "# For example, running this (by clicking run or pressing Shift+Enter) will list all files under the input directory\n",
    "\n",
    "import os\n",
    "for dirname, _, filenames in os.walk('/kaggle/input'):\n",
    "    for filename in filenames:\n",
    "        print(os.path.join(dirname, filename))\n",
    "\n",
    "# You can write up to 20GB to the current directory (/kaggle/working/) that gets preserved as output when you create a version using \"Save & Run All\" \n",
    "# You can also write temporary files to /kaggle/temp/, but they won't be saved outside of the current session"
   ]
  },
  {
   "cell_type": "code",
   "execution_count": 3,
   "metadata": {
    "execution": {
     "iopub.execute_input": "2024-08-06T19:57:05.676778Z",
     "iopub.status.busy": "2024-08-06T19:57:05.675744Z",
     "iopub.status.idle": "2024-08-06T19:57:05.694285Z",
     "shell.execute_reply": "2024-08-06T19:57:05.693367Z",
     "shell.execute_reply.started": "2024-08-06T19:57:05.676745Z"
    }
   },
   "outputs": [],
   "source": [
    "import os\n",
    "os.environ[\"TF_CPP_MIN_LOG_LEVEL\"] = \"3\"\n",
    "\n",
    "import sys\n",
    "import time\n",
    "import tqdm\n",
    "\n",
    "import numpy as np\n",
    "import pandas as pd\n",
    "\n",
    "import pickle\n",
    "\n",
    "import string\n",
    "import io\n",
    "import re\n",
    "import nltk\n",
    "import emoji\n",
    "\n",
    "import matplotlib.pyplot as plt\n",
    "import seaborn as sns\n",
    "from collections import Counter\n",
    "\n",
    "from sklearn.model_selection import train_test_split\n",
    "\n",
    "from mlxtend.plotting import plot_confusion_matrix\n",
    "\n",
    "from sklearn.metrics import roc_curve, auc, classification_report, confusion_matrix\n",
    "from sklearn.metrics import accuracy_score, f1_score, precision_score, recall_score, roc_auc_score\n",
    "\n",
    "import torch\n",
    "import torch.nn as nn\n",
    "import torch.optim as optim\n",
    "import torch.nn.functional as F\n",
    "import torchvision\n",
    "from torchvision import transforms\n",
    "from torch.utils.data import Dataset, DataLoader\n",
    "from transformers import ElectraTokenizerFast, ElectraForSequenceClassification, AdamW, get_linear_schedule_with_warmup\n",
    "\n",
    "from IPython.display import Markdown, clear_output\n",
    "\n",
    "def bold(string):\n",
    "    display(Markdown(\"**\" + string + \"**\"))\n",
    "\n",
    "import warnings\n",
    "from sklearn.exceptions import ConvergenceWarning\n",
    "warnings.filterwarnings(\"ignore\", category=UserWarning)\n",
    "warnings.filterwarnings(\"ignore\", category=FutureWarning)\n",
    "warnings.filterwarnings(\"ignore\", category=ConvergenceWarning)"
   ]
  },
  {
   "cell_type": "code",
   "execution_count": 4,
   "metadata": {
    "execution": {
     "iopub.execute_input": "2024-08-06T19:57:09.624744Z",
     "iopub.status.busy": "2024-08-06T19:57:09.624124Z",
     "iopub.status.idle": "2024-08-06T19:57:09.685595Z",
     "shell.execute_reply": "2024-08-06T19:57:09.684738Z",
     "shell.execute_reply.started": "2024-08-06T19:57:09.624711Z"
    }
   },
   "outputs": [
    {
     "data": {
      "text/plain": [
       "device(type='cuda')"
      ]
     },
     "execution_count": 4,
     "metadata": {},
     "output_type": "execute_result"
    }
   ],
   "source": [
    "device = torch.device(\"cuda\" if torch.cuda.is_available() else \"cpu\")\n",
    "device"
   ]
  },
  {
   "cell_type": "code",
   "execution_count": 5,
   "metadata": {
    "execution": {
     "iopub.execute_input": "2024-08-06T19:57:13.814007Z",
     "iopub.status.busy": "2024-08-06T19:57:13.813655Z",
     "iopub.status.idle": "2024-08-06T19:57:15.482893Z",
     "shell.execute_reply": "2024-08-06T19:57:15.482004Z",
     "shell.execute_reply.started": "2024-08-06T19:57:13.813980Z"
    }
   },
   "outputs": [
    {
     "data": {
      "text/html": [
       "<div>\n",
       "<style scoped>\n",
       "    .dataframe tbody tr th:only-of-type {\n",
       "        vertical-align: middle;\n",
       "    }\n",
       "\n",
       "    .dataframe tbody tr th {\n",
       "        vertical-align: top;\n",
       "    }\n",
       "\n",
       "    .dataframe thead th {\n",
       "        text-align: right;\n",
       "    }\n",
       "</style>\n",
       "<table border=\"1\" class=\"dataframe\">\n",
       "  <thead>\n",
       "    <tr style=\"text-align: right;\">\n",
       "      <th></th>\n",
       "      <th>rid</th>\n",
       "      <th>sid</th>\n",
       "      <th>app</th>\n",
       "      <th>review</th>\n",
       "      <th>cleaned</th>\n",
       "      <th>aspect</th>\n",
       "      <th>sentiment</th>\n",
       "      <th>aspect_polarity</th>\n",
       "    </tr>\n",
       "  </thead>\n",
       "  <tbody>\n",
       "    <tr>\n",
       "      <th>0</th>\n",
       "      <td>9</td>\n",
       "      <td>1</td>\n",
       "      <td>Google Play Store/BiP</td>\n",
       "      <td>Uygulamada kartlarda Troy kart geçmiyor Lütfen...</td>\n",
       "      <td>Uygulama da kartlar da Troy kart geçmiyor uygu...</td>\n",
       "      <td>Troy</td>\n",
       "      <td>Negative</td>\n",
       "      <td>0</td>\n",
       "    </tr>\n",
       "    <tr>\n",
       "      <th>1</th>\n",
       "      <td>9</td>\n",
       "      <td>1</td>\n",
       "      <td>Google Play Store/BiP</td>\n",
       "      <td>Uygulamada kartlarda Troy kart geçmiyor Lütfen...</td>\n",
       "      <td>Uygulama da kartlar da Troy kart geçmiyor uygu...</td>\n",
       "      <td>Troy</td>\n",
       "      <td>Neutral</td>\n",
       "      <td>1</td>\n",
       "    </tr>\n",
       "    <tr>\n",
       "      <th>2</th>\n",
       "      <td>10</td>\n",
       "      <td>1</td>\n",
       "      <td>Google Play Store/BiP</td>\n",
       "      <td>Her güncellemede daha da kötüleşen Turkcell in...</td>\n",
       "      <td>güncelleme de kötüleşen Turkcell in ara ara ha...</td>\n",
       "      <td>Turkcell</td>\n",
       "      <td>Negative</td>\n",
       "      <td>0</td>\n",
       "    </tr>\n",
       "    <tr>\n",
       "      <th>3</th>\n",
       "      <td>13</td>\n",
       "      <td>1</td>\n",
       "      <td>Google Play Store/BiP</td>\n",
       "      <td>BiP’ten aranmıyor yardım</td>\n",
       "      <td>BiP’ten aranmıyor yardım</td>\n",
       "      <td>BiP’ten</td>\n",
       "      <td>Negative</td>\n",
       "      <td>0</td>\n",
       "    </tr>\n",
       "    <tr>\n",
       "      <th>4</th>\n",
       "      <td>17</td>\n",
       "      <td>1</td>\n",
       "      <td>Google Play Store/BiP</td>\n",
       "      <td>Bu yorumum kesinlikle uygulamanın daha çok gel...</td>\n",
       "      <td>yorumum uygulamanın gelişmesi kulanıcıya erişi...</td>\n",
       "      <td>BİP</td>\n",
       "      <td>Positive</td>\n",
       "      <td>2</td>\n",
       "    </tr>\n",
       "  </tbody>\n",
       "</table>\n",
       "</div>"
      ],
      "text/plain": [
       "   rid  sid                    app  \\\n",
       "0    9    1  Google Play Store/BiP   \n",
       "1    9    1  Google Play Store/BiP   \n",
       "2   10    1  Google Play Store/BiP   \n",
       "3   13    1  Google Play Store/BiP   \n",
       "4   17    1  Google Play Store/BiP   \n",
       "\n",
       "                                              review  \\\n",
       "0  Uygulamada kartlarda Troy kart geçmiyor Lütfen...   \n",
       "1  Uygulamada kartlarda Troy kart geçmiyor Lütfen...   \n",
       "2  Her güncellemede daha da kötüleşen Turkcell in...   \n",
       "3                           BiP’ten aranmıyor yardım   \n",
       "4  Bu yorumum kesinlikle uygulamanın daha çok gel...   \n",
       "\n",
       "                                             cleaned    aspect sentiment  \\\n",
       "0  Uygulama da kartlar da Troy kart geçmiyor uygu...      Troy  Negative   \n",
       "1  Uygulama da kartlar da Troy kart geçmiyor uygu...      Troy   Neutral   \n",
       "2  güncelleme de kötüleşen Turkcell in ara ara ha...  Turkcell  Negative   \n",
       "3                           BiP’ten aranmıyor yardım   BiP’ten  Negative   \n",
       "4  yorumum uygulamanın gelişmesi kulanıcıya erişi...       BİP  Positive   \n",
       "\n",
       "   aspect_polarity  \n",
       "0                0  \n",
       "1                1  \n",
       "2                0  \n",
       "3                0  \n",
       "4                2  "
      ]
     },
     "execution_count": 5,
     "metadata": {},
     "output_type": "execute_result"
    }
   ],
   "source": [
    "df = pd.read_csv(\"../input/all-aspects/cleaned.csv\")\n",
    "df.head()"
   ]
  },
  {
   "cell_type": "code",
   "execution_count": 6,
   "metadata": {
    "execution": {
     "iopub.execute_input": "2024-08-06T19:58:36.616791Z",
     "iopub.status.busy": "2024-08-06T19:58:36.616214Z",
     "iopub.status.idle": "2024-08-06T19:58:36.708273Z",
     "shell.execute_reply": "2024-08-06T19:58:36.707245Z",
     "shell.execute_reply.started": "2024-08-06T19:58:36.616761Z"
    }
   },
   "outputs": [
    {
     "data": {
      "text/plain": [
       "rid                  0\n",
       "sid                  0\n",
       "app                  0\n",
       "review               0\n",
       "cleaned            224\n",
       "aspect               0\n",
       "sentiment            0\n",
       "aspect_polarity      0\n",
       "dtype: int64"
      ]
     },
     "execution_count": 6,
     "metadata": {},
     "output_type": "execute_result"
    }
   ],
   "source": [
    "df.isnull().sum()"
   ]
  },
  {
   "cell_type": "code",
   "execution_count": 7,
   "metadata": {
    "execution": {
     "iopub.execute_input": "2024-08-06T19:58:40.407594Z",
     "iopub.status.busy": "2024-08-06T19:58:40.406708Z",
     "iopub.status.idle": "2024-08-06T19:58:40.528148Z",
     "shell.execute_reply": "2024-08-06T19:58:40.527106Z",
     "shell.execute_reply.started": "2024-08-06T19:58:40.407538Z"
    }
   },
   "outputs": [],
   "source": [
    "df = df.dropna().reset_index(drop=True)"
   ]
  },
  {
   "cell_type": "code",
   "execution_count": 8,
   "metadata": {
    "execution": {
     "iopub.execute_input": "2024-08-06T19:58:44.018742Z",
     "iopub.status.busy": "2024-08-06T19:58:44.018063Z",
     "iopub.status.idle": "2024-08-06T19:58:44.022899Z",
     "shell.execute_reply": "2024-08-06T19:58:44.022016Z",
     "shell.execute_reply.started": "2024-08-06T19:58:44.018710Z"
    }
   },
   "outputs": [],
   "source": [
    "label_mapping = {\"Negative\": 0, \"Neutral\": 1, \"Positive\": 2}"
   ]
  },
  {
   "cell_type": "code",
   "execution_count": 9,
   "metadata": {
    "execution": {
     "iopub.execute_input": "2024-08-06T19:58:47.021372Z",
     "iopub.status.busy": "2024-08-06T19:58:47.021037Z",
     "iopub.status.idle": "2024-08-06T19:58:47.121732Z",
     "shell.execute_reply": "2024-08-06T19:58:47.120820Z",
     "shell.execute_reply.started": "2024-08-06T19:58:47.021345Z"
    }
   },
   "outputs": [],
   "source": [
    "df['text'] = df['aspect'] + \" [SEP] \" + df['review']"
   ]
  },
  {
   "cell_type": "code",
   "execution_count": 10,
   "metadata": {
    "execution": {
     "iopub.execute_input": "2024-08-06T19:58:50.209387Z",
     "iopub.status.busy": "2024-08-06T19:58:50.208456Z",
     "iopub.status.idle": "2024-08-06T19:58:50.231737Z",
     "shell.execute_reply": "2024-08-06T19:58:50.230927Z",
     "shell.execute_reply.started": "2024-08-06T19:58:50.209356Z"
    }
   },
   "outputs": [],
   "source": [
    "df = df[[\"text\", \"aspect_polarity\"]]"
   ]
  },
  {
   "cell_type": "code",
   "execution_count": 28,
   "metadata": {
    "execution": {
     "iopub.execute_input": "2024-08-06T20:01:11.669888Z",
     "iopub.status.busy": "2024-08-06T20:01:11.669198Z",
     "iopub.status.idle": "2024-08-06T20:01:13.142856Z",
     "shell.execute_reply": "2024-08-06T20:01:13.141838Z",
     "shell.execute_reply.started": "2024-08-06T20:01:11.669854Z"
    }
   },
   "outputs": [
    {
     "name": "stderr",
     "output_type": "stream",
     "text": [
      "Some weights of ElectraForSequenceClassification were not initialized from the model checkpoint at dbmdz/electra-base-turkish-cased-discriminator and are newly initialized: ['classifier.dense.bias', 'classifier.dense.weight', 'classifier.out_proj.bias', 'classifier.out_proj.weight']\n",
      "You should probably TRAIN this model on a down-stream task to be able to use it for predictions and inference.\n"
     ]
    }
   ],
   "source": [
    "torch.cuda.empty_cache()\n",
    "tokenizer = ElectraTokenizerFast.from_pretrained(\"dbmdz/electra-base-turkish-cased-discriminator\")\n",
    "model = ElectraForSequenceClassification.from_pretrained(\"dbmdz/electra-base-turkish-cased-discriminator\", num_labels=3).to(device)"
   ]
  },
  {
   "cell_type": "code",
   "execution_count": 29,
   "metadata": {
    "execution": {
     "iopub.execute_input": "2024-08-06T20:01:13.144792Z",
     "iopub.status.busy": "2024-08-06T20:01:13.144473Z",
     "iopub.status.idle": "2024-08-06T20:01:13.152465Z",
     "shell.execute_reply": "2024-08-06T20:01:13.151578Z",
     "shell.execute_reply.started": "2024-08-06T20:01:13.144766Z"
    }
   },
   "outputs": [],
   "source": [
    "class SentimentDataset(Dataset):\n",
    "    def __init__(self, texts, labels, tokenizer, max_len):\n",
    "        self.texts = texts\n",
    "        self.labels = labels\n",
    "        self.tokenizer = tokenizer\n",
    "        self.max_len = max_len\n",
    "    \n",
    "    def __len__(self):\n",
    "        return len(self.texts)\n",
    "    \n",
    "    def __getitem__(self, item):\n",
    "        text = self.texts[item]\n",
    "        label = self.labels[item]\n",
    "        \n",
    "        encoding = self.tokenizer.encode_plus(\n",
    "            text,\n",
    "            add_special_tokens=True,\n",
    "            max_length=self.max_len,\n",
    "            return_token_type_ids=False,\n",
    "            pad_to_max_length=True,\n",
    "            return_attention_mask=True,\n",
    "            return_tensors='pt',\n",
    "        )\n",
    "        \n",
    "        return {\n",
    "            'text': text,\n",
    "            'input_ids': encoding['input_ids'].flatten(),\n",
    "            'attention_mask': encoding['attention_mask'].flatten(),\n",
    "            'labels': torch.tensor(label, dtype=torch.long)\n",
    "        }"
   ]
  },
  {
   "cell_type": "code",
   "execution_count": 30,
   "metadata": {
    "execution": {
     "iopub.execute_input": "2024-08-06T20:01:13.154645Z",
     "iopub.status.busy": "2024-08-06T20:01:13.153681Z",
     "iopub.status.idle": "2024-08-06T20:01:13.168330Z",
     "shell.execute_reply": "2024-08-06T20:01:13.167401Z",
     "shell.execute_reply.started": "2024-08-06T20:01:13.154611Z"
    }
   },
   "outputs": [],
   "source": [
    "def train_validate_test_split(df, split_size):\n",
    "    perm = np.random.permutation(df.index)\n",
    "    train_end = int(train_size * len(df.index))\n",
    "    validate_end = int(((1 - split_size) / 2) * len(df.index)) + train_end\n",
    "    train = df.iloc[perm[:train_end]]\n",
    "    validate = df.iloc[perm[train_end:validate_end]]\n",
    "    test = df.iloc[perm[validate_end:]]\n",
    "    return train, validate, test"
   ]
  },
  {
   "cell_type": "code",
   "execution_count": 31,
   "metadata": {
    "execution": {
     "iopub.execute_input": "2024-08-06T20:01:13.170660Z",
     "iopub.status.busy": "2024-08-06T20:01:13.170201Z",
     "iopub.status.idle": "2024-08-06T20:01:13.202865Z",
     "shell.execute_reply": "2024-08-06T20:01:13.201942Z",
     "shell.execute_reply.started": "2024-08-06T20:01:13.170628Z"
    }
   },
   "outputs": [
    {
     "name": "stdout",
     "output_type": "stream",
     "text": [
      "Full dataset: 157279\n",
      "Train dataset: 141551\n",
      "Valid dataset: 7863\n",
      "Test dataset: 7865\n"
     ]
    }
   ],
   "source": [
    "train_size = 0.9\n",
    "df_train, df_validation, df_test = train_validate_test_split(df, train_size)\n",
    "df_train = df_train.reset_index(drop=True)\n",
    "df_validation = df_validation.reset_index(drop=True)\n",
    "df_test = df_test.reset_index(drop=True)\n",
    "\n",
    "print(f\"Full dataset: {df.shape[0]}\")\n",
    "print(f\"Train dataset: {df_train.shape[0]}\")\n",
    "print(f\"Valid dataset: {df_validation.shape[0]}\")\n",
    "print(f\"Test dataset: {df_test.shape[0]}\")"
   ]
  },
  {
   "cell_type": "code",
   "execution_count": 32,
   "metadata": {
    "execution": {
     "iopub.execute_input": "2024-08-06T20:01:13.397264Z",
     "iopub.status.busy": "2024-08-06T20:01:13.396854Z",
     "iopub.status.idle": "2024-08-06T20:01:13.401808Z",
     "shell.execute_reply": "2024-08-06T20:01:13.400843Z",
     "shell.execute_reply.started": "2024-08-06T20:01:13.397235Z"
    }
   },
   "outputs": [],
   "source": [
    "MAX_LEN = 64\n",
    "BATCH_SIZE = 64\n",
    "EPOCHS = 2\n",
    "LEARNING_RATE = 2e-5"
   ]
  },
  {
   "cell_type": "code",
   "execution_count": 33,
   "metadata": {
    "execution": {
     "iopub.execute_input": "2024-08-06T20:01:13.403533Z",
     "iopub.status.busy": "2024-08-06T20:01:13.403244Z",
     "iopub.status.idle": "2024-08-06T20:01:13.412946Z",
     "shell.execute_reply": "2024-08-06T20:01:13.411924Z",
     "shell.execute_reply.started": "2024-08-06T20:01:13.403510Z"
    }
   },
   "outputs": [],
   "source": [
    "training_set = SentimentDataset(df_train[\"text\"].to_numpy(), df_train[\"aspect_polarity\"].to_numpy(), tokenizer, MAX_LEN)\n",
    "validation_set = SentimentDataset(df_validation[\"text\"].to_numpy(), df_validation[\"aspect_polarity\"].to_numpy(), tokenizer, MAX_LEN)\n",
    "testing_set = SentimentDataset(df_test[\"text\"].to_numpy(), df_test[\"aspect_polarity\"].to_numpy(), tokenizer, MAX_LEN)"
   ]
  },
  {
   "cell_type": "code",
   "execution_count": 34,
   "metadata": {
    "execution": {
     "iopub.execute_input": "2024-08-06T20:01:13.542455Z",
     "iopub.status.busy": "2024-08-06T20:01:13.541537Z",
     "iopub.status.idle": "2024-08-06T20:01:13.549412Z",
     "shell.execute_reply": "2024-08-06T20:01:13.548343Z",
     "shell.execute_reply.started": "2024-08-06T20:01:13.542413Z"
    }
   },
   "outputs": [],
   "source": [
    "train_params = {\"batch_size\": BATCH_SIZE, \"shuffle\": True, \"num_workers\": 0}\n",
    "valid_params = {\"batch_size\": BATCH_SIZE, \"shuffle\": True, \"num_workers\": 0}\n",
    "test_params = {\"batch_size\": BATCH_SIZE, \"shuffle\": True, \"num_workers\": 0}\n",
    "\n",
    "training_loader = DataLoader(training_set, **train_params)\n",
    "validation_loader = DataLoader(validation_set, **valid_params)\n",
    "testing_loader = DataLoader(testing_set, **test_params)"
   ]
  },
  {
   "cell_type": "code",
   "execution_count": 35,
   "metadata": {
    "execution": {
     "iopub.execute_input": "2024-08-06T20:01:13.997496Z",
     "iopub.status.busy": "2024-08-06T20:01:13.997115Z",
     "iopub.status.idle": "2024-08-06T20:01:14.005288Z",
     "shell.execute_reply": "2024-08-06T20:01:14.004219Z",
     "shell.execute_reply.started": "2024-08-06T20:01:13.997465Z"
    }
   },
   "outputs": [],
   "source": [
    "optimizer = optim.Adam(model.parameters(), lr=LEARNING_RATE)\n",
    "total_steps = len(training_loader) * EPOCHS\n",
    "scheduler = get_linear_schedule_with_warmup(optimizer, num_warmup_steps=0, num_training_steps=total_steps)"
   ]
  },
  {
   "cell_type": "code",
   "execution_count": 36,
   "metadata": {
    "execution": {
     "iopub.execute_input": "2024-08-06T20:01:14.176223Z",
     "iopub.status.busy": "2024-08-06T20:01:14.175947Z",
     "iopub.status.idle": "2024-08-06T20:01:14.183713Z",
     "shell.execute_reply": "2024-08-06T20:01:14.182822Z",
     "shell.execute_reply.started": "2024-08-06T20:01:14.176200Z"
    }
   },
   "outputs": [],
   "source": [
    "def train_epoch(model, data_loader, optimizer, scheduler, device):\n",
    "    model = model.train()\n",
    "    losses = []\n",
    "    correct_predictions = 0\n",
    "\n",
    "    for d in tqdm.tqdm(data_loader):\n",
    "        input_ids = d[\"input_ids\"].to(device)\n",
    "        attention_mask = d[\"attention_mask\"].to(device)\n",
    "        labels = d[\"labels\"].to(device)\n",
    "\n",
    "        outputs = model(input_ids=input_ids, attention_mask=attention_mask, labels=labels)\n",
    "        loss = outputs.loss\n",
    "        logits = outputs.logits\n",
    "\n",
    "        _, preds = torch.max(logits, dim=1)\n",
    "        correct_predictions += torch.sum(preds == labels)\n",
    "        losses.append(loss.item())\n",
    "\n",
    "        loss.backward()\n",
    "        optimizer.step()\n",
    "        scheduler.step()\n",
    "        optimizer.zero_grad()\n",
    "\n",
    "    return correct_predictions.double() / len(data_loader.dataset), np.mean(losses)"
   ]
  },
  {
   "cell_type": "code",
   "execution_count": 37,
   "metadata": {
    "execution": {
     "iopub.execute_input": "2024-08-06T20:01:14.611489Z",
     "iopub.status.busy": "2024-08-06T20:01:14.611146Z",
     "iopub.status.idle": "2024-08-06T20:01:14.619593Z",
     "shell.execute_reply": "2024-08-06T20:01:14.618600Z",
     "shell.execute_reply.started": "2024-08-06T20:01:14.611461Z"
    }
   },
   "outputs": [],
   "source": [
    "def eval_model(model, data_loader, device):\n",
    "    model = model.eval()\n",
    "    losses = []\n",
    "    correct_predictions = 0\n",
    "\n",
    "    with torch.no_grad():\n",
    "        for d in tqdm.tqdm(data_loader):\n",
    "            input_ids = d[\"input_ids\"].to(device)\n",
    "            attention_mask = d[\"attention_mask\"].to(device)\n",
    "            labels = d[\"labels\"].to(device)\n",
    "\n",
    "            outputs = model(input_ids=input_ids, attention_mask=attention_mask, labels=labels)\n",
    "            loss = outputs.loss\n",
    "            logits = outputs.logits\n",
    "\n",
    "            _, preds = torch.max(logits, dim=1)\n",
    "            correct_predictions += torch.sum(preds == labels)\n",
    "            losses.append(loss.item())\n",
    "\n",
    "    return correct_predictions.double() / len(data_loader.dataset), np.mean(losses)"
   ]
  },
  {
   "cell_type": "code",
   "execution_count": 38,
   "metadata": {
    "execution": {
     "iopub.execute_input": "2024-08-06T20:01:14.844013Z",
     "iopub.status.busy": "2024-08-06T20:01:14.843730Z",
     "iopub.status.idle": "2024-08-06T20:49:50.960614Z",
     "shell.execute_reply": "2024-08-06T20:49:50.959760Z",
     "shell.execute_reply.started": "2024-08-06T20:01:14.843989Z"
    }
   },
   "outputs": [
    {
     "name": "stdout",
     "output_type": "stream",
     "text": [
      "Epoch 1/2\n",
      "----------\n"
     ]
    },
    {
     "name": "stderr",
     "output_type": "stream",
     "text": [
      "  0%|          | 0/2212 [00:00<?, ?it/s]Truncation was not explicitly activated but `max_length` is provided a specific value, please use `truncation=True` to explicitly truncate examples to max length. Defaulting to 'longest_first' truncation strategy. If you encode pairs of sequences (GLUE-style) with the tokenizer you can select this strategy more precisely by providing a specific strategy to `truncation`.\n",
      "100%|██████████| 2212/2212 [23:48<00:00,  1.55it/s]\n"
     ]
    },
    {
     "name": "stdout",
     "output_type": "stream",
     "text": [
      "Train loss 0.4849447808068441 accuracy 0.8197045587809341\n"
     ]
    },
    {
     "name": "stderr",
     "output_type": "stream",
     "text": [
      "100%|██████████| 123/123 [00:28<00:00,  4.39it/s]\n"
     ]
    },
    {
     "name": "stdout",
     "output_type": "stream",
     "text": [
      "Val   loss 0.4090587730572476 accuracy 0.8512018313620756\n",
      "Epoch 2/2\n",
      "----------\n"
     ]
    },
    {
     "name": "stderr",
     "output_type": "stream",
     "text": [
      "100%|██████████| 2212/2212 [23:51<00:00,  1.55it/s]\n"
     ]
    },
    {
     "name": "stdout",
     "output_type": "stream",
     "text": [
      "Train loss 0.37893144468394585 accuracy 0.8643739712188541\n"
     ]
    },
    {
     "name": "stderr",
     "output_type": "stream",
     "text": [
      "100%|██████████| 123/123 [00:28<00:00,  4.38it/s]"
     ]
    },
    {
     "name": "stdout",
     "output_type": "stream",
     "text": [
      "Val   loss 0.38413710552987046 accuracy 0.8623934884903981\n",
      "CPU times: user 48min 35s, sys: 3.23 s, total: 48min 38s\n",
      "Wall time: 48min 36s\n"
     ]
    },
    {
     "name": "stderr",
     "output_type": "stream",
     "text": [
      "\n"
     ]
    }
   ],
   "source": [
    "%%time\n",
    "\n",
    "for epoch in range(EPOCHS):\n",
    "    print(f'Epoch {epoch + 1}/{EPOCHS}')\n",
    "    print('-' * 10)\n",
    "\n",
    "    train_acc, train_loss = train_epoch(model, training_loader, optimizer, scheduler, device)\n",
    "    print(f'Train loss {train_loss} accuracy {train_acc}')\n",
    "\n",
    "    val_acc, val_loss = eval_model(model, validation_loader, device)\n",
    "    print(f'Val   loss {val_loss} accuracy {val_acc}')"
   ]
  },
  {
   "cell_type": "code",
   "execution_count": 39,
   "metadata": {
    "execution": {
     "iopub.execute_input": "2024-08-06T20:49:53.494602Z",
     "iopub.status.busy": "2024-08-06T20:49:53.494232Z",
     "iopub.status.idle": "2024-08-06T20:50:21.547319Z",
     "shell.execute_reply": "2024-08-06T20:50:21.546330Z",
     "shell.execute_reply.started": "2024-08-06T20:49:53.494571Z"
    }
   },
   "outputs": [],
   "source": [
    "y_pred = []\n",
    "y_true = []\n",
    "\n",
    "model = model.eval()\n",
    "\n",
    "with torch.no_grad():\n",
    "    for d in testing_loader:\n",
    "        input_ids = d[\"input_ids\"].to(device)\n",
    "        attention_mask = d[\"attention_mask\"].to(device)\n",
    "        labels = d[\"labels\"].to(device)\n",
    "\n",
    "        outputs = model(input_ids=input_ids, attention_mask=attention_mask)\n",
    "        logits = outputs.logits\n",
    "\n",
    "        _, preds = torch.max(logits, dim=1)\n",
    "\n",
    "        y_pred.extend(preds.cpu().numpy())\n",
    "        y_true.extend(labels.cpu().numpy())"
   ]
  },
  {
   "cell_type": "code",
   "execution_count": 40,
   "metadata": {
    "execution": {
     "iopub.execute_input": "2024-08-06T20:50:21.549264Z",
     "iopub.status.busy": "2024-08-06T20:50:21.548984Z",
     "iopub.status.idle": "2024-08-06T20:50:21.594857Z",
     "shell.execute_reply": "2024-08-06T20:50:21.593955Z",
     "shell.execute_reply.started": "2024-08-06T20:50:21.549239Z"
    }
   },
   "outputs": [
    {
     "name": "stdout",
     "output_type": "stream",
     "text": [
      "Precision Score = 71.70%\n",
      "F1 Score = 65.43%\n",
      "Recall Score = 63.79%\n",
      "Accuracy Score = 85.58%\n"
     ]
    }
   ],
   "source": [
    "model_precision_score = precision_score(y_true, y_pred, average='macro')\n",
    "model_f1_score = f1_score(y_true, y_pred, average='macro')\n",
    "model_recall_score = recall_score(y_true, y_pred, average='macro')\n",
    "model_accuracy_score = accuracy_score(y_true, y_pred)\n",
    "\n",
    "print(f\"Precision Score = {model_precision_score * 100:.2f}%\")\n",
    "print(f\"F1 Score = {model_f1_score * 100:.2f}%\")\n",
    "print(f\"Recall Score = {model_recall_score * 100:.2f}%\")\n",
    "print(f\"Accuracy Score = {model_accuracy_score * 100:.2f}%\")"
   ]
  },
  {
   "cell_type": "code",
   "execution_count": 41,
   "metadata": {
    "execution": {
     "iopub.execute_input": "2024-08-06T20:50:21.596261Z",
     "iopub.status.busy": "2024-08-06T20:50:21.595943Z",
     "iopub.status.idle": "2024-08-06T20:50:21.622538Z",
     "shell.execute_reply": "2024-08-06T20:50:21.621722Z",
     "shell.execute_reply.started": "2024-08-06T20:50:21.596231Z"
    }
   },
   "outputs": [
    {
     "name": "stdout",
     "output_type": "stream",
     "text": [
      "              precision    recall  f1-score   support\n",
      "\n",
      "    Negative       0.85      0.94      0.89      4286\n",
      "     Neutral       0.41      0.14      0.21       391\n",
      "    Positive       0.89      0.83      0.86      3188\n",
      "\n",
      "    accuracy                           0.86      7865\n",
      "   macro avg       0.72      0.64      0.65      7865\n",
      "weighted avg       0.84      0.86      0.84      7865\n",
      "\n"
     ]
    }
   ],
   "source": [
    "print(classification_report(y_true, y_pred, target_names=[\"Negative\", \"Neutral\", \"Positive\"]))"
   ]
  },
  {
   "cell_type": "code",
   "execution_count": 42,
   "metadata": {
    "execution": {
     "iopub.execute_input": "2024-08-06T20:50:21.625394Z",
     "iopub.status.busy": "2024-08-06T20:50:21.624659Z",
     "iopub.status.idle": "2024-08-06T20:50:21.952045Z",
     "shell.execute_reply": "2024-08-06T20:50:21.951214Z",
     "shell.execute_reply.started": "2024-08-06T20:50:21.625362Z"
    }
   },
   "outputs": [
    {
     "data": {
      "image/png": "[encoded data removed]",
      "text/plain": [
       "<Figure size 640x480 with 2 Axes>"
      ]
     },
     "metadata": {},
     "output_type": "display_data"
    }
   ],
   "source": [
    "cm = confusion_matrix(y_true, y_pred)\n",
    "fig, ax = plot_confusion_matrix(conf_mat=cm, show_absolute=True, show_normed=True, colorbar=True, class_names=[\"Negative\", \"Neutral\", \"Positive\"])\n",
    "plt.title(\"ELECTRA - Sentiment Analysis\")\n",
    "plt.show()"
   ]
  },
  {
   "cell_type": "code",
   "execution_count": null,
   "metadata": {},
   "outputs": [],
   "source": []
  }
 ],
 "metadata": {
  "kernelspec": {
   "display_name": "Python 3 (ipykernel)",
   "language": "python",
   "name": "python3"
  },
  "language_info": {
   "codemirror_mode": {
    "name": "ipython",
    "version": 3
   },
   "file_extension": ".py",
   "mimetype": "text/x-python",
   "name": "python",
   "nbconvert_exporter": "python",
   "pygments_lexer": "ipython3",
   "version": "3.10.12"
  }
 },
 "nbformat": 4,
 "nbformat_minor": 4
}
